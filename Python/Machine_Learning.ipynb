{
 "cells": [
  {
   "cell_type": "markdown",
   "id": "2f5a8ef8",
   "metadata": {},
   "source": [
    "# Coursera Machine Learning specialization"
   ]
  },
  {
   "cell_type": "code",
   "execution_count": 1,
   "id": "8c11d540",
   "metadata": {},
   "outputs": [
    {
     "name": "stdout",
     "output_type": "stream",
     "text": [
      "f strings allow you to embed variables hi Adnan!\n"
     ]
    }
   ],
   "source": [
    "variable = \"hi Adnan!\"\n",
    "print(f\"f strings allow you to embed variables {variable}\")"
   ]
  },
  {
   "cell_type": "code",
   "execution_count": null,
   "id": "fb8244c9",
   "metadata": {},
   "outputs": [],
   "source": []
  }
 ],
 "metadata": {
  "kernelspec": {
   "display_name": "myenv",
   "language": "python",
   "name": "python3"
  },
  "language_info": {
   "codemirror_mode": {
    "name": "ipython",
    "version": 3
   },
   "file_extension": ".py",
   "mimetype": "text/x-python",
   "name": "python",
   "nbconvert_exporter": "python",
   "pygments_lexer": "ipython3",
   "version": "3.10.16"
  }
 },
 "nbformat": 4,
 "nbformat_minor": 5
}
