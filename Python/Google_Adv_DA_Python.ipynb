{
 "cells": [
  {
   "cell_type": "markdown",
   "id": "292ab113",
   "metadata": {},
   "source": [
    "#  Google Advanced Data Analysis"
   ]
  },
  {
   "cell_type": "code",
   "execution_count": 2,
   "id": "9162010b",
   "metadata": {},
   "outputs": [
    {
     "name": "stdout",
     "output_type": "stream",
     "text": [
      "Hello World!\n"
     ]
    }
   ],
   "source": [
    "print(\"Hello World!\")"
   ]
  },
  {
   "cell_type": "code",
   "execution_count": 3,
   "id": "ea1a7cb1",
   "metadata": {},
   "outputs": [
    {
     "name": "stdout",
     "output_type": "stream",
     "text": [
      "22\n"
     ]
    }
   ],
   "source": [
    "print(22)"
   ]
  },
  {
   "cell_type": "code",
   "execution_count": 4,
   "id": "78e94ece",
   "metadata": {},
   "outputs": [
    {
     "data": {
      "text/plain": [
       "16"
      ]
     },
     "execution_count": 4,
     "metadata": {},
     "output_type": "execute_result"
    }
   ],
   "source": [
    "(5 + 3) * 2"
   ]
  },
  {
   "cell_type": "code",
   "execution_count": 5,
   "id": "3543c16c",
   "metadata": {},
   "outputs": [
    {
     "data": {
      "text/plain": [
       "True"
      ]
     },
     "execution_count": 5,
     "metadata": {},
     "output_type": "execute_result"
    }
   ],
   "source": [
    "10**3 == 1000"
   ]
  },
  {
   "cell_type": "code",
   "execution_count": 6,
   "id": "f15c1927",
   "metadata": {},
   "outputs": [],
   "source": [
    "def is_adult(age):\n",
    "    if age >= 18:\n",
    "        print('adult')\n",
    "    else:\n",
    "        print('minor')\n",
    "        "
   ]
  },
  {
   "cell_type": "code",
   "execution_count": 7,
   "id": "7064ddbd",
   "metadata": {},
   "outputs": [
    {
     "name": "stdout",
     "output_type": "stream",
     "text": [
      "minor\n"
     ]
    }
   ],
   "source": [
    "is_adult(14)"
   ]
  },
  {
   "cell_type": "code",
   "execution_count": 8,
   "id": "bf781dad",
   "metadata": {},
   "outputs": [
    {
     "data": {
      "text/plain": [
       "[5, 10, 20, 25]"
      ]
     },
     "execution_count": 8,
     "metadata": {},
     "output_type": "execute_result"
    }
   ],
   "source": [
    "new_list = [20, 25, 10, 5]\n",
    "sorted(new_list)"
   ]
  },
  {
   "cell_type": "markdown",
   "id": "0b1c8daf",
   "metadata": {},
   "source": [
    "## Module 1\n",
    "## Object oriented programming\n",
    "A programming system that is based around objects, which can contain both data and code that manipulates that data. \n",
    "\n",
    "### Object \n",
    "An instance of a class; a fundamental building block of Python\n",
    "\n",
    "### Class\n",
    "A class is an object's data type that bundles data and functionality together\n",
    "\n"
   ]
  },
  {
   "cell_type": "code",
   "execution_count": 10,
   "id": "cd8b493b",
   "metadata": {},
   "outputs": [
    {
     "name": "stdout",
     "output_type": "stream",
     "text": [
      "<class 'str'>\n"
     ]
    }
   ],
   "source": [
    "magic = 'HOCUS POCUS'\n",
    "print(type(magic))"
   ]
  },
  {
   "cell_type": "code",
   "execution_count": 11,
   "id": "07d38153",
   "metadata": {},
   "outputs": [
    {
     "name": "stdout",
     "output_type": "stream",
     "text": [
      "hocus pocus\n"
     ]
    }
   ],
   "source": [
    "# swapping the case of parameters\n",
    "magic = magic.swapcase()\n",
    "print(magic)"
   ]
  },
  {
   "cell_type": "code",
   "execution_count": 12,
   "id": "523eb223",
   "metadata": {},
   "outputs": [
    {
     "data": {
      "text/plain": [
       "'hokey pokey'"
      ]
     },
     "execution_count": 12,
     "metadata": {},
     "output_type": "execute_result"
    }
   ],
   "source": [
    "# replacing the content of a string\n",
    "magic = magic.replace('cus', 'key')\n",
    "magic"
   ]
  },
  {
   "cell_type": "code",
   "execution_count": 13,
   "id": "ee9b09a5",
   "metadata": {},
   "outputs": [
    {
     "data": {
      "text/plain": [
       "['hokey', 'pokey']"
      ]
     },
     "execution_count": 13,
     "metadata": {},
     "output_type": "execute_result"
    }
   ],
   "source": [
    "# We can split the string into a list of words\n",
    "magic = magic.split()\n",
    "magic"
   ]
  },
  {
   "cell_type": "markdown",
   "id": "c3267890",
   "metadata": {},
   "source": [
    "### Method:\n",
    "A function thay belongs to a class and typically performs an action or operation\n",
    "\n",
    "#### Dot Notation:\n",
    "How to access the methods and attributes that belong to an instance of a class\n",
    "\n",
    "#### Core Python Classes \n",
    "- Integers \n",
    "- Floats \n",
    "- Strings\n",
    "- Booleans\n",
    "- Lists\n",
    "- Dictionaries\n",
    "- Tuples\n",
    "- Sets \n",
    "- Frozensets\n",
    "- Functions \n",
    "- Ranges\n",
    "- None\n",
    "\n",
    "### Attribute \n",
    "A value associated with an object or class which is referenced by name using dot notation. \n",
    "\n"
   ]
  },
  {
   "cell_type": "code",
   "execution_count": null,
   "id": "d7e3998a",
   "metadata": {},
   "outputs": [],
   "source": [
    "# shape attribute helps identify number of rows and columns in a data set\n",
    "planets.shape"
   ]
  },
  {
   "cell_type": "code",
   "execution_count": null,
   "id": "d746cd0d",
   "metadata": {},
   "outputs": [],
   "source": [
    "# columns attrivute helps identify the names of the columns in a data set\n",
    "planets.columns\n",
    "# We can access a specific column in a data set\n",
    "planets['name']\n",
    "# We can access a specific row in a data set"
   ]
  },
  {
   "cell_type": "code",
   "execution_count": 15,
   "id": "6f90d34b",
   "metadata": {},
   "outputs": [],
   "source": [
    "# building a class with methods and attributes\n",
    "class Spaceship:\n",
    "   # Class attribute\n",
    "   tractor_beam = 'off'\n",
    "\n",
    "   # Instance attributes\n",
    "   def __init__(self, name, kind):\n",
    "       self.name = name\n",
    "       self.kind = kind\n",
    "       self.speed = None\n",
    "\n",
    "  # Instance methods\n",
    "   def warp(self, warp):\n",
    "       self.speed = warp\n",
    "       print(f'Warp {warp}, engage!')\n",
    "\n",
    "   def tractor(self):\n",
    "       if self.tractor_beam == 'off':\n",
    "           self.tractor_beam = 'on'\n",
    "           print('Tractor beam on.')\n",
    "       else:\n",
    "           self.tractor_beam = 'off'\n",
    "           print('Tractor beam off')"
   ]
  },
  {
   "cell_type": "code",
   "execution_count": 16,
   "id": "a80e279c",
   "metadata": {},
   "outputs": [
    {
     "name": "stdout",
     "output_type": "stream",
     "text": [
      "Mockingbird\n",
      "rescue frigate\n",
      "off\n"
     ]
    }
   ],
   "source": [
    "# Create an instance of the Spaceship class (i.e. \"instantiate\")\n",
    "ship = Spaceship('Mockingbird','rescue frigate')\n",
    "\n",
    "# Check ship's name\n",
    "print(ship.name)\n",
    "\n",
    "# Check what kind of ship it is\n",
    "print(ship.kind)\n",
    "\n",
    "# Check tractor beam status\n",
    "print(ship.tractor_beam)"
   ]
  },
  {
   "cell_type": "code",
   "execution_count": 17,
   "id": "b526fb1a",
   "metadata": {},
   "outputs": [
    {
     "name": "stdout",
     "output_type": "stream",
     "text": [
      "Warp 7, engage!\n"
     ]
    },
    {
     "data": {
      "text/plain": [
       "7"
      ]
     },
     "execution_count": 17,
     "metadata": {},
     "output_type": "execute_result"
    }
   ],
   "source": [
    "# Set warp speed\n",
    "ship.warp(7)\n",
    "\n",
    "# Check speed\n",
    "ship.speed"
   ]
  },
  {
   "cell_type": "code",
   "execution_count": 18,
   "id": "91cc1794",
   "metadata": {},
   "outputs": [
    {
     "name": "stdout",
     "output_type": "stream",
     "text": [
      "Tractor beam on.\n",
      "on\n"
     ]
    }
   ],
   "source": [
    "# Toggle tractor beam\n",
    "ship.tractor()\n",
    "\n",
    "# Check tractor beam status\n",
    "print(ship.tractor_beam)"
   ]
  },
  {
   "cell_type": "markdown",
   "id": "fb96282a",
   "metadata": {},
   "source": [
    "## Variables\n",
    "- Represent data stored as strings, tuples, dictionaries, lists and objects\n",
    "- Vriables point to values. they're not the values themselves\n",
    "- Variables can store value of any data type\n",
    "\n",
    "### Data Type:\n",
    "An attribute that describes a piece of data based on its values, its programming language, or the operations it can perform \n",
    "\n",
    "### Assignment \n",
    "The process of storing a value in a variable \n",
    "\n",
    "### Expression \n",
    "A combination of numbers, symbols, or other variables that produce a result when evaluated \n",
    "\n",
    "### Dynamic Typing:\n",
    "Variables can point to objects of any data type."
   ]
  },
  {
   "cell_type": "code",
   "execution_count": 19,
   "id": "738521cc",
   "metadata": {},
   "outputs": [
    {
     "name": "stdout",
     "output_type": "stream",
     "text": [
      "Max age: 45, Min age: 18\n"
     ]
    }
   ],
   "source": [
    "age_list = [34, 25, 18, 45, 30]\n",
    "max_age = max(age_list)\n",
    "min_age = min(age_list)\n",
    "print(f'Max age: {max_age}, Min age: {min_age}')"
   ]
  },
  {
   "cell_type": "code",
   "execution_count": 20,
   "id": "8c59557c",
   "metadata": {},
   "outputs": [
    {
     "name": "stdout",
     "output_type": "stream",
     "text": [
      "Max age as string: 45, Min age as string: 18\n"
     ]
    }
   ],
   "source": [
    "# converting to string \n",
    "max_age_str = str(max_age)\n",
    "min_age_str = str(min_age)\n",
    "print(f'Max age as string: {max_age_str}, Min age as string: {min_age_str}')"
   ]
  },
  {
   "cell_type": "markdown",
   "id": "cb68e009",
   "metadata": {},
   "source": [
    "### Naming Conventions\n",
    "Consistent guidelines that describe the content, creation date, and version of a file in its name.\n",
    "\n",
    "### Naming restictions\n",
    "RUles built into the syntax of the language itself that must be followed.\n",
    "\n",
    "### Keyword:\n",
    "A special word that is reserved for a specific purpose and that can only be used for the purpose\n",
    "\n",
    "### Variable naming conventions\n",
    "- Don't use reserved keywords like `or`, `in`, `if`, `else`,`not`,`for`, `while`,`return`, etc.\n",
    "- Don't use reserved functions such as `print`, `str`, etc.\n",
    "\n",
    "### Naming restrictions for variables\n",
    "- only include letters, numbers, and underscores\n",
    "- must start with a letter or underscore \n",
    "- Case-sensitive\n",
    "- Cannot include parentheses\n",
    "\n",
    "> Example variable names \n",
    "\n",
    "      `any_a_variable` valid\n",
    "      `any_a_v_2` valid\n",
    "      `1_is_a_number` not valid\n",
    "      `Aple_&_oranges` not valid\n",
    "\n",
    "### Operators:\n",
    "SYmbols that perform operations on objects and values \n",
    "- `+` Addition\n",
    "- `-` Subtraction\n",
    "- `*` Multiplication\n",
    "- `/` Division\n",
    "- `**` Exponentiation\n",
    "- `%` Modulo\n",
    "- `//` Floor division\n",
    "- `>` Greater Than \n",
    "- `<` Less than \n",
    "- `==` Equality\n",
    "\n",
    "### Expression:\n",
    "A combination of numbers, symbols, and variables to compute and return a result upon evaluation\n",
    "\n",
    "### Function: \n",
    "A group of related statements to perform a task and return a value "
   ]
  },
  {
   "cell_type": "code",
   "execution_count": 21,
   "id": "3327877b",
   "metadata": {},
   "outputs": [
    {
     "data": {
      "text/plain": [
       "23.88888888888889"
      ]
     },
     "execution_count": 21,
     "metadata": {},
     "output_type": "execute_result"
    }
   ],
   "source": [
    "def to_celsius(x):\n",
    "   '''Convert Fahrenheit to Celsius'''\n",
    "   return (x-32) * 5/9\n",
    "\n",
    "to_celsius(75)"
   ]
  },
  {
   "cell_type": "markdown",
   "id": "1a123c08",
   "metadata": {},
   "source": [
    "### Conditional statements:\n",
    "Sections of code that direct program execution based on specified conditions"
   ]
  },
  {
   "cell_type": "code",
   "execution_count": 22,
   "id": "53b745ed",
   "metadata": {},
   "outputs": [
    {
     "name": "stdout",
     "output_type": "stream",
     "text": [
      "Number is negative.\n"
     ]
    }
   ],
   "source": [
    "number = -4\n",
    "\n",
    "if number > 0:\n",
    "   print('Number is positive.')\n",
    "elif number == 0:\n",
    "   print('Number is zero.')\n",
    "else:\n",
    "   print('Number is negative.')"
   ]
  },
  {
   "cell_type": "markdown",
   "id": "9cc521ee",
   "metadata": {},
   "source": [
    "## Data Types\n",
    "### String:\n",
    "A sequence of character and punctuation that contains textual information.\n",
    "#### Immutable data type \n",
    "A data type in which the values can never be altered or udated \n",
    "### Integer:\n",
    "A data type used to represent whole numbers without fractions\n",
    "### Float:\n",
    "A data type that represent numbers that contain decimals.\n"
   ]
  },
  {
   "cell_type": "code",
   "execution_count": null,
   "id": "15e3665f",
   "metadata": {},
   "outputs": [
    {
     "name": "stdout",
     "output_type": "stream",
     "text": [
      "8\n",
      "6.0\n",
      "5.5\n",
      "Hello World\n"
     ]
    }
   ],
   "source": [
    "# adding two integers\n",
    "print(3 + 5)\n",
    "# adding two floats\n",
    "print(3.5 + 2.5)\n",
    "# adding an integer and a float\n",
    "print(3 + 2.5)\n",
    "# adding two strings\n",
    "print('Hello ' + 'World')\n",
    "# you cant add a string and an integer"
   ]
  },
  {
   "cell_type": "markdown",
   "id": "45556f9a",
   "metadata": {},
   "source": [
    "> You can use the `type()` function to have the computer tell you the data type\n",
    "\n",
    "### Implicit conversion\n",
    "- Python automatically converts one data type to another without user involvement "
   ]
  },
  {
   "cell_type": "code",
   "execution_count": 24,
   "id": "94bee267",
   "metadata": {},
   "outputs": [
    {
     "name": "stdout",
     "output_type": "stream",
     "text": [
      "3.5\n"
     ]
    }
   ],
   "source": [
    "print(1 + 2.5)  # This will work, as Python will convert the integer to a float"
   ]
  },
  {
   "cell_type": "markdown",
   "id": "04ea2417",
   "metadata": {},
   "source": [
    "### Explicit conversion:\n",
    "- Users convert the data type of an object to a required data type\n",
    "- Also known as type casting. "
   ]
  },
  {
   "cell_type": "code",
   "execution_count": 25,
   "id": "13af5dc3",
   "metadata": {},
   "outputs": [
    {
     "name": "stdout",
     "output_type": "stream",
     "text": [
      "2 + 2 = 4\n"
     ]
    }
   ],
   "source": [
    "print('2 + 2 = ' + str(2 + 2))  # This will work, as we convert the integer result to a string"
   ]
  },
  {
   "cell_type": "markdown",
   "id": "d9f567dc",
   "metadata": {},
   "source": [
    "## Module 2\n",
    "\n",
    "### Functions:\n",
    "A body of reusable code for performing specific processes or tasks \n",
    "\n",
    "`def` A keyword that defines a function at the start of the function block \n",
    "\n"
   ]
  },
  {
   "cell_type": "code",
   "execution_count": 27,
   "id": "59ad0613",
   "metadata": {},
   "outputs": [],
   "source": [
    "def greeting(name):\n",
    "    print('Welcome, '+ name +'!')\n",
    "    print('You are part of the team!')\n",
    "    "
   ]
  },
  {
   "cell_type": "code",
   "execution_count": 28,
   "id": "3b23b247",
   "metadata": {},
   "outputs": [
    {
     "name": "stdout",
     "output_type": "stream",
     "text": [
      "Welcome, Rebecca!\n",
      "You are part of the team!\n"
     ]
    }
   ],
   "source": [
    "greeting('Rebecca')"
   ]
  },
  {
   "cell_type": "markdown",
   "id": "d9c59e3b",
   "metadata": {},
   "source": [
    "`return` A reserved keyword in Python that makes a function produce new results, which are saved for later use\n"
   ]
  },
  {
   "cell_type": "code",
   "execution_count": 30,
   "id": "b4c88c6a",
   "metadata": {},
   "outputs": [],
   "source": [
    "def area_triangle(base, height):\n",
    "    return base * height / 2"
   ]
  },
  {
   "cell_type": "code",
   "execution_count": 32,
   "id": "6cd3f8ba",
   "metadata": {},
   "outputs": [
    {
     "name": "stdout",
     "output_type": "stream",
     "text": [
      "The total area of the triangles is: 40.0\n"
     ]
    }
   ],
   "source": [
    "area_a = area_triangle(5,4)\n",
    "area_b = area_triangle(10, 6)\n",
    "\n",
    "total_area = area_b + area_a\n",
    "print(f'The total area of the triangles is: {total_area}')"
   ]
  },
  {
   "cell_type": "markdown",
   "id": "f15480d5",
   "metadata": {},
   "source": [
    "### Reusability:\n",
    "Defining code once and using it many times without having to rewrite it \n"
   ]
  },
  {
   "cell_type": "code",
   "execution_count": 33,
   "id": "0a0ac9a8",
   "metadata": {},
   "outputs": [],
   "source": [
    "def get_seconds(hours, minutes, seconds):\n",
    "    total_seconds = 3600*hours + 60*minutes + seconds\n",
    "    return total_seconds\n"
   ]
  },
  {
   "cell_type": "code",
   "execution_count": 36,
   "id": "9dda503b",
   "metadata": {},
   "outputs": [
    {
     "name": "stdout",
     "output_type": "stream",
     "text": [
      "Total_secondas: 60320\n"
     ]
    }
   ],
   "source": [
    "\n",
    "print(f'Total_secondas: {get_seconds(16,45,20)}')"
   ]
  },
  {
   "cell_type": "code",
   "execution_count": 38,
   "id": "408faf32",
   "metadata": {},
   "outputs": [
    {
     "name": "stdout",
     "output_type": "stream",
     "text": [
      "Hello Mujawar, Your lucky number is 63!\n"
     ]
    }
   ],
   "source": [
    "# This code writtens a length function which returns t he length of an object\n",
    "name = \"Mujawar\"\n",
    "number = len(name)*9\n",
    "print(\"Hello \" + name + \", Your lucky number is \" + str(number) + \"!\")\n"
   ]
  },
  {
   "cell_type": "code",
   "execution_count": 39,
   "id": "5b2ff9b6",
   "metadata": {},
   "outputs": [
    {
     "name": "stdout",
     "output_type": "stream",
     "text": [
      "Hello Adnan. Your lucky number is 45\n",
      "Hello Jakirhusen. Your lucky number is 90\n"
     ]
    }
   ],
   "source": [
    "def lucky_number(name):\n",
    "    number = len(name)*9\n",
    "    print(\"Hello \" + name + \". Your lucky number is \" + str(number))\n",
    "    \n",
    "lucky_number(\"Adnan\")\n",
    "lucky_number(\"Jakirhusen\")"
   ]
  },
  {
   "cell_type": "markdown",
   "id": "581b67d4",
   "metadata": {},
   "source": [
    "#### Modularity:\n",
    "The ability to write code in separate components that work together and that can be reused for other programs.\n",
    "\n",
    "#### Refactoring:\n",
    "The process of restructuring code while maintaining its original functionality.\n",
    "\n",
    "#### Self-documenting code:\n",
    "Code written in a way that is readable and makes its purpose clear.\n"
   ]
  },
  {
   "cell_type": "code",
   "execution_count": 40,
   "id": "3398cad0",
   "metadata": {},
   "outputs": [
    {
     "name": "stdout",
     "output_type": "stream",
     "text": [
      "120\n"
     ]
    }
   ],
   "source": [
    "# This function take an integer as an input and returns its factorial \n",
    "def factorial(n):\n",
    "    # Exclude 0 as product, start with 1\n",
    "    y = 1\n",
    "    for i in range(int(n)):\n",
    "        y = y * (i + 1)\n",
    "    return y\n",
    "\n",
    "# Enter a numerical value betweem 1-9 in the command line that appears\n",
    "input_num = input()\n",
    "# Apply factorial function to an integer input\n",
    "print(factorial(input_num))"
   ]
  },
  {
   "cell_type": "markdown",
   "id": "ce7dd3b9",
   "metadata": {},
   "source": [
    "### Comenting \n",
    "### Algorithm:\n",
    "A set of instruction for solving a problem or accomplushing a task.\n",
    "\n",
    "\n"
   ]
  },
  {
   "cell_type": "code",
   "execution_count": null,
   "id": "76e3532e",
   "metadata": {},
   "outputs": [],
   "source": [
    "def seed_calculation(fountain_side, grass_width):\n",
    "    ''' \n",
    "    Calculate the amount of seeds needed for a grass border around a square fountain.\n",
    "        Parameters:\n",
    "            fountain_side (num): The length of one side of the square fountain in meters.\n",
    "            grass_width (num): The width of the grass border around the fountain in meters.\n",
    "        Returns:\n",
    "            seed(float): amount of seed (kg) needed for grass border\n",
    "            '''\n",
    "    # Area of fountain\n",
    "    fountain_area = fountain_side**2\n",
    "    #Total area \n",
    "    total_area = (fountain_side + 2 * grass_width) ** 2\n",
    "    #Area of grass border \n",
    "    grass_area = total_area - fountain_area\n",
    "    # Amount of Seeds needed (35 g/sq.m)\n",
    "    seed = grass_area * 35\n",
    "    # Convert to kg \n",
    "    seed = seed/1000\n",
    "    \n",
    "    return seed\n",
    "    "
   ]
  },
  {
   "cell_type": "code",
   "execution_count": 43,
   "id": "eee2860d",
   "metadata": {},
   "outputs": [
    {
     "data": {
      "text/plain": [
       "3.92"
      ]
     },
     "execution_count": 43,
     "metadata": {},
     "output_type": "execute_result"
    }
   ],
   "source": [
    "seed_calculation(12, 2)"
   ]
  },
  {
   "cell_type": "markdown",
   "id": "87c02bc7",
   "metadata": {},
   "source": [
    "#### Docstring:\n",
    "A string at the beginning of a function's body that summarizes the function's behavior and explains its arguments and return values "
   ]
  },
  {
   "cell_type": "code",
   "execution_count": 45,
   "id": "9c9616bd",
   "metadata": {},
   "outputs": [
    {
     "name": "stdout",
     "output_type": "stream",
     "text": [
      "10\n"
     ]
    }
   ],
   "source": [
    "def my_function(parameters):\n",
    "    \"\"\"\n",
    "    Add two numbers\n",
    "    Parameters:\n",
    "        parameters (int): The number to be added to itself.\n",
    "    Returns:\n",
    "        int: The result of adding the number to itself.\n",
    "    \"\"\"\n",
    "    return parameters + parameters\n",
    "print(my_function(5))  # Output: 10"
   ]
  },
  {
   "cell_type": "code",
   "execution_count": 46,
   "id": "38dfed23",
   "metadata": {},
   "outputs": [
    {
     "data": {
      "text/plain": [
       "['The', 'Eagles', 'filled', 'the', 'sky.']"
      ]
     },
     "execution_count": 46,
     "metadata": {},
     "output_type": "execute_result"
    }
   ],
   "source": [
    "# Method Example\n",
    "my_string = 'The Eagles filled the sky.'\n",
    "my_string.split()"
   ]
  },
  {
   "cell_type": "code",
   "execution_count": 47,
   "id": "c38af546",
   "metadata": {},
   "outputs": [
    {
     "data": {
      "text/plain": [
       "9"
      ]
     },
     "execution_count": 47,
     "metadata": {},
     "output_type": "execute_result"
    }
   ],
   "source": [
    "# Function example\n",
    "sum([6, 3])\n",
    "9"
   ]
  },
  {
   "cell_type": "markdown",
   "id": "25cc8960",
   "metadata": {},
   "source": [
    "### Boolean:\n",
    "A data type that has only two possible values, usually true or false\n",
    "\n",
    "#### Comparators:\n",
    "OPerators that compare two values and produce boolean values (True/False)"
   ]
  },
  {
   "cell_type": "code",
   "execution_count": 48,
   "id": "7214d217",
   "metadata": {},
   "outputs": [
    {
     "name": "stdout",
     "output_type": "stream",
     "text": [
      "True\n"
     ]
    }
   ],
   "source": [
    "print(10>1)"
   ]
  },
  {
   "cell_type": "markdown",
   "id": "f5bef3ac",
   "metadata": {},
   "source": [
    "#### Python Comparators \n",
    "- Greater Than - `>`\n",
    "- Greater than equal to - `>=`\n",
    "- Less than - `<` \n",
    "- Less than or equal to - `<=`\n",
    "- Equal to - `==`\n",
    "- Not equal to - `!=`"
   ]
  },
  {
   "cell_type": "code",
   "execution_count": 49,
   "id": "6728e606",
   "metadata": {},
   "outputs": [
    {
     "name": "stdout",
     "output_type": "stream",
     "text": [
      "False\n",
      "True\n"
     ]
    }
   ],
   "source": [
    "print('cat' == 'dog')\n",
    "print(1 != 2)\n"
   ]
  },
  {
   "cell_type": "markdown",
   "id": "389eeb8d",
   "metadata": {},
   "source": [
    "### Logical operators:\n",
    "Operators that onnect multiple statements together and perform more complex comparisons.\n",
    "- `and`\n",
    "- `or`\n",
    "- `not`\n",
    "\n",
    "- The `and` operator needs both expressions to be true to return a True result \n",
    "- The `or` operator needs either of the expressions to be true to return a True result, and False only when both expressions are false\n",
    "- The `not` operator inverts the value of the expression that follows it "
   ]
  },
  {
   "cell_type": "code",
   "execution_count": 50,
   "id": "d1110623",
   "metadata": {},
   "outputs": [
    {
     "name": "stdout",
     "output_type": "stream",
     "text": [
      "False\n"
     ]
    }
   ],
   "source": [
    "print(\"Yellow\" > \"Cyan\" and \"Brown\" > \"Magenta\")"
   ]
  },
  {
   "cell_type": "code",
   "execution_count": 51,
   "id": "7a71fc40",
   "metadata": {},
   "outputs": [
    {
     "name": "stdout",
     "output_type": "stream",
     "text": [
      "True\n"
     ]
    }
   ],
   "source": [
    "print(25 > 50 or 1 != 2)"
   ]
  },
  {
   "cell_type": "code",
   "execution_count": 52,
   "id": "9ddfc15c",
   "metadata": {},
   "outputs": [
    {
     "name": "stdout",
     "output_type": "stream",
     "text": [
      "True\n"
     ]
    }
   ],
   "source": [
    "print(not 42 == \"Answer\")"
   ]
  },
  {
   "cell_type": "markdown",
   "id": "644bb379",
   "metadata": {},
   "source": [
    "### Branching \n",
    "The ability of a program to alter its execution sequence\n",
    "- `if`: A reserved keyword that sets up a condition in Python.\n",
    "- `else`: A reserved keyword that executes when preceding conditions evaluate as False.\n",
    "- `elif`: a reserved keyword that executes subsequent condition when the previous conditions when the prevous condition are not true \n",
    "#### Modulo: `%`\n",
    "An operator that returns the remainder when one number is divided by another\n"
   ]
  },
  {
   "cell_type": "code",
   "execution_count": 58,
   "id": "62862f6b",
   "metadata": {},
   "outputs": [],
   "source": [
    "def hit_username(username):\n",
    "    if len(username) < 0:\n",
    "        print('Invalid username, must be at least 8 character long.')\n",
    "    elif len(username) >15:\n",
    "        print('Invalid username, cannot be longer than 15 characters.')\n",
    "    else:\n",
    "        print('Valid username.')"
   ]
  },
  {
   "cell_type": "code",
   "execution_count": 56,
   "id": "3537b581",
   "metadata": {},
   "outputs": [],
   "source": [
    "def is_even(number):\n",
    "    if number % 2 == 0:\n",
    "        return True\n",
    "    return False"
   ]
  },
  {
   "cell_type": "code",
   "execution_count": 57,
   "id": "8693807a",
   "metadata": {},
   "outputs": [
    {
     "data": {
      "text/plain": [
       "False"
      ]
     },
     "execution_count": 57,
     "metadata": {},
     "output_type": "execute_result"
    }
   ],
   "source": [
    "is_even(13)"
   ]
  },
  {
   "cell_type": "markdown",
   "id": "01d91cfe",
   "metadata": {},
   "source": [
    "## Module 3\n",
    "### Loop:\n",
    "A block of code used to carry out iterations \n",
    "### Iteration:\n",
    "The repeated execution of a set of statements, where one iteration is the single execution of a block of code.\n",
    "### Iterable:\n",
    "AN object that's looped, or iterated over\n",
    "\n",
    "\n",
    "### `While` loop :\n",
    "A loop that instructs your computer to continuously execute your code based on the value of a condition."
   ]
  },
  {
   "cell_type": "code",
   "execution_count": 60,
   "id": "22f651cd",
   "metadata": {},
   "outputs": [
    {
     "name": "stdout",
     "output_type": "stream",
     "text": [
      "Not there yet, x = 0\n",
      "Not there yet, x = 1\n",
      "Not there yet, x = 2\n",
      "Not there yet, x = 3\n",
      "Not there yet, x = 4\n",
      "x = 5\n"
     ]
    }
   ],
   "source": [
    "x = 0\n",
    "while x < 5:\n",
    "    print('Not there yet, x = ' + str(x))\n",
    "    x = x + 1\n",
    "print('x = ' + str(x))"
   ]
  },
  {
   "cell_type": "markdown",
   "id": "f8885abb",
   "metadata": {},
   "source": [
    "> THe condition used by the while loop needs to evaluate to true or false"
   ]
  },
  {
   "cell_type": "code",
   "execution_count": 61,
   "id": "3ec05fde",
   "metadata": {},
   "outputs": [],
   "source": [
    "import random "
   ]
  },
  {
   "cell_type": "code",
   "execution_count": 64,
   "id": "2a71d8df",
   "metadata": {},
   "outputs": [
    {
     "name": "stdout",
     "output_type": "stream",
     "text": [
      "Guess a number between 1 and 25: \n",
      "Nope! Try again.\n",
      "Guess a number between 1 and 25: \n",
      "Nope! Try again.\n",
      "Guess a number between 1 and 25: \n",
      "Nope! Try again.\n",
      "Guess a number between 1 and 25: \n",
      "Nope! Try again.\n",
      "Guess a number between 1 and 25: \n",
      "you did not guess the number. The number was 22-\n"
     ]
    }
   ],
   "source": [
    "number = random.randint(1,25)\n",
    "number_of_guesses = 0 \n",
    "\n",
    "while number_of_guesses < 5:\n",
    "    print('Guess a number between 1 and 25: ')\n",
    "    guess = input()\n",
    "    guess = int(guess)\n",
    "    number_of_guesses += 1\n",
    "    \n",
    "    if guess == number:\n",
    "        break\n",
    "    elif number_of_guesses == 5:\n",
    "        break\n",
    "    else:\n",
    "        print('Nope! Try again.')\n",
    "        \n",
    "if guess == number:\n",
    "    print('Correct! You guessed the number in ' + str(number_of_guesses) + ' tries.')\n",
    "else:\n",
    "    print('you did not guess the number. The number was ' + str(number) +'-')"
   ]
  },
  {
   "cell_type": "markdown",
   "id": "3ca6c874",
   "metadata": {},
   "source": [
    "> `break` : A keyword that lets you escape a loop without triggering any ELSE statement that follows it in the loop "
   ]
  },
  {
   "cell_type": "code",
   "execution_count": 2,
   "id": "57b81030",
   "metadata": {},
   "outputs": [],
   "source": [
    "def send_email (num_visits, visits_email, visits_coupon):\n",
    "    #visits_coupon = 5 # number of visits required to get a coupon\n",
    "    if visits_coupon > num_visits >= visits_email:# if number of visits are greater than visits email then and only then they will receive an email.\n",
    "        print('Send promotional email!')\n",
    "    elif num_visits >= visits_coupon: # if number of visits are greater than or equal to visits coupon then they will receive a coupon.\n",
    "        print('Send email with coupon!')\n",
    "    else:\n",
    "        print('Not enought visits!')# else they are not eligible to recive the email \n",
    "    #return send_email\n"
   ]
  },
  {
   "cell_type": "code",
   "execution_count": 6,
   "id": "2ae228db",
   "metadata": {},
   "outputs": [
    {
     "name": "stdout",
     "output_type": "stream",
     "text": [
      "Candy purchased: 0\n",
      "Candy purchased: 1\n",
      "Candy purchased: 2\n",
      "Candy purchased: 3\n",
      "Candy purchased: 4\n",
      "Candy purchased: 5\n"
     ]
    }
   ],
   "source": [
    "'''\n",
    "While loop Example '''\n",
    "candy_purchased = 0\n",
    "while candy_purchased < 6:\n",
    "   \n",
    "    print('Candy purchased: ' + str(candy_purchased))\n",
    "    candy_purchased += 1"
   ]
  },
  {
   "cell_type": "code",
   "execution_count": null,
   "id": "3e94dd2d",
   "metadata": {},
   "outputs": [
    {
     "name": "stdout",
     "output_type": "stream",
     "text": [
      "Candy Purchased: 0\n",
      "Candy Purchased: 10\n",
      "Candy Purchased: 20\n",
      "Candy Purchased: 30\n",
      "Candy Purchased: 40\n",
      "Candy Purchased: 50\n",
      "Candy Purchased: 60\n",
      "Candy Purchased: 70\n",
      "Candy Purchased: 80\n",
      "Candy Purchased: 90\n",
      "Candy Purchased: 100\n"
     ]
    }
   ],
   "source": [
    "candy_purchased = 0 \n",
    "while candy_purchased <= 100:\n",
    "    if candy_purchased % 10 == 0: # print only those numbers that are divisible by 10\n",
    "        print('Candy Purchased: ' + str(candy_purchased))\n",
    "    candy_purchased += 1"
   ]
  },
  {
   "cell_type": "code",
   "execution_count": 8,
   "id": "d2330ca2",
   "metadata": {},
   "outputs": [
    {
     "name": "stdout",
     "output_type": "stream",
     "text": [
      "3\n",
      "2\n",
      "1\n",
      "0\n"
     ]
    }
   ],
   "source": [
    "# Create a webpage timer \n",
    "from time import sleep \n",
    "\n",
    "n = 3\n",
    "while n >= 0:\n",
    "    print(n)\n",
    "    sleep(1)\n",
    "    n = n - 1"
   ]
  },
  {
   "cell_type": "code",
   "execution_count": 15,
   "id": "ddb5e2be",
   "metadata": {},
   "outputs": [
    {
     "name": "stdout",
     "output_type": "stream",
     "text": [
      "10\n",
      "9\n",
      "8\n",
      "7\n",
      "6\n",
      "Place yout reservation soon! 5 minutes remaining.\n",
      "4\n",
      "3\n",
      "Don't lose your seats! 2 minutes remaining.\n",
      "1\n",
      "Time is up!\n"
     ]
    }
   ],
   "source": [
    "mins = 10\n",
    "while mins >= 0:\n",
    "    if mins == 5:\n",
    "        print('Place yout reservation soon! 5 minutes remaining.')\n",
    "    elif mins == 2:\n",
    "        print('Don\\'t lose your seats! 2 minutes remaining.')\n",
    "    elif mins == 0:\n",
    "        print('Time is up!')\n",
    "    else:\n",
    "        print(str(mins))\n",
    "    sleep(1)\n",
    "    mins = mins - 1\n",
    "    "
   ]
  },
  {
   "cell_type": "markdown",
   "id": "8849af03",
   "metadata": {},
   "source": [
    "### For loop \n",
    "A piece of code that iterated over a sequence of values.\n",
    "\n"
   ]
  },
  {
   "cell_type": "code",
   "execution_count": 17,
   "id": "5b1669a1",
   "metadata": {},
   "outputs": [
    {
     "name": "stdout",
     "output_type": "stream",
     "text": [
      "0\n",
      "1\n",
      "2\n",
      "3\n",
      "4\n"
     ]
    }
   ],
   "source": [
    "for x in range(5):\n",
    "    print(x)"
   ]
  },
  {
   "cell_type": "markdown",
   "id": "31b28042",
   "metadata": {},
   "source": [
    "### `range()`\n",
    "A Python function that returns a sequence of numbers starting from zero, increments by 1 by default, and stops before the given number.\n",
    "\n",
    "> 1. A range of numbers will start with the value 0 by default\n",
    "> 2. The list of numbers generated will be one less than the given value\n"
   ]
  },
  {
   "cell_type": "code",
   "execution_count": 18,
   "id": "19495ad8",
   "metadata": {},
   "outputs": [
    {
     "name": "stdout",
     "output_type": "stream",
     "text": [
      "\n",
      "\n",
      "\n",
      "\n",
      "Beautiful is better than ugly.\n",
      "\n",
      "Explicit is better than implicit.\n",
      "\n",
      "Simple is better than complex.\n",
      "\n",
      "Complex is better than complicated.\n",
      "\n",
      "Flat is better than nested.\n",
      "\n",
      "Sparse is better than dense.\n",
      "\n",
      "Readability counts.\n",
      "\n",
      "Special cases aren't special enough to break the rules.\n",
      "\n",
      "Although practicality beats purity.\n",
      "\n",
      "Errors should never pass silently.\n",
      "\n",
      "Unless explicitly silenced.\n",
      "\n",
      "In the face of ambiguity, refuse the temptation to guess.\n",
      "\n",
      "There should be one-- and preferably only one --obvious way to do it.\n",
      "\n",
      "Although that way may not be obvious at first unless you're Dutch.\n",
      "\n",
      "Now is better than never.\n",
      "\n",
      "Although never is often better than *right* now.\n",
      "\n",
      "If the implementation is hard to explain, it's a bad idea.\n",
      "\n",
      "If the implementation is easy to explain, it may be a good idea.\n",
      "\n",
      "Namespaces are one honking great idea -- let's do more of those!\n",
      "\n",
      "\n",
      "\n",
      "\n",
      "I'm done.\n"
     ]
    }
   ],
   "source": [
    "with open('zen_of_python.txt') as f:\n",
    "    for line in f:\n",
    "        print(line)\n",
    "print('\\nI\\'m done.')"
   ]
  },
  {
   "cell_type": "markdown",
   "id": "6dfeb647",
   "metadata": {},
   "source": [
    "### Parameters of the range function\n",
    "\n",
    "- Start value\n",
    "- Stop value\n",
    "- Step value\n"
   ]
  },
  {
   "cell_type": "code",
   "execution_count": 20,
   "id": "1357482a",
   "metadata": {},
   "outputs": [
    {
     "name": "stdout",
     "output_type": "stream",
     "text": [
      "362880\n"
     ]
    }
   ],
   "source": [
    "product = 1\n",
    "for n in range (1, 10):\n",
    "    product = product * n \n",
    "    \n",
    "print(product)"
   ]
  },
  {
   "cell_type": "code",
   "execution_count": 21,
   "id": "50f2625d",
   "metadata": {},
   "outputs": [
    {
     "name": "stdout",
     "output_type": "stream",
     "text": [
      "0 -17.77777777777778\n",
      "10 -12.222222222222221\n",
      "20 -6.666666666666667\n",
      "30 -1.1111111111111112\n",
      "40 4.444444444444445\n",
      "50 10.0\n",
      "60 15.555555555555555\n",
      "70 21.11111111111111\n",
      "80 26.666666666666668\n",
      "90 32.22222222222222\n",
      "100 37.77777777777778\n"
     ]
    }
   ],
   "source": [
    "def to_celsius(x):\n",
    "    return (x-32) * 5/9\n",
    "for x in range(0, 101,10):\n",
    "    print(x, to_celsius(x))"
   ]
  },
  {
   "cell_type": "markdown",
   "id": "1138274a",
   "metadata": {},
   "source": [
    "> - Use for loops when there's a sequence of elements that you want to iterate over\n",
    "> - Use while loops when you want to repeat an action until a boolean condition changes.\n",
    "> - Booleans are a data type that represents one of two possible states: True or False."
   ]
  },
  {
   "cell_type": "code",
   "execution_count": null,
   "id": "496909f2",
   "metadata": {},
   "outputs": [],
   "source": [
    "def score_counter(score_list):\n",
    "    for score in score_list"
   ]
  },
  {
   "cell_type": "markdown",
   "id": "b1955f50",
   "metadata": {},
   "source": [
    "### Strings\n",
    "\n",
    "#### Concatenate:\n",
    "To link or join together\n",
    "\n"
   ]
  },
  {
   "cell_type": "code",
   "execution_count": 1,
   "id": "a0a83852",
   "metadata": {},
   "outputs": [
    {
     "data": {
      "text/plain": [
       "'Helloworld'"
      ]
     },
     "execution_count": 1,
     "metadata": {},
     "output_type": "execute_result"
    }
   ],
   "source": [
    "'Hello' + 'world'"
   ]
  },
  {
   "cell_type": "code",
   "execution_count": 2,
   "id": "1f71ede4",
   "metadata": {},
   "outputs": [
    {
     "data": {
      "text/plain": [
       "'Helloworld'"
      ]
     },
     "execution_count": 2,
     "metadata": {},
     "output_type": "execute_result"
    }
   ],
   "source": [
    "greeting_1 = 'Hello'\n",
    "greeting_2 = 'world'\n",
    "greeting_1 + greeting_2"
   ]
  },
  {
   "cell_type": "code",
   "execution_count": 3,
   "id": "07eeb586",
   "metadata": {},
   "outputs": [
    {
     "data": {
      "text/plain": [
       "'Danger! Danger! Danger! '"
      ]
     },
     "execution_count": 3,
     "metadata": {},
     "output_type": "execute_result"
    }
   ],
   "source": [
    "danger = 'Danger! '\n",
    "danger * 3"
   ]
  },
  {
   "cell_type": "markdown",
   "id": "d5c63f21",
   "metadata": {},
   "source": [
    "> We cannot devide or subtract two strings strings we can just add and multiply them \n"
   ]
  },
  {
   "cell_type": "code",
   "execution_count": 4,
   "id": "c8bd8ff9",
   "metadata": {},
   "outputs": [
    {
     "name": "stdout",
     "output_type": "stream",
     "text": [
      "Thank you for pressing the self-destruct button.\n"
     ]
    }
   ],
   "source": [
    "quote = \"Thank you for pressing the self-destruct button.\"\n",
    "print(quote)"
   ]
  },
  {
   "cell_type": "markdown",
   "id": "d61c9e01",
   "metadata": {},
   "source": [
    "#### Excape character \n",
    "A characterthat changes the typical behaviour of the characters that follow it "
   ]
  },
  {
   "cell_type": "code",
   "execution_count": 6,
   "id": "0077ed01",
   "metadata": {},
   "outputs": [
    {
     "name": "stdout",
     "output_type": "stream",
     "text": [
      "\"It's dangerous to go alone!\"\n"
     ]
    }
   ],
   "source": [
    "quote = \"\\\"It's dangerous to go alone!\\\"\"\n",
    "print(quote)"
   ]
  },
  {
   "cell_type": "code",
   "execution_count": 8,
   "id": "37dbbd1b",
   "metadata": {},
   "outputs": [
    {
     "name": "stdout",
     "output_type": "stream",
     "text": [
      "Good day. \n",
      "sir.\n"
     ]
    }
   ],
   "source": [
    "greeting = \"Good day. \\nsir.\"\n",
    "print(greeting)"
   ]
  },
  {
   "cell_type": "code",
   "execution_count": 9,
   "id": "5ac4e7f7",
   "metadata": {},
   "outputs": [
    {
     "name": "stdout",
     "output_type": "stream",
     "text": [
      "Put\n",
      "yut\n",
      "tut\n",
      "hut\n",
      "out\n",
      "nut\n"
     ]
    }
   ],
   "source": [
    "python = \"Python\"\n",
    "for letter in python:\n",
    "    print(letter + 'ut')"
   ]
  },
  {
   "cell_type": "code",
   "execution_count": 10,
   "id": "b0834201",
   "metadata": {},
   "outputs": [
    {
     "name": "stdout",
     "output_type": "stream",
     "text": [
      "Phome\n",
      "Yhome\n",
      "Thome\n",
      "Hhome\n",
      "Ohome\n",
      "Nhome\n"
     ]
    }
   ],
   "source": [
    "for l in python:\n",
    "    print(l.upper() + 'home')"
   ]
  },
  {
   "cell_type": "code",
   "execution_count": 11,
   "id": "000cef21",
   "metadata": {},
   "outputs": [
    {
     "name": "stdout",
     "output_type": "stream",
     "text": [
      "pgohome\n",
      "ygohome\n",
      "tgohome\n",
      "hgohome\n",
      "ogohome\n",
      "ngohome\n"
     ]
    }
   ],
   "source": [
    "for v in python:\n",
    "    print(v.lower() + 'gohome')"
   ]
  },
  {
   "cell_type": "markdown",
   "id": "f51c2653",
   "metadata": {},
   "source": [
    "#### Indexing \n",
    "A way to refer to the individual items within an iterable by their relative position \n",
    "\n",
    "##### Indexing can be used on :\n",
    "- strings\n",
    "- lists\n",
    "- tuples\n",
    "- most other iterable data types \n",
    "\n",
    "> Python uses 0 based indexing \n",
    "\n",
    "`index()`\n",
    "A string method that output the index number of a character in a string \n",
    "> A method is a fucnction that is applied to a variable\n",
    "\n"
   ]
  },
  {
   "cell_type": "code",
   "execution_count": 12,
   "id": "31f25698",
   "metadata": {},
   "outputs": [
    {
     "data": {
      "text/plain": [
       "3"
      ]
     },
     "execution_count": 12,
     "metadata": {},
     "output_type": "execute_result"
    }
   ],
   "source": [
    "pets = 'cats and dogs'\n",
    "pets.index('s')"
   ]
  },
  {
   "cell_type": "code",
   "execution_count": 13,
   "id": "7e65c7b7",
   "metadata": {},
   "outputs": [
    {
     "data": {
      "text/plain": [
       "'J'"
      ]
     },
     "execution_count": 13,
     "metadata": {},
     "output_type": "execute_result"
    }
   ],
   "source": [
    "name = 'Jolene'\n",
    "name[0]"
   ]
  },
  {
   "cell_type": "code",
   "execution_count": 14,
   "id": "5eecdd58",
   "metadata": {},
   "outputs": [
    {
     "data": {
      "text/plain": [
       "'.'"
      ]
     },
     "execution_count": 14,
     "metadata": {},
     "output_type": "execute_result"
    }
   ],
   "source": [
    "sentence = 'The quick brown fox jumps over the lazy dog.'\n",
    "sentence[-1]"
   ]
  },
  {
   "cell_type": "markdown",
   "id": "1497c8c8",
   "metadata": {},
   "source": [
    "#### String slice \n",
    "A portion of a string, also known as a substring, that can contain more than one character.\n"
   ]
  },
  {
   "cell_type": "code",
   "execution_count": 16,
   "id": "e9b3358c",
   "metadata": {},
   "outputs": [
    {
     "data": {
      "text/plain": [
       "'ran'"
      ]
     },
     "execution_count": 16,
     "metadata": {},
     "output_type": "execute_result"
    }
   ],
   "source": [
    "color = 'orange'\n",
    "color[1:4]"
   ]
  },
  {
   "cell_type": "code",
   "execution_count": 17,
   "id": "fde87759",
   "metadata": {},
   "outputs": [
    {
     "data": {
      "text/plain": [
       "'pine'"
      ]
     },
     "execution_count": 17,
     "metadata": {},
     "output_type": "execute_result"
    }
   ],
   "source": [
    "fruit = 'pineapple'\n",
    "fruit[:4]"
   ]
  },
  {
   "cell_type": "code",
   "execution_count": 18,
   "id": "92ca09b6",
   "metadata": {},
   "outputs": [
    {
     "data": {
      "text/plain": [
       "'apple'"
      ]
     },
     "execution_count": 18,
     "metadata": {},
     "output_type": "execute_result"
    }
   ],
   "source": [
    "fruit[4:]\n"
   ]
  },
  {
   "cell_type": "markdown",
   "id": "9b4d3dbb",
   "metadata": {},
   "source": [
    "> To check whether or not a substring is contained in a string, use the keyord `in`."
   ]
  },
  {
   "cell_type": "code",
   "execution_count": 22,
   "id": "4645c9b6",
   "metadata": {},
   "outputs": [
    {
     "name": "stdout",
     "output_type": "stream",
     "text": [
      "tep\n"
     ]
    }
   ],
   "source": [
    "my_string = 'Mississippi half-step'\n",
    "print(my_string[-3:])\n"
   ]
  },
  {
   "cell_type": "code",
   "execution_count": 23,
   "id": "c0da3994",
   "metadata": {},
   "outputs": [
    {
     "name": "stdout",
     "output_type": "stream",
     "text": [
      "unladen\n"
     ]
    }
   ],
   "source": [
    "my_list = [1, 'unladen', 'swallow']\n",
    "print(my_list[1])"
   ]
  },
  {
   "cell_type": "code",
   "execution_count": 24,
   "id": "e03c1819",
   "metadata": {},
   "outputs": [
    {
     "name": "stdout",
     "output_type": "stream",
     "text": [
      "swallow\n"
     ]
    }
   ],
   "source": [
    "print(my_list[-1])"
   ]
  },
  {
   "cell_type": "code",
   "execution_count": 26,
   "id": "b2423aa8",
   "metadata": {},
   "outputs": [
    {
     "data": {
      "text/plain": [
       "1"
      ]
     },
     "execution_count": 26,
     "metadata": {},
     "output_type": "execute_result"
    }
   ],
   "source": [
    "my_list[0]"
   ]
  },
  {
   "cell_type": "code",
   "execution_count": 27,
   "id": "0940111a",
   "metadata": {},
   "outputs": [
    {
     "data": {
      "text/plain": [
       "'pin'"
      ]
     },
     "execution_count": 27,
     "metadata": {},
     "output_type": "execute_result"
    }
   ],
   "source": [
    "new_string = 'pining for the fjords'\n",
    "new_string[0:3]\n"
   ]
  },
  {
   "cell_type": "code",
   "execution_count": 28,
   "id": "bee3d70a",
   "metadata": {},
   "outputs": [
    {
     "data": {
      "text/plain": [
       "'pin'"
      ]
     },
     "execution_count": 28,
     "metadata": {},
     "output_type": "execute_result"
    }
   ],
   "source": [
    "new_string[:3]"
   ]
  },
  {
   "cell_type": "code",
   "execution_count": 30,
   "id": "10810c07",
   "metadata": {},
   "outputs": [
    {
     "data": {
      "text/plain": [
       "21"
      ]
     },
     "execution_count": 30,
     "metadata": {},
     "output_type": "execute_result"
    }
   ],
   "source": [
    "len(new_string)"
   ]
  },
  {
   "cell_type": "code",
   "execution_count": 31,
   "id": "932a5667",
   "metadata": {},
   "outputs": [
    {
     "data": {
      "text/plain": [
       "' for the fjords'"
      ]
     },
     "execution_count": 31,
     "metadata": {},
     "output_type": "execute_result"
    }
   ],
   "source": [
    "new_string[6:100]"
   ]
  },
  {
   "cell_type": "markdown",
   "id": "541d4afa",
   "metadata": {},
   "source": [
    "> `format()` Formats and inserts specific substrings into designated places \n"
   ]
  },
  {
   "cell_type": "code",
   "execution_count": 34,
   "id": "1d75f4f5",
   "metadata": {},
   "outputs": [
    {
     "name": "stdout",
     "output_type": "stream",
     "text": [
      "Hello Adnan, your lucky number is 3!\n"
     ]
    }
   ],
   "source": [
    "name = 'Adnan'\n",
    "number = 3\n",
    "print('Hello {}, your lucky number is {}!'.format(name, number))"
   ]
  },
  {
   "cell_type": "code",
   "execution_count": 35,
   "id": "6925d222",
   "metadata": {},
   "outputs": [
    {
     "name": "stdout",
     "output_type": "stream",
     "text": [
      "Hello Adnan, your lucky number is 3.\n"
     ]
    }
   ],
   "source": [
    "print('Hello {name}, your lucky number is {num}.'.format(num=number, name=name))"
   ]
  },
  {
   "cell_type": "code",
   "execution_count": 36,
   "id": "cf1a79bf",
   "metadata": {},
   "outputs": [
    {
     "name": "stdout",
     "output_type": "stream",
     "text": [
      "Hello Adnan, your lucky number is 3.\n"
     ]
    }
   ],
   "source": [
    "print('Hello {1}, your lucky number is {0}.'.format(number, name))"
   ]
  },
  {
   "cell_type": "code",
   "execution_count": 38,
   "id": "646710dc",
   "metadata": {},
   "outputs": [
    {
     "name": "stdout",
     "output_type": "stream",
     "text": [
      "Base price: $7.75 USD. \n",
      "With tax: $8.2925 USD.\n"
     ]
    }
   ],
   "source": [
    "price = 7.75\n",
    "with_tax = price * 1.07\n",
    "print('Base price: ${} USD. \\nWith tax: ${} USD.'.format(price, with_tax))"
   ]
  },
  {
   "cell_type": "markdown",
   "id": "1d368bcb",
   "metadata": {},
   "source": [
    "> `.2f` .2 refers to two places beyond decimal, and F stands for float"
   ]
  },
  {
   "cell_type": "code",
   "execution_count": 39,
   "id": "3f8e4de6",
   "metadata": {},
   "outputs": [
    {
     "name": "stdout",
     "output_type": "stream",
     "text": [
      "Base price: $7.75 USD. \n",
      "With tax: $8.29 USD.\n"
     ]
    }
   ],
   "source": [
    "print('Base price: ${:.2f} USD. \\nWith tax: ${:.2f} USD.'.format(price, with_tax))"
   ]
  },
  {
   "cell_type": "code",
   "execution_count": 45,
   "id": "b4469071",
   "metadata": {},
   "outputs": [
    {
     "name": "stdout",
     "output_type": "stream",
     "text": [
      "  0 F | -17.78 C\n",
      " 10 F | -12.22 C\n",
      " 20 F |  -6.67 C\n",
      " 30 F |  -1.11 C\n",
      " 40 F |   4.44 C\n",
      " 50 F |  10.00 C\n",
      " 60 F |  15.56 C\n",
      " 70 F |  21.11 C\n",
      " 80 F |  26.67 C\n",
      " 90 F |  32.22 C\n",
      "100 F |  37.78 C\n"
     ]
    }
   ],
   "source": [
    "def to_celsius(x):\n",
    "    return (x-32) * 5/9\n",
    "\n",
    "for x in range(0, 101, 10):\n",
    "    print(\"{:>3} F | {:>6.2f} C\".format(x, to_celsius(x)))"
   ]
  },
  {
   "cell_type": "code",
   "execution_count": 47,
   "id": "fab61a06",
   "metadata": {},
   "outputs": [
    {
     "name": "stdout",
     "output_type": "stream",
     "text": [
      "String formatting lets you insert values into strings. They can even be numbers, like 100.\n"
     ]
    }
   ],
   "source": [
    "x = 'values'\n",
    "y = 100\n",
    "\n",
    "print('''String formatting lets you insert {} into strings. They can even be numbers, like {}.'''.format(x, y))"
   ]
  },
  {
   "cell_type": "code",
   "execution_count": null,
   "id": "fc78a6ea",
   "metadata": {},
   "outputs": [
    {
     "name": "stdout",
     "output_type": "stream",
     "text": [
      "A, B\n"
     ]
    }
   ],
   "source": [
    "\n",
    "var_a = 'A'\n",
    "var_b = 'B'\n",
    "print('{a}, {b}'.format(b=var_b, a=var_a))"
   ]
  },
  {
   "cell_type": "code",
   "execution_count": null,
   "id": "33898b3b",
   "metadata": {},
   "outputs": [
    {
     "name": "stdout",
     "output_type": "stream",
     "text": [
      "B, A\n",
      "A, B\n"
     ]
    }
   ],
   "source": [
    "# Arguments get inserted in specific spots\n",
    "print('{1}, {0}'.format(var_a, var_b))\n",
    "print('{0}, {1}'.format(var_a, var_b))"
   ]
  },
  {
   "cell_type": "code",
   "execution_count": null,
   "id": "349a7df5",
   "metadata": {},
   "outputs": [
    {
     "name": "stdout",
     "output_type": "stream",
     "text": [
      "1,2,3,4,5,6 ...\n"
     ]
    }
   ],
   "source": [
    "# You can have as many arguments as you want \n",
    "print('{},{},{},{},{},{} ...'.format(1,2,3,4,5,6))"
   ]
  },
  {
   "cell_type": "code",
   "execution_count": 2,
   "id": "ab024296",
   "metadata": {},
   "outputs": [
    {
     "name": "stdout",
     "output_type": "stream",
     "text": [
      "1 + 2\n",
      "3\n",
      "var_a = 1 \n",
      "var_b = 2\n"
     ]
    }
   ],
   "source": [
    "var_a = 1\n",
    "var_b = 2\n",
    "print(f'{var_a} + {var_b}')\n",
    "print(f'{var_a + var_b}')\n",
    "print(f'var_a = {var_a} \\nvar_b = {var_b}')"
   ]
  },
  {
   "cell_type": "markdown",
   "id": "fb3c3405",
   "metadata": {},
   "source": [
    "![float formatting](float.png)\n",
    "![ f e %](ef.png)"
   ]
  },
  {
   "cell_type": "code",
   "execution_count": 3,
   "id": "63c7d08e",
   "metadata": {},
   "outputs": [
    {
     "data": {
      "text/plain": [
       "'1000.99'"
      ]
     },
     "execution_count": 3,
     "metadata": {},
     "output_type": "execute_result"
    }
   ],
   "source": [
    "num = 1000.987123\n",
    "f'{num:.2f}'"
   ]
  },
  {
   "cell_type": "code",
   "execution_count": 5,
   "id": "63bf1de5",
   "metadata": {},
   "outputs": [
    {
     "name": "stdout",
     "output_type": "stream",
     "text": [
      "1.001e+03\n",
      "24.9786%\n"
     ]
    }
   ],
   "source": [
    "num = 1000.987123\n",
    "print(f'{num:.3e}')\n",
    "\n",
    "decimal = 0.2497856\n",
    "print(f'{decimal:.4%}')"
   ]
  },
  {
   "cell_type": "markdown",
   "id": "2d19be17",
   "metadata": {},
   "source": [
    "`str.count(sub[, start[, end]])`\n",
    "> return the number of non-overlapping occurences of substring `sub` in the range `[start , end]`"
   ]
  },
  {
   "cell_type": "code",
   "execution_count": 6,
   "id": "8faf7202",
   "metadata": {},
   "outputs": [
    {
     "name": "stdout",
     "output_type": "stream",
     "text": [
      "2\n",
      "1\n"
     ]
    }
   ],
   "source": [
    "my_string = 'Happy birthday'\n",
    "print(my_string.count('y'))\n",
    "print(my_string.count('y', 2, 7))"
   ]
  },
  {
   "cell_type": "markdown",
   "id": "0cbe7845",
   "metadata": {},
   "source": [
    "`str.find(sub)`\n",
    "> Return the lowest in the string where substring `sub` is found. Return -1 if `sub` is not found"
   ]
  },
  {
   "cell_type": "code",
   "execution_count": 7,
   "id": "5cadd809",
   "metadata": {},
   "outputs": [
    {
     "data": {
      "text/plain": [
       "6"
      ]
     },
     "execution_count": 7,
     "metadata": {},
     "output_type": "execute_result"
    }
   ],
   "source": [
    "my_string = 'Happy birthday'\n",
    "my_string.find('birth')"
   ]
  },
  {
   "cell_type": "markdown",
   "id": "937c8280",
   "metadata": {},
   "source": [
    "`str.join()`\n",
    "> Return a string which is the concatenation of the strings in iterable. The separator between elements is the string providing this method. "
   ]
  },
  {
   "cell_type": "code",
   "execution_count": 8,
   "id": "a4e17f29",
   "metadata": {},
   "outputs": [
    {
     "data": {
      "text/plain": [
       "'Happy birthday to you'"
      ]
     },
     "execution_count": 8,
     "metadata": {},
     "output_type": "execute_result"
    }
   ],
   "source": [
    "separator_string = ' ' \n",
    "iterable_of_strings = ['Happy', 'birthday', 'to', 'you']\n",
    "\n",
    "separator_string.join(iterable_of_strings)"
   ]
  },
  {
   "cell_type": "markdown",
   "id": "851f09b5",
   "metadata": {},
   "source": [
    "`str.partition(sep)`\n",
    "Split the string at the first occurrence of `sep`, and return a 3-tuple containing the part before the separator, the separator itself, and the part after the separator . if the separator is not found, return a 3 tuple containing the string itself, followed by two empty strings. "
   ]
  },
  {
   "cell_type": "code",
   "execution_count": 9,
   "id": "4246a789",
   "metadata": {},
   "outputs": [
    {
     "data": {
      "text/plain": [
       "('https://www', '.', 'google.com/')"
      ]
     },
     "execution_count": 9,
     "metadata": {},
     "output_type": "execute_result"
    }
   ],
   "source": [
    "my_string = 'https://www.google.com/'\n",
    "my_string.partition('.')"
   ]
  },
  {
   "cell_type": "markdown",
   "id": "2d32bdbb",
   "metadata": {},
   "source": [
    "`str.replace(old, new[, count])`\n",
    "Return a copy of the string with all occurrences of substring `old` replaces by `new`. If the optional argument `count` is given, only the first `count` occurrences are replaced."
   ]
  },
  {
   "cell_type": "code",
   "execution_count": 10,
   "id": "1b46d703",
   "metadata": {},
   "outputs": [
    {
     "data": {
      "text/plain": [
       "'https://www.youtube.com/'"
      ]
     },
     "execution_count": 10,
     "metadata": {},
     "output_type": "execute_result"
    }
   ],
   "source": [
    "my_string = 'https://www.google.com/'\n",
    "\n",
    "my_string.replace('google', 'youtube')"
   ]
  },
  {
   "cell_type": "markdown",
   "id": "5aa1cff7",
   "metadata": {},
   "source": [
    "`str.split([sep])`\n",
    "Return a list of the words in the string, using `sep` as the delimiter string. if no `sep` is given, whitespace characters are used as the delimiter. Any number of consecutive whitespaces would indicate a split point, so `' '` would split the same way as `'  '`"
   ]
  },
  {
   "cell_type": "code",
   "execution_count": 14,
   "id": "0f493427",
   "metadata": {},
   "outputs": [
    {
     "data": {
      "text/plain": [
       "['Do', 'you', 'know', 'the', 'muffic', 'man?']"
      ]
     },
     "execution_count": 14,
     "metadata": {},
     "output_type": "execute_result"
    }
   ],
   "source": [
    "my_string = 'Do you know the muffic man?'\n",
    "\n",
    "my_string.split()"
   ]
  },
  {
   "cell_type": "markdown",
   "id": "b164f379",
   "metadata": {},
   "source": [
    "#### Regylar expression (Regex):\n",
    "- used to modify and process string data\n",
    "- Regex works by matching patterns in Python. It allows you to search for specific patterns of text within a string of text. Regex is used extensively in web scraping, text processing and cleaning, and data analysis.\n"
   ]
  },
  {
   "cell_type": "code",
   "execution_count": 16,
   "id": "be0e4ef8",
   "metadata": {},
   "outputs": [
    {
     "data": {
      "text/plain": [
       "<re.Match object; span=(18, 22), match='wall'>"
      ]
     },
     "execution_count": 16,
     "metadata": {},
     "output_type": "execute_result"
    }
   ],
   "source": [
    "import re \n",
    "\n",
    "my_string = 'Three sad tigers swallowed wheat in a wheat field'\n",
    "\n",
    "re.search('wall', my_string)\n"
   ]
  },
  {
   "cell_type": "code",
   "execution_count": 19,
   "id": "5c001ce6",
   "metadata": {},
   "outputs": [
    {
     "data": {
      "text/plain": [
       "<re.Match object; span=(6, 9), match='sad'>"
      ]
     },
     "execution_count": 19,
     "metadata": {},
     "output_type": "execute_result"
    }
   ],
   "source": [
    "import re\n",
    "\n",
    "my_string = 'Three sad tigers swallowed wheat bad in a wheat field mad'\n",
    "\n",
    "re.search('[bms]ad', my_string)"
   ]
  },
  {
   "cell_type": "markdown",
   "id": "9c70878f",
   "metadata": {},
   "source": [
    "## Module 4\n",
    "### Data Structures\n",
    "Collection of data values or objects that contain different data types\n",
    "\n",
    "### Data Type:\n",
    "Is an attribute that describes a piece of data based on its values, its programming language or the operations it can perform \n",
    "\n",
    "#### List\n",
    "A data structure that helps store and manipulate an ordered collection of items \n",
    "\n",
    "##### Sequence\n",
    "A positionally ordered collection of items\n",
    "\n",
    "##### Mutability\n",
    "The ability to change the internal state of a data structure.\n",
    "\n",
    "##### Immutability:\n",
    "A data structure or element's values can never be altered or updated.\n",
    "\n",
    "![List vs String](string_vs_list.png)\n",
    "\n"
   ]
  },
  {
   "cell_type": "code",
   "execution_count": 21,
   "id": "e726e728",
   "metadata": {},
   "outputs": [
    {
     "name": "stdout",
     "output_type": "stream",
     "text": [
      "cooking\n"
     ]
    }
   ],
   "source": [
    "x = ['Now', 'we', 'are', 'cooking', 'with', 7, 'ingredients!']\n",
    "print(x[3])"
   ]
  },
  {
   "cell_type": "code",
   "execution_count": 22,
   "id": "ee201731",
   "metadata": {},
   "outputs": [
    {
     "data": {
      "text/plain": [
       "['we', 'are']"
      ]
     },
     "execution_count": 22,
     "metadata": {},
     "output_type": "execute_result"
    }
   ],
   "source": [
    "x[1:3]"
   ]
  },
  {
   "cell_type": "code",
   "execution_count": 23,
   "id": "3a1625bf",
   "metadata": {},
   "outputs": [
    {
     "data": {
      "text/plain": [
       "['Now', 'we']"
      ]
     },
     "execution_count": 23,
     "metadata": {},
     "output_type": "execute_result"
    }
   ],
   "source": [
    "x[:2]"
   ]
  },
  {
   "cell_type": "code",
   "execution_count": 24,
   "id": "15683529",
   "metadata": {},
   "outputs": [
    {
     "data": {
      "text/plain": [
       "['are', 'cooking', 'with', 7, 'ingredients!']"
      ]
     },
     "execution_count": 24,
     "metadata": {},
     "output_type": "execute_result"
    }
   ],
   "source": [
    "x[2:]\n"
   ]
  },
  {
   "cell_type": "code",
   "execution_count": 25,
   "id": "cddefda2",
   "metadata": {},
   "outputs": [
    {
     "data": {
      "text/plain": [
       "False"
      ]
     },
     "execution_count": 25,
     "metadata": {},
     "output_type": "execute_result"
    }
   ],
   "source": [
    "'This' in x"
   ]
  },
  {
   "cell_type": "code",
   "execution_count": 26,
   "id": "d6141483",
   "metadata": {},
   "outputs": [
    {
     "data": {
      "text/plain": [
       "True"
      ]
     },
     "execution_count": 26,
     "metadata": {},
     "output_type": "execute_result"
    }
   ],
   "source": [
    "'are' in x"
   ]
  },
  {
   "cell_type": "markdown",
   "id": "8f1a8e72",
   "metadata": {},
   "source": [
    "##### Modifying Lists:\n",
    "\n",
    "**`append()`**\n",
    "Method that adds an element to the end of a list. \n",
    "\n"
   ]
  },
  {
   "cell_type": "code",
   "execution_count": 27,
   "id": "8c19c2b7",
   "metadata": {},
   "outputs": [
    {
     "name": "stdout",
     "output_type": "stream",
     "text": [
      "['pineapple', 'banana', 'apple', 'melon']\n"
     ]
    }
   ],
   "source": [
    "fruits = ['pineapple', 'banana', 'apple', 'melon']\n",
    "print(fruits)"
   ]
  },
  {
   "cell_type": "code",
   "execution_count": 28,
   "id": "2360135e",
   "metadata": {},
   "outputs": [
    {
     "name": "stdout",
     "output_type": "stream",
     "text": [
      "['pineapple', 'banana', 'apple', 'melon', 'kiwi']\n"
     ]
    }
   ],
   "source": [
    "fruits.append('kiwi')\n",
    "print(fruits)"
   ]
  },
  {
   "cell_type": "markdown",
   "id": "c045aa88",
   "metadata": {},
   "source": [
    "**`insert()`**\n",
    "Functrion that takes an index as the first parameter and an element as the second parameter, then insert the element into a list at the given index."
   ]
  },
  {
   "cell_type": "code",
   "execution_count": 29,
   "id": "bc584b9a",
   "metadata": {},
   "outputs": [
    {
     "name": "stdout",
     "output_type": "stream",
     "text": [
      "['pineapple', 'orange', 'banana', 'apple', 'melon', 'kiwi']\n"
     ]
    }
   ],
   "source": [
    "fruits.insert(1, 'orange')\n",
    "print(fruits)"
   ]
  },
  {
   "cell_type": "code",
   "execution_count": 33,
   "id": "0c9b1d62",
   "metadata": {},
   "outputs": [
    {
     "name": "stdout",
     "output_type": "stream",
     "text": [
      "['peanut', 'peanut', 'peanut', 'pineapple', 'orange', 'banana', 'apple', 'melon', 'kiwi']\n"
     ]
    }
   ],
   "source": [
    "# adding an element at the begining of the list \n",
    "fruits.insert(0 , 'peanut')\n",
    "print(fruits)"
   ]
  },
  {
   "cell_type": "markdown",
   "id": "20d98bf3",
   "metadata": {},
   "source": [
    "**`remove()`**\n",
    "A method that removes an element from a list \n",
    "\n"
   ]
  },
  {
   "cell_type": "code",
   "execution_count": 35,
   "id": "2928b935",
   "metadata": {},
   "outputs": [
    {
     "name": "stdout",
     "output_type": "stream",
     "text": [
      "['peanut', 'pineapple', 'orange', 'banana', 'apple', 'melon', 'kiwi']\n"
     ]
    }
   ],
   "source": [
    "fruits.remove('peanut')\n",
    "print(fruits)"
   ]
  },
  {
   "cell_type": "markdown",
   "id": "41332bf5",
   "metadata": {},
   "source": [
    "**`pop()`**\n",
    "A method that extracts an element from a list by removing it at a given index\n",
    "\n"
   ]
  },
  {
   "cell_type": "code",
   "execution_count": 36,
   "id": "145b14db",
   "metadata": {},
   "outputs": [
    {
     "name": "stdout",
     "output_type": "stream",
     "text": [
      "['peanut', 'pineapple', 'banana', 'apple', 'melon', 'kiwi']\n"
     ]
    }
   ],
   "source": [
    "fruits.pop(2)\n",
    "print(fruits)"
   ]
  },
  {
   "cell_type": "code",
   "execution_count": 38,
   "id": "43c4177d",
   "metadata": {},
   "outputs": [
    {
     "name": "stdout",
     "output_type": "stream",
     "text": [
      "['peanut', 'grape', 'banana', 'apple', 'melon', 'kiwi']\n"
     ]
    }
   ],
   "source": [
    "fruits[1] = 'grape'\n",
    "print(fruits)"
   ]
  },
  {
   "cell_type": "code",
   "execution_count": 39,
   "id": "d29766c2",
   "metadata": {},
   "outputs": [
    {
     "name": "stdout",
     "output_type": "stream",
     "text": [
      "['peanut', 'grape', 'mango', 'apple', 'melon', 'kiwi']\n"
     ]
    }
   ],
   "source": [
    "fruits[2] = 'mango'\n",
    "print(fruits)"
   ]
  },
  {
   "cell_type": "markdown",
   "id": "0d6a3899",
   "metadata": {},
   "source": [
    "Two ways to create a list \n",
    "- SQuare brackets: `[]`\n",
    "- The list function: `list()`\n"
   ]
  },
  {
   "cell_type": "code",
   "execution_count": null,
   "id": "524b3f2c",
   "metadata": {},
   "outputs": [
    {
     "name": "stdout",
     "output_type": "stream",
     "text": [
      "['olive', 'palm', 'coconut']\n"
     ]
    }
   ],
   "source": [
    "# Create list of strings\n",
    "list_a = ['olive', 'palm', 'coconut']\n",
    "print(list_a)\n"
   ]
  },
  {
   "cell_type": "code",
   "execution_count": 41,
   "id": "d3282ba4",
   "metadata": {},
   "outputs": [
    {
     "name": "stdout",
     "output_type": "stream",
     "text": [
      "[8, 6, 7, 5, 3, 0, 8]\n"
     ]
    }
   ],
   "source": [
    "# Create list of integers:\n",
    "list_b = [8, 6, 7, 5, 3, 0, 8]\n",
    "print(list_b)"
   ]
  },
  {
   "cell_type": "code",
   "execution_count": 42,
   "id": "75a4d80a",
   "metadata": {},
   "outputs": [
    {
     "name": "stdout",
     "output_type": "stream",
     "text": [
      "['Abidjan', 14.2, [1, 2, None], 'Zagreb']\n"
     ]
    }
   ],
   "source": [
    "#list of mixed data types\n",
    "list_c = ['Abidjan', 14.2, [1, 2, None], 'Zagreb']\n",
    "print(list_c)"
   ]
  },
  {
   "cell_type": "code",
   "execution_count": 43,
   "id": "a7d58b64",
   "metadata": {},
   "outputs": [],
   "source": [
    "# To create empty list\n",
    "empty_list_1 = []\n",
    "empty_list_2 = list()"
   ]
  },
  {
   "cell_type": "markdown",
   "id": "1c8d28c0",
   "metadata": {},
   "source": [
    "**Indexing and slicing**"
   ]
  },
  {
   "cell_type": "code",
   "execution_count": 44,
   "id": "dab98b44",
   "metadata": {},
   "outputs": [
    {
     "name": "stdout",
     "output_type": "stream",
     "text": [
      "inclinant\n"
     ]
    }
   ],
   "source": [
    "# use square brackets to index\n",
    "phrase = ['Astra', 'inclinant', 'sed', 'non', 'obligant']\n",
    "print(phrase[1])"
   ]
  },
  {
   "cell_type": "code",
   "execution_count": 45,
   "id": "56abba5c",
   "metadata": {},
   "outputs": [
    {
     "name": "stdout",
     "output_type": "stream",
     "text": [
      "obligant\n"
     ]
    }
   ],
   "source": [
    "# Using negative indices to access items from the end of a list \n",
    "\n",
    "phrase = ['Astra', 'inclinant', 'sed', 'non', 'obligant']\n",
    "print(phrase[-1])\n"
   ]
  },
  {
   "cell_type": "code",
   "execution_count": 46,
   "id": "8fe89683",
   "metadata": {},
   "outputs": [
    {
     "name": "stdout",
     "output_type": "stream",
     "text": [
      "['inclinant', 'sed', 'non']\n"
     ]
    }
   ],
   "source": [
    "# Use slicing to extract a sublist. TO SLICE , USE SQUARE BRACKETS CONTAINING A RANGE OF INDICES SEPARATED BY A COLON.\n",
    "\n",
    "pjrase = ['Astra', 'inclinant', 'sed', 'non', 'obligant']\n",
    "print(phrase[1:4])"
   ]
  },
  {
   "cell_type": "markdown",
   "id": "1f749a3f",
   "metadata": {},
   "source": [
    "- Omitting the starting index in a slice implies an index of zero, and omitting the ending index implies an index of `len(my_list)`"
   ]
  },
  {
   "cell_type": "code",
   "execution_count": 48,
   "id": "35adf215",
   "metadata": {},
   "outputs": [
    {
     "name": "stdout",
     "output_type": "stream",
     "text": [
      "['Astra', 'inclinant', 'sed']\n",
      "['non', 'obligant']\n"
     ]
    }
   ],
   "source": [
    "print(phrase[:3])\n",
    "print(phrase[3:])"
   ]
  },
  {
   "cell_type": "markdown",
   "id": "5f225ced",
   "metadata": {},
   "source": [
    "> List MUtability\n",
    "Lists are mutable, which means that one can change their contents after they are created. YOu can change an individual item in a list by specifying its index and assigning a new value to it "
   ]
  },
  {
   "cell_type": "code",
   "execution_count": 50,
   "id": "e4468571",
   "metadata": {},
   "outputs": [
    {
     "name": "stdout",
     "output_type": "stream",
     "text": [
      "['Macduff', 'Malcolm', 'Macbeth', 'Banquo']\n"
     ]
    }
   ],
   "source": [
    "my_list = ['Macduff', 'Malcolm', 'Duncan', 'Banquo']\n",
    "my_list[2] = 'Macbeth'\n",
    "print(my_list)"
   ]
  },
  {
   "cell_type": "code",
   "execution_count": 51,
   "id": "fb7bbe9e",
   "metadata": {},
   "outputs": [
    {
     "name": "stdout",
     "output_type": "stream",
     "text": [
      "['Macduff', 1, 2, 3, 4, 'Banquo']\n"
     ]
    }
   ],
   "source": [
    "# one can even change a slice of a list using the same logic. The slice can be of any length, the elements in the new list will be inserted in place of the indicated slice. \n",
    "my_list[1:3] = [1, 2, 3, 4]\n",
    "print(my_list)"
   ]
  },
  {
   "cell_type": "markdown",
   "id": "d2d67e50",
   "metadata": {},
   "source": [
    "> List operations "
   ]
  },
  {
   "cell_type": "code",
   "execution_count": 52,
   "id": "b00d85bd",
   "metadata": {},
   "outputs": [
    {
     "data": {
      "text/plain": [
       "[1, 2, 3, 'a', 'b', 'c']"
      ]
     },
     "execution_count": 52,
     "metadata": {},
     "output_type": "execute_result"
    }
   ],
   "source": [
    "# Lists can be combined using the addition operator (+):\n",
    "num_list = [1, 2, 3]\n",
    "char_list = ['a', 'b', 'c']\n",
    "num_list + char_list"
   ]
  },
  {
   "cell_type": "code",
   "execution_count": 53,
   "id": "30141c31",
   "metadata": {},
   "outputs": [
    {
     "data": {
      "text/plain": [
       "['a', 'b', 'c', 'a', 'b', 'c', 'a', 'b', 'c']"
      ]
     },
     "execution_count": 53,
     "metadata": {},
     "output_type": "execute_result"
    }
   ],
   "source": [
    "# List can also be multiplied using the multiplication operator (*):\n",
    "list_A = ['a', 'b', 'c']\n",
    "list_A * 3"
   ]
  },
  {
   "cell_type": "code",
   "execution_count": 54,
   "id": "6768f1fa",
   "metadata": {},
   "outputs": [
    {
     "name": "stdout",
     "output_type": "stream",
     "text": [
      "False\n",
      "True\n"
     ]
    }
   ],
   "source": [
    "# YOu can check whether a value is contained in a list by using the in operator:\n",
    "num_list = [2, 4, 6]\n",
    "print(5 in num_list)\n",
    "print(5 not in num_list)\n"
   ]
  },
  {
   "cell_type": "markdown",
   "id": "0be8ec6b",
   "metadata": {},
   "source": [
    "> List methods\n",
    "Lists are a core Python class. and they have a number of built in methods that are very useful."
   ]
  },
  {
   "cell_type": "code",
   "execution_count": 56,
   "id": "5cbbd390",
   "metadata": {},
   "outputs": [
    {
     "name": "stdout",
     "output_type": "stream",
     "text": [
      "[0, 1, 2, 3, 4, 5]\n"
     ]
    }
   ],
   "source": [
    "# append()\n",
    "my_list = [0, 1, 2, 3, 4]\n",
    "variable = 5\n",
    "my_list.append(variable)\n",
    "print(my_list)"
   ]
  },
  {
   "cell_type": "code",
   "execution_count": 57,
   "id": "c35a6f3f",
   "metadata": {},
   "outputs": [
    {
     "name": "stdout",
     "output_type": "stream",
     "text": [
      "['a', 'b', 'c', 'd']\n"
     ]
    }
   ],
   "source": [
    "# insert()\n",
    "my_list = ['a', 'b', 'd']\n",
    "my_list.insert(2, 'c')\n",
    "print(my_list)"
   ]
  },
  {
   "cell_type": "code",
   "execution_count": 59,
   "id": "55b43a68",
   "metadata": {},
   "outputs": [
    {
     "name": "stdout",
     "output_type": "stream",
     "text": [
      "['b', 'd', 'a']\n"
     ]
    }
   ],
   "source": [
    "# remove()\n",
    "# remove the first occurrence of an item:\n",
    "\n",
    "my_list = ['a', 'b', 'd', 'a']\n",
    "my_list.remove('a')\n",
    "print(my_list)\n"
   ]
  },
  {
   "cell_type": "code",
   "execution_count": 60,
   "id": "6b1f96fb",
   "metadata": {},
   "outputs": [
    {
     "name": "stdout",
     "output_type": "stream",
     "text": [
      "c\n",
      "['a', 'b']\n"
     ]
    }
   ],
   "source": [
    "#pop()\n",
    "# remove the item at the given position in the list, and return it. if no index is specified, pop() removes and returns the last item in the list:\n",
    "my_list = ['a', 'b', 'c']\n",
    "print(my_list.pop())\n",
    "print(my_list)"
   ]
  },
  {
   "cell_type": "code",
   "execution_count": 61,
   "id": "4e737f11",
   "metadata": {},
   "outputs": [
    {
     "name": "stdout",
     "output_type": "stream",
     "text": [
      "[]\n"
     ]
    }
   ],
   "source": [
    "# clear()\n",
    "# remove all items\n",
    "my_list = ['a', 'b', 'c']\n",
    "my_list.clear()\n",
    "print(my_list)"
   ]
  },
  {
   "cell_type": "code",
   "execution_count": 62,
   "id": "9a6f36ed",
   "metadata": {},
   "outputs": [
    {
     "data": {
      "text/plain": [
       "0"
      ]
     },
     "execution_count": 62,
     "metadata": {},
     "output_type": "execute_result"
    }
   ],
   "source": [
    "# index()\n",
    "# return the index of the first occurrence of an item in the list:\n",
    "my_list = ['a', 'b', 'c', 'a']\n",
    "my_list.index('a')"
   ]
  },
  {
   "cell_type": "code",
   "execution_count": 63,
   "id": "c161ff34",
   "metadata": {},
   "outputs": [
    {
     "data": {
      "text/plain": [
       "2"
      ]
     },
     "execution_count": 63,
     "metadata": {},
     "output_type": "execute_result"
    }
   ],
   "source": [
    "# count()\n",
    "# return number of times an item occurs in the list:\n",
    "my_list = ['a','b', 'c', 'a']\n",
    "my_list.count('a')"
   ]
  },
  {
   "cell_type": "code",
   "execution_count": 64,
   "id": "ee0535f8",
   "metadata": {},
   "outputs": [
    {
     "name": "stdout",
     "output_type": "stream",
     "text": [
      "['a', 'b', 'c']\n",
      "[3, 2, 1]\n"
     ]
    }
   ],
   "source": [
    "#sort()\n",
    "# orts are list ascending by default. YOu can also make a function to decide the sorting criteria:\n",
    "char_list = ['b', 'c', 'a']\n",
    "num_list = [2, 3, 1]\n",
    "char_list.sort()\n",
    "num_list.sort(reverse=True)\n",
    "print(char_list)\n",
    "print(num_list)"
   ]
  },
  {
   "cell_type": "markdown",
   "id": "5e7cec7c",
   "metadata": {},
   "source": [
    "### Tuple\n",
    "A immutable sequence that can contain elements of any data type. \n",
    "> Tuples are expressed with parentheses or the `tuple()` function. "
   ]
  },
  {
   "cell_type": "code",
   "execution_count": 65,
   "id": "96584eb0",
   "metadata": {},
   "outputs": [],
   "source": [
    "fullname = ('Adnan', 'J', 'Mujawar')"
   ]
  },
  {
   "cell_type": "code",
   "execution_count": 66,
   "id": "285babfe",
   "metadata": {},
   "outputs": [
    {
     "name": "stdout",
     "output_type": "stream",
     "text": [
      "('Adnan', 'J', 'Mujawar', 'Jr')\n"
     ]
    }
   ],
   "source": [
    "# value can be added to the end only if we reassign the tuple \n",
    "fullname = fullname + ('Jr',)\n",
    "print(fullname)"
   ]
  },
  {
   "cell_type": "code",
   "execution_count": 67,
   "id": "a06f03d8",
   "metadata": {},
   "outputs": [
    {
     "name": "stdout",
     "output_type": "stream",
     "text": [
      "('Adnan', 'J', 'Mujawar')\n"
     ]
    }
   ],
   "source": [
    " # tuple() function that transforms input into tuples. \n",
    "fullname = ['Adnan', 'J', 'Mujawar']\n",
    "fullname = tuple(fullname)\n",
    "print(fullname)\n",
    " "
   ]
  },
  {
   "cell_type": "code",
   "execution_count": 68,
   "id": "25c18acc",
   "metadata": {},
   "outputs": [],
   "source": [
    "# WHen a function returns more than 1 value it actually returns a tuple\n",
    "\n",
    "def to_dollars_cents(price):\n",
    "    '''\n",
    "    Split price (float) into dollars and cents.\n",
    "    '''\n",
    "    dollars = int(price // 1)\n",
    "    cents = round(price % 1 * 100)\n",
    "    \n",
    "    return dollars, cents"
   ]
  },
  {
   "cell_type": "code",
   "execution_count": 69,
   "id": "a7f8a04e",
   "metadata": {},
   "outputs": [
    {
     "data": {
      "text/plain": [
       "(6, 55)"
      ]
     },
     "execution_count": 69,
     "metadata": {},
     "output_type": "execute_result"
    }
   ],
   "source": [
    "to_dollars_cents(6.55)"
   ]
  },
  {
   "cell_type": "code",
   "execution_count": 70,
   "id": "9cb86a8b",
   "metadata": {},
   "outputs": [
    {
     "name": "stdout",
     "output_type": "stream",
     "text": [
      "9\n",
      "100\n"
     ]
    }
   ],
   "source": [
    "dollars, cents = to_dollars_cents(8.99)\n",
    "print(dollars + 1)\n",
    "print(cents + 1)"
   ]
  },
  {
   "cell_type": "code",
   "execution_count": null,
   "id": "2c0ecc33",
   "metadata": {},
   "outputs": [],
   "source": []
  }
 ],
 "metadata": {
  "kernelspec": {
   "display_name": "myenv",
   "language": "python",
   "name": "python3"
  },
  "language_info": {
   "codemirror_mode": {
    "name": "ipython",
    "version": 3
   },
   "file_extension": ".py",
   "mimetype": "text/x-python",
   "name": "python",
   "nbconvert_exporter": "python",
   "pygments_lexer": "ipython3",
   "version": "3.10.16"
  }
 },
 "nbformat": 4,
 "nbformat_minor": 5
}
