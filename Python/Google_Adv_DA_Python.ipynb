{
 "cells": [
  {
   "cell_type": "markdown",
   "id": "292ab113",
   "metadata": {},
   "source": [
    "#  Google Advanced Data Analysis"
   ]
  },
  {
   "cell_type": "code",
   "execution_count": 2,
   "id": "9162010b",
   "metadata": {},
   "outputs": [
    {
     "name": "stdout",
     "output_type": "stream",
     "text": [
      "Hello World!\n"
     ]
    }
   ],
   "source": [
    "print(\"Hello World!\")"
   ]
  },
  {
   "cell_type": "code",
   "execution_count": 3,
   "id": "ea1a7cb1",
   "metadata": {},
   "outputs": [
    {
     "name": "stdout",
     "output_type": "stream",
     "text": [
      "22\n"
     ]
    }
   ],
   "source": [
    "print(22)"
   ]
  },
  {
   "cell_type": "code",
   "execution_count": 4,
   "id": "78e94ece",
   "metadata": {},
   "outputs": [
    {
     "data": {
      "text/plain": [
       "16"
      ]
     },
     "execution_count": 4,
     "metadata": {},
     "output_type": "execute_result"
    }
   ],
   "source": [
    "(5 + 3) * 2"
   ]
  },
  {
   "cell_type": "code",
   "execution_count": 5,
   "id": "3543c16c",
   "metadata": {},
   "outputs": [
    {
     "data": {
      "text/plain": [
       "True"
      ]
     },
     "execution_count": 5,
     "metadata": {},
     "output_type": "execute_result"
    }
   ],
   "source": [
    "10**3 == 1000"
   ]
  },
  {
   "cell_type": "code",
   "execution_count": 6,
   "id": "f15c1927",
   "metadata": {},
   "outputs": [],
   "source": [
    "def is_adult(age):\n",
    "    if age >= 18:\n",
    "        print('adult')\n",
    "    else:\n",
    "        print('minor')\n",
    "        "
   ]
  },
  {
   "cell_type": "code",
   "execution_count": 7,
   "id": "7064ddbd",
   "metadata": {},
   "outputs": [
    {
     "name": "stdout",
     "output_type": "stream",
     "text": [
      "minor\n"
     ]
    }
   ],
   "source": [
    "is_adult(14)"
   ]
  },
  {
   "cell_type": "code",
   "execution_count": 8,
   "id": "bf781dad",
   "metadata": {},
   "outputs": [
    {
     "data": {
      "text/plain": [
       "[5, 10, 20, 25]"
      ]
     },
     "execution_count": 8,
     "metadata": {},
     "output_type": "execute_result"
    }
   ],
   "source": [
    "new_list = [20, 25, 10, 5]\n",
    "sorted(new_list)"
   ]
  },
  {
   "cell_type": "markdown",
   "id": "0b1c8daf",
   "metadata": {},
   "source": [
    "## Module 1\n",
    "## Object oriented programming\n",
    "A programming system that is based around objects, which can contain both data and code that manipulates that data. \n",
    "\n",
    "### Object \n",
    "An instance of a class; a fundamental building block of Python\n",
    "\n",
    "### Class\n",
    "A class is an object's data type that bundles data and functionality together\n",
    "\n"
   ]
  },
  {
   "cell_type": "code",
   "execution_count": 10,
   "id": "cd8b493b",
   "metadata": {},
   "outputs": [
    {
     "name": "stdout",
     "output_type": "stream",
     "text": [
      "<class 'str'>\n"
     ]
    }
   ],
   "source": [
    "magic = 'HOCUS POCUS'\n",
    "print(type(magic))"
   ]
  },
  {
   "cell_type": "code",
   "execution_count": 11,
   "id": "07d38153",
   "metadata": {},
   "outputs": [
    {
     "name": "stdout",
     "output_type": "stream",
     "text": [
      "hocus pocus\n"
     ]
    }
   ],
   "source": [
    "# swapping the case of parameters\n",
    "magic = magic.swapcase()\n",
    "print(magic)"
   ]
  },
  {
   "cell_type": "code",
   "execution_count": 12,
   "id": "523eb223",
   "metadata": {},
   "outputs": [
    {
     "data": {
      "text/plain": [
       "'hokey pokey'"
      ]
     },
     "execution_count": 12,
     "metadata": {},
     "output_type": "execute_result"
    }
   ],
   "source": [
    "# replacing the content of a string\n",
    "magic = magic.replace('cus', 'key')\n",
    "magic"
   ]
  },
  {
   "cell_type": "code",
   "execution_count": 13,
   "id": "ee9b09a5",
   "metadata": {},
   "outputs": [
    {
     "data": {
      "text/plain": [
       "['hokey', 'pokey']"
      ]
     },
     "execution_count": 13,
     "metadata": {},
     "output_type": "execute_result"
    }
   ],
   "source": [
    "# We can split the string into a list of words\n",
    "magic = magic.split()\n",
    "magic"
   ]
  },
  {
   "cell_type": "markdown",
   "id": "c3267890",
   "metadata": {},
   "source": [
    "### Method:\n",
    "A function thay belongs to a class and typically performs an action or operation\n",
    "\n",
    "#### Dot Notation:\n",
    "How to access the methods and attributes that belong to an instance of a class\n",
    "\n",
    "#### Core Python Classes \n",
    "- Integers \n",
    "- Floats \n",
    "- Strings\n",
    "- Booleans\n",
    "- Lists\n",
    "- Dictionaries\n",
    "- Tuples\n",
    "- Sets \n",
    "- Frozensets\n",
    "- Functions \n",
    "- Ranges\n",
    "- None\n",
    "\n",
    "### Attribute \n",
    "A value associated with an object or class which is referenced by name using dot notation. \n",
    "\n"
   ]
  },
  {
   "cell_type": "code",
   "execution_count": null,
   "id": "d7e3998a",
   "metadata": {},
   "outputs": [],
   "source": [
    "# shape attribute helps identify number of rows and columns in a data set\n",
    "planets.shape"
   ]
  },
  {
   "cell_type": "code",
   "execution_count": null,
   "id": "d746cd0d",
   "metadata": {},
   "outputs": [],
   "source": [
    "# columns attrivute helps identify the names of the columns in a data set\n",
    "planets.columns\n",
    "# We can access a specific column in a data set\n",
    "planets['name']\n",
    "# We can access a specific row in a data set"
   ]
  },
  {
   "cell_type": "code",
   "execution_count": 15,
   "id": "6f90d34b",
   "metadata": {},
   "outputs": [],
   "source": [
    "# building a class with methods and attributes\n",
    "class Spaceship:\n",
    "   # Class attribute\n",
    "   tractor_beam = 'off'\n",
    "\n",
    "   # Instance attributes\n",
    "   def __init__(self, name, kind):\n",
    "       self.name = name\n",
    "       self.kind = kind\n",
    "       self.speed = None\n",
    "\n",
    "  # Instance methods\n",
    "   def warp(self, warp):\n",
    "       self.speed = warp\n",
    "       print(f'Warp {warp}, engage!')\n",
    "\n",
    "   def tractor(self):\n",
    "       if self.tractor_beam == 'off':\n",
    "           self.tractor_beam = 'on'\n",
    "           print('Tractor beam on.')\n",
    "       else:\n",
    "           self.tractor_beam = 'off'\n",
    "           print('Tractor beam off')"
   ]
  },
  {
   "cell_type": "code",
   "execution_count": 16,
   "id": "a80e279c",
   "metadata": {},
   "outputs": [
    {
     "name": "stdout",
     "output_type": "stream",
     "text": [
      "Mockingbird\n",
      "rescue frigate\n",
      "off\n"
     ]
    }
   ],
   "source": [
    "# Create an instance of the Spaceship class (i.e. \"instantiate\")\n",
    "ship = Spaceship('Mockingbird','rescue frigate')\n",
    "\n",
    "# Check ship's name\n",
    "print(ship.name)\n",
    "\n",
    "# Check what kind of ship it is\n",
    "print(ship.kind)\n",
    "\n",
    "# Check tractor beam status\n",
    "print(ship.tractor_beam)"
   ]
  },
  {
   "cell_type": "code",
   "execution_count": 17,
   "id": "b526fb1a",
   "metadata": {},
   "outputs": [
    {
     "name": "stdout",
     "output_type": "stream",
     "text": [
      "Warp 7, engage!\n"
     ]
    },
    {
     "data": {
      "text/plain": [
       "7"
      ]
     },
     "execution_count": 17,
     "metadata": {},
     "output_type": "execute_result"
    }
   ],
   "source": [
    "# Set warp speed\n",
    "ship.warp(7)\n",
    "\n",
    "# Check speed\n",
    "ship.speed"
   ]
  },
  {
   "cell_type": "code",
   "execution_count": 18,
   "id": "91cc1794",
   "metadata": {},
   "outputs": [
    {
     "name": "stdout",
     "output_type": "stream",
     "text": [
      "Tractor beam on.\n",
      "on\n"
     ]
    }
   ],
   "source": [
    "# Toggle tractor beam\n",
    "ship.tractor()\n",
    "\n",
    "# Check tractor beam status\n",
    "print(ship.tractor_beam)"
   ]
  },
  {
   "cell_type": "markdown",
   "id": "fb96282a",
   "metadata": {},
   "source": [
    "## Variables\n",
    "- Represent data stored as strings, tuples, dictionaries, lists and objects\n",
    "- Vriables point to values. they're not the values themselves\n",
    "- Variables can store value of any data type\n",
    "\n",
    "### Data Type:\n",
    "An attribute that describes a piece of data based on its values, its programming language, or the operations it can perform \n",
    "\n",
    "### Assignment \n",
    "The process of storing a value in a variable \n",
    "\n",
    "### Expression \n",
    "A combination of numbers, symbols, or other variables that produce a result when evaluated \n",
    "\n",
    "### Dynamic Typing:\n",
    "Variables can point to objects of any data type."
   ]
  },
  {
   "cell_type": "code",
   "execution_count": 19,
   "id": "738521cc",
   "metadata": {},
   "outputs": [
    {
     "name": "stdout",
     "output_type": "stream",
     "text": [
      "Max age: 45, Min age: 18\n"
     ]
    }
   ],
   "source": [
    "age_list = [34, 25, 18, 45, 30]\n",
    "max_age = max(age_list)\n",
    "min_age = min(age_list)\n",
    "print(f'Max age: {max_age}, Min age: {min_age}')"
   ]
  },
  {
   "cell_type": "code",
   "execution_count": 20,
   "id": "8c59557c",
   "metadata": {},
   "outputs": [
    {
     "name": "stdout",
     "output_type": "stream",
     "text": [
      "Max age as string: 45, Min age as string: 18\n"
     ]
    }
   ],
   "source": [
    "# converting to string \n",
    "max_age_str = str(max_age)\n",
    "min_age_str = str(min_age)\n",
    "print(f'Max age as string: {max_age_str}, Min age as string: {min_age_str}')"
   ]
  },
  {
   "cell_type": "markdown",
   "id": "cb68e009",
   "metadata": {},
   "source": [
    "### Naming Conventions\n",
    "Consistent guidelines that describe the content, creation date, and version of a file in its name.\n",
    "\n",
    "### Naming restictions\n",
    "RUles built into the syntax of the language itself that must be followed.\n",
    "\n",
    "### Keyword:\n",
    "A special word that is reserved for a specific purpose and that can only be used for the purpose\n",
    "\n",
    "### Variable naming conventions\n",
    "- Don't use reserved keywords like `or`, `in`, `if`, `else`,`not`,`for`, `while`,`return`, etc.\n",
    "- Don't use reserved functions such as `print`, `str`, etc.\n",
    "\n",
    "### Naming restrictions for variables\n",
    "- only include letters, numbers, and underscores\n",
    "- must start with a letter or underscore \n",
    "- Case-sensitive\n",
    "- Cannot include parentheses\n",
    "\n",
    "> Example variable names \n",
    "\n",
    "      `any_a_variable` valid\n",
    "      `any_a_v_2` valid\n",
    "      `1_is_a_number` not valid\n",
    "      `Aple_&_oranges` not valid\n",
    "\n",
    "### Operators:\n",
    "SYmbols that perform operations on objects and values \n",
    "- `+` Addition\n",
    "- `-` Subtraction\n",
    "- `*` Multiplication\n",
    "- `/` Division\n",
    "- `**` Exponentiation\n",
    "- `%` Modulo\n",
    "- `//` Floor division\n",
    "- `>` Greater Than \n",
    "- `<` Less than \n",
    "- `==` Equality\n",
    "\n",
    "### Expression:\n",
    "A combination of numbers, symbols, and variables to compute and return a result upon evaluation\n",
    "\n",
    "### Function: \n",
    "A group of related statements to perform a task and return a value "
   ]
  },
  {
   "cell_type": "code",
   "execution_count": 21,
   "id": "3327877b",
   "metadata": {},
   "outputs": [
    {
     "data": {
      "text/plain": [
       "23.88888888888889"
      ]
     },
     "execution_count": 21,
     "metadata": {},
     "output_type": "execute_result"
    }
   ],
   "source": [
    "def to_celsius(x):\n",
    "   '''Convert Fahrenheit to Celsius'''\n",
    "   return (x-32) * 5/9\n",
    "\n",
    "to_celsius(75)"
   ]
  },
  {
   "cell_type": "markdown",
   "id": "1a123c08",
   "metadata": {},
   "source": [
    "### Conditional statements:\n",
    "Sections of code that direct program execution based on specified conditions"
   ]
  },
  {
   "cell_type": "code",
   "execution_count": 22,
   "id": "53b745ed",
   "metadata": {},
   "outputs": [
    {
     "name": "stdout",
     "output_type": "stream",
     "text": [
      "Number is negative.\n"
     ]
    }
   ],
   "source": [
    "number = -4\n",
    "\n",
    "if number > 0:\n",
    "   print('Number is positive.')\n",
    "elif number == 0:\n",
    "   print('Number is zero.')\n",
    "else:\n",
    "   print('Number is negative.')"
   ]
  },
  {
   "cell_type": "markdown",
   "id": "9cc521ee",
   "metadata": {},
   "source": [
    "## Data Types\n",
    "### String:\n",
    "A sequence of character and punctuation that contains textual information.\n",
    "#### Immutable data type \n",
    "A data type in which the values can never be altered or udated \n",
    "### Integer:\n",
    "A data type used to represent whole numbers without fractions\n",
    "### Float:\n",
    "A data type that represent numbers that contain decimals.\n"
   ]
  },
  {
   "cell_type": "code",
   "execution_count": null,
   "id": "15e3665f",
   "metadata": {},
   "outputs": [
    {
     "name": "stdout",
     "output_type": "stream",
     "text": [
      "8\n",
      "6.0\n",
      "5.5\n",
      "Hello World\n"
     ]
    }
   ],
   "source": [
    "# adding two integers\n",
    "print(3 + 5)\n",
    "# adding two floats\n",
    "print(3.5 + 2.5)\n",
    "# adding an integer and a float\n",
    "print(3 + 2.5)\n",
    "# adding two strings\n",
    "print('Hello ' + 'World')\n",
    "# you cant add a string and an integer"
   ]
  },
  {
   "cell_type": "markdown",
   "id": "45556f9a",
   "metadata": {},
   "source": [
    "> You can use the `type()` function to have the computer tell you the data type\n",
    "\n",
    "### Implicit conversion\n",
    "- Python automatically converts one data type to another without user involvement "
   ]
  },
  {
   "cell_type": "code",
   "execution_count": 24,
   "id": "94bee267",
   "metadata": {},
   "outputs": [
    {
     "name": "stdout",
     "output_type": "stream",
     "text": [
      "3.5\n"
     ]
    }
   ],
   "source": [
    "print(1 + 2.5)  # This will work, as Python will convert the integer to a float"
   ]
  },
  {
   "cell_type": "markdown",
   "id": "04ea2417",
   "metadata": {},
   "source": [
    "### Explicit conversion:\n",
    "- Users convert the data type of an object to a required data type\n",
    "- Also known as type casting. "
   ]
  },
  {
   "cell_type": "code",
   "execution_count": 25,
   "id": "13af5dc3",
   "metadata": {},
   "outputs": [
    {
     "name": "stdout",
     "output_type": "stream",
     "text": [
      "2 + 2 = 4\n"
     ]
    }
   ],
   "source": [
    "print('2 + 2 = ' + str(2 + 2))  # This will work, as we convert the integer result to a string"
   ]
  },
  {
   "cell_type": "markdown",
   "id": "d9f567dc",
   "metadata": {},
   "source": [
    "## Module 2\n",
    "\n",
    "### Functions:\n",
    "A body of reusable code for performing specific processes or tasks \n",
    "\n",
    "`def` A keyword that defines a function at the start of the function block \n",
    "\n"
   ]
  },
  {
   "cell_type": "code",
   "execution_count": 27,
   "id": "59ad0613",
   "metadata": {},
   "outputs": [],
   "source": [
    "def greeting(name):\n",
    "    print('Welcome, '+ name +'!')\n",
    "    print('You are part of the team!')\n",
    "    "
   ]
  },
  {
   "cell_type": "code",
   "execution_count": 28,
   "id": "3b23b247",
   "metadata": {},
   "outputs": [
    {
     "name": "stdout",
     "output_type": "stream",
     "text": [
      "Welcome, Rebecca!\n",
      "You are part of the team!\n"
     ]
    }
   ],
   "source": [
    "greeting('Rebecca')"
   ]
  },
  {
   "cell_type": "markdown",
   "id": "d9c59e3b",
   "metadata": {},
   "source": [
    "`return` A reserved keyword in Python that makes a function produce new results, which are saved for later use\n"
   ]
  },
  {
   "cell_type": "code",
   "execution_count": 30,
   "id": "b4c88c6a",
   "metadata": {},
   "outputs": [],
   "source": [
    "def area_triangle(base, height):\n",
    "    return base * height / 2"
   ]
  },
  {
   "cell_type": "code",
   "execution_count": 32,
   "id": "6cd3f8ba",
   "metadata": {},
   "outputs": [
    {
     "name": "stdout",
     "output_type": "stream",
     "text": [
      "The total area of the triangles is: 40.0\n"
     ]
    }
   ],
   "source": [
    "area_a = area_triangle(5,4)\n",
    "area_b = area_triangle(10, 6)\n",
    "\n",
    "total_area = area_b + area_a\n",
    "print(f'The total area of the triangles is: {total_area}')"
   ]
  },
  {
   "cell_type": "markdown",
   "id": "f15480d5",
   "metadata": {},
   "source": [
    "### Reusability:\n",
    "Defining code once and using it many times without having to rewrite it \n"
   ]
  },
  {
   "cell_type": "code",
   "execution_count": 33,
   "id": "0a0ac9a8",
   "metadata": {},
   "outputs": [],
   "source": [
    "def get_seconds(hours, minutes, seconds):\n",
    "    total_seconds = 3600*hours + 60*minutes + seconds\n",
    "    return total_seconds\n"
   ]
  },
  {
   "cell_type": "code",
   "execution_count": 36,
   "id": "9dda503b",
   "metadata": {},
   "outputs": [
    {
     "name": "stdout",
     "output_type": "stream",
     "text": [
      "Total_secondas: 60320\n"
     ]
    }
   ],
   "source": [
    "\n",
    "print(f'Total_secondas: {get_seconds(16,45,20)}')"
   ]
  },
  {
   "cell_type": "code",
   "execution_count": 38,
   "id": "408faf32",
   "metadata": {},
   "outputs": [
    {
     "name": "stdout",
     "output_type": "stream",
     "text": [
      "Hello Mujawar, Your lucky number is 63!\n"
     ]
    }
   ],
   "source": [
    "# This code writtens a length function which returns t he length of an object\n",
    "name = \"Mujawar\"\n",
    "number = len(name)*9\n",
    "print(\"Hello \" + name + \", Your lucky number is \" + str(number) + \"!\")\n"
   ]
  },
  {
   "cell_type": "code",
   "execution_count": 39,
   "id": "5b2ff9b6",
   "metadata": {},
   "outputs": [
    {
     "name": "stdout",
     "output_type": "stream",
     "text": [
      "Hello Adnan. Your lucky number is 45\n",
      "Hello Jakirhusen. Your lucky number is 90\n"
     ]
    }
   ],
   "source": [
    "def lucky_number(name):\n",
    "    number = len(name)*9\n",
    "    print(\"Hello \" + name + \". Your lucky number is \" + str(number))\n",
    "    \n",
    "lucky_number(\"Adnan\")\n",
    "lucky_number(\"Jakirhusen\")"
   ]
  },
  {
   "cell_type": "markdown",
   "id": "581b67d4",
   "metadata": {},
   "source": [
    "#### Modularity:\n",
    "The ability to write code in separate components that work together and that can be reused for other programs.\n",
    "\n",
    "#### Refactoring:\n",
    "The process of restructuring code while maintaining its original functionality.\n",
    "\n",
    "#### Self-documenting code:\n",
    "Code written in a way that is readable and makes its purpose clear.\n"
   ]
  },
  {
   "cell_type": "code",
   "execution_count": 40,
   "id": "3398cad0",
   "metadata": {},
   "outputs": [
    {
     "name": "stdout",
     "output_type": "stream",
     "text": [
      "120\n"
     ]
    }
   ],
   "source": [
    "# This function take an integer as an input and returns its factorial \n",
    "def factorial(n):\n",
    "    # Exclude 0 as product, start with 1\n",
    "    y = 1\n",
    "    for i in range(int(n)):\n",
    "        y = y * (i + 1)\n",
    "    return y\n",
    "\n",
    "# Enter a numerical value betweem 1-9 in the command line that appears\n",
    "input_num = input()\n",
    "# Apply factorial function to an integer input\n",
    "print(factorial(input_num))"
   ]
  },
  {
   "cell_type": "markdown",
   "id": "ce7dd3b9",
   "metadata": {},
   "source": [
    "### Comenting \n",
    "### Algorithm:\n",
    "A set of instruction for solving a problem or accomplushing a task.\n",
    "\n",
    "\n"
   ]
  },
  {
   "cell_type": "code",
   "execution_count": null,
   "id": "76e3532e",
   "metadata": {},
   "outputs": [],
   "source": [
    "def seed_calculation(fountain_side, grass_width):\n",
    "    ''' \n",
    "    Calculate the amount of seeds needed for a grass border around a square fountain.\n",
    "        Parameters:\n",
    "            fountain_side (num): The length of one side of the square fountain in meters.\n",
    "            grass_width (num): The width of the grass border around the fountain in meters.\n",
    "        Returns:\n",
    "            seed(float): amount of seed (kg) needed for grass border\n",
    "            '''\n",
    "    # Area of fountain\n",
    "    fountain_area = fountain_side**2\n",
    "    #Total area \n",
    "    total_area = (fountain_side + 2 * grass_width) ** 2\n",
    "    #Area of grass border \n",
    "    grass_area = total_area - fountain_area\n",
    "    # Amount of Seeds needed (35 g/sq.m)\n",
    "    seed = grass_area * 35\n",
    "    # Convert to kg \n",
    "    seed = seed/1000\n",
    "    \n",
    "    return seed\n",
    "    "
   ]
  },
  {
   "cell_type": "code",
   "execution_count": 43,
   "id": "eee2860d",
   "metadata": {},
   "outputs": [
    {
     "data": {
      "text/plain": [
       "3.92"
      ]
     },
     "execution_count": 43,
     "metadata": {},
     "output_type": "execute_result"
    }
   ],
   "source": [
    "seed_calculation(12, 2)"
   ]
  },
  {
   "cell_type": "markdown",
   "id": "87c02bc7",
   "metadata": {},
   "source": [
    "#### Docstring:\n",
    "A string at the beginning of a function's body that summarizes the function's behavior and explains its arguments and return values "
   ]
  },
  {
   "cell_type": "code",
   "execution_count": 45,
   "id": "9c9616bd",
   "metadata": {},
   "outputs": [
    {
     "name": "stdout",
     "output_type": "stream",
     "text": [
      "10\n"
     ]
    }
   ],
   "source": [
    "def my_function(parameters):\n",
    "    \"\"\"\n",
    "    Add two numbers\n",
    "    Parameters:\n",
    "        parameters (int): The number to be added to itself.\n",
    "    Returns:\n",
    "        int: The result of adding the number to itself.\n",
    "    \"\"\"\n",
    "    return parameters + parameters\n",
    "print(my_function(5))  # Output: 10"
   ]
  },
  {
   "cell_type": "code",
   "execution_count": 46,
   "id": "38dfed23",
   "metadata": {},
   "outputs": [
    {
     "data": {
      "text/plain": [
       "['The', 'Eagles', 'filled', 'the', 'sky.']"
      ]
     },
     "execution_count": 46,
     "metadata": {},
     "output_type": "execute_result"
    }
   ],
   "source": [
    "# Method Example\n",
    "my_string = 'The Eagles filled the sky.'\n",
    "my_string.split()"
   ]
  },
  {
   "cell_type": "code",
   "execution_count": 47,
   "id": "c38af546",
   "metadata": {},
   "outputs": [
    {
     "data": {
      "text/plain": [
       "9"
      ]
     },
     "execution_count": 47,
     "metadata": {},
     "output_type": "execute_result"
    }
   ],
   "source": [
    "# Function example\n",
    "sum([6, 3])\n",
    "9"
   ]
  },
  {
   "cell_type": "markdown",
   "id": "25cc8960",
   "metadata": {},
   "source": [
    "### Boolean:\n",
    "A data type that has only two possible values, usually true or false\n",
    "\n",
    "#### Comparators:\n",
    "OPerators that compare two values and produce boolean values (True/False)"
   ]
  },
  {
   "cell_type": "code",
   "execution_count": 48,
   "id": "7214d217",
   "metadata": {},
   "outputs": [
    {
     "name": "stdout",
     "output_type": "stream",
     "text": [
      "True\n"
     ]
    }
   ],
   "source": [
    "print(10>1)"
   ]
  },
  {
   "cell_type": "markdown",
   "id": "f5bef3ac",
   "metadata": {},
   "source": [
    "#### Python Comparators \n",
    "- Greater Than - `>`\n",
    "- Greater than equal to - `>=`\n",
    "- Less than - `<` \n",
    "- Less than or equal to - `<=`\n",
    "- Equal to - `==`\n",
    "- Not equal to - `!=`"
   ]
  },
  {
   "cell_type": "code",
   "execution_count": 49,
   "id": "6728e606",
   "metadata": {},
   "outputs": [
    {
     "name": "stdout",
     "output_type": "stream",
     "text": [
      "False\n",
      "True\n"
     ]
    }
   ],
   "source": [
    "print('cat' == 'dog')\n",
    "print(1 != 2)\n"
   ]
  },
  {
   "cell_type": "markdown",
   "id": "389eeb8d",
   "metadata": {},
   "source": [
    "### Logical operators:\n",
    "Operators that onnect multiple statements together and perform more complex comparisons.\n",
    "- `and`\n",
    "- `or`\n",
    "- `not`\n",
    "\n",
    "- The `and` operator needs both expressions to be true to return a True result \n",
    "- The `or` operator needs either of the expressions to be true to return a True result, and False only when both expressions are false\n",
    "- The `not` operator inverts the value of the expression that follows it "
   ]
  },
  {
   "cell_type": "code",
   "execution_count": 50,
   "id": "d1110623",
   "metadata": {},
   "outputs": [
    {
     "name": "stdout",
     "output_type": "stream",
     "text": [
      "False\n"
     ]
    }
   ],
   "source": [
    "print(\"Yellow\" > \"Cyan\" and \"Brown\" > \"Magenta\")"
   ]
  },
  {
   "cell_type": "code",
   "execution_count": 51,
   "id": "7a71fc40",
   "metadata": {},
   "outputs": [
    {
     "name": "stdout",
     "output_type": "stream",
     "text": [
      "True\n"
     ]
    }
   ],
   "source": [
    "print(25 > 50 or 1 != 2)"
   ]
  },
  {
   "cell_type": "code",
   "execution_count": 52,
   "id": "9ddfc15c",
   "metadata": {},
   "outputs": [
    {
     "name": "stdout",
     "output_type": "stream",
     "text": [
      "True\n"
     ]
    }
   ],
   "source": [
    "print(not 42 == \"Answer\")"
   ]
  },
  {
   "cell_type": "markdown",
   "id": "644bb379",
   "metadata": {},
   "source": [
    "### Branching \n",
    "The ability of a program to alter its execution sequence\n",
    "- `if`: A reserved keyword that sets up a condition in Python.\n",
    "- `else`: A reserved keyword that executes when preceding conditions evaluate as False.\n",
    "- `elif`: a reserved keyword that executes subsequent condition when the previous conditions when the prevous condition are not true \n",
    "#### Modulo: `%`\n",
    "An operator that returns the remainder when one number is divided by another\n"
   ]
  },
  {
   "cell_type": "code",
   "execution_count": 58,
   "id": "62862f6b",
   "metadata": {},
   "outputs": [],
   "source": [
    "def hit_username(username):\n",
    "    if len(username) < 0:\n",
    "        print('Invalid username, must be at least 8 character long.')\n",
    "    elif len(username) >15:\n",
    "        print('Invalid username, cannot be longer than 15 characters.')\n",
    "    else:\n",
    "        print('Valid username.')"
   ]
  },
  {
   "cell_type": "code",
   "execution_count": 56,
   "id": "3537b581",
   "metadata": {},
   "outputs": [],
   "source": [
    "def is_even(number):\n",
    "    if number % 2 == 0:\n",
    "        return True\n",
    "    return False"
   ]
  },
  {
   "cell_type": "code",
   "execution_count": 57,
   "id": "8693807a",
   "metadata": {},
   "outputs": [
    {
     "data": {
      "text/plain": [
       "False"
      ]
     },
     "execution_count": 57,
     "metadata": {},
     "output_type": "execute_result"
    }
   ],
   "source": [
    "is_even(13)"
   ]
  },
  {
   "cell_type": "markdown",
   "id": "01d91cfe",
   "metadata": {},
   "source": [
    "## Module 3\n",
    "### Loop:\n",
    "A block of code used to carry out iterations \n",
    "### Iteration:\n",
    "The repeated execution of a set of statements, where one iteration is the single execution of a block of code.\n",
    "### Iterable:\n",
    "AN object that's looped, or iterated over\n",
    "\n",
    "\n",
    "### `While` loop :\n",
    "A loop that instructs your computer to continuously execute your code based on the value of a condition."
   ]
  },
  {
   "cell_type": "code",
   "execution_count": 60,
   "id": "22f651cd",
   "metadata": {},
   "outputs": [
    {
     "name": "stdout",
     "output_type": "stream",
     "text": [
      "Not there yet, x = 0\n",
      "Not there yet, x = 1\n",
      "Not there yet, x = 2\n",
      "Not there yet, x = 3\n",
      "Not there yet, x = 4\n",
      "x = 5\n"
     ]
    }
   ],
   "source": [
    "x = 0\n",
    "while x < 5:\n",
    "    print('Not there yet, x = ' + str(x))\n",
    "    x = x + 1\n",
    "print('x = ' + str(x))"
   ]
  },
  {
   "cell_type": "markdown",
   "id": "f8885abb",
   "metadata": {},
   "source": [
    "> THe condition used by the while loop needs to evaluate to true or false"
   ]
  },
  {
   "cell_type": "code",
   "execution_count": 61,
   "id": "3ec05fde",
   "metadata": {},
   "outputs": [],
   "source": [
    "import random "
   ]
  },
  {
   "cell_type": "code",
   "execution_count": 64,
   "id": "2a71d8df",
   "metadata": {},
   "outputs": [
    {
     "name": "stdout",
     "output_type": "stream",
     "text": [
      "Guess a number between 1 and 25: \n",
      "Nope! Try again.\n",
      "Guess a number between 1 and 25: \n",
      "Nope! Try again.\n",
      "Guess a number between 1 and 25: \n",
      "Nope! Try again.\n",
      "Guess a number between 1 and 25: \n",
      "Nope! Try again.\n",
      "Guess a number between 1 and 25: \n",
      "you did not guess the number. The number was 22-\n"
     ]
    }
   ],
   "source": [
    "number = random.randint(1,25)\n",
    "number_of_guesses = 0 \n",
    "\n",
    "while number_of_guesses < 5:\n",
    "    print('Guess a number between 1 and 25: ')\n",
    "    guess = input()\n",
    "    guess = int(guess)\n",
    "    number_of_guesses += 1\n",
    "    \n",
    "    if guess == number:\n",
    "        break\n",
    "    elif number_of_guesses == 5:\n",
    "        break\n",
    "    else:\n",
    "        print('Nope! Try again.')\n",
    "        \n",
    "if guess == number:\n",
    "    print('Correct! You guessed the number in ' + str(number_of_guesses) + ' tries.')\n",
    "else:\n",
    "    print('you did not guess the number. The number was ' + str(number) +'-')"
   ]
  },
  {
   "cell_type": "markdown",
   "id": "3ca6c874",
   "metadata": {},
   "source": [
    "> `break` : A keyword that lets you escape a loop without triggering any ELSE statement that follows it in the loop "
   ]
  },
  {
   "cell_type": "code",
   "execution_count": null,
   "id": "57b81030",
   "metadata": {},
   "outputs": [],
   "source": []
  }
 ],
 "metadata": {
  "kernelspec": {
   "display_name": "myenv",
   "language": "python",
   "name": "python3"
  },
  "language_info": {
   "codemirror_mode": {
    "name": "ipython",
    "version": 3
   },
   "file_extension": ".py",
   "mimetype": "text/x-python",
   "name": "python",
   "nbconvert_exporter": "python",
   "pygments_lexer": "ipython3",
   "version": "3.10.16"
  }
 },
 "nbformat": 4,
 "nbformat_minor": 5
}
