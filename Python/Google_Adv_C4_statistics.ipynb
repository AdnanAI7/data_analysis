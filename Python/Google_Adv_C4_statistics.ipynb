{
 "cells": [
  {
   "cell_type": "markdown",
   "id": "0f363ed0",
   "metadata": {},
   "source": [
    "# Statistics\n",
    "## Descriptive Statistics \n",
    "### Measures of central tendency \n",
    "### Measures of dispersion \n",
    "### Measures of position"
   ]
  },
  {
   "cell_type": "code",
   "execution_count": 3,
   "id": "2e1bf180",
   "metadata": {},
   "outputs": [],
   "source": [
    "import numpy as np \n",
    "import pandas as pd \n",
    "import matplotlib.pyplot as plt\n",
    "import seaborn as sns"
   ]
  },
  {
   "cell_type": "code",
   "execution_count": 4,
   "id": "24070348",
   "metadata": {},
   "outputs": [],
   "source": [
    "education_districtwise = pd.read_csv('~/Desktop/data_analysis/DATA/Google_Data/education_districtwise.csv')"
   ]
  },
  {
   "cell_type": "code",
   "execution_count": 6,
   "id": "c18af7d1",
   "metadata": {},
   "outputs": [
    {
     "data": {
      "application/vnd.microsoft.datawrangler.viewer.v0+json": {
       "columns": [
        {
         "name": "index",
         "rawType": "int64",
         "type": "integer"
        },
        {
         "name": "DISTNAME",
         "rawType": "object",
         "type": "string"
        },
        {
         "name": "STATNAME",
         "rawType": "object",
         "type": "string"
        },
        {
         "name": "BLOCKS",
         "rawType": "int64",
         "type": "integer"
        },
        {
         "name": "VILLAGES",
         "rawType": "int64",
         "type": "integer"
        },
        {
         "name": "CLUSTERS",
         "rawType": "int64",
         "type": "integer"
        },
        {
         "name": "TOTPOPULAT",
         "rawType": "float64",
         "type": "float"
        },
        {
         "name": "OVERALL_LI",
         "rawType": "float64",
         "type": "float"
        }
       ],
       "ref": "9e78f9e2-d90f-48bc-9494-3391457fdb2f",
       "rows": [
        [
         "0",
         "DISTRICT32",
         "STATE1",
         "13",
         "391",
         "104",
         "875564.0",
         "66.92"
        ],
        [
         "1",
         "DISTRICT649",
         "STATE1",
         "18",
         "678",
         "144",
         "1015503.0",
         "66.93"
        ],
        [
         "2",
         "DISTRICT229",
         "STATE1",
         "8",
         "94",
         "65",
         "1269751.0",
         "71.21"
        ],
        [
         "3",
         "DISTRICT259",
         "STATE1",
         "13",
         "523",
         "104",
         "735753.0",
         "57.98"
        ],
        [
         "4",
         "DISTRICT486",
         "STATE1",
         "8",
         "359",
         "64",
         "570060.0",
         "65.0"
        ],
        [
         "5",
         "DISTRICT323",
         "STATE1",
         "12",
         "523",
         "96",
         "1070144.0",
         "64.32"
        ],
        [
         "6",
         "DISTRICT114",
         "STATE1",
         "6",
         "110",
         "49",
         "147104.0",
         "80.48"
        ],
        [
         "7",
         "DISTRICT438",
         "STATE1",
         "7",
         "134",
         "54",
         "143388.0",
         "74.49"
        ],
        [
         "8",
         "DISTRICT610",
         "STATE1",
         "10",
         "388",
         "80",
         "409576.0",
         "65.97"
        ],
        [
         "9",
         "DISTRICT476",
         "STATE1",
         "11",
         "361",
         "86",
         "555357.0",
         "69.9"
        ]
       ],
       "shape": {
        "columns": 7,
        "rows": 10
       }
      },
      "text/html": [
       "<div>\n",
       "<style scoped>\n",
       "    .dataframe tbody tr th:only-of-type {\n",
       "        vertical-align: middle;\n",
       "    }\n",
       "\n",
       "    .dataframe tbody tr th {\n",
       "        vertical-align: top;\n",
       "    }\n",
       "\n",
       "    .dataframe thead th {\n",
       "        text-align: right;\n",
       "    }\n",
       "</style>\n",
       "<table border=\"1\" class=\"dataframe\">\n",
       "  <thead>\n",
       "    <tr style=\"text-align: right;\">\n",
       "      <th></th>\n",
       "      <th>DISTNAME</th>\n",
       "      <th>STATNAME</th>\n",
       "      <th>BLOCKS</th>\n",
       "      <th>VILLAGES</th>\n",
       "      <th>CLUSTERS</th>\n",
       "      <th>TOTPOPULAT</th>\n",
       "      <th>OVERALL_LI</th>\n",
       "    </tr>\n",
       "  </thead>\n",
       "  <tbody>\n",
       "    <tr>\n",
       "      <th>0</th>\n",
       "      <td>DISTRICT32</td>\n",
       "      <td>STATE1</td>\n",
       "      <td>13</td>\n",
       "      <td>391</td>\n",
       "      <td>104</td>\n",
       "      <td>875564.0</td>\n",
       "      <td>66.92</td>\n",
       "    </tr>\n",
       "    <tr>\n",
       "      <th>1</th>\n",
       "      <td>DISTRICT649</td>\n",
       "      <td>STATE1</td>\n",
       "      <td>18</td>\n",
       "      <td>678</td>\n",
       "      <td>144</td>\n",
       "      <td>1015503.0</td>\n",
       "      <td>66.93</td>\n",
       "    </tr>\n",
       "    <tr>\n",
       "      <th>2</th>\n",
       "      <td>DISTRICT229</td>\n",
       "      <td>STATE1</td>\n",
       "      <td>8</td>\n",
       "      <td>94</td>\n",
       "      <td>65</td>\n",
       "      <td>1269751.0</td>\n",
       "      <td>71.21</td>\n",
       "    </tr>\n",
       "    <tr>\n",
       "      <th>3</th>\n",
       "      <td>DISTRICT259</td>\n",
       "      <td>STATE1</td>\n",
       "      <td>13</td>\n",
       "      <td>523</td>\n",
       "      <td>104</td>\n",
       "      <td>735753.0</td>\n",
       "      <td>57.98</td>\n",
       "    </tr>\n",
       "    <tr>\n",
       "      <th>4</th>\n",
       "      <td>DISTRICT486</td>\n",
       "      <td>STATE1</td>\n",
       "      <td>8</td>\n",
       "      <td>359</td>\n",
       "      <td>64</td>\n",
       "      <td>570060.0</td>\n",
       "      <td>65.00</td>\n",
       "    </tr>\n",
       "    <tr>\n",
       "      <th>5</th>\n",
       "      <td>DISTRICT323</td>\n",
       "      <td>STATE1</td>\n",
       "      <td>12</td>\n",
       "      <td>523</td>\n",
       "      <td>96</td>\n",
       "      <td>1070144.0</td>\n",
       "      <td>64.32</td>\n",
       "    </tr>\n",
       "    <tr>\n",
       "      <th>6</th>\n",
       "      <td>DISTRICT114</td>\n",
       "      <td>STATE1</td>\n",
       "      <td>6</td>\n",
       "      <td>110</td>\n",
       "      <td>49</td>\n",
       "      <td>147104.0</td>\n",
       "      <td>80.48</td>\n",
       "    </tr>\n",
       "    <tr>\n",
       "      <th>7</th>\n",
       "      <td>DISTRICT438</td>\n",
       "      <td>STATE1</td>\n",
       "      <td>7</td>\n",
       "      <td>134</td>\n",
       "      <td>54</td>\n",
       "      <td>143388.0</td>\n",
       "      <td>74.49</td>\n",
       "    </tr>\n",
       "    <tr>\n",
       "      <th>8</th>\n",
       "      <td>DISTRICT610</td>\n",
       "      <td>STATE1</td>\n",
       "      <td>10</td>\n",
       "      <td>388</td>\n",
       "      <td>80</td>\n",
       "      <td>409576.0</td>\n",
       "      <td>65.97</td>\n",
       "    </tr>\n",
       "    <tr>\n",
       "      <th>9</th>\n",
       "      <td>DISTRICT476</td>\n",
       "      <td>STATE1</td>\n",
       "      <td>11</td>\n",
       "      <td>361</td>\n",
       "      <td>86</td>\n",
       "      <td>555357.0</td>\n",
       "      <td>69.90</td>\n",
       "    </tr>\n",
       "  </tbody>\n",
       "</table>\n",
       "</div>"
      ],
      "text/plain": [
       "      DISTNAME STATNAME  BLOCKS  VILLAGES  CLUSTERS  TOTPOPULAT  OVERALL_LI\n",
       "0   DISTRICT32   STATE1      13       391       104    875564.0       66.92\n",
       "1  DISTRICT649   STATE1      18       678       144   1015503.0       66.93\n",
       "2  DISTRICT229   STATE1       8        94        65   1269751.0       71.21\n",
       "3  DISTRICT259   STATE1      13       523       104    735753.0       57.98\n",
       "4  DISTRICT486   STATE1       8       359        64    570060.0       65.00\n",
       "5  DISTRICT323   STATE1      12       523        96   1070144.0       64.32\n",
       "6  DISTRICT114   STATE1       6       110        49    147104.0       80.48\n",
       "7  DISTRICT438   STATE1       7       134        54    143388.0       74.49\n",
       "8  DISTRICT610   STATE1      10       388        80    409576.0       65.97\n",
       "9  DISTRICT476   STATE1      11       361        86    555357.0       69.90"
      ]
     },
     "execution_count": 6,
     "metadata": {},
     "output_type": "execute_result"
    }
   ],
   "source": [
    " education_districtwise.head(10)"
   ]
  },
  {
   "cell_type": "code",
   "execution_count": 7,
   "id": "d8b7da9a",
   "metadata": {},
   "outputs": [
    {
     "data": {
      "application/vnd.microsoft.datawrangler.viewer.v0+json": {
       "columns": [
        {
         "name": "index",
         "rawType": "object",
         "type": "string"
        },
        {
         "name": "OVERALL_LI",
         "rawType": "float64",
         "type": "float"
        }
       ],
       "ref": "f40943c0-5638-45c3-9f38-f3b67a475009",
       "rows": [
        [
         "count",
         "634.0"
        ],
        [
         "mean",
         "73.39518927444796"
        ],
        [
         "std",
         "10.098460413782469"
        ],
        [
         "min",
         "37.22"
        ],
        [
         "25%",
         "66.4375"
        ],
        [
         "50%",
         "73.49000000000001"
        ],
        [
         "75%",
         "80.815"
        ],
        [
         "max",
         "98.76"
        ]
       ],
       "shape": {
        "columns": 1,
        "rows": 8
       }
      },
      "text/plain": [
       "count    634.000000\n",
       "mean      73.395189\n",
       "std       10.098460\n",
       "min       37.220000\n",
       "25%       66.437500\n",
       "50%       73.490000\n",
       "75%       80.815000\n",
       "max       98.760000\n",
       "Name: OVERALL_LI, dtype: float64"
      ]
     },
     "execution_count": 7,
     "metadata": {},
     "output_type": "execute_result"
    }
   ],
   "source": [
    "education_districtwise['OVERALL_LI'].describe()"
   ]
  },
  {
   "cell_type": "code",
   "execution_count": 8,
   "id": "7e8b921a",
   "metadata": {},
   "outputs": [
    {
     "data": {
      "application/vnd.microsoft.datawrangler.viewer.v0+json": {
       "columns": [
        {
         "name": "index",
         "rawType": "object",
         "type": "string"
        },
        {
         "name": "STATNAME",
         "rawType": "object",
         "type": "unknown"
        }
       ],
       "ref": "86f5395e-935a-44c9-aa07-3b99fb9401b5",
       "rows": [
        [
         "count",
         "680"
        ],
        [
         "unique",
         "36"
        ],
        [
         "top",
         "STATE21"
        ],
        [
         "freq",
         "75"
        ]
       ],
       "shape": {
        "columns": 1,
        "rows": 4
       }
      },
      "text/plain": [
       "count         680\n",
       "unique         36\n",
       "top       STATE21\n",
       "freq           75\n",
       "Name: STATNAME, dtype: object"
      ]
     },
     "execution_count": 8,
     "metadata": {},
     "output_type": "execute_result"
    }
   ],
   "source": [
    "education_districtwise['STATNAME'].describe()"
   ]
  },
  {
   "cell_type": "code",
   "execution_count": 9,
   "id": "6c04a846",
   "metadata": {},
   "outputs": [
    {
     "data": {
      "text/plain": [
       "61.540000000000006"
      ]
     },
     "execution_count": 9,
     "metadata": {},
     "output_type": "execute_result"
    }
   ],
   "source": [
    "range_overall_li = education_districtwise['OVERALL_LI'].max() - education_districtwise['OVERALL_LI'].min()\n",
    "range_overall_li"
   ]
  },
  {
   "cell_type": "markdown",
   "id": "c0895d7c",
   "metadata": {},
   "source": [
    "# Probability Distributions\n",
    "## Scipy:\n",
    "SciPy is an open source software\n",
    "you can use for solving mathematical,\n",
    "scientific, engineering, and technical problems.\n",
    "It allows you to manipulate and visualize\n",
    "data with a wide range of Python commands\n",
    "\n",
    "## SciPy stats:\n",
    "SciPy stats is a module\n",
    "designed specifically for statistics. \n",
    "\n",
    "## Statsmodels:\n",
    "Statsmodels is a Python package\n",
    "that lets you explore data,\n",
    "work with statistical models,\n",
    "and perform statistical tests.\n",
    "It includes an extensive list of\n",
    "stats functions for different types of data\n",
    "\n"
   ]
  },
  {
   "cell_type": "code",
   "execution_count": 2,
   "id": "4ea4ffd8",
   "metadata": {},
   "outputs": [
    {
     "name": "stdout",
     "output_type": "stream",
     "text": [
      "Collecting statsmodels\n",
      "\u001b[33m  WARNING: Retrying (Retry(total=4, connect=None, read=None, redirect=None, status=None)) after connection broken by 'ReadTimeoutError(\"HTTPSConnectionPool(host='files.pythonhosted.org', port=443): Read timed out. (read timeout=15)\")': /packages/78/44/d72c634211797ed07dd8c63ced4ae11debd7a40b24ee80e79346a526194f/statsmodels-0.14.4-cp310-cp310-manylinux_2_17_x86_64.manylinux2014_x86_64.whl.metadata\u001b[0m\u001b[33m\n",
      "\u001b[0m  Downloading statsmodels-0.14.4-cp310-cp310-manylinux_2_17_x86_64.manylinux2014_x86_64.whl.metadata (9.2 kB)\n",
      "Requirement already satisfied: numpy<3,>=1.22.3 in /home/adnan/anaconda3/envs/myenv/lib/python3.10/site-packages (from statsmodels) (1.26.4)\n",
      "Requirement already satisfied: scipy!=1.9.2,>=1.8 in /home/adnan/.local/lib/python3.10/site-packages (from statsmodels) (1.13.1)\n",
      "Requirement already satisfied: pandas!=2.1.0,>=1.4 in /home/adnan/.local/lib/python3.10/site-packages (from statsmodels) (2.2.3)\n",
      "Collecting patsy>=0.5.6 (from statsmodels)\n",
      "  Downloading patsy-1.0.1-py2.py3-none-any.whl.metadata (3.3 kB)\n",
      "Requirement already satisfied: packaging>=21.3 in /home/adnan/.local/lib/python3.10/site-packages (from statsmodels) (24.1)\n",
      "Requirement already satisfied: python-dateutil>=2.8.2 in /home/adnan/.local/lib/python3.10/site-packages (from pandas!=2.1.0,>=1.4->statsmodels) (2.9.0.post0)\n",
      "Requirement already satisfied: pytz>=2020.1 in /home/adnan/anaconda3/envs/myenv/lib/python3.10/site-packages (from pandas!=2.1.0,>=1.4->statsmodels) (2024.1)\n",
      "Requirement already satisfied: tzdata>=2022.7 in /home/adnan/.local/lib/python3.10/site-packages (from pandas!=2.1.0,>=1.4->statsmodels) (2024.1)\n",
      "Requirement already satisfied: six>=1.5 in /home/adnan/anaconda3/envs/myenv/lib/python3.10/site-packages (from python-dateutil>=2.8.2->pandas!=2.1.0,>=1.4->statsmodels) (1.16.0)\n",
      "Downloading statsmodels-0.14.4-cp310-cp310-manylinux_2_17_x86_64.manylinux2014_x86_64.whl (10.8 MB)\n",
      "\u001b[2K   \u001b[90m━━━━━━━━━━━━━━━━━━━━━━━━━━━━━━━━━━━━━━━━\u001b[0m \u001b[32m10.8/10.8 MB\u001b[0m \u001b[31m412.3 kB/s\u001b[0m eta \u001b[36m0:00:00\u001b[0ma \u001b[36m0:00:01\u001b[0m\n",
      "\u001b[?25hDownloading patsy-1.0.1-py2.py3-none-any.whl (232 kB)\n",
      "Installing collected packages: patsy, statsmodels\n",
      "Successfully installed patsy-1.0.1 statsmodels-0.14.4\n",
      "Note: you may need to restart the kernel to use updated packages.\n"
     ]
    }
   ],
   "source": [
    "%pip install statsmodels"
   ]
  },
  {
   "cell_type": "code",
   "execution_count": 3,
   "id": "ef788ed2",
   "metadata": {},
   "outputs": [],
   "source": [
    "\n",
    "\n",
    "import numpy as np \n",
    "import pandas as pd\n",
    "import matplotlib.pyplot as plt\n",
    "from scipy import stats\n",
    "import statsmodels.api as sm"
   ]
  },
  {
   "cell_type": "code",
   "execution_count": null,
   "id": "cf320e9a",
   "metadata": {},
   "outputs": [],
   "source": [
    "education_districtwise = pd.read_csv('~/Desktop/data_analysis/DATA/Google_Data/education_districtwise.csv')\n",
    "education_districtwise = education_districtwise.dropna()\n",
    "#dropna() is used to remove missing values in data"
   ]
  },
  {
   "cell_type": "code",
   "execution_count": 6,
   "id": "8be2cd82",
   "metadata": {},
   "outputs": [
    {
     "data": {
      "text/plain": [
       "<Axes: >"
      ]
     },
     "execution_count": 6,
     "metadata": {},
     "output_type": "execute_result"
    },
    {
     "data": {
      "image/png": "[encoded data removed]",
      "text/plain": [
       "<Figure size 640x480 with 1 Axes>"
      ]
     },
     "metadata": {},
     "output_type": "display_data"
    }
   ],
   "source": [
    "# ploting a histogram \n",
    "education_districtwise['OVERALL_LI'].hist()"
   ]
  },
  {
   "cell_type": "markdown",
   "id": "73635933",
   "metadata": {},
   "source": [
    "### Empirical RUle \n",
    "- 68% of values fall within 1 standard deviation of the mean \n",
    "- 95% of values fall within 2 standard deviations of trhe mean \n",
    "- 99.7% of values fall within 3 standard deviations of the mean "
   ]
  },
  {
   "cell_type": "code",
   "execution_count": 7,
   "id": "30ca135b",
   "metadata": {},
   "outputs": [
    {
     "data": {
      "text/plain": [
       "73.39518927444796"
      ]
     },
     "execution_count": 7,
     "metadata": {},
     "output_type": "execute_result"
    }
   ],
   "source": [
    "# naming a variable to store the value of mean \n",
    "mean_overall_li = education_districtwise['OVERALL_LI'].mean()\n",
    "mean_overall_li"
   ]
  },
  {
   "cell_type": "code",
   "execution_count": 8,
   "id": "666e0589",
   "metadata": {},
   "outputs": [
    {
     "data": {
      "text/plain": [
       "10.098460413782469"
      ]
     },
     "execution_count": 8,
     "metadata": {},
     "output_type": "execute_result"
    }
   ],
   "source": [
    "# naming a variable to stroe the value of standard deviation \n",
    "std_overall_li = education_districtwise['OVERALL_LI'].std()\n",
    "std_overall_li"
   ]
  },
  {
   "cell_type": "markdown",
   "id": "5cddcc1e",
   "metadata": {},
   "source": [
    "> 1 standard devation below the mean \n",
    "- Mean - (1 * standard deviation)\n",
    "- 73 - (1 * 10) = 63\n",
    "\n",
    "> 1 standard deviation above the mean \n",
    "- Mean + 1 * standard deviation \n",
    "- 73 + (1 * 10) = 83\n"
   ]
  },
  {
   "cell_type": "code",
   "execution_count": null,
   "id": "731a03c2",
   "metadata": {},
   "outputs": [
    {
     "data": {
      "text/plain": [
       "0.6640378548895899"
      ]
     },
     "execution_count": 9,
     "metadata": {},
     "output_type": "execute_result"
    }
   ],
   "source": [
    "# Computing the actual percentage of district literacy rates that fall within one standard deviation of the mean. \n",
    "# naming two new variable \n",
    "upper_limit = mean_overall_li + 1 * std_overall_li\n",
    "lower_limit = mean_overall_li - 1 * std_overall_li\n",
    "# finding the relation betwen upper and lower limit\n",
    "((education_districtwise['OVERALL_LI'] >= lower_limit) & (education_districtwise['OVERALL_LI'] <= upper_limit)).mean()"
   ]
  },
  {
   "cell_type": "code",
   "execution_count": 11,
   "id": "a063f5dd",
   "metadata": {},
   "outputs": [
    {
     "data": {
      "text/plain": [
       "0.9542586750788643"
      ]
     },
     "execution_count": 11,
     "metadata": {},
     "output_type": "execute_result"
    }
   ],
   "source": [
    "# finding the same for 2 stadard deviationof the mean \n",
    "upper_limit = mean_overall_li + 2 * std_overall_li\n",
    "lower_limit = mean_overall_li - 2 * std_overall_li\n",
    "# finding the relation betwen upper and lower limit\n",
    "((education_districtwise['OVERALL_LI'] >= lower_limit) & (education_districtwise['OVERALL_LI'] <= upper_limit)).mean()"
   ]
  },
  {
   "cell_type": "code",
   "execution_count": 12,
   "id": "07509a30",
   "metadata": {},
   "outputs": [
    {
     "data": {
      "text/plain": [
       "0.9968454258675079"
      ]
     },
     "execution_count": 12,
     "metadata": {},
     "output_type": "execute_result"
    }
   ],
   "source": [
    "# finding the same for 3 stadard deviationof the mean \n",
    "upper_limit = mean_overall_li + 3 * std_overall_li\n",
    "lower_limit = mean_overall_li - 3 * std_overall_li\n",
    "# finding the relation betwen upper and lower limit\n",
    "((education_districtwise['OVERALL_LI'] >= lower_limit) & (education_districtwise['OVERALL_LI'] <= upper_limit)).mean()"
   ]
  },
  {
   "cell_type": "markdown",
   "id": "8260946e",
   "metadata": {},
   "source": [
    "![prob](prob.png)"
   ]
  },
  {
   "cell_type": "markdown",
   "id": "1591560a",
   "metadata": {},
   "source": [
    "    **Hence the data is normally distributed**"
   ]
  },
  {
   "cell_type": "markdown",
   "id": "9dac758c",
   "metadata": {},
   "source": [
    "Calculating the Z scores:\n",
    "## Z- score:\n",
    "A measure of how many standard deviations below or above the population mean a data point is "
   ]
  },
  {
   "cell_type": "code",
   "execution_count": 13,
   "id": "a0be831d",
   "metadata": {},
   "outputs": [],
   "source": [
    "# finding outliers in the data \n",
    "education_districtwise['Z_SCORE'] = stats.zscore(education_districtwise['OVERALL_LI'])"
   ]
  },
  {
   "cell_type": "code",
   "execution_count": 14,
   "id": "1895d7da",
   "metadata": {},
   "outputs": [
    {
     "data": {
      "application/vnd.microsoft.datawrangler.viewer.v0+json": {
       "columns": [
        {
         "name": "index",
         "rawType": "int64",
         "type": "integer"
        },
        {
         "name": "DISTNAME",
         "rawType": "object",
         "type": "string"
        },
        {
         "name": "STATNAME",
         "rawType": "object",
         "type": "string"
        },
        {
         "name": "BLOCKS",
         "rawType": "int64",
         "type": "integer"
        },
        {
         "name": "VILLAGES",
         "rawType": "int64",
         "type": "integer"
        },
        {
         "name": "CLUSTERS",
         "rawType": "int64",
         "type": "integer"
        },
        {
         "name": "TOTPOPULAT",
         "rawType": "float64",
         "type": "float"
        },
        {
         "name": "OVERALL_LI",
         "rawType": "float64",
         "type": "float"
        },
        {
         "name": "Z_SCORE",
         "rawType": "float64",
         "type": "float"
        }
       ],
       "ref": "8b508810-35d7-48cf-bb86-e6d17ff236a0",
       "rows": [
        [
         "434",
         "DISTRICT461",
         "STATE31",
         "4",
         "360",
         "53",
         "532791.0",
         "42.67",
         "-3.044964077566697"
        ],
        [
         "494",
         "DISTRICT429",
         "STATE22",
         "6",
         "612",
         "62",
         "728677.0",
         "37.22",
         "-3.585076428852991"
        ]
       ],
       "shape": {
        "columns": 8,
        "rows": 2
       }
      },
      "text/html": [
       "<div>\n",
       "<style scoped>\n",
       "    .dataframe tbody tr th:only-of-type {\n",
       "        vertical-align: middle;\n",
       "    }\n",
       "\n",
       "    .dataframe tbody tr th {\n",
       "        vertical-align: top;\n",
       "    }\n",
       "\n",
       "    .dataframe thead th {\n",
       "        text-align: right;\n",
       "    }\n",
       "</style>\n",
       "<table border=\"1\" class=\"dataframe\">\n",
       "  <thead>\n",
       "    <tr style=\"text-align: right;\">\n",
       "      <th></th>\n",
       "      <th>DISTNAME</th>\n",
       "      <th>STATNAME</th>\n",
       "      <th>BLOCKS</th>\n",
       "      <th>VILLAGES</th>\n",
       "      <th>CLUSTERS</th>\n",
       "      <th>TOTPOPULAT</th>\n",
       "      <th>OVERALL_LI</th>\n",
       "      <th>Z_SCORE</th>\n",
       "    </tr>\n",
       "  </thead>\n",
       "  <tbody>\n",
       "    <tr>\n",
       "      <th>434</th>\n",
       "      <td>DISTRICT461</td>\n",
       "      <td>STATE31</td>\n",
       "      <td>4</td>\n",
       "      <td>360</td>\n",
       "      <td>53</td>\n",
       "      <td>532791.0</td>\n",
       "      <td>42.67</td>\n",
       "      <td>-3.044964</td>\n",
       "    </tr>\n",
       "    <tr>\n",
       "      <th>494</th>\n",
       "      <td>DISTRICT429</td>\n",
       "      <td>STATE22</td>\n",
       "      <td>6</td>\n",
       "      <td>612</td>\n",
       "      <td>62</td>\n",
       "      <td>728677.0</td>\n",
       "      <td>37.22</td>\n",
       "      <td>-3.585076</td>\n",
       "    </tr>\n",
       "  </tbody>\n",
       "</table>\n",
       "</div>"
      ],
      "text/plain": [
       "        DISTNAME STATNAME  BLOCKS  VILLAGES  CLUSTERS  TOTPOPULAT  OVERALL_LI  \\\n",
       "434  DISTRICT461  STATE31       4       360        53    532791.0       42.67   \n",
       "494  DISTRICT429  STATE22       6       612        62    728677.0       37.22   \n",
       "\n",
       "      Z_SCORE  \n",
       "434 -3.044964  \n",
       "494 -3.585076  "
      ]
     },
     "execution_count": 14,
     "metadata": {},
     "output_type": "execute_result"
    }
   ],
   "source": [
    "# Identify the outliers which are greater than or less than the 3 standard deviation from the mean \n",
    "education_districtwise[(education_districtwise['Z_SCORE'] > 3) | (education_districtwise['Z_SCORE'] < -3)]"
   ]
  },
  {
   "cell_type": "markdown",
   "id": "cd354825",
   "metadata": {},
   "source": []
  },
  {
   "cell_type": "markdown",
   "id": "819a522c",
   "metadata": {},
   "source": [
    "# Sampling\n",
    "## Random Sampling\n",
    "> Taking only a random sample of 50 districts \n"
   ]
  },
  {
   "cell_type": "code",
   "execution_count": 15,
   "id": "733d6d3c",
   "metadata": {},
   "outputs": [],
   "source": [
    "import numpy as np \n",
    "import pandas as pd \n",
    "import matplotlib.pyplot as plt\n",
    "from scipy import stats\n",
    "import statsmodels.api as sm"
   ]
  },
  {
   "cell_type": "code",
   "execution_count": 16,
   "id": "6c4aacb3",
   "metadata": {},
   "outputs": [],
   "source": [
    "education_districtwise = pd.read_csv('~/Desktop/data_analysis/DATA/Google_Data/education_districtwise.csv')"
   ]
  },
  {
   "cell_type": "markdown",
   "id": "81a7e9a5",
   "metadata": {},
   "source": [
    "using `sample()` function from pandas \n",
    "**`.sample(n, replace, random_state)`**\n",
    "- `n` = the desired sample size \n",
    "- `replace` indicates whether you are sampling with or without replacement. \n",
    "- `random_state` refers to the seed of the random number \n",
    "\n",
    "### Sampling with replacement :\n",
    " When a population element can be selected more than one time \n",
    "\n",
    "### Sampling without replacement:\n",
    "WHen a population element can be selected only one time. \n",
    "\n",
    "### Random seed:\n",
    "A starting point for generating random numbers "
   ]
  },
  {
   "cell_type": "code",
   "execution_count": 19,
   "id": "03ae5808",
   "metadata": {},
   "outputs": [
    {
     "data": {
      "application/vnd.microsoft.datawrangler.viewer.v0+json": {
       "columns": [
        {
         "name": "index",
         "rawType": "int64",
         "type": "integer"
        },
        {
         "name": "DISTNAME",
         "rawType": "object",
         "type": "string"
        },
        {
         "name": "STATNAME",
         "rawType": "object",
         "type": "string"
        },
        {
         "name": "BLOCKS",
         "rawType": "int64",
         "type": "integer"
        },
        {
         "name": "VILLAGES",
         "rawType": "int64",
         "type": "integer"
        },
        {
         "name": "CLUSTERS",
         "rawType": "int64",
         "type": "integer"
        },
        {
         "name": "TOTPOPULAT",
         "rawType": "float64",
         "type": "float"
        },
        {
         "name": "OVERALL_LI",
         "rawType": "float64",
         "type": "float"
        }
       ],
       "ref": "f020ee94-a131-433b-848d-c05d94b33935",
       "rows": [
        [
         "615",
         "DISTRICT606",
         "STATE20",
         "6",
         "782",
         "96",
         null,
         null
        ],
        [
         "210",
         "DISTRICT618",
         "STATE28",
         "5",
         "183",
         "34",
         "656916.0",
         "56.0"
        ],
        [
         "348",
         "DISTRICT255",
         "STATE34",
         "10",
         "920",
         "78",
         "1670931.0",
         "73.86"
        ],
        [
         "248",
         "DISTRICT63",
         "STATE18",
         "8",
         "230",
         "32",
         "146742.0",
         "82.06"
        ],
        [
         "276",
         "DISTRICT57",
         "STATE27",
         "6",
         "121",
         "6",
         "270063.0",
         "85.58"
        ],
        [
         "350",
         "DISTRICT254",
         "STATE34",
         "33",
         "3142",
         "286",
         "7102430.0",
         "67.53"
        ],
        [
         "252",
         "DISTRICT194",
         "STATE3",
         "8",
         "271",
         "24",
         "78413.0",
         "62.48"
        ],
        [
         "10",
         "DISTRICT412",
         "STATE1",
         "11",
         "187",
         "95",
         "476820.0",
         "68.69"
        ],
        [
         "478",
         "DISTRICT155",
         "STATE22",
         "5",
         "1116",
         "58",
         "1311008.0",
         "71.11"
        ],
        [
         "638",
         "DISTRICT609",
         "STATE6",
         "18",
         "1470",
         "167",
         "2468965.0",
         "74.72"
        ],
        [
         "142",
         "DISTRICT570",
         "STATE21",
         "4",
         "399",
         "37",
         "1674714.0",
         "82.2"
        ],
        [
         "307",
         "DISTRICT8",
         "STATE4",
         "3",
         "518",
         "41",
         "317618.0",
         "75.51"
        ],
        [
         "221",
         "DISTRICT501",
         "STATE28",
         "16",
         "1828",
         "258",
         "4778610.0",
         "65.68"
        ],
        [
         "84",
         "DISTRICT326",
         "STATE25",
         "5",
         "256",
         "45",
         "956907.0",
         "80.83"
        ],
        [
         "403",
         "DISTRICT529",
         "STATE24",
         "11",
         "1220",
         "134",
         "1271703.0",
         "78.96"
        ],
        [
         "254",
         "DISTRICT458",
         "STATE3",
         "3",
         "157",
         "19",
         "82839.0",
         "76.33"
        ],
        [
         "271",
         "DISTRICT680",
         "STATE27",
         "5",
         "126",
         "14",
         "196801.0",
         "73.7"
        ],
        [
         "256",
         "DISTRICT448",
         "STATE3",
         "10",
         "230",
         "17",
         "112272.0",
         "67.62"
        ],
        [
         "247",
         "DISTRICT602",
         "STATE18",
         "7",
         "250",
         "33",
         "136299.0",
         "78.69"
        ],
        [
         "291",
         "DISTRICT361",
         "STATE12",
         "3",
         "45",
         "11",
         "83054.0",
         "94.54"
        ],
        [
         "338",
         "DISTRICT659",
         "STATE33",
         "6",
         "995",
         "112",
         "1217002.0",
         "79.72"
        ],
        [
         "163",
         "DISTRICT366",
         "STATE21",
         "9",
         "1330",
         "86",
         "1579160.0",
         "79.99"
        ],
        [
         "524",
         "DISTRICT179",
         "STATE9",
         "4",
         "195",
         "40",
         null,
         null
        ],
        [
         "369",
         "DISTRICT512",
         "STATE23",
         "6",
         "589",
         "30",
         "717169.0",
         "68.35"
        ],
        [
         "428",
         "DISTRICT641",
         "STATE31",
         "3",
         "567",
         "61",
         "3343079.0",
         "79.69"
        ],
        [
         "365",
         "DISTRICT656",
         "STATE23",
         "19",
         "794",
         "78",
         "1322387.0",
         "62.18"
        ],
        [
         "548",
         "DISTRICT283",
         "STATE17",
         "5",
         "765",
         "68",
         "1178973.0",
         "76.04"
        ],
        [
         "638",
         "DISTRICT609",
         "STATE6",
         "18",
         "1470",
         "167",
         "2468965.0",
         "74.72"
        ],
        [
         "325",
         "DISTRICT1",
         "STATE33",
         "4",
         "534",
         "98",
         "957853.0",
         "69.37"
        ],
        [
         "498",
         "DISTRICT443",
         "STATE9",
         "14",
         "1377",
         "282",
         "3116045.0",
         "66.39"
        ],
        [
         "426",
         "DISTRICT284",
         "STATE31",
         "4",
         "932",
         "90",
         "822239.0",
         "61.95"
        ],
        [
         "669",
         "DISTRICT206",
         "STATE11",
         "3",
         "76",
         "13",
         "105539.0",
         "84.25"
        ],
        [
         "621",
         "DISTRICT592",
         "STATE5",
         "3",
         "50",
         "38",
         "816558.0",
         "89.32"
        ],
        [
         "368",
         "DISTRICT531",
         "STATE23",
         "16",
         "1063",
         "114",
         "1734005.0",
         "70.48"
        ],
        [
         "292",
         "DISTRICT289",
         "STATE12",
         "11",
         "183",
         "51",
         "404054.0",
         "98.5"
        ],
        [
         "207",
         "DISTRICT258",
         "STATE21",
         "6",
         "342",
         "53",
         null,
         null
        ],
        [
         "95",
         "DISTRICT90",
         "STATE2",
         "7",
         "29",
         "7",
         "133713.0",
         "89.38"
        ],
        [
         "76",
         "DISTRICT282",
         "STATE25",
         "6",
         "201",
         "43",
         "1202811.0",
         "77.46"
        ],
        [
         "372",
         "DISTRICT342",
         "STATE23",
         "9",
         "1381",
         "120",
         "1311382.0",
         "57.68"
        ],
        [
         "182",
         "DISTRICT670",
         "STATE21",
         "15",
         "1594",
         "142",
         "3478257.0",
         "51.1"
        ],
        [
         "145",
         "DISTRICT244",
         "STATE21",
         "9",
         "996",
         "76",
         "1565678.0",
         "73.1"
        ],
        [
         "501",
         "DISTRICT54",
         "STATE9",
         "8",
         "684",
         "167",
         "2427346.0",
         "76.6"
        ],
        [
         "103",
         "DISTRICT186",
         "STATE13",
         "7",
         "1053",
         "289",
         "2041172.0",
         "67.46"
        ],
        [
         "248",
         "DISTRICT63",
         "STATE18",
         "8",
         "230",
         "32",
         "146742.0",
         "82.06"
        ],
        [
         "107",
         "DISTRICT630",
         "STATE13",
         "5",
         "825",
         "222",
         "1207293.0",
         "70.14"
        ],
        [
         "566",
         "DISTRICT24",
         "STATE17",
         "13",
         "1298",
         "190",
         "3874015.0",
         "82.9"
        ],
        [
         "53",
         "DISTRICT126",
         "STATE26",
         "3",
         "197",
         "21",
         "596294.0",
         "68.9"
        ],
        [
         "79",
         "DISTRICT447",
         "STATE25",
         "6",
         "284",
         "60",
         "941522.0",
         "69.13"
        ],
        [
         "482",
         "DISTRICT119",
         "STATE22",
         "7",
         "1014",
         "54",
         "1240975.0",
         "76.52"
        ],
        [
         "595",
         "DISTRICT268",
         "STATE20",
         "7",
         "878",
         "131",
         "1946905.0",
         "76.3"
        ]
       ],
       "shape": {
        "columns": 7,
        "rows": 50
       }
      },
      "text/html": [
       "<div>\n",
       "<style scoped>\n",
       "    .dataframe tbody tr th:only-of-type {\n",
       "        vertical-align: middle;\n",
       "    }\n",
       "\n",
       "    .dataframe tbody tr th {\n",
       "        vertical-align: top;\n",
       "    }\n",
       "\n",
       "    .dataframe thead th {\n",
       "        text-align: right;\n",
       "    }\n",
       "</style>\n",
       "<table border=\"1\" class=\"dataframe\">\n",
       "  <thead>\n",
       "    <tr style=\"text-align: right;\">\n",
       "      <th></th>\n",
       "      <th>DISTNAME</th>\n",
       "      <th>STATNAME</th>\n",
       "      <th>BLOCKS</th>\n",
       "      <th>VILLAGES</th>\n",
       "      <th>CLUSTERS</th>\n",
       "      <th>TOTPOPULAT</th>\n",
       "      <th>OVERALL_LI</th>\n",
       "    </tr>\n",
       "  </thead>\n",
       "  <tbody>\n",
       "    <tr>\n",
       "      <th>615</th>\n",
       "      <td>DISTRICT606</td>\n",
       "      <td>STATE20</td>\n",
       "      <td>6</td>\n",
       "      <td>782</td>\n",
       "      <td>96</td>\n",
       "      <td>NaN</td>\n",
       "      <td>NaN</td>\n",
       "    </tr>\n",
       "    <tr>\n",
       "      <th>210</th>\n",
       "      <td>DISTRICT618</td>\n",
       "      <td>STATE28</td>\n",
       "      <td>5</td>\n",
       "      <td>183</td>\n",
       "      <td>34</td>\n",
       "      <td>656916.0</td>\n",
       "      <td>56.00</td>\n",
       "    </tr>\n",
       "    <tr>\n",
       "      <th>348</th>\n",
       "      <td>DISTRICT255</td>\n",
       "      <td>STATE34</td>\n",
       "      <td>10</td>\n",
       "      <td>920</td>\n",
       "      <td>78</td>\n",
       "      <td>1670931.0</td>\n",
       "      <td>73.86</td>\n",
       "    </tr>\n",
       "    <tr>\n",
       "      <th>248</th>\n",
       "      <td>DISTRICT63</td>\n",
       "      <td>STATE18</td>\n",
       "      <td>8</td>\n",
       "      <td>230</td>\n",
       "      <td>32</td>\n",
       "      <td>146742.0</td>\n",
       "      <td>82.06</td>\n",
       "    </tr>\n",
       "    <tr>\n",
       "      <th>276</th>\n",
       "      <td>DISTRICT57</td>\n",
       "      <td>STATE27</td>\n",
       "      <td>6</td>\n",
       "      <td>121</td>\n",
       "      <td>6</td>\n",
       "      <td>270063.0</td>\n",
       "      <td>85.58</td>\n",
       "    </tr>\n",
       "    <tr>\n",
       "      <th>350</th>\n",
       "      <td>DISTRICT254</td>\n",
       "      <td>STATE34</td>\n",
       "      <td>33</td>\n",
       "      <td>3142</td>\n",
       "      <td>286</td>\n",
       "      <td>7102430.0</td>\n",
       "      <td>67.53</td>\n",
       "    </tr>\n",
       "    <tr>\n",
       "      <th>252</th>\n",
       "      <td>DISTRICT194</td>\n",
       "      <td>STATE3</td>\n",
       "      <td>8</td>\n",
       "      <td>271</td>\n",
       "      <td>24</td>\n",
       "      <td>78413.0</td>\n",
       "      <td>62.48</td>\n",
       "    </tr>\n",
       "    <tr>\n",
       "      <th>10</th>\n",
       "      <td>DISTRICT412</td>\n",
       "      <td>STATE1</td>\n",
       "      <td>11</td>\n",
       "      <td>187</td>\n",
       "      <td>95</td>\n",
       "      <td>476820.0</td>\n",
       "      <td>68.69</td>\n",
       "    </tr>\n",
       "    <tr>\n",
       "      <th>478</th>\n",
       "      <td>DISTRICT155</td>\n",
       "      <td>STATE22</td>\n",
       "      <td>5</td>\n",
       "      <td>1116</td>\n",
       "      <td>58</td>\n",
       "      <td>1311008.0</td>\n",
       "      <td>71.11</td>\n",
       "    </tr>\n",
       "    <tr>\n",
       "      <th>638</th>\n",
       "      <td>DISTRICT609</td>\n",
       "      <td>STATE6</td>\n",
       "      <td>18</td>\n",
       "      <td>1470</td>\n",
       "      <td>167</td>\n",
       "      <td>2468965.0</td>\n",
       "      <td>74.72</td>\n",
       "    </tr>\n",
       "    <tr>\n",
       "      <th>142</th>\n",
       "      <td>DISTRICT570</td>\n",
       "      <td>STATE21</td>\n",
       "      <td>4</td>\n",
       "      <td>399</td>\n",
       "      <td>37</td>\n",
       "      <td>1674714.0</td>\n",
       "      <td>82.20</td>\n",
       "    </tr>\n",
       "    <tr>\n",
       "      <th>307</th>\n",
       "      <td>DISTRICT8</td>\n",
       "      <td>STATE4</td>\n",
       "      <td>3</td>\n",
       "      <td>518</td>\n",
       "      <td>41</td>\n",
       "      <td>317618.0</td>\n",
       "      <td>75.51</td>\n",
       "    </tr>\n",
       "    <tr>\n",
       "      <th>221</th>\n",
       "      <td>DISTRICT501</td>\n",
       "      <td>STATE28</td>\n",
       "      <td>16</td>\n",
       "      <td>1828</td>\n",
       "      <td>258</td>\n",
       "      <td>4778610.0</td>\n",
       "      <td>65.68</td>\n",
       "    </tr>\n",
       "    <tr>\n",
       "      <th>84</th>\n",
       "      <td>DISTRICT326</td>\n",
       "      <td>STATE25</td>\n",
       "      <td>5</td>\n",
       "      <td>256</td>\n",
       "      <td>45</td>\n",
       "      <td>956907.0</td>\n",
       "      <td>80.83</td>\n",
       "    </tr>\n",
       "    <tr>\n",
       "      <th>403</th>\n",
       "      <td>DISTRICT529</td>\n",
       "      <td>STATE24</td>\n",
       "      <td>11</td>\n",
       "      <td>1220</td>\n",
       "      <td>134</td>\n",
       "      <td>1271703.0</td>\n",
       "      <td>78.96</td>\n",
       "    </tr>\n",
       "    <tr>\n",
       "      <th>254</th>\n",
       "      <td>DISTRICT458</td>\n",
       "      <td>STATE3</td>\n",
       "      <td>3</td>\n",
       "      <td>157</td>\n",
       "      <td>19</td>\n",
       "      <td>82839.0</td>\n",
       "      <td>76.33</td>\n",
       "    </tr>\n",
       "    <tr>\n",
       "      <th>271</th>\n",
       "      <td>DISTRICT680</td>\n",
       "      <td>STATE27</td>\n",
       "      <td>5</td>\n",
       "      <td>126</td>\n",
       "      <td>14</td>\n",
       "      <td>196801.0</td>\n",
       "      <td>73.70</td>\n",
       "    </tr>\n",
       "    <tr>\n",
       "      <th>256</th>\n",
       "      <td>DISTRICT448</td>\n",
       "      <td>STATE3</td>\n",
       "      <td>10</td>\n",
       "      <td>230</td>\n",
       "      <td>17</td>\n",
       "      <td>112272.0</td>\n",
       "      <td>67.62</td>\n",
       "    </tr>\n",
       "    <tr>\n",
       "      <th>247</th>\n",
       "      <td>DISTRICT602</td>\n",
       "      <td>STATE18</td>\n",
       "      <td>7</td>\n",
       "      <td>250</td>\n",
       "      <td>33</td>\n",
       "      <td>136299.0</td>\n",
       "      <td>78.69</td>\n",
       "    </tr>\n",
       "    <tr>\n",
       "      <th>291</th>\n",
       "      <td>DISTRICT361</td>\n",
       "      <td>STATE12</td>\n",
       "      <td>3</td>\n",
       "      <td>45</td>\n",
       "      <td>11</td>\n",
       "      <td>83054.0</td>\n",
       "      <td>94.54</td>\n",
       "    </tr>\n",
       "    <tr>\n",
       "      <th>338</th>\n",
       "      <td>DISTRICT659</td>\n",
       "      <td>STATE33</td>\n",
       "      <td>6</td>\n",
       "      <td>995</td>\n",
       "      <td>112</td>\n",
       "      <td>1217002.0</td>\n",
       "      <td>79.72</td>\n",
       "    </tr>\n",
       "    <tr>\n",
       "      <th>163</th>\n",
       "      <td>DISTRICT366</td>\n",
       "      <td>STATE21</td>\n",
       "      <td>9</td>\n",
       "      <td>1330</td>\n",
       "      <td>86</td>\n",
       "      <td>1579160.0</td>\n",
       "      <td>79.99</td>\n",
       "    </tr>\n",
       "    <tr>\n",
       "      <th>524</th>\n",
       "      <td>DISTRICT179</td>\n",
       "      <td>STATE9</td>\n",
       "      <td>4</td>\n",
       "      <td>195</td>\n",
       "      <td>40</td>\n",
       "      <td>NaN</td>\n",
       "      <td>NaN</td>\n",
       "    </tr>\n",
       "    <tr>\n",
       "      <th>369</th>\n",
       "      <td>DISTRICT512</td>\n",
       "      <td>STATE23</td>\n",
       "      <td>6</td>\n",
       "      <td>589</td>\n",
       "      <td>30</td>\n",
       "      <td>717169.0</td>\n",
       "      <td>68.35</td>\n",
       "    </tr>\n",
       "    <tr>\n",
       "      <th>428</th>\n",
       "      <td>DISTRICT641</td>\n",
       "      <td>STATE31</td>\n",
       "      <td>3</td>\n",
       "      <td>567</td>\n",
       "      <td>61</td>\n",
       "      <td>3343079.0</td>\n",
       "      <td>79.69</td>\n",
       "    </tr>\n",
       "    <tr>\n",
       "      <th>365</th>\n",
       "      <td>DISTRICT656</td>\n",
       "      <td>STATE23</td>\n",
       "      <td>19</td>\n",
       "      <td>794</td>\n",
       "      <td>78</td>\n",
       "      <td>1322387.0</td>\n",
       "      <td>62.18</td>\n",
       "    </tr>\n",
       "    <tr>\n",
       "      <th>548</th>\n",
       "      <td>DISTRICT283</td>\n",
       "      <td>STATE17</td>\n",
       "      <td>5</td>\n",
       "      <td>765</td>\n",
       "      <td>68</td>\n",
       "      <td>1178973.0</td>\n",
       "      <td>76.04</td>\n",
       "    </tr>\n",
       "    <tr>\n",
       "      <th>638</th>\n",
       "      <td>DISTRICT609</td>\n",
       "      <td>STATE6</td>\n",
       "      <td>18</td>\n",
       "      <td>1470</td>\n",
       "      <td>167</td>\n",
       "      <td>2468965.0</td>\n",
       "      <td>74.72</td>\n",
       "    </tr>\n",
       "    <tr>\n",
       "      <th>325</th>\n",
       "      <td>DISTRICT1</td>\n",
       "      <td>STATE33</td>\n",
       "      <td>4</td>\n",
       "      <td>534</td>\n",
       "      <td>98</td>\n",
       "      <td>957853.0</td>\n",
       "      <td>69.37</td>\n",
       "    </tr>\n",
       "    <tr>\n",
       "      <th>498</th>\n",
       "      <td>DISTRICT443</td>\n",
       "      <td>STATE9</td>\n",
       "      <td>14</td>\n",
       "      <td>1377</td>\n",
       "      <td>282</td>\n",
       "      <td>3116045.0</td>\n",
       "      <td>66.39</td>\n",
       "    </tr>\n",
       "    <tr>\n",
       "      <th>426</th>\n",
       "      <td>DISTRICT284</td>\n",
       "      <td>STATE31</td>\n",
       "      <td>4</td>\n",
       "      <td>932</td>\n",
       "      <td>90</td>\n",
       "      <td>822239.0</td>\n",
       "      <td>61.95</td>\n",
       "    </tr>\n",
       "    <tr>\n",
       "      <th>669</th>\n",
       "      <td>DISTRICT206</td>\n",
       "      <td>STATE11</td>\n",
       "      <td>3</td>\n",
       "      <td>76</td>\n",
       "      <td>13</td>\n",
       "      <td>105539.0</td>\n",
       "      <td>84.25</td>\n",
       "    </tr>\n",
       "    <tr>\n",
       "      <th>621</th>\n",
       "      <td>DISTRICT592</td>\n",
       "      <td>STATE5</td>\n",
       "      <td>3</td>\n",
       "      <td>50</td>\n",
       "      <td>38</td>\n",
       "      <td>816558.0</td>\n",
       "      <td>89.32</td>\n",
       "    </tr>\n",
       "    <tr>\n",
       "      <th>368</th>\n",
       "      <td>DISTRICT531</td>\n",
       "      <td>STATE23</td>\n",
       "      <td>16</td>\n",
       "      <td>1063</td>\n",
       "      <td>114</td>\n",
       "      <td>1734005.0</td>\n",
       "      <td>70.48</td>\n",
       "    </tr>\n",
       "    <tr>\n",
       "      <th>292</th>\n",
       "      <td>DISTRICT289</td>\n",
       "      <td>STATE12</td>\n",
       "      <td>11</td>\n",
       "      <td>183</td>\n",
       "      <td>51</td>\n",
       "      <td>404054.0</td>\n",
       "      <td>98.50</td>\n",
       "    </tr>\n",
       "    <tr>\n",
       "      <th>207</th>\n",
       "      <td>DISTRICT258</td>\n",
       "      <td>STATE21</td>\n",
       "      <td>6</td>\n",
       "      <td>342</td>\n",
       "      <td>53</td>\n",
       "      <td>NaN</td>\n",
       "      <td>NaN</td>\n",
       "    </tr>\n",
       "    <tr>\n",
       "      <th>95</th>\n",
       "      <td>DISTRICT90</td>\n",
       "      <td>STATE2</td>\n",
       "      <td>7</td>\n",
       "      <td>29</td>\n",
       "      <td>7</td>\n",
       "      <td>133713.0</td>\n",
       "      <td>89.38</td>\n",
       "    </tr>\n",
       "    <tr>\n",
       "      <th>76</th>\n",
       "      <td>DISTRICT282</td>\n",
       "      <td>STATE25</td>\n",
       "      <td>6</td>\n",
       "      <td>201</td>\n",
       "      <td>43</td>\n",
       "      <td>1202811.0</td>\n",
       "      <td>77.46</td>\n",
       "    </tr>\n",
       "    <tr>\n",
       "      <th>372</th>\n",
       "      <td>DISTRICT342</td>\n",
       "      <td>STATE23</td>\n",
       "      <td>9</td>\n",
       "      <td>1381</td>\n",
       "      <td>120</td>\n",
       "      <td>1311382.0</td>\n",
       "      <td>57.68</td>\n",
       "    </tr>\n",
       "    <tr>\n",
       "      <th>182</th>\n",
       "      <td>DISTRICT670</td>\n",
       "      <td>STATE21</td>\n",
       "      <td>15</td>\n",
       "      <td>1594</td>\n",
       "      <td>142</td>\n",
       "      <td>3478257.0</td>\n",
       "      <td>51.10</td>\n",
       "    </tr>\n",
       "    <tr>\n",
       "      <th>145</th>\n",
       "      <td>DISTRICT244</td>\n",
       "      <td>STATE21</td>\n",
       "      <td>9</td>\n",
       "      <td>996</td>\n",
       "      <td>76</td>\n",
       "      <td>1565678.0</td>\n",
       "      <td>73.10</td>\n",
       "    </tr>\n",
       "    <tr>\n",
       "      <th>501</th>\n",
       "      <td>DISTRICT54</td>\n",
       "      <td>STATE9</td>\n",
       "      <td>8</td>\n",
       "      <td>684</td>\n",
       "      <td>167</td>\n",
       "      <td>2427346.0</td>\n",
       "      <td>76.60</td>\n",
       "    </tr>\n",
       "    <tr>\n",
       "      <th>103</th>\n",
       "      <td>DISTRICT186</td>\n",
       "      <td>STATE13</td>\n",
       "      <td>7</td>\n",
       "      <td>1053</td>\n",
       "      <td>289</td>\n",
       "      <td>2041172.0</td>\n",
       "      <td>67.46</td>\n",
       "    </tr>\n",
       "    <tr>\n",
       "      <th>248</th>\n",
       "      <td>DISTRICT63</td>\n",
       "      <td>STATE18</td>\n",
       "      <td>8</td>\n",
       "      <td>230</td>\n",
       "      <td>32</td>\n",
       "      <td>146742.0</td>\n",
       "      <td>82.06</td>\n",
       "    </tr>\n",
       "    <tr>\n",
       "      <th>107</th>\n",
       "      <td>DISTRICT630</td>\n",
       "      <td>STATE13</td>\n",
       "      <td>5</td>\n",
       "      <td>825</td>\n",
       "      <td>222</td>\n",
       "      <td>1207293.0</td>\n",
       "      <td>70.14</td>\n",
       "    </tr>\n",
       "    <tr>\n",
       "      <th>566</th>\n",
       "      <td>DISTRICT24</td>\n",
       "      <td>STATE17</td>\n",
       "      <td>13</td>\n",
       "      <td>1298</td>\n",
       "      <td>190</td>\n",
       "      <td>3874015.0</td>\n",
       "      <td>82.90</td>\n",
       "    </tr>\n",
       "    <tr>\n",
       "      <th>53</th>\n",
       "      <td>DISTRICT126</td>\n",
       "      <td>STATE26</td>\n",
       "      <td>3</td>\n",
       "      <td>197</td>\n",
       "      <td>21</td>\n",
       "      <td>596294.0</td>\n",
       "      <td>68.90</td>\n",
       "    </tr>\n",
       "    <tr>\n",
       "      <th>79</th>\n",
       "      <td>DISTRICT447</td>\n",
       "      <td>STATE25</td>\n",
       "      <td>6</td>\n",
       "      <td>284</td>\n",
       "      <td>60</td>\n",
       "      <td>941522.0</td>\n",
       "      <td>69.13</td>\n",
       "    </tr>\n",
       "    <tr>\n",
       "      <th>482</th>\n",
       "      <td>DISTRICT119</td>\n",
       "      <td>STATE22</td>\n",
       "      <td>7</td>\n",
       "      <td>1014</td>\n",
       "      <td>54</td>\n",
       "      <td>1240975.0</td>\n",
       "      <td>76.52</td>\n",
       "    </tr>\n",
       "    <tr>\n",
       "      <th>595</th>\n",
       "      <td>DISTRICT268</td>\n",
       "      <td>STATE20</td>\n",
       "      <td>7</td>\n",
       "      <td>878</td>\n",
       "      <td>131</td>\n",
       "      <td>1946905.0</td>\n",
       "      <td>76.30</td>\n",
       "    </tr>\n",
       "  </tbody>\n",
       "</table>\n",
       "</div>"
      ],
      "text/plain": [
       "        DISTNAME STATNAME  BLOCKS  VILLAGES  CLUSTERS  TOTPOPULAT  OVERALL_LI\n",
       "615  DISTRICT606  STATE20       6       782        96         NaN         NaN\n",
       "210  DISTRICT618  STATE28       5       183        34    656916.0       56.00\n",
       "348  DISTRICT255  STATE34      10       920        78   1670931.0       73.86\n",
       "248   DISTRICT63  STATE18       8       230        32    146742.0       82.06\n",
       "276   DISTRICT57  STATE27       6       121         6    270063.0       85.58\n",
       "350  DISTRICT254  STATE34      33      3142       286   7102430.0       67.53\n",
       "252  DISTRICT194   STATE3       8       271        24     78413.0       62.48\n",
       "10   DISTRICT412   STATE1      11       187        95    476820.0       68.69\n",
       "478  DISTRICT155  STATE22       5      1116        58   1311008.0       71.11\n",
       "638  DISTRICT609   STATE6      18      1470       167   2468965.0       74.72\n",
       "142  DISTRICT570  STATE21       4       399        37   1674714.0       82.20\n",
       "307    DISTRICT8   STATE4       3       518        41    317618.0       75.51\n",
       "221  DISTRICT501  STATE28      16      1828       258   4778610.0       65.68\n",
       "84   DISTRICT326  STATE25       5       256        45    956907.0       80.83\n",
       "403  DISTRICT529  STATE24      11      1220       134   1271703.0       78.96\n",
       "254  DISTRICT458   STATE3       3       157        19     82839.0       76.33\n",
       "271  DISTRICT680  STATE27       5       126        14    196801.0       73.70\n",
       "256  DISTRICT448   STATE3      10       230        17    112272.0       67.62\n",
       "247  DISTRICT602  STATE18       7       250        33    136299.0       78.69\n",
       "291  DISTRICT361  STATE12       3        45        11     83054.0       94.54\n",
       "338  DISTRICT659  STATE33       6       995       112   1217002.0       79.72\n",
       "163  DISTRICT366  STATE21       9      1330        86   1579160.0       79.99\n",
       "524  DISTRICT179   STATE9       4       195        40         NaN         NaN\n",
       "369  DISTRICT512  STATE23       6       589        30    717169.0       68.35\n",
       "428  DISTRICT641  STATE31       3       567        61   3343079.0       79.69\n",
       "365  DISTRICT656  STATE23      19       794        78   1322387.0       62.18\n",
       "548  DISTRICT283  STATE17       5       765        68   1178973.0       76.04\n",
       "638  DISTRICT609   STATE6      18      1470       167   2468965.0       74.72\n",
       "325    DISTRICT1  STATE33       4       534        98    957853.0       69.37\n",
       "498  DISTRICT443   STATE9      14      1377       282   3116045.0       66.39\n",
       "426  DISTRICT284  STATE31       4       932        90    822239.0       61.95\n",
       "669  DISTRICT206  STATE11       3        76        13    105539.0       84.25\n",
       "621  DISTRICT592   STATE5       3        50        38    816558.0       89.32\n",
       "368  DISTRICT531  STATE23      16      1063       114   1734005.0       70.48\n",
       "292  DISTRICT289  STATE12      11       183        51    404054.0       98.50\n",
       "207  DISTRICT258  STATE21       6       342        53         NaN         NaN\n",
       "95    DISTRICT90   STATE2       7        29         7    133713.0       89.38\n",
       "76   DISTRICT282  STATE25       6       201        43   1202811.0       77.46\n",
       "372  DISTRICT342  STATE23       9      1381       120   1311382.0       57.68\n",
       "182  DISTRICT670  STATE21      15      1594       142   3478257.0       51.10\n",
       "145  DISTRICT244  STATE21       9       996        76   1565678.0       73.10\n",
       "501   DISTRICT54   STATE9       8       684       167   2427346.0       76.60\n",
       "103  DISTRICT186  STATE13       7      1053       289   2041172.0       67.46\n",
       "248   DISTRICT63  STATE18       8       230        32    146742.0       82.06\n",
       "107  DISTRICT630  STATE13       5       825       222   1207293.0       70.14\n",
       "566   DISTRICT24  STATE17      13      1298       190   3874015.0       82.90\n",
       "53   DISTRICT126  STATE26       3       197        21    596294.0       68.90\n",
       "79   DISTRICT447  STATE25       6       284        60    941522.0       69.13\n",
       "482  DISTRICT119  STATE22       7      1014        54   1240975.0       76.52\n",
       "595  DISTRICT268  STATE20       7       878       131   1946905.0       76.30"
      ]
     },
     "execution_count": 19,
     "metadata": {},
     "output_type": "execute_result"
    }
   ],
   "source": [
    "# sample size is 50 \n",
    "sampled_data = education_districtwise.sample(n=50, replace=True, random_state=31208)\n",
    "# Sampling with replacement \n",
    "sampled_data"
   ]
  },
  {
   "cell_type": "code",
   "execution_count": 20,
   "id": "4567a4e9",
   "metadata": {},
   "outputs": [
    {
     "data": {
      "text/plain": [
       "74.37808510638298"
      ]
     },
     "execution_count": 20,
     "metadata": {},
     "output_type": "execute_result"
    }
   ],
   "source": [
    "# using the mean fucnction to compute the sample mean \n",
    "estimate1 = sampled_data['OVERALL_LI'].mean()\n",
    "estimate1"
   ]
  },
  {
   "cell_type": "code",
   "execution_count": 21,
   "id": "839360e4",
   "metadata": {},
   "outputs": [
    {
     "data": {
      "text/plain": [
       "74.53105263157896"
      ]
     },
     "execution_count": 21,
     "metadata": {},
     "output_type": "execute_result"
    }
   ],
   "source": [
    "# gerating another random sample of size 20 \n",
    "estimate2 = education_districtwise['OVERALL_LI'].sample(n=20, replace=True, random_state=31208).mean()\n",
    "estimate2"
   ]
  },
  {
   "cell_type": "markdown",
   "id": "b954c19d",
   "metadata": {},
   "source": [
    "#### District Literacy rate \n",
    "- Population mean: 73.39%\n",
    "- sample estimate1 : 74.37%\n",
    "- sample estimate2 : 74.53%"
   ]
  },
  {
   "cell_type": "code",
   "execution_count": 22,
   "id": "f5d40ccd",
   "metadata": {},
   "outputs": [],
   "source": [
    "# finding mean for 10000 random samples of size 50 \n",
    "estimate_list = []\n",
    "for i in range(10000):\n",
    "    estimate_list.append(education_districtwise['OVERALL_LI'].sample(n=50, replace=True).mean())\n",
    "estimate_df = pd.DataFrame(data={'estimate':estimate_list})"
   ]
  },
  {
   "cell_type": "code",
   "execution_count": 23,
   "id": "6deacc1a",
   "metadata": {},
   "outputs": [
    {
     "data": {
      "text/plain": [
       "73.3723918604246"
      ]
     },
     "execution_count": 23,
     "metadata": {},
     "output_type": "execute_result"
    }
   ],
   "source": [
    "mean_sample_means = estimate_df['estimate'].mean()\n",
    "mean_sample_means"
   ]
  },
  {
   "cell_type": "code",
   "execution_count": 25,
   "id": "8b56c8a4",
   "metadata": {},
   "outputs": [
    {
     "data": {
      "text/plain": [
       "73.39518927444796"
      ]
     },
     "execution_count": 25,
     "metadata": {},
     "output_type": "execute_result"
    }
   ],
   "source": [
    "population_mean = education_districtwise['OVERALL_LI'].mean()\n",
    "population_mean"
   ]
  },
  {
   "cell_type": "code",
   "execution_count": 26,
   "id": "92245b57",
   "metadata": {},
   "outputs": [
    {
     "data": {
      "image/png": "[encoded data removed]",
      "text/plain": [
       "<Figure size 640x480 with 1 Axes>"
      ]
     },
     "metadata": {},
     "output_type": "display_data"
    }
   ],
   "source": [
    "plt.hist(estimate_df['estimate'], bins=25, density=True, alpha=0.4, label = \"histogram of sample means of 10000 random samples\")\n",
    "xmin, xmax = plt.xlim()\n",
    "x = np.linspace(xmin, xmax, 100) # generate a grid of 100 values from xmin to xmax.\n",
    "p = stats.norm.pdf(x, mean_sample_means, stats.tstd(estimate_df['estimate']))\n",
    "plt.plot(x, p,'k', linewidth=2, label = 'normal curve from central limit theorem')\n",
    "plt.axvline(x=population_mean, color='g', linestyle = 'solid', label = 'population mean')\n",
    "plt.axvline(x=estimate1, color='r', linestyle = '--', label = 'sample mean of the first random sample')\n",
    "plt.axvline(x=mean_sample_means, color='b', linestyle = ':', label = 'mean of sample means of 10000 random samples')\n",
    "plt.title(\"Sampling distribution of sample mean\")\n",
    "plt.xlabel('sample mean')\n",
    "plt.ylabel('density')\n",
    "plt.legend(bbox_to_anchor=(1.04,1))\n",
    "plt.show()"
   ]
  },
  {
   "cell_type": "markdown",
   "id": "d8bf0266",
   "metadata": {},
   "source": [
    "# Confidence Intervals\n"
   ]
  },
  {
   "cell_type": "code",
   "execution_count": 27,
   "id": "c9ba359d",
   "metadata": {},
   "outputs": [],
   "source": [
    "import numpy as np \n",
    "import pandas as pd\n",
    "from scipy import stats"
   ]
  },
  {
   "cell_type": "code",
   "execution_count": null,
   "id": "a7a68aff",
   "metadata": {},
   "outputs": [],
   "source": [
    "education_districtwise = pd.read_csv('~/Desktop/data_analysis/DATA/Google_Data/education_districtwise.csv')\n"
   ]
  },
  {
   "cell_type": "code",
   "execution_count": 29,
   "id": "01211990",
   "metadata": {},
   "outputs": [],
   "source": [
    "education_districtwise = education_districtwise.dropna()"
   ]
  },
  {
   "cell_type": "code",
   "execution_count": 30,
   "id": "700c9f49",
   "metadata": {},
   "outputs": [],
   "source": [
    "sampled_data = education_districtwise.sample(n=50, replace=True, random_state=31208)"
   ]
  },
  {
   "cell_type": "markdown",
   "id": "80e5c0e8",
   "metadata": {},
   "source": [
    "## Steps for constructing a confidence interval \n",
    "1. Identify a sample statistic\n",
    "2. Choose a confidence level \n",
    "3. Find the margin of error\n",
    "4. Calculate the interval\n",
    "\n",
    "`stats.norm.interval(confidence, loc, scale)`\n",
    "`confidence` = confidence level\n",
    "`loc` = sample mean \n",
    "`scale` = sample standard error"
   ]
  },
  {
   "cell_type": "code",
   "execution_count": 31,
   "id": "c19f13fe",
   "metadata": {},
   "outputs": [
    {
     "data": {
      "text/plain": [
       "74.22359999999999"
      ]
     },
     "execution_count": 31,
     "metadata": {},
     "output_type": "execute_result"
    }
   ],
   "source": [
    "# finding the sample mean \n",
    "sample_mean = sampled_data['OVERALL_LI'].mean()\n",
    "sample_mean"
   ]
  },
  {
   "cell_type": "code",
   "execution_count": 32,
   "id": "dd918f36",
   "metadata": {},
   "outputs": [],
   "source": [
    "# finding the sampled standard error\n",
    "estimated_standard_error = sampled_data['OVERALL_LI'].std() / np.sqrt(sampled_data.shape[0])\n",
    "# shape 0 only returns the number of rows in the dataframe"
   ]
  },
  {
   "cell_type": "markdown",
   "id": "ef8445e7",
   "metadata": {},
   "source": [
    "**Confidence Interval**: 95 CI [71.4, 77.90]"
   ]
  },
  {
   "cell_type": "code",
   "execution_count": 34,
   "id": "56037999",
   "metadata": {},
   "outputs": [
    {
     "data": {
      "text/plain": [
       "(71.42241096968617, 77.02478903031381)"
      ]
     },
     "execution_count": 34,
     "metadata": {},
     "output_type": "execute_result"
    }
   ],
   "source": [
    "# finaly finding the confidence interval \n",
    "stats.norm.interval(confidence=0.95, loc=sample_mean, scale=estimated_standard_error)"
   ]
  },
  {
   "cell_type": "markdown",
   "id": "098bf2ed",
   "metadata": {},
   "source": [
    "**Confidence Interval**: 99 CI [70.5, 77.9]"
   ]
  },
  {
   "cell_type": "code",
   "execution_count": 35,
   "id": "eade712b",
   "metadata": {},
   "outputs": [
    {
     "data": {
      "text/plain": [
       "(70.54221358373107, 77.90498641626891)"
      ]
     },
     "execution_count": 35,
     "metadata": {},
     "output_type": "execute_result"
    }
   ],
   "source": [
    "# finaly finding the confidence interval \n",
    "stats.norm.interval(confidence=0.99, loc=sample_mean, scale=estimated_standard_error)"
   ]
  },
  {
   "cell_type": "code",
   "execution_count": null,
   "id": "8c3b15ad",
   "metadata": {},
   "outputs": [],
   "source": []
  }
 ],
 "metadata": {
  "kernelspec": {
   "display_name": "myenv",
   "language": "python",
   "name": "python3"
  },
  "language_info": {
   "codemirror_mode": {
    "name": "ipython",
    "version": 3
   },
   "file_extension": ".py",
   "mimetype": "text/x-python",
   "name": "python",
   "nbconvert_exporter": "python",
   "pygments_lexer": "ipython3",
   "version": "3.10.16"
  }
 },
 "nbformat": 4,
 "nbformat_minor": 5
}
