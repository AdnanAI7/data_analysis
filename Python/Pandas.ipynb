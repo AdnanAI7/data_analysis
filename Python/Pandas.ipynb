{
 "cells": [
  {
   "cell_type": "markdown",
   "id": "3c16abac",
   "metadata": {},
   "source": [
    "# Pandas\n"
   ]
  },
  {
   "cell_type": "code",
   "execution_count": 1,
   "id": "cff9116c",
   "metadata": {},
   "outputs": [],
   "source": [
    "import numpy as np \n",
    "import pandas as pd"
   ]
  },
  {
   "cell_type": "markdown",
   "id": "1f22579c",
   "metadata": {},
   "source": [
    "## Basic data structures in pandas\n",
    "Pandas provides two types of classes for handling data:\n",
    "1. `Series`: a one-dimensional labeled array holding data of any type.\n",
    "    - such as integers, strings, Python objects etc. \n",
    "\n",
    "2. `DataFrame`: A two-dimensional data structure that holds data like a two-dimension array or a table with rows and columns. \n",
    "\n",
    "## Object creation \n",
    "\n",
    "Creatin a `series` by passing a list of values, letting pandas create a default `RangeIndex` "
   ]
  },
  {
   "cell_type": "code",
   "execution_count": 2,
   "id": "51749cc8",
   "metadata": {},
   "outputs": [],
   "source": [
    "s = pd.Series([1, 3, 5, np.nan, 6, 8])"
   ]
  },
  {
   "cell_type": "code",
   "execution_count": 3,
   "id": "6e1edbf1",
   "metadata": {},
   "outputs": [
    {
     "data": {
      "text/plain": [
       "0    1.0\n",
       "1    3.0\n",
       "2    5.0\n",
       "3    NaN\n",
       "4    6.0\n",
       "5    8.0\n",
       "dtype: float64"
      ]
     },
     "execution_count": 3,
     "metadata": {},
     "output_type": "execute_result"
    }
   ],
   "source": [
    "s"
   ]
  },
  {
   "cell_type": "markdown",
   "id": "5744119d",
   "metadata": {},
   "source": [
    "Creating a `DataFrame` by passing a NumPy array with a datetime index using `date_range()` and labeled columns:\n"
   ]
  },
  {
   "cell_type": "code",
   "execution_count": 4,
   "id": "2f87de17",
   "metadata": {},
   "outputs": [
    {
     "data": {
      "text/plain": [
       "DatetimeIndex(['2013-01-01', '2013-01-02', '2013-01-03', '2013-01-04',\n",
       "               '2013-01-05', '2013-01-06'],\n",
       "              dtype='datetime64[ns]', freq='D')"
      ]
     },
     "execution_count": 4,
     "metadata": {},
     "output_type": "execute_result"
    }
   ],
   "source": [
    "dates = pd.date_range(\"20130101\", periods=6)\n",
    "dates"
   ]
  },
  {
   "cell_type": "code",
   "execution_count": 6,
   "id": "0a6b9634",
   "metadata": {},
   "outputs": [
    {
     "data": {
      "application/vnd.microsoft.datawrangler.viewer.v0+json": {
       "columns": [
        {
         "name": "index",
         "rawType": "datetime64[ns]",
         "type": "datetime"
        },
        {
         "name": "A",
         "rawType": "float64",
         "type": "float"
        },
        {
         "name": "B",
         "rawType": "float64",
         "type": "float"
        },
        {
         "name": "C",
         "rawType": "float64",
         "type": "float"
        },
        {
         "name": "D",
         "rawType": "float64",
         "type": "float"
        }
       ],
       "conversionMethod": "pd.DataFrame",
       "ref": "26721d6b-2047-49ef-a3a9-41d6808489cb",
       "rows": [
        [
         "2013-01-01 00:00:00",
         "-0.20645037293459134",
         "0.6903610821536216",
         "0.10872841445887943",
         "0.8695927986388313"
        ],
        [
         "2013-01-02 00:00:00",
         "0.2680965403155134",
         "-1.1593173621607804",
         "-1.1522649532164693",
         "0.17696345886378542"
        ],
        [
         "2013-01-03 00:00:00",
         "-0.18897579164664627",
         "1.239838161087584",
         "0.03264006412447659",
         "-0.8077616593470033"
        ],
        [
         "2013-01-04 00:00:00",
         "-0.42909127058627894",
         "-1.7300860568758285",
         "-0.047493422279450304",
         "-0.8960672893382483"
        ],
        [
         "2013-01-05 00:00:00",
         "-1.391267570410582",
         "-1.8739266722049326",
         "1.7862621344608667",
         "0.30729246017886386"
        ],
        [
         "2013-01-06 00:00:00",
         "0.6478812708151728",
         "-1.922196212062743",
         "-1.3138615255496875",
         "1.7016600711993137"
        ]
       ],
       "shape": {
        "columns": 4,
        "rows": 6
       }
      },
      "text/html": [
       "<div>\n",
       "<style scoped>\n",
       "    .dataframe tbody tr th:only-of-type {\n",
       "        vertical-align: middle;\n",
       "    }\n",
       "\n",
       "    .dataframe tbody tr th {\n",
       "        vertical-align: top;\n",
       "    }\n",
       "\n",
       "    .dataframe thead th {\n",
       "        text-align: right;\n",
       "    }\n",
       "</style>\n",
       "<table border=\"1\" class=\"dataframe\">\n",
       "  <thead>\n",
       "    <tr style=\"text-align: right;\">\n",
       "      <th></th>\n",
       "      <th>A</th>\n",
       "      <th>B</th>\n",
       "      <th>C</th>\n",
       "      <th>D</th>\n",
       "    </tr>\n",
       "  </thead>\n",
       "  <tbody>\n",
       "    <tr>\n",
       "      <th>2013-01-01</th>\n",
       "      <td>-0.206450</td>\n",
       "      <td>0.690361</td>\n",
       "      <td>0.108728</td>\n",
       "      <td>0.869593</td>\n",
       "    </tr>\n",
       "    <tr>\n",
       "      <th>2013-01-02</th>\n",
       "      <td>0.268097</td>\n",
       "      <td>-1.159317</td>\n",
       "      <td>-1.152265</td>\n",
       "      <td>0.176963</td>\n",
       "    </tr>\n",
       "    <tr>\n",
       "      <th>2013-01-03</th>\n",
       "      <td>-0.188976</td>\n",
       "      <td>1.239838</td>\n",
       "      <td>0.032640</td>\n",
       "      <td>-0.807762</td>\n",
       "    </tr>\n",
       "    <tr>\n",
       "      <th>2013-01-04</th>\n",
       "      <td>-0.429091</td>\n",
       "      <td>-1.730086</td>\n",
       "      <td>-0.047493</td>\n",
       "      <td>-0.896067</td>\n",
       "    </tr>\n",
       "    <tr>\n",
       "      <th>2013-01-05</th>\n",
       "      <td>-1.391268</td>\n",
       "      <td>-1.873927</td>\n",
       "      <td>1.786262</td>\n",
       "      <td>0.307292</td>\n",
       "    </tr>\n",
       "    <tr>\n",
       "      <th>2013-01-06</th>\n",
       "      <td>0.647881</td>\n",
       "      <td>-1.922196</td>\n",
       "      <td>-1.313862</td>\n",
       "      <td>1.701660</td>\n",
       "    </tr>\n",
       "  </tbody>\n",
       "</table>\n",
       "</div>"
      ],
      "text/plain": [
       "                   A         B         C         D\n",
       "2013-01-01 -0.206450  0.690361  0.108728  0.869593\n",
       "2013-01-02  0.268097 -1.159317 -1.152265  0.176963\n",
       "2013-01-03 -0.188976  1.239838  0.032640 -0.807762\n",
       "2013-01-04 -0.429091 -1.730086 -0.047493 -0.896067\n",
       "2013-01-05 -1.391268 -1.873927  1.786262  0.307292\n",
       "2013-01-06  0.647881 -1.922196 -1.313862  1.701660"
      ]
     },
     "execution_count": 6,
     "metadata": {},
     "output_type": "execute_result"
    }
   ],
   "source": [
    "df = pd.DataFrame(np.random.randn(6, 4), index=dates, columns=list(\"ABCD\"))\n",
    "df"
   ]
  },
  {
   "cell_type": "markdown",
   "id": "b6cd9e18",
   "metadata": {},
   "source": [
    "Creating a `DataFrame` by passing a dictionary of objects where the keys are the column labels and the values are the column values."
   ]
  },
  {
   "cell_type": "code",
   "execution_count": 7,
   "id": "3a653188",
   "metadata": {},
   "outputs": [
    {
     "data": {
      "application/vnd.microsoft.datawrangler.viewer.v0+json": {
       "columns": [
        {
         "name": "index",
         "rawType": "int64",
         "type": "integer"
        },
        {
         "name": "A",
         "rawType": "float64",
         "type": "float"
        },
        {
         "name": "B",
         "rawType": "datetime64[s]",
         "type": "unknown"
        },
        {
         "name": "C",
         "rawType": "float32",
         "type": "float"
        },
        {
         "name": "D",
         "rawType": "int32",
         "type": "integer"
        },
        {
         "name": "E",
         "rawType": "category",
         "type": "unknown"
        },
        {
         "name": "F",
         "rawType": "object",
         "type": "string"
        }
       ],
       "conversionMethod": "pd.DataFrame",
       "ref": "edc29804-fe32-489f-a713-f5a37ca89eaf",
       "rows": [
        [
         "0",
         "1.0",
         "2013-01-02 00:00:00",
         "1.0",
         "3",
         "test",
         "foo"
        ],
        [
         "1",
         "1.0",
         "2013-01-02 00:00:00",
         "1.0",
         "3",
         "train",
         "foo"
        ],
        [
         "2",
         "1.0",
         "2013-01-02 00:00:00",
         "1.0",
         "3",
         "test",
         "foo"
        ],
        [
         "3",
         "1.0",
         "2013-01-02 00:00:00",
         "1.0",
         "3",
         "train",
         "foo"
        ]
       ],
       "shape": {
        "columns": 6,
        "rows": 4
       }
      },
      "text/html": [
       "<div>\n",
       "<style scoped>\n",
       "    .dataframe tbody tr th:only-of-type {\n",
       "        vertical-align: middle;\n",
       "    }\n",
       "\n",
       "    .dataframe tbody tr th {\n",
       "        vertical-align: top;\n",
       "    }\n",
       "\n",
       "    .dataframe thead th {\n",
       "        text-align: right;\n",
       "    }\n",
       "</style>\n",
       "<table border=\"1\" class=\"dataframe\">\n",
       "  <thead>\n",
       "    <tr style=\"text-align: right;\">\n",
       "      <th></th>\n",
       "      <th>A</th>\n",
       "      <th>B</th>\n",
       "      <th>C</th>\n",
       "      <th>D</th>\n",
       "      <th>E</th>\n",
       "      <th>F</th>\n",
       "    </tr>\n",
       "  </thead>\n",
       "  <tbody>\n",
       "    <tr>\n",
       "      <th>0</th>\n",
       "      <td>1.0</td>\n",
       "      <td>2013-01-02</td>\n",
       "      <td>1.0</td>\n",
       "      <td>3</td>\n",
       "      <td>test</td>\n",
       "      <td>foo</td>\n",
       "    </tr>\n",
       "    <tr>\n",
       "      <th>1</th>\n",
       "      <td>1.0</td>\n",
       "      <td>2013-01-02</td>\n",
       "      <td>1.0</td>\n",
       "      <td>3</td>\n",
       "      <td>train</td>\n",
       "      <td>foo</td>\n",
       "    </tr>\n",
       "    <tr>\n",
       "      <th>2</th>\n",
       "      <td>1.0</td>\n",
       "      <td>2013-01-02</td>\n",
       "      <td>1.0</td>\n",
       "      <td>3</td>\n",
       "      <td>test</td>\n",
       "      <td>foo</td>\n",
       "    </tr>\n",
       "    <tr>\n",
       "      <th>3</th>\n",
       "      <td>1.0</td>\n",
       "      <td>2013-01-02</td>\n",
       "      <td>1.0</td>\n",
       "      <td>3</td>\n",
       "      <td>train</td>\n",
       "      <td>foo</td>\n",
       "    </tr>\n",
       "  </tbody>\n",
       "</table>\n",
       "</div>"
      ],
      "text/plain": [
       "     A          B    C  D      E    F\n",
       "0  1.0 2013-01-02  1.0  3   test  foo\n",
       "1  1.0 2013-01-02  1.0  3  train  foo\n",
       "2  1.0 2013-01-02  1.0  3   test  foo\n",
       "3  1.0 2013-01-02  1.0  3  train  foo"
      ]
     },
     "execution_count": 7,
     "metadata": {},
     "output_type": "execute_result"
    }
   ],
   "source": [
    "df2 = pd.DataFrame(\n",
    "    {\n",
    "        \"A\": 1.0,\n",
    "        \"B\": pd.Timestamp(\"20130102\"),\n",
    "        \"C\": pd.Series(1, index=list(range(4)), dtype=\"float32\"),\n",
    "        \"D\": np.array([3] * 4, dtype=\"int32\"),\n",
    "        \"E\": pd.Categorical([\"test\", \"train\", \"test\", \"train\"]),\n",
    "        \"F\": \"foo\",\n",
    "    }\n",
    ")\n",
    "df2"
   ]
  },
  {
   "cell_type": "code",
   "execution_count": null,
   "id": "7be34b24",
   "metadata": {},
   "outputs": [],
   "source": []
  }
 ],
 "metadata": {
  "kernelspec": {
   "display_name": "myenv",
   "language": "python",
   "name": "python3"
  },
  "language_info": {
   "codemirror_mode": {
    "name": "ipython",
    "version": 3
   },
   "file_extension": ".py",
   "mimetype": "text/x-python",
   "name": "python",
   "nbconvert_exporter": "python",
   "pygments_lexer": "ipython3",
   "version": "3.10.16"
  }
 },
 "nbformat": 4,
 "nbformat_minor": 5
}
