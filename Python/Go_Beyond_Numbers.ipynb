{
 "cells": [
  {
   "cell_type": "markdown",
   "id": "29ddba85",
   "metadata": {},
   "source": [
    "# GADA COURSE 3 \n",
    "## Go beyond numbers\n",
    "### MOdule 2\n",
    "#### Import datasets with Python \n"
   ]
  },
  {
   "cell_type": "code",
   "execution_count": 1,
   "id": "2696ee49",
   "metadata": {},
   "outputs": [
    {
     "ename": "FileNotFoundError",
     "evalue": "[Errno 2] No such file or directory: '~/Desktop/data_analysis/DATA/raw_data/Modified_Unicorn_Companies.csv'",
     "output_type": "error",
     "traceback": [
      "\u001b[0;31m---------------------------------------------------------------------------\u001b[0m",
      "\u001b[0;31mFileNotFoundError\u001b[0m                         Traceback (most recent call last)",
      "Cell \u001b[0;32mIn[1], line 2\u001b[0m\n\u001b[1;32m      1\u001b[0m \u001b[38;5;66;03m# importing csv file \u001b[39;00m\n\u001b[0;32m----> 2\u001b[0m \u001b[38;5;28;01mwith\u001b[39;00m \u001b[38;5;28;43mopen\u001b[39;49m\u001b[43m(\u001b[49m\u001b[38;5;124;43m'\u001b[39;49m\u001b[38;5;124;43m~/Desktop/data_analysis/DATA/raw_data/Modified_Unicorn_Companies.csv\u001b[39;49m\u001b[38;5;124;43m'\u001b[39;49m\u001b[43m,\u001b[49m\u001b[43m \u001b[49m\u001b[43mmode\u001b[49m\u001b[38;5;241;43m=\u001b[39;49m\u001b[38;5;124;43m'\u001b[39;49m\u001b[38;5;124;43mr\u001b[39;49m\u001b[38;5;124;43m'\u001b[39;49m\u001b[43m)\u001b[49m \u001b[38;5;28;01mas\u001b[39;00m file:\n\u001b[1;32m      3\u001b[0m     data \u001b[38;5;241m=\u001b[39m file\u001b[38;5;241m.\u001b[39mreadlines()\n",
      "File \u001b[0;32m~/.local/lib/python3.10/site-packages/IPython/core/interactiveshell.py:324\u001b[0m, in \u001b[0;36m_modified_open\u001b[0;34m(file, *args, **kwargs)\u001b[0m\n\u001b[1;32m    317\u001b[0m \u001b[38;5;28;01mif\u001b[39;00m file \u001b[38;5;129;01min\u001b[39;00m {\u001b[38;5;241m0\u001b[39m, \u001b[38;5;241m1\u001b[39m, \u001b[38;5;241m2\u001b[39m}:\n\u001b[1;32m    318\u001b[0m     \u001b[38;5;28;01mraise\u001b[39;00m \u001b[38;5;167;01mValueError\u001b[39;00m(\n\u001b[1;32m    319\u001b[0m         \u001b[38;5;124mf\u001b[39m\u001b[38;5;124m\"\u001b[39m\u001b[38;5;124mIPython won\u001b[39m\u001b[38;5;124m'\u001b[39m\u001b[38;5;124mt let you open fd=\u001b[39m\u001b[38;5;132;01m{\u001b[39;00mfile\u001b[38;5;132;01m}\u001b[39;00m\u001b[38;5;124m by default \u001b[39m\u001b[38;5;124m\"\u001b[39m\n\u001b[1;32m    320\u001b[0m         \u001b[38;5;124m\"\u001b[39m\u001b[38;5;124mas it is likely to crash IPython. If you know what you are doing, \u001b[39m\u001b[38;5;124m\"\u001b[39m\n\u001b[1;32m    321\u001b[0m         \u001b[38;5;124m\"\u001b[39m\u001b[38;5;124myou can use builtins\u001b[39m\u001b[38;5;124m'\u001b[39m\u001b[38;5;124m open.\u001b[39m\u001b[38;5;124m\"\u001b[39m\n\u001b[1;32m    322\u001b[0m     )\n\u001b[0;32m--> 324\u001b[0m \u001b[38;5;28;01mreturn\u001b[39;00m \u001b[43mio_open\u001b[49m\u001b[43m(\u001b[49m\u001b[43mfile\u001b[49m\u001b[43m,\u001b[49m\u001b[43m \u001b[49m\u001b[38;5;241;43m*\u001b[39;49m\u001b[43margs\u001b[49m\u001b[43m,\u001b[49m\u001b[43m \u001b[49m\u001b[38;5;241;43m*\u001b[39;49m\u001b[38;5;241;43m*\u001b[39;49m\u001b[43mkwargs\u001b[49m\u001b[43m)\u001b[49m\n",
      "\u001b[0;31mFileNotFoundError\u001b[0m: [Errno 2] No such file or directory: '~/Desktop/data_analysis/DATA/raw_data/Modified_Unicorn_Companies.csv'"
     ]
    }
   ],
   "source": [
    "# importing csv file \n",
    "with open('~/Desktop/data_analysis/DATA/raw_data/Modified_Unicorn_Companies.csv', mode='r') as file:\n",
    "    data = file.readlines()"
   ]
  },
  {
   "cell_type": "code",
   "execution_count": 1,
   "id": "0decb276",
   "metadata": {},
   "outputs": [],
   "source": [
    "# reading csv file using pandas\n",
    "import pandas as pd\n",
    "df = pd.read_csv('~/Desktop/data_analysis/DATA/raw_data/Modified_Unicorn_Companies.csv')"
   ]
  },
  {
   "cell_type": "markdown",
   "id": "b26059da",
   "metadata": {},
   "source": [
    "**DataFrame.head()**:\n",
    "- the `head()` method will display the first n rows of the dataframe \n",
    "- in the argument field, input the number of rows you want to display in a Python notebook. \n",
    "> - In a Python notebook, the result of `head()` will not include a table with visible grid lines. \n"
   ]
  },
  {
   "cell_type": "code",
   "execution_count": 2,
   "id": "0347afb7",
   "metadata": {},
   "outputs": [
    {
     "data": {
      "application/vnd.microsoft.datawrangler.viewer.v0+json": {
       "columns": [
        {
         "name": "index",
         "rawType": "int64",
         "type": "integer"
        },
        {
         "name": "Company",
         "rawType": "object",
         "type": "string"
        },
        {
         "name": "Valuation",
         "rawType": "int64",
         "type": "integer"
        },
        {
         "name": "Date Joined",
         "rawType": "object",
         "type": "string"
        },
        {
         "name": "Industry",
         "rawType": "object",
         "type": "string"
        },
        {
         "name": "City",
         "rawType": "object",
         "type": "unknown"
        },
        {
         "name": "Country/Region",
         "rawType": "object",
         "type": "string"
        },
        {
         "name": "Continent",
         "rawType": "object",
         "type": "string"
        },
        {
         "name": "Year Founded",
         "rawType": "int64",
         "type": "integer"
        },
        {
         "name": "Funding",
         "rawType": "object",
         "type": "string"
        },
        {
         "name": "Select Investors",
         "rawType": "object",
         "type": "string"
        }
       ],
       "ref": "80dd1ced-d525-4573-9260-3378e8855354",
       "rows": [
        [
         "0",
         "Bytedance",
         "180",
         "2017-04-07",
         "Artificial intelligence",
         "Beijing",
         "China",
         "Asia",
         "2012",
         "$8B",
         "Sequoia Capital China, SIG Asia Investments, Sina Weibo, Softbank Group"
        ],
        [
         "1",
         "SpaceX",
         "100",
         "2012-12-01",
         "Other",
         "Hawthorne",
         "United States",
         "North America",
         "2002",
         "$7B",
         "Founders Fund, Draper Fisher Jurvetson, Rothenberg Ventures"
        ],
        [
         "2",
         "SHEIN",
         "100",
         "2018-07-03",
         "E-commerce & direct-to-consumer",
         "Shenzhen",
         "China",
         "Asia",
         "2008",
         "$2B",
         "Tiger Global Management, Sequoia Capital China, Shunwei Capital Partners"
        ],
        [
         "3",
         "Stripe",
         "95",
         "2014-01-23",
         "FinTech",
         "San Francisco",
         "United States",
         "North America",
         "2010",
         "$2B",
         "Khosla Ventures, LowercaseCapital, capitalG"
        ],
        [
         "4",
         "Klarna",
         "46",
         "2011-12-12",
         "Fintech",
         "Stockholm",
         "Sweden",
         "Europe",
         "2005",
         "$4B",
         "Institutional Venture Partners, Sequoia Capital, General Atlantic"
        ],
        [
         "5",
         "Canva",
         "40",
         "2018-01-08",
         "Internet software & services",
         "Surry Hills",
         "Australia",
         "Oceania",
         "2012",
         "$572M",
         "Sequoia Capital China, Blackbird Ventures, Matrix Partners"
        ],
        [
         "6",
         "Checkout.com",
         "40",
         "2019-05-02",
         "Fintech",
         "London",
         "United Kingdom",
         "Europe",
         "2012",
         "$2B",
         "Tiger Global Management, Insight Partners, DST Global"
        ],
        [
         "7",
         "Instacart",
         "39",
         "2014-12-30",
         "Supply chain, logistics, & delivery",
         "San Francisco",
         "United States",
         "North America",
         "2012",
         "$3B",
         "Khosla Ventures, Kleiner Perkins Caufield & Byers, Collaborative Fund"
        ],
        [
         "8",
         "JUUL Labs",
         "38",
         "2017-12-20",
         "Consumer & retail",
         "San Francisco",
         "United States",
         "North America",
         "2015",
         "$14B",
         "Tiger Global Management"
        ],
        [
         "9",
         "Databricks",
         "38",
         "2019-02-05",
         "Data management and analytics",
         "San Francisco",
         "United States",
         "North America",
         "2013",
         "$3B",
         "Andreessen Horowitz, New Enterprise Associates, Battery Ventures"
        ],
        [
         "10",
         "Revolut",
         "33",
         "2018-04-26",
         "Fintech",
         "London",
         "United Kingdom",
         "Europe",
         "2015",
         "$2B",
         "index Ventures, DST Global, Ribbit Capital"
        ],
        [
         "11",
         "Epic Games",
         "32",
         "2018-10-26",
         "Other",
         "Cary",
         "United States",
         "North America",
         "1991",
         "$7B",
         "Tencent Holdings, KKR, Smash Ventures"
        ],
        [
         "12",
         "FTX",
         "32",
         "2021-07-20",
         "Fintech",
         null,
         "Bahamas",
         "North America",
         "2018",
         "$2B",
         "Sequoia Capital, Thoma Bravo, Softbank"
        ],
        [
         "13",
         "Fanatics",
         "27",
         "2012-06-06",
         "E-commerce & direct-to-consumer",
         "Jacksonville",
         "United States",
         "North America",
         "2002",
         "$4B",
         "SoftBank Group, Andreessen Horowitz, Temasek Holdings"
        ],
        [
         "14",
         "Chime",
         "25",
         "2019-03-05",
         "FinTech",
         "San Francisco",
         "United States",
         "North America",
         "2013",
         "$2B",
         "Forerunner Ventures, Crosslink Capital, Homebrew"
        ],
        [
         "15",
         "BYJU's",
         "22",
         "2017-07-25",
         "Edtech",
         "Bengaluru",
         "India",
         "Asia",
         "2008",
         "$4B",
         "Tencent Holdings, Lightspeed India Partners, Sequoia Capital India"
        ],
        [
         "16",
         "J&T Express",
         "20",
         "2021-04-07",
         "Supply chain, logistics, & delivery",
         "Jakarta",
         "Indonesia",
         "Asia",
         "2015",
         "$5B",
         "Hillhouse Capital Management, Boyu Capital, Sequoia Capital China"
        ],
        [
         "17",
         "Xiaohongshu",
         "20",
         "2016-03-31",
         "E-commerce & direct-to-consumer",
         "Shanghai",
         "China",
         "Asia",
         "2013",
         "$918M",
         "GGV Capital, ZhenFund, Tencent"
        ],
        [
         "18",
         "Miro",
         "18",
         "2022-01-05",
         "Internet software & services",
         "San Francisco",
         "United States",
         "North America",
         "2011",
         "$476M",
         "Accel, AltaIR Capital, Technology Crossover Ventures"
        ],
        [
         "19",
         "Yuanfudao",
         "17",
         "2017-05-31",
         "Edtech",
         "Beijing",
         "China",
         "Asia",
         "2012",
         "$4B",
         "Tencent Holdings, Warbug Pincus, IDG Capital"
        ]
       ],
       "shape": {
        "columns": 10,
        "rows": 20
       }
      },
      "text/html": [
       "<div>\n",
       "<style scoped>\n",
       "    .dataframe tbody tr th:only-of-type {\n",
       "        vertical-align: middle;\n",
       "    }\n",
       "\n",
       "    .dataframe tbody tr th {\n",
       "        vertical-align: top;\n",
       "    }\n",
       "\n",
       "    .dataframe thead th {\n",
       "        text-align: right;\n",
       "    }\n",
       "</style>\n",
       "<table border=\"1\" class=\"dataframe\">\n",
       "  <thead>\n",
       "    <tr style=\"text-align: right;\">\n",
       "      <th></th>\n",
       "      <th>Company</th>\n",
       "      <th>Valuation</th>\n",
       "      <th>Date Joined</th>\n",
       "      <th>Industry</th>\n",
       "      <th>City</th>\n",
       "      <th>Country/Region</th>\n",
       "      <th>Continent</th>\n",
       "      <th>Year Founded</th>\n",
       "      <th>Funding</th>\n",
       "      <th>Select Investors</th>\n",
       "    </tr>\n",
       "  </thead>\n",
       "  <tbody>\n",
       "    <tr>\n",
       "      <th>0</th>\n",
       "      <td>Bytedance</td>\n",
       "      <td>180</td>\n",
       "      <td>2017-04-07</td>\n",
       "      <td>Artificial intelligence</td>\n",
       "      <td>Beijing</td>\n",
       "      <td>China</td>\n",
       "      <td>Asia</td>\n",
       "      <td>2012</td>\n",
       "      <td>$8B</td>\n",
       "      <td>Sequoia Capital China, SIG Asia Investments, S...</td>\n",
       "    </tr>\n",
       "    <tr>\n",
       "      <th>1</th>\n",
       "      <td>SpaceX</td>\n",
       "      <td>100</td>\n",
       "      <td>2012-12-01</td>\n",
       "      <td>Other</td>\n",
       "      <td>Hawthorne</td>\n",
       "      <td>United States</td>\n",
       "      <td>North America</td>\n",
       "      <td>2002</td>\n",
       "      <td>$7B</td>\n",
       "      <td>Founders Fund, Draper Fisher Jurvetson, Rothen...</td>\n",
       "    </tr>\n",
       "    <tr>\n",
       "      <th>2</th>\n",
       "      <td>SHEIN</td>\n",
       "      <td>100</td>\n",
       "      <td>2018-07-03</td>\n",
       "      <td>E-commerce &amp; direct-to-consumer</td>\n",
       "      <td>Shenzhen</td>\n",
       "      <td>China</td>\n",
       "      <td>Asia</td>\n",
       "      <td>2008</td>\n",
       "      <td>$2B</td>\n",
       "      <td>Tiger Global Management, Sequoia Capital China...</td>\n",
       "    </tr>\n",
       "    <tr>\n",
       "      <th>3</th>\n",
       "      <td>Stripe</td>\n",
       "      <td>95</td>\n",
       "      <td>2014-01-23</td>\n",
       "      <td>FinTech</td>\n",
       "      <td>San Francisco</td>\n",
       "      <td>United States</td>\n",
       "      <td>North America</td>\n",
       "      <td>2010</td>\n",
       "      <td>$2B</td>\n",
       "      <td>Khosla Ventures, LowercaseCapital, capitalG</td>\n",
       "    </tr>\n",
       "    <tr>\n",
       "      <th>4</th>\n",
       "      <td>Klarna</td>\n",
       "      <td>46</td>\n",
       "      <td>2011-12-12</td>\n",
       "      <td>Fintech</td>\n",
       "      <td>Stockholm</td>\n",
       "      <td>Sweden</td>\n",
       "      <td>Europe</td>\n",
       "      <td>2005</td>\n",
       "      <td>$4B</td>\n",
       "      <td>Institutional Venture Partners, Sequoia Capita...</td>\n",
       "    </tr>\n",
       "    <tr>\n",
       "      <th>5</th>\n",
       "      <td>Canva</td>\n",
       "      <td>40</td>\n",
       "      <td>2018-01-08</td>\n",
       "      <td>Internet software &amp; services</td>\n",
       "      <td>Surry Hills</td>\n",
       "      <td>Australia</td>\n",
       "      <td>Oceania</td>\n",
       "      <td>2012</td>\n",
       "      <td>$572M</td>\n",
       "      <td>Sequoia Capital China, Blackbird Ventures, Mat...</td>\n",
       "    </tr>\n",
       "    <tr>\n",
       "      <th>6</th>\n",
       "      <td>Checkout.com</td>\n",
       "      <td>40</td>\n",
       "      <td>2019-05-02</td>\n",
       "      <td>Fintech</td>\n",
       "      <td>London</td>\n",
       "      <td>United Kingdom</td>\n",
       "      <td>Europe</td>\n",
       "      <td>2012</td>\n",
       "      <td>$2B</td>\n",
       "      <td>Tiger Global Management, Insight Partners, DST...</td>\n",
       "    </tr>\n",
       "    <tr>\n",
       "      <th>7</th>\n",
       "      <td>Instacart</td>\n",
       "      <td>39</td>\n",
       "      <td>2014-12-30</td>\n",
       "      <td>Supply chain, logistics, &amp; delivery</td>\n",
       "      <td>San Francisco</td>\n",
       "      <td>United States</td>\n",
       "      <td>North America</td>\n",
       "      <td>2012</td>\n",
       "      <td>$3B</td>\n",
       "      <td>Khosla Ventures, Kleiner Perkins Caufield &amp; By...</td>\n",
       "    </tr>\n",
       "    <tr>\n",
       "      <th>8</th>\n",
       "      <td>JUUL Labs</td>\n",
       "      <td>38</td>\n",
       "      <td>2017-12-20</td>\n",
       "      <td>Consumer &amp; retail</td>\n",
       "      <td>San Francisco</td>\n",
       "      <td>United States</td>\n",
       "      <td>North America</td>\n",
       "      <td>2015</td>\n",
       "      <td>$14B</td>\n",
       "      <td>Tiger Global Management</td>\n",
       "    </tr>\n",
       "    <tr>\n",
       "      <th>9</th>\n",
       "      <td>Databricks</td>\n",
       "      <td>38</td>\n",
       "      <td>2019-02-05</td>\n",
       "      <td>Data management and analytics</td>\n",
       "      <td>San Francisco</td>\n",
       "      <td>United States</td>\n",
       "      <td>North America</td>\n",
       "      <td>2013</td>\n",
       "      <td>$3B</td>\n",
       "      <td>Andreessen Horowitz, New Enterprise Associates...</td>\n",
       "    </tr>\n",
       "    <tr>\n",
       "      <th>10</th>\n",
       "      <td>Revolut</td>\n",
       "      <td>33</td>\n",
       "      <td>2018-04-26</td>\n",
       "      <td>Fintech</td>\n",
       "      <td>London</td>\n",
       "      <td>United Kingdom</td>\n",
       "      <td>Europe</td>\n",
       "      <td>2015</td>\n",
       "      <td>$2B</td>\n",
       "      <td>index Ventures, DST Global, Ribbit Capital</td>\n",
       "    </tr>\n",
       "    <tr>\n",
       "      <th>11</th>\n",
       "      <td>Epic Games</td>\n",
       "      <td>32</td>\n",
       "      <td>2018-10-26</td>\n",
       "      <td>Other</td>\n",
       "      <td>Cary</td>\n",
       "      <td>United States</td>\n",
       "      <td>North America</td>\n",
       "      <td>1991</td>\n",
       "      <td>$7B</td>\n",
       "      <td>Tencent Holdings, KKR, Smash Ventures</td>\n",
       "    </tr>\n",
       "    <tr>\n",
       "      <th>12</th>\n",
       "      <td>FTX</td>\n",
       "      <td>32</td>\n",
       "      <td>2021-07-20</td>\n",
       "      <td>Fintech</td>\n",
       "      <td>NaN</td>\n",
       "      <td>Bahamas</td>\n",
       "      <td>North America</td>\n",
       "      <td>2018</td>\n",
       "      <td>$2B</td>\n",
       "      <td>Sequoia Capital, Thoma Bravo, Softbank</td>\n",
       "    </tr>\n",
       "    <tr>\n",
       "      <th>13</th>\n",
       "      <td>Fanatics</td>\n",
       "      <td>27</td>\n",
       "      <td>2012-06-06</td>\n",
       "      <td>E-commerce &amp; direct-to-consumer</td>\n",
       "      <td>Jacksonville</td>\n",
       "      <td>United States</td>\n",
       "      <td>North America</td>\n",
       "      <td>2002</td>\n",
       "      <td>$4B</td>\n",
       "      <td>SoftBank Group, Andreessen Horowitz, Temasek H...</td>\n",
       "    </tr>\n",
       "    <tr>\n",
       "      <th>14</th>\n",
       "      <td>Chime</td>\n",
       "      <td>25</td>\n",
       "      <td>2019-03-05</td>\n",
       "      <td>FinTech</td>\n",
       "      <td>San Francisco</td>\n",
       "      <td>United States</td>\n",
       "      <td>North America</td>\n",
       "      <td>2013</td>\n",
       "      <td>$2B</td>\n",
       "      <td>Forerunner Ventures, Crosslink Capital, Homebrew</td>\n",
       "    </tr>\n",
       "    <tr>\n",
       "      <th>15</th>\n",
       "      <td>BYJU's</td>\n",
       "      <td>22</td>\n",
       "      <td>2017-07-25</td>\n",
       "      <td>Edtech</td>\n",
       "      <td>Bengaluru</td>\n",
       "      <td>India</td>\n",
       "      <td>Asia</td>\n",
       "      <td>2008</td>\n",
       "      <td>$4B</td>\n",
       "      <td>Tencent Holdings, Lightspeed India Partners, S...</td>\n",
       "    </tr>\n",
       "    <tr>\n",
       "      <th>16</th>\n",
       "      <td>J&amp;T Express</td>\n",
       "      <td>20</td>\n",
       "      <td>2021-04-07</td>\n",
       "      <td>Supply chain, logistics, &amp; delivery</td>\n",
       "      <td>Jakarta</td>\n",
       "      <td>Indonesia</td>\n",
       "      <td>Asia</td>\n",
       "      <td>2015</td>\n",
       "      <td>$5B</td>\n",
       "      <td>Hillhouse Capital Management, Boyu Capital, Se...</td>\n",
       "    </tr>\n",
       "    <tr>\n",
       "      <th>17</th>\n",
       "      <td>Xiaohongshu</td>\n",
       "      <td>20</td>\n",
       "      <td>2016-03-31</td>\n",
       "      <td>E-commerce &amp; direct-to-consumer</td>\n",
       "      <td>Shanghai</td>\n",
       "      <td>China</td>\n",
       "      <td>Asia</td>\n",
       "      <td>2013</td>\n",
       "      <td>$918M</td>\n",
       "      <td>GGV Capital, ZhenFund, Tencent</td>\n",
       "    </tr>\n",
       "    <tr>\n",
       "      <th>18</th>\n",
       "      <td>Miro</td>\n",
       "      <td>18</td>\n",
       "      <td>2022-01-05</td>\n",
       "      <td>Internet software &amp; services</td>\n",
       "      <td>San Francisco</td>\n",
       "      <td>United States</td>\n",
       "      <td>North America</td>\n",
       "      <td>2011</td>\n",
       "      <td>$476M</td>\n",
       "      <td>Accel, AltaIR Capital, Technology Crossover Ve...</td>\n",
       "    </tr>\n",
       "    <tr>\n",
       "      <th>19</th>\n",
       "      <td>Yuanfudao</td>\n",
       "      <td>17</td>\n",
       "      <td>2017-05-31</td>\n",
       "      <td>Edtech</td>\n",
       "      <td>Beijing</td>\n",
       "      <td>China</td>\n",
       "      <td>Asia</td>\n",
       "      <td>2012</td>\n",
       "      <td>$4B</td>\n",
       "      <td>Tencent Holdings, Warbug Pincus, IDG Capital</td>\n",
       "    </tr>\n",
       "  </tbody>\n",
       "</table>\n",
       "</div>"
      ],
      "text/plain": [
       "         Company  Valuation Date Joined                             Industry  \\\n",
       "0      Bytedance        180  2017-04-07              Artificial intelligence   \n",
       "1         SpaceX        100  2012-12-01                                Other   \n",
       "2          SHEIN        100  2018-07-03      E-commerce & direct-to-consumer   \n",
       "3         Stripe         95  2014-01-23                              FinTech   \n",
       "4         Klarna         46  2011-12-12                              Fintech   \n",
       "5          Canva         40  2018-01-08         Internet software & services   \n",
       "6   Checkout.com         40  2019-05-02                              Fintech   \n",
       "7      Instacart         39  2014-12-30  Supply chain, logistics, & delivery   \n",
       "8      JUUL Labs         38  2017-12-20                    Consumer & retail   \n",
       "9     Databricks         38  2019-02-05        Data management and analytics   \n",
       "10       Revolut         33  2018-04-26                              Fintech   \n",
       "11    Epic Games         32  2018-10-26                                Other   \n",
       "12           FTX         32  2021-07-20                              Fintech   \n",
       "13      Fanatics         27  2012-06-06      E-commerce & direct-to-consumer   \n",
       "14         Chime         25  2019-03-05                              FinTech   \n",
       "15        BYJU's         22  2017-07-25                               Edtech   \n",
       "16   J&T Express         20  2021-04-07  Supply chain, logistics, & delivery   \n",
       "17   Xiaohongshu         20  2016-03-31      E-commerce & direct-to-consumer   \n",
       "18          Miro         18  2022-01-05         Internet software & services   \n",
       "19     Yuanfudao         17  2017-05-31                               Edtech   \n",
       "\n",
       "             City  Country/Region      Continent  Year Founded Funding  \\\n",
       "0         Beijing           China           Asia          2012     $8B   \n",
       "1       Hawthorne   United States  North America          2002     $7B   \n",
       "2        Shenzhen           China           Asia          2008     $2B   \n",
       "3   San Francisco   United States  North America          2010     $2B   \n",
       "4       Stockholm          Sweden         Europe          2005     $4B   \n",
       "5     Surry Hills       Australia        Oceania          2012   $572M   \n",
       "6          London  United Kingdom         Europe          2012     $2B   \n",
       "7   San Francisco   United States  North America          2012     $3B   \n",
       "8   San Francisco   United States  North America          2015    $14B   \n",
       "9   San Francisco   United States  North America          2013     $3B   \n",
       "10         London  United Kingdom         Europe          2015     $2B   \n",
       "11           Cary   United States  North America          1991     $7B   \n",
       "12            NaN         Bahamas  North America          2018     $2B   \n",
       "13   Jacksonville   United States  North America          2002     $4B   \n",
       "14  San Francisco   United States  North America          2013     $2B   \n",
       "15      Bengaluru           India           Asia          2008     $4B   \n",
       "16        Jakarta       Indonesia           Asia          2015     $5B   \n",
       "17       Shanghai           China           Asia          2013   $918M   \n",
       "18  San Francisco   United States  North America          2011   $476M   \n",
       "19        Beijing           China           Asia          2012     $4B   \n",
       "\n",
       "                                     Select Investors  \n",
       "0   Sequoia Capital China, SIG Asia Investments, S...  \n",
       "1   Founders Fund, Draper Fisher Jurvetson, Rothen...  \n",
       "2   Tiger Global Management, Sequoia Capital China...  \n",
       "3         Khosla Ventures, LowercaseCapital, capitalG  \n",
       "4   Institutional Venture Partners, Sequoia Capita...  \n",
       "5   Sequoia Capital China, Blackbird Ventures, Mat...  \n",
       "6   Tiger Global Management, Insight Partners, DST...  \n",
       "7   Khosla Ventures, Kleiner Perkins Caufield & By...  \n",
       "8                             Tiger Global Management  \n",
       "9   Andreessen Horowitz, New Enterprise Associates...  \n",
       "10         index Ventures, DST Global, Ribbit Capital  \n",
       "11              Tencent Holdings, KKR, Smash Ventures  \n",
       "12             Sequoia Capital, Thoma Bravo, Softbank  \n",
       "13  SoftBank Group, Andreessen Horowitz, Temasek H...  \n",
       "14   Forerunner Ventures, Crosslink Capital, Homebrew  \n",
       "15  Tencent Holdings, Lightspeed India Partners, S...  \n",
       "16  Hillhouse Capital Management, Boyu Capital, Se...  \n",
       "17                     GGV Capital, ZhenFund, Tencent  \n",
       "18  Accel, AltaIR Capital, Technology Crossover Ve...  \n",
       "19       Tencent Holdings, Warbug Pincus, IDG Capital  "
      ]
     },
     "execution_count": 2,
     "metadata": {},
     "output_type": "execute_result"
    }
   ],
   "source": [
    "df.head(20)"
   ]
  },
  {
   "cell_type": "markdown",
   "id": "9ada10c2",
   "metadata": {},
   "source": [
    "**DataFrame.info(X)**:\n",
    "- The `info()` method will display a summary of the dataframe, including the range index, dtypes, colun headers, and memory usage. \n",
    "- Leaving the argument field blank will return a full summary. As an option, in the argument field you can type in `show_counts=True`, which will return the count of non-null values for each column. \n",
    "- Once executed, the `info()` method returns something like this. \n"
   ]
  },
  {
   "cell_type": "code",
   "execution_count": 4,
   "id": "319bb054",
   "metadata": {},
   "outputs": [
    {
     "name": "stdout",
     "output_type": "stream",
     "text": [
      "<class 'pandas.core.frame.DataFrame'>\n",
      "RangeIndex: 1074 entries, 0 to 1073\n",
      "Data columns (total 10 columns):\n",
      " #   Column            Non-Null Count  Dtype \n",
      "---  ------            --------------  ----- \n",
      " 0   Company           1074 non-null   object\n",
      " 1   Valuation         1074 non-null   int64 \n",
      " 2   Date Joined       1074 non-null   object\n",
      " 3   Industry          1074 non-null   object\n",
      " 4   City              1057 non-null   object\n",
      " 5   Country/Region    1074 non-null   object\n",
      " 6   Continent         1074 non-null   object\n",
      " 7   Year Founded      1074 non-null   int64 \n",
      " 8   Funding           1074 non-null   object\n",
      " 9   Select Investors  1074 non-null   object\n",
      "dtypes: int64(2), object(8)\n",
      "memory usage: 84.0+ KB\n"
     ]
    }
   ],
   "source": [
    "df.info()\n"
   ]
  },
  {
   "cell_type": "markdown",
   "id": "dd405d94",
   "metadata": {},
   "source": [
    "**DataFrame.describe()**\n",
    "- The `describe()~ method will return descriptive statistics of the entire dataset, including total count, mean, minimum, maximum, dispersion, and distribution, \n",
    "- Leaving the argumenbt field blank will default to returning a summary of the data frame's statistics. As an option, you can use \"include=[X]\" and \"exclude=[X]\" which will limit the results to specific data types, depending on what you input in the brackets. \n"
   ]
  },
  {
   "cell_type": "code",
   "execution_count": 6,
   "id": "30e5ade2",
   "metadata": {},
   "outputs": [
    {
     "data": {
      "application/vnd.microsoft.datawrangler.viewer.v0+json": {
       "columns": [
        {
         "name": "index",
         "rawType": "object",
         "type": "string"
        },
        {
         "name": "Valuation",
         "rawType": "float64",
         "type": "float"
        },
        {
         "name": "Year Founded",
         "rawType": "float64",
         "type": "float"
        }
       ],
       "ref": "19b0a8f6-75a2-404f-a4e3-46bf5260d6f4",
       "rows": [
        [
         "count",
         "1074.0",
         "1074.0"
        ],
        [
         "mean",
         "3.4459962756052143",
         "2012.8705772811918"
        ],
        [
         "std",
         "8.544241957489781",
         "5.705494338763446"
        ],
        [
         "min",
         "1.0",
         "1919.0"
        ],
        [
         "25%",
         "1.0",
         "2011.0"
        ],
        [
         "50%",
         "2.0",
         "2014.0"
        ],
        [
         "75%",
         "3.0",
         "2016.0"
        ],
        [
         "max",
         "180.0",
         "2021.0"
        ]
       ],
       "shape": {
        "columns": 2,
        "rows": 8
       }
      },
      "text/html": [
       "<div>\n",
       "<style scoped>\n",
       "    .dataframe tbody tr th:only-of-type {\n",
       "        vertical-align: middle;\n",
       "    }\n",
       "\n",
       "    .dataframe tbody tr th {\n",
       "        vertical-align: top;\n",
       "    }\n",
       "\n",
       "    .dataframe thead th {\n",
       "        text-align: right;\n",
       "    }\n",
       "</style>\n",
       "<table border=\"1\" class=\"dataframe\">\n",
       "  <thead>\n",
       "    <tr style=\"text-align: right;\">\n",
       "      <th></th>\n",
       "      <th>Valuation</th>\n",
       "      <th>Year Founded</th>\n",
       "    </tr>\n",
       "  </thead>\n",
       "  <tbody>\n",
       "    <tr>\n",
       "      <th>count</th>\n",
       "      <td>1074.000000</td>\n",
       "      <td>1074.000000</td>\n",
       "    </tr>\n",
       "    <tr>\n",
       "      <th>mean</th>\n",
       "      <td>3.445996</td>\n",
       "      <td>2012.870577</td>\n",
       "    </tr>\n",
       "    <tr>\n",
       "      <th>std</th>\n",
       "      <td>8.544242</td>\n",
       "      <td>5.705494</td>\n",
       "    </tr>\n",
       "    <tr>\n",
       "      <th>min</th>\n",
       "      <td>1.000000</td>\n",
       "      <td>1919.000000</td>\n",
       "    </tr>\n",
       "    <tr>\n",
       "      <th>25%</th>\n",
       "      <td>1.000000</td>\n",
       "      <td>2011.000000</td>\n",
       "    </tr>\n",
       "    <tr>\n",
       "      <th>50%</th>\n",
       "      <td>2.000000</td>\n",
       "      <td>2014.000000</td>\n",
       "    </tr>\n",
       "    <tr>\n",
       "      <th>75%</th>\n",
       "      <td>3.000000</td>\n",
       "      <td>2016.000000</td>\n",
       "    </tr>\n",
       "    <tr>\n",
       "      <th>max</th>\n",
       "      <td>180.000000</td>\n",
       "      <td>2021.000000</td>\n",
       "    </tr>\n",
       "  </tbody>\n",
       "</table>\n",
       "</div>"
      ],
      "text/plain": [
       "         Valuation  Year Founded\n",
       "count  1074.000000   1074.000000\n",
       "mean      3.445996   2012.870577\n",
       "std       8.544242      5.705494\n",
       "min       1.000000   1919.000000\n",
       "25%       1.000000   2011.000000\n",
       "50%       2.000000   2014.000000\n",
       "75%       3.000000   2016.000000\n",
       "max     180.000000   2021.000000"
      ]
     },
     "execution_count": 6,
     "metadata": {},
     "output_type": "execute_result"
    }
   ],
   "source": [
    "df.describe()"
   ]
  },
  {
   "cell_type": "markdown",
   "id": "5a3f81c3",
   "metadata": {},
   "source": [
    "**DataFrame.shape**\n",
    "- `shape` is an attribute that returns a tuple representing the dimensions of the dataframe by number of rows and columns. Remember that attributes are not followed by parentheses."
   ]
  },
  {
   "cell_type": "code",
   "execution_count": 7,
   "id": "2e25b84e",
   "metadata": {},
   "outputs": [
    {
     "data": {
      "text/plain": [
       "(1074, 10)"
      ]
     },
     "execution_count": 7,
     "metadata": {},
     "output_type": "execute_result"
    }
   ],
   "source": [
    "df.shape"
   ]
  },
  {
   "cell_type": "markdown",
   "id": "a48d9c31",
   "metadata": {},
   "source": [
    "### Performing EDA"
   ]
  },
  {
   "cell_type": "code",
   "execution_count": 2,
   "id": "57b7d741",
   "metadata": {},
   "outputs": [],
   "source": [
    "import pandas as pd\n",
    "import numpy as np\n",
    "import matplotlib.pyplot as plt\n",
    "import datetime as dt"
   ]
  },
  {
   "cell_type": "code",
   "execution_count": 3,
   "id": "7b22b614",
   "metadata": {},
   "outputs": [],
   "source": [
    "df = pd.read_csv('~/Desktop/data_analysis/DATA/Google_Data/eda_dataset1.csv')"
   ]
  },
  {
   "cell_type": "markdown",
   "id": "e6c91266",
   "metadata": {},
   "source": [
    "> Converting data column into date time "
   ]
  },
  {
   "cell_type": "code",
   "execution_count": 4,
   "id": "50da1e0b",
   "metadata": {},
   "outputs": [],
   "source": [
    "df['date'] = pd.to_datetime(df['date'])\n"
   ]
  },
  {
   "cell_type": "code",
   "execution_count": 5,
   "id": "3cfc3459",
   "metadata": {},
   "outputs": [
    {
     "data": {
      "application/vnd.microsoft.datawrangler.viewer.v0+json": {
       "columns": [
        {
         "name": "index",
         "rawType": "int64",
         "type": "integer"
        },
        {
         "name": "date",
         "rawType": "datetime64[ns]",
         "type": "datetime"
        },
        {
         "name": "number_of_strikes",
         "rawType": "int64",
         "type": "integer"
        },
        {
         "name": "center_point_geom",
         "rawType": "object",
         "type": "string"
        }
       ],
       "ref": "9e647345-32ea-4ae7-a405-a299210e40f9",
       "rows": [
        [
         "0",
         "2018-01-03 00:00:00",
         "194",
         "POINT(-75 27)"
        ],
        [
         "1",
         "2018-01-03 00:00:00",
         "41",
         "POINT(-78.4 29)"
        ],
        [
         "2",
         "2018-01-03 00:00:00",
         "33",
         "POINT(-73.9 27)"
        ],
        [
         "3",
         "2018-01-03 00:00:00",
         "38",
         "POINT(-73.8 27)"
        ],
        [
         "4",
         "2018-01-03 00:00:00",
         "92",
         "POINT(-79 28)"
        ],
        [
         "5",
         "2018-01-03 00:00:00",
         "119",
         "POINT(-78 28)"
        ],
        [
         "6",
         "2018-01-03 00:00:00",
         "35",
         "POINT(-79.3 28)"
        ],
        [
         "7",
         "2018-01-03 00:00:00",
         "60",
         "POINT(-79.1 28)"
        ],
        [
         "8",
         "2018-01-03 00:00:00",
         "41",
         "POINT(-78.7 28)"
        ],
        [
         "9",
         "2018-01-03 00:00:00",
         "119",
         "POINT(-78.6 28)"
        ]
       ],
       "shape": {
        "columns": 3,
        "rows": 10
       }
      },
      "text/html": [
       "<div>\n",
       "<style scoped>\n",
       "    .dataframe tbody tr th:only-of-type {\n",
       "        vertical-align: middle;\n",
       "    }\n",
       "\n",
       "    .dataframe tbody tr th {\n",
       "        vertical-align: top;\n",
       "    }\n",
       "\n",
       "    .dataframe thead th {\n",
       "        text-align: right;\n",
       "    }\n",
       "</style>\n",
       "<table border=\"1\" class=\"dataframe\">\n",
       "  <thead>\n",
       "    <tr style=\"text-align: right;\">\n",
       "      <th></th>\n",
       "      <th>date</th>\n",
       "      <th>number_of_strikes</th>\n",
       "      <th>center_point_geom</th>\n",
       "    </tr>\n",
       "  </thead>\n",
       "  <tbody>\n",
       "    <tr>\n",
       "      <th>0</th>\n",
       "      <td>2018-01-03</td>\n",
       "      <td>194</td>\n",
       "      <td>POINT(-75 27)</td>\n",
       "    </tr>\n",
       "    <tr>\n",
       "      <th>1</th>\n",
       "      <td>2018-01-03</td>\n",
       "      <td>41</td>\n",
       "      <td>POINT(-78.4 29)</td>\n",
       "    </tr>\n",
       "    <tr>\n",
       "      <th>2</th>\n",
       "      <td>2018-01-03</td>\n",
       "      <td>33</td>\n",
       "      <td>POINT(-73.9 27)</td>\n",
       "    </tr>\n",
       "    <tr>\n",
       "      <th>3</th>\n",
       "      <td>2018-01-03</td>\n",
       "      <td>38</td>\n",
       "      <td>POINT(-73.8 27)</td>\n",
       "    </tr>\n",
       "    <tr>\n",
       "      <th>4</th>\n",
       "      <td>2018-01-03</td>\n",
       "      <td>92</td>\n",
       "      <td>POINT(-79 28)</td>\n",
       "    </tr>\n",
       "    <tr>\n",
       "      <th>5</th>\n",
       "      <td>2018-01-03</td>\n",
       "      <td>119</td>\n",
       "      <td>POINT(-78 28)</td>\n",
       "    </tr>\n",
       "    <tr>\n",
       "      <th>6</th>\n",
       "      <td>2018-01-03</td>\n",
       "      <td>35</td>\n",
       "      <td>POINT(-79.3 28)</td>\n",
       "    </tr>\n",
       "    <tr>\n",
       "      <th>7</th>\n",
       "      <td>2018-01-03</td>\n",
       "      <td>60</td>\n",
       "      <td>POINT(-79.1 28)</td>\n",
       "    </tr>\n",
       "    <tr>\n",
       "      <th>8</th>\n",
       "      <td>2018-01-03</td>\n",
       "      <td>41</td>\n",
       "      <td>POINT(-78.7 28)</td>\n",
       "    </tr>\n",
       "    <tr>\n",
       "      <th>9</th>\n",
       "      <td>2018-01-03</td>\n",
       "      <td>119</td>\n",
       "      <td>POINT(-78.6 28)</td>\n",
       "    </tr>\n",
       "  </tbody>\n",
       "</table>\n",
       "</div>"
      ],
      "text/plain": [
       "        date  number_of_strikes center_point_geom\n",
       "0 2018-01-03                194     POINT(-75 27)\n",
       "1 2018-01-03                 41   POINT(-78.4 29)\n",
       "2 2018-01-03                 33   POINT(-73.9 27)\n",
       "3 2018-01-03                 38   POINT(-73.8 27)\n",
       "4 2018-01-03                 92     POINT(-79 28)\n",
       "5 2018-01-03                119     POINT(-78 28)\n",
       "6 2018-01-03                 35   POINT(-79.3 28)\n",
       "7 2018-01-03                 60   POINT(-79.1 28)\n",
       "8 2018-01-03                 41   POINT(-78.7 28)\n",
       "9 2018-01-03                119   POINT(-78.6 28)"
      ]
     },
     "execution_count": 5,
     "metadata": {},
     "output_type": "execute_result"
    }
   ],
   "source": [
    "# inspect the first 10 rows\n",
    "df.head(10)"
   ]
  },
  {
   "cell_type": "code",
   "execution_count": 6,
   "id": "2495cdc5",
   "metadata": {},
   "outputs": [
    {
     "name": "stdout",
     "output_type": "stream",
     "text": [
      "<class 'pandas.core.frame.DataFrame'>\n",
      "RangeIndex: 3401012 entries, 0 to 3401011\n",
      "Data columns (total 3 columns):\n",
      " #   Column             Dtype         \n",
      "---  ------             -----         \n",
      " 0   date               datetime64[ns]\n",
      " 1   number_of_strikes  int64         \n",
      " 2   center_point_geom  object        \n",
      "dtypes: datetime64[ns](1), int64(1), object(1)\n",
      "memory usage: 77.8+ MB\n"
     ]
    }
   ],
   "source": [
    "# Get more info about the data, including data types of each column \n",
    "df.info()"
   ]
  },
  {
   "cell_type": "markdown",
   "id": "6fd14a01",
   "metadata": {},
   "source": [
    "> `int64`\n",
    "- Standard integer somewhere between negative nine quintillion and positive nine quintillion \n",
    "\n",
    ">`Strings`\n",
    "- A sequence of characters or integers that are unchangeable\n"
   ]
  },
  {
   "cell_type": "markdown",
   "id": "d79e6e2a",
   "metadata": {},
   "source": [
    "#### Helpful Python methods for 'discovering'\n",
    "- `.describe()`\n",
    "- `.sample()`\n",
    "- `.size`\n",
    "- `.shape`"
   ]
  },
  {
   "cell_type": "code",
   "execution_count": 7,
   "id": "7dd5a952",
   "metadata": {},
   "outputs": [
    {
     "data": {
      "application/vnd.microsoft.datawrangler.viewer.v0+json": {
       "columns": [
        {
         "name": "index",
         "rawType": "int64",
         "type": "integer"
        },
        {
         "name": "date",
         "rawType": "datetime64[ns]",
         "type": "datetime"
        },
        {
         "name": "number_of_strikes",
         "rawType": "int64",
         "type": "integer"
        },
        {
         "name": "center_point_geom",
         "rawType": "object",
         "type": "string"
        },
        {
         "name": "month",
         "rawType": "int32",
         "type": "integer"
        }
       ],
       "ref": "9031b1b1-3b62-457d-a81f-1bc05c21d212",
       "rows": [
        [
         "0",
         "2018-01-03 00:00:00",
         "194",
         "POINT(-75 27)",
         "1"
        ],
        [
         "1",
         "2018-01-03 00:00:00",
         "41",
         "POINT(-78.4 29)",
         "1"
        ],
        [
         "2",
         "2018-01-03 00:00:00",
         "33",
         "POINT(-73.9 27)",
         "1"
        ],
        [
         "3",
         "2018-01-03 00:00:00",
         "38",
         "POINT(-73.8 27)",
         "1"
        ],
        [
         "4",
         "2018-01-03 00:00:00",
         "92",
         "POINT(-79 28)",
         "1"
        ]
       ],
       "shape": {
        "columns": 4,
        "rows": 5
       }
      },
      "text/html": [
       "<div>\n",
       "<style scoped>\n",
       "    .dataframe tbody tr th:only-of-type {\n",
       "        vertical-align: middle;\n",
       "    }\n",
       "\n",
       "    .dataframe tbody tr th {\n",
       "        vertical-align: top;\n",
       "    }\n",
       "\n",
       "    .dataframe thead th {\n",
       "        text-align: right;\n",
       "    }\n",
       "</style>\n",
       "<table border=\"1\" class=\"dataframe\">\n",
       "  <thead>\n",
       "    <tr style=\"text-align: right;\">\n",
       "      <th></th>\n",
       "      <th>date</th>\n",
       "      <th>number_of_strikes</th>\n",
       "      <th>center_point_geom</th>\n",
       "      <th>month</th>\n",
       "    </tr>\n",
       "  </thead>\n",
       "  <tbody>\n",
       "    <tr>\n",
       "      <th>0</th>\n",
       "      <td>2018-01-03</td>\n",
       "      <td>194</td>\n",
       "      <td>POINT(-75 27)</td>\n",
       "      <td>1</td>\n",
       "    </tr>\n",
       "    <tr>\n",
       "      <th>1</th>\n",
       "      <td>2018-01-03</td>\n",
       "      <td>41</td>\n",
       "      <td>POINT(-78.4 29)</td>\n",
       "      <td>1</td>\n",
       "    </tr>\n",
       "    <tr>\n",
       "      <th>2</th>\n",
       "      <td>2018-01-03</td>\n",
       "      <td>33</td>\n",
       "      <td>POINT(-73.9 27)</td>\n",
       "      <td>1</td>\n",
       "    </tr>\n",
       "    <tr>\n",
       "      <th>3</th>\n",
       "      <td>2018-01-03</td>\n",
       "      <td>38</td>\n",
       "      <td>POINT(-73.8 27)</td>\n",
       "      <td>1</td>\n",
       "    </tr>\n",
       "    <tr>\n",
       "      <th>4</th>\n",
       "      <td>2018-01-03</td>\n",
       "      <td>92</td>\n",
       "      <td>POINT(-79 28)</td>\n",
       "      <td>1</td>\n",
       "    </tr>\n",
       "  </tbody>\n",
       "</table>\n",
       "</div>"
      ],
      "text/plain": [
       "        date  number_of_strikes center_point_geom  month\n",
       "0 2018-01-03                194     POINT(-75 27)      1\n",
       "1 2018-01-03                 41   POINT(-78.4 29)      1\n",
       "2 2018-01-03                 33   POINT(-73.9 27)      1\n",
       "3 2018-01-03                 38   POINT(-73.8 27)      1\n",
       "4 2018-01-03                 92     POINT(-79 28)      1"
      ]
     },
     "execution_count": 7,
     "metadata": {},
     "output_type": "execute_result"
    }
   ],
   "source": [
    "# Create a new 'month' column \n",
    "df['month'] = df['date'].dt.month\n",
    "df.head()"
   ]
  },
  {
   "cell_type": "code",
   "execution_count": 8,
   "id": "54355e71",
   "metadata": {},
   "outputs": [],
   "source": [
    "# Create a new 'month_txt' column\n",
    "df['month_txt'] = df['date'].dt.month_name().str.slice(stop=3)\n"
   ]
  },
  {
   "cell_type": "code",
   "execution_count": 9,
   "id": "b3f5dfe5",
   "metadata": {},
   "outputs": [
    {
     "data": {
      "application/vnd.microsoft.datawrangler.viewer.v0+json": {
       "columns": [
        {
         "name": "index",
         "rawType": "int64",
         "type": "integer"
        },
        {
         "name": "month",
         "rawType": "int32",
         "type": "integer"
        },
        {
         "name": "month_txt",
         "rawType": "object",
         "type": "string"
        },
        {
         "name": "number_of_strikes",
         "rawType": "int64",
         "type": "integer"
        }
       ],
       "ref": "0c4ec70d-bf64-42aa-8d1a-eca773205376",
       "rows": [
        [
         "0",
         "1",
         "Jan",
         "860045"
        ],
        [
         "1",
         "2",
         "Feb",
         "2071315"
        ],
        [
         "2",
         "3",
         "Mar",
         "854168"
        ],
        [
         "3",
         "4",
         "Apr",
         "1524339"
        ],
        [
         "4",
         "5",
         "May",
         "4166726"
        ],
        [
         "5",
         "6",
         "Jun",
         "6445083"
        ],
        [
         "6",
         "7",
         "Jul",
         "8320400"
        ],
        [
         "7",
         "8",
         "Aug",
         "15525255"
        ],
        [
         "8",
         "9",
         "Sep",
         "3018336"
        ],
        [
         "9",
         "10",
         "Oct",
         "1093962"
        ],
        [
         "10",
         "11",
         "Nov",
         "409263"
        ],
        [
         "11",
         "12",
         "Dec",
         "312097"
        ]
       ],
       "shape": {
        "columns": 3,
        "rows": 12
       }
      },
      "text/html": [
       "<div>\n",
       "<style scoped>\n",
       "    .dataframe tbody tr th:only-of-type {\n",
       "        vertical-align: middle;\n",
       "    }\n",
       "\n",
       "    .dataframe tbody tr th {\n",
       "        vertical-align: top;\n",
       "    }\n",
       "\n",
       "    .dataframe thead th {\n",
       "        text-align: right;\n",
       "    }\n",
       "</style>\n",
       "<table border=\"1\" class=\"dataframe\">\n",
       "  <thead>\n",
       "    <tr style=\"text-align: right;\">\n",
       "      <th></th>\n",
       "      <th>month</th>\n",
       "      <th>month_txt</th>\n",
       "      <th>number_of_strikes</th>\n",
       "    </tr>\n",
       "  </thead>\n",
       "  <tbody>\n",
       "    <tr>\n",
       "      <th>0</th>\n",
       "      <td>1</td>\n",
       "      <td>Jan</td>\n",
       "      <td>860045</td>\n",
       "    </tr>\n",
       "    <tr>\n",
       "      <th>1</th>\n",
       "      <td>2</td>\n",
       "      <td>Feb</td>\n",
       "      <td>2071315</td>\n",
       "    </tr>\n",
       "    <tr>\n",
       "      <th>2</th>\n",
       "      <td>3</td>\n",
       "      <td>Mar</td>\n",
       "      <td>854168</td>\n",
       "    </tr>\n",
       "    <tr>\n",
       "      <th>3</th>\n",
       "      <td>4</td>\n",
       "      <td>Apr</td>\n",
       "      <td>1524339</td>\n",
       "    </tr>\n",
       "    <tr>\n",
       "      <th>4</th>\n",
       "      <td>5</td>\n",
       "      <td>May</td>\n",
       "      <td>4166726</td>\n",
       "    </tr>\n",
       "    <tr>\n",
       "      <th>5</th>\n",
       "      <td>6</td>\n",
       "      <td>Jun</td>\n",
       "      <td>6445083</td>\n",
       "    </tr>\n",
       "    <tr>\n",
       "      <th>6</th>\n",
       "      <td>7</td>\n",
       "      <td>Jul</td>\n",
       "      <td>8320400</td>\n",
       "    </tr>\n",
       "    <tr>\n",
       "      <th>7</th>\n",
       "      <td>8</td>\n",
       "      <td>Aug</td>\n",
       "      <td>15525255</td>\n",
       "    </tr>\n",
       "    <tr>\n",
       "      <th>8</th>\n",
       "      <td>9</td>\n",
       "      <td>Sep</td>\n",
       "      <td>3018336</td>\n",
       "    </tr>\n",
       "    <tr>\n",
       "      <th>9</th>\n",
       "      <td>10</td>\n",
       "      <td>Oct</td>\n",
       "      <td>1093962</td>\n",
       "    </tr>\n",
       "    <tr>\n",
       "      <th>10</th>\n",
       "      <td>11</td>\n",
       "      <td>Nov</td>\n",
       "      <td>409263</td>\n",
       "    </tr>\n",
       "    <tr>\n",
       "      <th>11</th>\n",
       "      <td>12</td>\n",
       "      <td>Dec</td>\n",
       "      <td>312097</td>\n",
       "    </tr>\n",
       "  </tbody>\n",
       "</table>\n",
       "</div>"
      ],
      "text/plain": [
       "    month month_txt  number_of_strikes\n",
       "0       1       Jan             860045\n",
       "1       2       Feb            2071315\n",
       "2       3       Mar             854168\n",
       "3       4       Apr            1524339\n",
       "4       5       May            4166726\n",
       "5       6       Jun            6445083\n",
       "6       7       Jul            8320400\n",
       "7       8       Aug           15525255\n",
       "8       9       Sep            3018336\n",
       "9      10       Oct            1093962\n",
       "10     11       Nov             409263\n",
       "11     12       Dec             312097"
      ]
     },
     "execution_count": 9,
     "metadata": {},
     "output_type": "execute_result"
    }
   ],
   "source": [
    "# Create new helper dataframe for plotting \n",
    "df_by_month = df.groupby(['month','month_txt']).sum(numeric_only=True).sort_values('month', ascending= True).head(12).reset_index()\n",
    "df_by_month"
   ]
  },
  {
   "cell_type": "code",
   "execution_count": 10,
   "id": "9567a670",
   "metadata": {},
   "outputs": [
    {
     "data": {
      "image/png": "[encoded data removed]",
      "text/plain": [
       "<Figure size 640x480 with 1 Axes>"
      ]
     },
     "metadata": {},
     "output_type": "display_data"
    }
   ],
   "source": [
    "# ploting the number of strikes by month\n",
    "plt.bar(x=df_by_month['month_txt'],height=df_by_month['number_of_strikes'],label=\"Number of strikes\")\n",
    "\n",
    "plt.xlabel(\"months(2018)\")\n",
    "plt.ylabel(\"Number of lightning strikes\")\n",
    "plt.title(\"Number of lightning strikes in 2018 by months\")\n",
    "\n",
    "plt.legend()\n",
    "plt.show()"
   ]
  },
  {
   "cell_type": "markdown",
   "id": "35929c34",
   "metadata": {},
   "source": [
    "### Discover what is missing from your dataset\n",
    "\n",
    "#### Organize or alter data\n",
    "- Regroup entries into months/years or age ranges.\n",
    "- Group customers ages into age ranges.\n",
    "- Combine or split data columns.\n",
    "- Change date formats or time zones."
   ]
  },
  {
   "cell_type": "code",
   "execution_count": 11,
   "id": "918e0e5d",
   "metadata": {},
   "outputs": [
    {
     "data": {
      "application/vnd.microsoft.datawrangler.viewer.v0+json": {
       "columns": [
        {
         "name": "index",
         "rawType": "int64",
         "type": "integer"
        },
        {
         "name": "0",
         "rawType": "object",
         "type": "string"
        }
       ],
       "ref": "c3286d45-8240-4f13-adaa-5e01426b4fa1",
       "rows": [
        [
         "0",
         "2023-01-20"
        ],
        [
         "1",
         "2023-04-27"
        ],
        [
         "2",
         "2023-06-15"
        ]
       ],
       "shape": {
        "columns": 1,
        "rows": 3
       }
      },
      "text/plain": [
       "0    2023-01-20\n",
       "1    2023-04-27\n",
       "2    2023-06-15\n",
       "dtype: object"
      ]
     },
     "execution_count": 11,
     "metadata": {},
     "output_type": "execute_result"
    }
   ],
   "source": [
    "import pandas as pd \n",
    "data = ['2023-01-20', '2023-04-27', '2023-06-15']\n",
    "my_series = pd.Series(data)\n",
    "my_series"
   ]
  },
  {
   "cell_type": "markdown",
   "id": "d24a2057",
   "metadata": {},
   "source": []
  },
  {
   "cell_type": "code",
   "execution_count": 12,
   "id": "e92b1f85",
   "metadata": {},
   "outputs": [
    {
     "name": "stdout",
     "output_type": "stream",
     "text": [
      "<class 'pandas.core.series.Series'>\n",
      "RangeIndex: 3 entries, 0 to 2\n",
      "Series name: None\n",
      "Non-Null Count  Dtype         \n",
      "--------------  -----         \n",
      "3 non-null      datetime64[ns]\n",
      "dtypes: datetime64[ns](1)\n",
      "memory usage: 152.0 bytes\n"
     ]
    }
   ],
   "source": [
    "# converting the string to datetime 64 data type\n",
    "my_series = pd.to_datetime(my_series)\n",
    "my_series.info()"
   ]
  },
  {
   "cell_type": "code",
   "execution_count": 13,
   "id": "682c264b",
   "metadata": {},
   "outputs": [
    {
     "name": "stdout",
     "output_type": "stream",
     "text": [
      "0    2023\n",
      "1    2023\n",
      "2    2023\n",
      "dtype: int32\n",
      "0    1\n",
      "1    4\n",
      "2    6\n",
      "dtype: int32\n",
      "0    20\n",
      "1    27\n",
      "2    15\n",
      "dtype: int32\n"
     ]
    }
   ],
   "source": [
    "# When a Series object contains datetime data, you can use dt to access various properties\n",
    "print(my_series.dt.year)  # Extracts the year\n",
    "print(my_series.dt.month)  # Extracts the month\n",
    "print(my_series.dt.day)  # Extracts the day\n"
   ]
  },
  {
   "cell_type": "markdown",
   "id": "81df1a0f",
   "metadata": {},
   "source": [
    "#### Date string manipulation with Python \n",
    "\n"
   ]
  },
  {
   "cell_type": "code",
   "execution_count": 14,
   "id": "37e47db0",
   "metadata": {},
   "outputs": [
    {
     "data": {
      "application/vnd.microsoft.datawrangler.viewer.v0+json": {
       "columns": [
        {
         "name": "index",
         "rawType": "int64",
         "type": "integer"
        },
        {
         "name": "date",
         "rawType": "datetime64[ns]",
         "type": "datetime"
        },
        {
         "name": "number_of_strikes",
         "rawType": "int64",
         "type": "integer"
        },
        {
         "name": "center_point_geom",
         "rawType": "object",
         "type": "string"
        },
        {
         "name": "month",
         "rawType": "int32",
         "type": "integer"
        },
        {
         "name": "month_txt",
         "rawType": "object",
         "type": "string"
        }
       ],
       "ref": "55d429b4-02f6-4c85-b4b5-82e423c700c7",
       "rows": [
        [
         "0",
         "2018-01-03 00:00:00",
         "194",
         "POINT(-75 27)",
         "1",
         "Jan"
        ],
        [
         "1",
         "2018-01-03 00:00:00",
         "41",
         "POINT(-78.4 29)",
         "1",
         "Jan"
        ],
        [
         "2",
         "2018-01-03 00:00:00",
         "33",
         "POINT(-73.9 27)",
         "1",
         "Jan"
        ],
        [
         "3",
         "2018-01-03 00:00:00",
         "38",
         "POINT(-73.8 27)",
         "1",
         "Jan"
        ],
        [
         "4",
         "2018-01-03 00:00:00",
         "92",
         "POINT(-79 28)",
         "1",
         "Jan"
        ]
       ],
       "shape": {
        "columns": 5,
        "rows": 5
       }
      },
      "text/html": [
       "<div>\n",
       "<style scoped>\n",
       "    .dataframe tbody tr th:only-of-type {\n",
       "        vertical-align: middle;\n",
       "    }\n",
       "\n",
       "    .dataframe tbody tr th {\n",
       "        vertical-align: top;\n",
       "    }\n",
       "\n",
       "    .dataframe thead th {\n",
       "        text-align: right;\n",
       "    }\n",
       "</style>\n",
       "<table border=\"1\" class=\"dataframe\">\n",
       "  <thead>\n",
       "    <tr style=\"text-align: right;\">\n",
       "      <th></th>\n",
       "      <th>date</th>\n",
       "      <th>number_of_strikes</th>\n",
       "      <th>center_point_geom</th>\n",
       "      <th>month</th>\n",
       "      <th>month_txt</th>\n",
       "    </tr>\n",
       "  </thead>\n",
       "  <tbody>\n",
       "    <tr>\n",
       "      <th>0</th>\n",
       "      <td>2018-01-03</td>\n",
       "      <td>194</td>\n",
       "      <td>POINT(-75 27)</td>\n",
       "      <td>1</td>\n",
       "      <td>Jan</td>\n",
       "    </tr>\n",
       "    <tr>\n",
       "      <th>1</th>\n",
       "      <td>2018-01-03</td>\n",
       "      <td>41</td>\n",
       "      <td>POINT(-78.4 29)</td>\n",
       "      <td>1</td>\n",
       "      <td>Jan</td>\n",
       "    </tr>\n",
       "    <tr>\n",
       "      <th>2</th>\n",
       "      <td>2018-01-03</td>\n",
       "      <td>33</td>\n",
       "      <td>POINT(-73.9 27)</td>\n",
       "      <td>1</td>\n",
       "      <td>Jan</td>\n",
       "    </tr>\n",
       "    <tr>\n",
       "      <th>3</th>\n",
       "      <td>2018-01-03</td>\n",
       "      <td>38</td>\n",
       "      <td>POINT(-73.8 27)</td>\n",
       "      <td>1</td>\n",
       "      <td>Jan</td>\n",
       "    </tr>\n",
       "    <tr>\n",
       "      <th>4</th>\n",
       "      <td>2018-01-03</td>\n",
       "      <td>92</td>\n",
       "      <td>POINT(-79 28)</td>\n",
       "      <td>1</td>\n",
       "      <td>Jan</td>\n",
       "    </tr>\n",
       "  </tbody>\n",
       "</table>\n",
       "</div>"
      ],
      "text/plain": [
       "        date  number_of_strikes center_point_geom  month month_txt\n",
       "0 2018-01-03                194     POINT(-75 27)      1       Jan\n",
       "1 2018-01-03                 41   POINT(-78.4 29)      1       Jan\n",
       "2 2018-01-03                 33   POINT(-73.9 27)      1       Jan\n",
       "3 2018-01-03                 38   POINT(-73.8 27)      1       Jan\n",
       "4 2018-01-03                 92     POINT(-79 28)      1       Jan"
      ]
     },
     "execution_count": 14,
     "metadata": {},
     "output_type": "execute_result"
    }
   ],
   "source": [
    "# convert date column to datetime\n",
    "df['date'] = pd.to_datetime(df['date'])\n",
    "df.head()"
   ]
  },
  {
   "cell_type": "code",
   "execution_count": 15,
   "id": "b2901242",
   "metadata": {},
   "outputs": [],
   "source": [
    "# Create four new columns\n",
    "df['week'] = df['date'].dt.strftime('%Y-W%V')\n",
    "df['month'] = df['date'].dt.strftime('%Y-%m')\n",
    "df['quarter'] = df['date'].dt.to_period('Q').dt.strftime('%Y-Q%q')\n",
    "df['year'] = df['date'].dt.strftime('%Y')"
   ]
  },
  {
   "cell_type": "code",
   "execution_count": 16,
   "id": "c8c4e817",
   "metadata": {},
   "outputs": [
    {
     "data": {
      "application/vnd.microsoft.datawrangler.viewer.v0+json": {
       "columns": [
        {
         "name": "index",
         "rawType": "int64",
         "type": "integer"
        },
        {
         "name": "date",
         "rawType": "datetime64[ns]",
         "type": "datetime"
        },
        {
         "name": "number_of_strikes",
         "rawType": "int64",
         "type": "integer"
        },
        {
         "name": "center_point_geom",
         "rawType": "object",
         "type": "string"
        },
        {
         "name": "month",
         "rawType": "object",
         "type": "string"
        },
        {
         "name": "month_txt",
         "rawType": "object",
         "type": "string"
        },
        {
         "name": "week",
         "rawType": "object",
         "type": "string"
        },
        {
         "name": "quarter",
         "rawType": "object",
         "type": "string"
        },
        {
         "name": "year",
         "rawType": "object",
         "type": "string"
        }
       ],
       "ref": "905f53aa-8206-4f38-90de-3f135915f9ce",
       "rows": [
        [
         "0",
         "2018-01-03 00:00:00",
         "194",
         "POINT(-75 27)",
         "2018-01",
         "Jan",
         "2018-W01",
         "2018-Q1",
         "2018"
        ],
        [
         "1",
         "2018-01-03 00:00:00",
         "41",
         "POINT(-78.4 29)",
         "2018-01",
         "Jan",
         "2018-W01",
         "2018-Q1",
         "2018"
        ],
        [
         "2",
         "2018-01-03 00:00:00",
         "33",
         "POINT(-73.9 27)",
         "2018-01",
         "Jan",
         "2018-W01",
         "2018-Q1",
         "2018"
        ],
        [
         "3",
         "2018-01-03 00:00:00",
         "38",
         "POINT(-73.8 27)",
         "2018-01",
         "Jan",
         "2018-W01",
         "2018-Q1",
         "2018"
        ],
        [
         "4",
         "2018-01-03 00:00:00",
         "92",
         "POINT(-79 28)",
         "2018-01",
         "Jan",
         "2018-W01",
         "2018-Q1",
         "2018"
        ]
       ],
       "shape": {
        "columns": 8,
        "rows": 5
       }
      },
      "text/html": [
       "<div>\n",
       "<style scoped>\n",
       "    .dataframe tbody tr th:only-of-type {\n",
       "        vertical-align: middle;\n",
       "    }\n",
       "\n",
       "    .dataframe tbody tr th {\n",
       "        vertical-align: top;\n",
       "    }\n",
       "\n",
       "    .dataframe thead th {\n",
       "        text-align: right;\n",
       "    }\n",
       "</style>\n",
       "<table border=\"1\" class=\"dataframe\">\n",
       "  <thead>\n",
       "    <tr style=\"text-align: right;\">\n",
       "      <th></th>\n",
       "      <th>date</th>\n",
       "      <th>number_of_strikes</th>\n",
       "      <th>center_point_geom</th>\n",
       "      <th>month</th>\n",
       "      <th>month_txt</th>\n",
       "      <th>week</th>\n",
       "      <th>quarter</th>\n",
       "      <th>year</th>\n",
       "    </tr>\n",
       "  </thead>\n",
       "  <tbody>\n",
       "    <tr>\n",
       "      <th>0</th>\n",
       "      <td>2018-01-03</td>\n",
       "      <td>194</td>\n",
       "      <td>POINT(-75 27)</td>\n",
       "      <td>2018-01</td>\n",
       "      <td>Jan</td>\n",
       "      <td>2018-W01</td>\n",
       "      <td>2018-Q1</td>\n",
       "      <td>2018</td>\n",
       "    </tr>\n",
       "    <tr>\n",
       "      <th>1</th>\n",
       "      <td>2018-01-03</td>\n",
       "      <td>41</td>\n",
       "      <td>POINT(-78.4 29)</td>\n",
       "      <td>2018-01</td>\n",
       "      <td>Jan</td>\n",
       "      <td>2018-W01</td>\n",
       "      <td>2018-Q1</td>\n",
       "      <td>2018</td>\n",
       "    </tr>\n",
       "    <tr>\n",
       "      <th>2</th>\n",
       "      <td>2018-01-03</td>\n",
       "      <td>33</td>\n",
       "      <td>POINT(-73.9 27)</td>\n",
       "      <td>2018-01</td>\n",
       "      <td>Jan</td>\n",
       "      <td>2018-W01</td>\n",
       "      <td>2018-Q1</td>\n",
       "      <td>2018</td>\n",
       "    </tr>\n",
       "    <tr>\n",
       "      <th>3</th>\n",
       "      <td>2018-01-03</td>\n",
       "      <td>38</td>\n",
       "      <td>POINT(-73.8 27)</td>\n",
       "      <td>2018-01</td>\n",
       "      <td>Jan</td>\n",
       "      <td>2018-W01</td>\n",
       "      <td>2018-Q1</td>\n",
       "      <td>2018</td>\n",
       "    </tr>\n",
       "    <tr>\n",
       "      <th>4</th>\n",
       "      <td>2018-01-03</td>\n",
       "      <td>92</td>\n",
       "      <td>POINT(-79 28)</td>\n",
       "      <td>2018-01</td>\n",
       "      <td>Jan</td>\n",
       "      <td>2018-W01</td>\n",
       "      <td>2018-Q1</td>\n",
       "      <td>2018</td>\n",
       "    </tr>\n",
       "  </tbody>\n",
       "</table>\n",
       "</div>"
      ],
      "text/plain": [
       "        date  number_of_strikes center_point_geom    month month_txt  \\\n",
       "0 2018-01-03                194     POINT(-75 27)  2018-01       Jan   \n",
       "1 2018-01-03                 41   POINT(-78.4 29)  2018-01       Jan   \n",
       "2 2018-01-03                 33   POINT(-73.9 27)  2018-01       Jan   \n",
       "3 2018-01-03                 38   POINT(-73.8 27)  2018-01       Jan   \n",
       "4 2018-01-03                 92     POINT(-79 28)  2018-01       Jan   \n",
       "\n",
       "       week  quarter  year  \n",
       "0  2018-W01  2018-Q1  2018  \n",
       "1  2018-W01  2018-Q1  2018  \n",
       "2  2018-W01  2018-Q1  2018  \n",
       "3  2018-W01  2018-Q1  2018  \n",
       "4  2018-W01  2018-Q1  2018  "
      ]
     },
     "execution_count": 16,
     "metadata": {},
     "output_type": "execute_result"
    }
   ],
   "source": [
    "# Check the new columns\n",
    "df.head()"
   ]
  },
  {
   "cell_type": "code",
   "execution_count": 19,
   "id": "36172e54",
   "metadata": {},
   "outputs": [],
   "source": [
    "# Create new dataframe view of just 2018 data, summed by week \n",
    "df_by_week_2018 = df[df['year']=='2018'].groupby(['week']).sum(numeric_only=True).reset_index()"
   ]
  },
  {
   "cell_type": "code",
   "execution_count": 20,
   "id": "7b76f2cd",
   "metadata": {},
   "outputs": [
    {
     "data": {
      "text/plain": [
       "Text(0.5, 1.0, 'Number of lightning strikes in 2018 by week')"
      ]
     },
     "execution_count": 20,
     "metadata": {},
     "output_type": "execute_result"
    },
    {
     "data": {
      "image/png": "[encoded data removed]",
      "text/plain": [
       "<Figure size 640x480 with 1 Axes>"
      ]
     },
     "metadata": {},
     "output_type": "display_data"
    }
   ],
   "source": [
    "# Plot a bar chart of weeklu strike total in 2018\n",
    "plt.bar(x = df_by_week_2018['week'], height = df_by_week_2018['number_of_strikes'])\n",
    "plt.plot()\n",
    "plt.xlabel(\"Week number\")\n",
    "plt.ylabel(\"Number of lightning strikes\")\n",
    "plt.title(\"Number of lightning strikes in 2018 by week\")"
   ]
  },
  {
   "cell_type": "code",
   "execution_count": 21,
   "id": "b20e228c",
   "metadata": {},
   "outputs": [
    {
     "data": {
      "image/png": "[encoded data removed]",
      "text/plain": [
       "<Figure size 2000x500 with 1 Axes>"
      ]
     },
     "metadata": {},
     "output_type": "display_data"
    }
   ],
   "source": [
    "# Adjusting the graph size\n",
    "plt.figure(figsize = (20, 5))\n",
    "plt.bar(x = df_by_week_2018['week'], height = df_by_week_2018['number_of_strikes'])\n",
    "plt.plot()\n",
    "plt.xlabel(\"Week number\")\n",
    "plt.ylabel(\"NUmber to lightning strikes\")\n",
    "plt.title(\"NUmber of lightning strikes per week (2018)\")\n",
    "plt.xticks(rotation = 45, fontsize = 8)\n",
    "\n",
    "plt.show()"
   ]
  },
  {
   "cell_type": "code",
   "execution_count": 22,
   "id": "43f14d47",
   "metadata": {},
   "outputs": [
    {
     "data": {
      "application/vnd.microsoft.datawrangler.viewer.v0+json": {
       "columns": [
        {
         "name": "index",
         "rawType": "int64",
         "type": "integer"
        },
        {
         "name": "number_of_strikes",
         "rawType": "float64",
         "type": "float"
        }
       ],
       "ref": "27ba93bb-1ae2-4e62-a8f2-c303b68f3146",
       "rows": [
        [
         "0",
         "0.000194"
        ],
        [
         "1",
         "4.1e-05"
        ],
        [
         "2",
         "3.3e-05"
        ],
        [
         "3",
         "3.8e-05"
        ],
        [
         "4",
         "9.2e-05"
        ]
       ],
       "shape": {
        "columns": 1,
        "rows": 5
       }
      },
      "text/plain": [
       "0    0.000194\n",
       "1    0.000041\n",
       "2    0.000033\n",
       "3    0.000038\n",
       "4    0.000092\n",
       "Name: number_of_strikes, dtype: float64"
      ]
     },
     "execution_count": 22,
     "metadata": {},
     "output_type": "execute_result"
    }
   ],
   "source": [
    "# plot the number of quarterly lightning strikes from 2016-2018\n",
    "df_by_quarter = df['number_of_strikes'].div(1000000)\n",
    "df_by_quarter.head()"
   ]
  },
  {
   "cell_type": "code",
   "execution_count": 23,
   "id": "57bee88e",
   "metadata": {},
   "outputs": [
    {
     "ename": "KeyError",
     "evalue": "'quarter'",
     "output_type": "error",
     "traceback": [
      "\u001b[0;31m---------------------------------------------------------------------------\u001b[0m",
      "\u001b[0;31mKeyError\u001b[0m                                  Traceback (most recent call last)",
      "Cell \u001b[0;32mIn[23], line 2\u001b[0m\n\u001b[1;32m      1\u001b[0m \u001b[38;5;66;03m# Group 2016-2018 data by quarter and sum.\u001b[39;00m\n\u001b[0;32m----> 2\u001b[0m df_by_quarter \u001b[38;5;241m=\u001b[39m \u001b[43mdf\u001b[49m\u001b[38;5;241;43m.\u001b[39;49m\u001b[43mgroupby\u001b[49m\u001b[43m(\u001b[49m\u001b[43m[\u001b[49m\u001b[38;5;124;43m'\u001b[39;49m\u001b[38;5;124;43mquarter\u001b[39;49m\u001b[38;5;124;43m'\u001b[39;49m\u001b[43m]\u001b[49m\u001b[43m)\u001b[49m\u001b[38;5;241m.\u001b[39msum()\u001b[38;5;241m.\u001b[39mreset_index()\n\u001b[1;32m      4\u001b[0m \u001b[38;5;66;03m# Format as text, in millions.\u001b[39;00m\n\u001b[1;32m      5\u001b[0m df_by_quarter[\u001b[38;5;124m'\u001b[39m\u001b[38;5;124mnumber_of_strikes_formatted\u001b[39m\u001b[38;5;124m'\u001b[39m] \u001b[38;5;241m=\u001b[39m df_by_quarter[\u001b[38;5;124m'\u001b[39m\u001b[38;5;124mnumber_of_strikes\u001b[39m\u001b[38;5;124m'\u001b[39m]\u001b[38;5;241m.\u001b[39mdiv(\u001b[38;5;241m1000000\u001b[39m)\u001b[38;5;241m.\u001b[39mround(\u001b[38;5;241m1\u001b[39m)\u001b[38;5;241m.\u001b[39mastype(\u001b[38;5;28mstr\u001b[39m) \u001b[38;5;241m+\u001b[39m \u001b[38;5;124m'\u001b[39m\u001b[38;5;124mM\u001b[39m\u001b[38;5;124m'\u001b[39m\n",
      "File \u001b[0;32m~/.local/lib/python3.10/site-packages/pandas/core/frame.py:9183\u001b[0m, in \u001b[0;36mDataFrame.groupby\u001b[0;34m(self, by, axis, level, as_index, sort, group_keys, observed, dropna)\u001b[0m\n\u001b[1;32m   9180\u001b[0m \u001b[38;5;28;01mif\u001b[39;00m level \u001b[38;5;129;01mis\u001b[39;00m \u001b[38;5;28;01mNone\u001b[39;00m \u001b[38;5;129;01mand\u001b[39;00m by \u001b[38;5;129;01mis\u001b[39;00m \u001b[38;5;28;01mNone\u001b[39;00m:\n\u001b[1;32m   9181\u001b[0m     \u001b[38;5;28;01mraise\u001b[39;00m \u001b[38;5;167;01mTypeError\u001b[39;00m(\u001b[38;5;124m\"\u001b[39m\u001b[38;5;124mYou have to supply one of \u001b[39m\u001b[38;5;124m'\u001b[39m\u001b[38;5;124mby\u001b[39m\u001b[38;5;124m'\u001b[39m\u001b[38;5;124m and \u001b[39m\u001b[38;5;124m'\u001b[39m\u001b[38;5;124mlevel\u001b[39m\u001b[38;5;124m'\u001b[39m\u001b[38;5;124m\"\u001b[39m)\n\u001b[0;32m-> 9183\u001b[0m \u001b[38;5;28;01mreturn\u001b[39;00m \u001b[43mDataFrameGroupBy\u001b[49m\u001b[43m(\u001b[49m\n\u001b[1;32m   9184\u001b[0m \u001b[43m    \u001b[49m\u001b[43mobj\u001b[49m\u001b[38;5;241;43m=\u001b[39;49m\u001b[38;5;28;43mself\u001b[39;49m\u001b[43m,\u001b[49m\n\u001b[1;32m   9185\u001b[0m \u001b[43m    \u001b[49m\u001b[43mkeys\u001b[49m\u001b[38;5;241;43m=\u001b[39;49m\u001b[43mby\u001b[49m\u001b[43m,\u001b[49m\n\u001b[1;32m   9186\u001b[0m \u001b[43m    \u001b[49m\u001b[43maxis\u001b[49m\u001b[38;5;241;43m=\u001b[39;49m\u001b[43maxis\u001b[49m\u001b[43m,\u001b[49m\n\u001b[1;32m   9187\u001b[0m \u001b[43m    \u001b[49m\u001b[43mlevel\u001b[49m\u001b[38;5;241;43m=\u001b[39;49m\u001b[43mlevel\u001b[49m\u001b[43m,\u001b[49m\n\u001b[1;32m   9188\u001b[0m \u001b[43m    \u001b[49m\u001b[43mas_index\u001b[49m\u001b[38;5;241;43m=\u001b[39;49m\u001b[43mas_index\u001b[49m\u001b[43m,\u001b[49m\n\u001b[1;32m   9189\u001b[0m \u001b[43m    \u001b[49m\u001b[43msort\u001b[49m\u001b[38;5;241;43m=\u001b[39;49m\u001b[43msort\u001b[49m\u001b[43m,\u001b[49m\n\u001b[1;32m   9190\u001b[0m \u001b[43m    \u001b[49m\u001b[43mgroup_keys\u001b[49m\u001b[38;5;241;43m=\u001b[39;49m\u001b[43mgroup_keys\u001b[49m\u001b[43m,\u001b[49m\n\u001b[1;32m   9191\u001b[0m \u001b[43m    \u001b[49m\u001b[43mobserved\u001b[49m\u001b[38;5;241;43m=\u001b[39;49m\u001b[43mobserved\u001b[49m\u001b[43m,\u001b[49m\n\u001b[1;32m   9192\u001b[0m \u001b[43m    \u001b[49m\u001b[43mdropna\u001b[49m\u001b[38;5;241;43m=\u001b[39;49m\u001b[43mdropna\u001b[49m\u001b[43m,\u001b[49m\n\u001b[1;32m   9193\u001b[0m \u001b[43m\u001b[49m\u001b[43m)\u001b[49m\n",
      "File \u001b[0;32m~/.local/lib/python3.10/site-packages/pandas/core/groupby/groupby.py:1329\u001b[0m, in \u001b[0;36mGroupBy.__init__\u001b[0;34m(self, obj, keys, axis, level, grouper, exclusions, selection, as_index, sort, group_keys, observed, dropna)\u001b[0m\n\u001b[1;32m   1326\u001b[0m \u001b[38;5;28mself\u001b[39m\u001b[38;5;241m.\u001b[39mdropna \u001b[38;5;241m=\u001b[39m dropna\n\u001b[1;32m   1328\u001b[0m \u001b[38;5;28;01mif\u001b[39;00m grouper \u001b[38;5;129;01mis\u001b[39;00m \u001b[38;5;28;01mNone\u001b[39;00m:\n\u001b[0;32m-> 1329\u001b[0m     grouper, exclusions, obj \u001b[38;5;241m=\u001b[39m \u001b[43mget_grouper\u001b[49m\u001b[43m(\u001b[49m\n\u001b[1;32m   1330\u001b[0m \u001b[43m        \u001b[49m\u001b[43mobj\u001b[49m\u001b[43m,\u001b[49m\n\u001b[1;32m   1331\u001b[0m \u001b[43m        \u001b[49m\u001b[43mkeys\u001b[49m\u001b[43m,\u001b[49m\n\u001b[1;32m   1332\u001b[0m \u001b[43m        \u001b[49m\u001b[43maxis\u001b[49m\u001b[38;5;241;43m=\u001b[39;49m\u001b[43maxis\u001b[49m\u001b[43m,\u001b[49m\n\u001b[1;32m   1333\u001b[0m \u001b[43m        \u001b[49m\u001b[43mlevel\u001b[49m\u001b[38;5;241;43m=\u001b[39;49m\u001b[43mlevel\u001b[49m\u001b[43m,\u001b[49m\n\u001b[1;32m   1334\u001b[0m \u001b[43m        \u001b[49m\u001b[43msort\u001b[49m\u001b[38;5;241;43m=\u001b[39;49m\u001b[43msort\u001b[49m\u001b[43m,\u001b[49m\n\u001b[1;32m   1335\u001b[0m \u001b[43m        \u001b[49m\u001b[43mobserved\u001b[49m\u001b[38;5;241;43m=\u001b[39;49m\u001b[38;5;28;43;01mFalse\u001b[39;49;00m\u001b[43m \u001b[49m\u001b[38;5;28;43;01mif\u001b[39;49;00m\u001b[43m \u001b[49m\u001b[43mobserved\u001b[49m\u001b[43m \u001b[49m\u001b[38;5;129;43;01mis\u001b[39;49;00m\u001b[43m \u001b[49m\u001b[43mlib\u001b[49m\u001b[38;5;241;43m.\u001b[39;49m\u001b[43mno_default\u001b[49m\u001b[43m \u001b[49m\u001b[38;5;28;43;01melse\u001b[39;49;00m\u001b[43m \u001b[49m\u001b[43mobserved\u001b[49m\u001b[43m,\u001b[49m\n\u001b[1;32m   1336\u001b[0m \u001b[43m        \u001b[49m\u001b[43mdropna\u001b[49m\u001b[38;5;241;43m=\u001b[39;49m\u001b[38;5;28;43mself\u001b[39;49m\u001b[38;5;241;43m.\u001b[39;49m\u001b[43mdropna\u001b[49m\u001b[43m,\u001b[49m\n\u001b[1;32m   1337\u001b[0m \u001b[43m    \u001b[49m\u001b[43m)\u001b[49m\n\u001b[1;32m   1339\u001b[0m \u001b[38;5;28;01mif\u001b[39;00m observed \u001b[38;5;129;01mis\u001b[39;00m lib\u001b[38;5;241m.\u001b[39mno_default:\n\u001b[1;32m   1340\u001b[0m     \u001b[38;5;28;01mif\u001b[39;00m \u001b[38;5;28many\u001b[39m(ping\u001b[38;5;241m.\u001b[39m_passed_categorical \u001b[38;5;28;01mfor\u001b[39;00m ping \u001b[38;5;129;01min\u001b[39;00m grouper\u001b[38;5;241m.\u001b[39mgroupings):\n",
      "File \u001b[0;32m~/.local/lib/python3.10/site-packages/pandas/core/groupby/grouper.py:1043\u001b[0m, in \u001b[0;36mget_grouper\u001b[0;34m(obj, key, axis, level, sort, observed, validate, dropna)\u001b[0m\n\u001b[1;32m   1041\u001b[0m         in_axis, level, gpr \u001b[38;5;241m=\u001b[39m \u001b[38;5;28;01mFalse\u001b[39;00m, gpr, \u001b[38;5;28;01mNone\u001b[39;00m\n\u001b[1;32m   1042\u001b[0m     \u001b[38;5;28;01melse\u001b[39;00m:\n\u001b[0;32m-> 1043\u001b[0m         \u001b[38;5;28;01mraise\u001b[39;00m \u001b[38;5;167;01mKeyError\u001b[39;00m(gpr)\n\u001b[1;32m   1044\u001b[0m \u001b[38;5;28;01melif\u001b[39;00m \u001b[38;5;28misinstance\u001b[39m(gpr, Grouper) \u001b[38;5;129;01mand\u001b[39;00m gpr\u001b[38;5;241m.\u001b[39mkey \u001b[38;5;129;01mis\u001b[39;00m \u001b[38;5;129;01mnot\u001b[39;00m \u001b[38;5;28;01mNone\u001b[39;00m:\n\u001b[1;32m   1045\u001b[0m     \u001b[38;5;66;03m# Add key to exclusions\u001b[39;00m\n\u001b[1;32m   1046\u001b[0m     exclusions\u001b[38;5;241m.\u001b[39madd(gpr\u001b[38;5;241m.\u001b[39mkey)\n",
      "\u001b[0;31mKeyError\u001b[0m: 'quarter'"
     ]
    }
   ],
   "source": [
    "# Group 2016-2018 data by quarter and sum.\n",
    "df_by_quarter = df.groupby(['quarter']).sum().reset_index()\n",
    "\n",
    "# Format as text, in millions.\n",
    "df_by_quarter['number_of_strikes_formatted'] = df_by_quarter['number_of_strikes'].div(1000000).round(1).astype(str) + 'M'\n",
    "\n",
    "df_by_quarter.head()"
   ]
  },
  {
   "cell_type": "markdown",
   "id": "ff688f99",
   "metadata": {},
   "source": [
    "#### Structuring Data \n",
    "1. Sorting:\n",
    "the process of arranging data into meaningful order\n",
    "\n",
    "2. Extracting:\n",
    "THe process of retrieving data from a dataset or source for durther processing \n",
    "\n",
    "3. Filtering:\n",
    "The process of selecting a smaller part of your dataset based on specified parameters and using it for viewing or analysis\n",
    "\n",
    "4. Slicing:\n",
    "A method for breaking information down into smaller parts to facilitate efficient examination and analysis from different viewpoints\n",
    "\n",
    "5. Grouping:\n",
    "Aggregating individual observation of a variable into groups\n",
    "\n",
    "6. Merging:\n",
    "Method to combine two different data frames along a specified starting column \n",
    "\n",
    "> Pandas tools for structuring a dataset\n",
    "\n"
   ]
  },
  {
   "cell_type": "markdown",
   "id": "e491c404",
   "metadata": {},
   "source": [
    "`df.merge()`:\n",
    "- A method available to the `DataFrame` class. \n",
    "- Use `df.merge()` to take columns or indices from other dataframes and combine them with the one to which you're applying the method "
   ]
  },
  {
   "cell_type": "code",
   "execution_count": 29,
   "id": "7a3ef550",
   "metadata": {},
   "outputs": [],
   "source": [
    "df1 = pd.read_csv('~/Desktop/data_analysis/DATA/Google_Data/Modified_Unicorn_Companies.csv')\n",
    "df2 = pd.read_csv('~/Desktop/data_analysis/DATA/Google_Data/Unicorn_Companies.csv')\n"
   ]
  },
  {
   "cell_type": "code",
   "execution_count": null,
   "id": "b9ccf2bb",
   "metadata": {},
   "outputs": [],
   "source": [
    "df1.merge(df2, how='inner', on=['month','year'])"
   ]
  },
  {
   "cell_type": "markdown",
   "id": "c87396b5",
   "metadata": {},
   "source": [
    "`pd.concat()`\n",
    "- A pandas function to combine series and/or dataframes\n",
    "- Use `pd.concat()` to join columns, rows, or dataframes along a particular axis."
   ]
  },
  {
   "cell_type": "code",
   "execution_count": null,
   "id": "0df59e94",
   "metadata": {},
   "outputs": [],
   "source": [
    "df3 = pd.concat([df1.drop(['column_1', 'column_2'], axis=1), df2])"
   ]
  },
  {
   "cell_type": "markdown",
   "id": "32f0e838",
   "metadata": {},
   "source": [
    "**`df.join()`**\n",
    "- A method available to `DataFrame` class. \n",
    "- Use `df.join()` to combine columns with another dataframe either on an index or on a key column. Efficiently join multiple `DataFrame` objects by index at once by passing a list. "
   ]
  },
  {
   "cell_type": "code",
   "execution_count": null,
   "id": "3277e8a5",
   "metadata": {},
   "outputs": [],
   "source": [
    "df1.set_index('key').join(df2.set_index('key'))"
   ]
  },
  {
   "cell_type": "markdown",
   "id": "a9e7ed23",
   "metadata": {},
   "source": [
    "#### Extract or Select data:\n",
    "**`df[[columns]]`**\n",
    "- Use `df[[columns]]` to extract/select columns from a dataframe. "
   ]
  },
  {
   "cell_type": "code",
   "execution_count": 35,
   "id": "439cbfe3",
   "metadata": {},
   "outputs": [
    {
     "name": "stdout",
     "output_type": "stream",
     "text": [
      "              date  number_of_strikes  center_point_geom    month month_txt  \\\n",
      "0       2018-01-03                194      POINT(-75 27)  2018-01       Jan   \n",
      "1       2018-01-03                 41    POINT(-78.4 29)  2018-01       Jan   \n",
      "2       2018-01-03                 33    POINT(-73.9 27)  2018-01       Jan   \n",
      "3       2018-01-03                 38    POINT(-73.8 27)  2018-01       Jan   \n",
      "4       2018-01-03                 92      POINT(-79 28)  2018-01       Jan   \n",
      "...            ...                ...                ...      ...       ...   \n",
      "3401007 2018-12-28                 30  POINT(-90.6 28.7)  2018-12       Dec   \n",
      "3401008 2018-12-28                 30  POINT(-89.4 30.9)  2018-12       Dec   \n",
      "3401009 2018-12-28                 30  POINT(-89.5 31.4)  2018-12       Dec   \n",
      "3401010 2018-12-28                 30  POINT(-88.3 31.6)  2018-12       Dec   \n",
      "3401011 2018-12-28                 30  POINT(-88.4 32.1)  2018-12       Dec   \n",
      "\n",
      "             week  quarter  year  \n",
      "0        2018-W01  2018-Q1  2018  \n",
      "1        2018-W01  2018-Q1  2018  \n",
      "2        2018-W01  2018-Q1  2018  \n",
      "3        2018-W01  2018-Q1  2018  \n",
      "4        2018-W01  2018-Q1  2018  \n",
      "...           ...      ...   ...  \n",
      "3401007  2018-W52  2018-Q4  2018  \n",
      "3401008  2018-W52  2018-Q4  2018  \n",
      "3401009  2018-W52  2018-Q4  2018  \n",
      "3401010  2018-W52  2018-Q4  2018  \n",
      "3401011  2018-W52  2018-Q4  2018  \n",
      "\n",
      "[3401012 rows x 8 columns]\n",
      "\n"
     ]
    },
    {
     "data": {
      "application/vnd.microsoft.datawrangler.viewer.v0+json": {
       "columns": [
        {
         "name": "index",
         "rawType": "int64",
         "type": "integer"
        },
        {
         "name": "date",
         "rawType": "datetime64[ns]",
         "type": "datetime"
        },
        {
         "name": "month",
         "rawType": "object",
         "type": "string"
        }
       ],
       "ref": "33220f2c-561b-441e-b5b6-b43d2c3cab63",
       "rows": [
        [
         "0",
         "2018-01-03 00:00:00",
         "2018-01"
        ],
        [
         "1",
         "2018-01-03 00:00:00",
         "2018-01"
        ],
        [
         "2",
         "2018-01-03 00:00:00",
         "2018-01"
        ],
        [
         "3",
         "2018-01-03 00:00:00",
         "2018-01"
        ],
        [
         "4",
         "2018-01-03 00:00:00",
         "2018-01"
        ],
        [
         "5",
         "2018-01-03 00:00:00",
         "2018-01"
        ],
        [
         "6",
         "2018-01-03 00:00:00",
         "2018-01"
        ],
        [
         "7",
         "2018-01-03 00:00:00",
         "2018-01"
        ],
        [
         "8",
         "2018-01-03 00:00:00",
         "2018-01"
        ],
        [
         "9",
         "2018-01-03 00:00:00",
         "2018-01"
        ],
        [
         "10",
         "2018-01-03 00:00:00",
         "2018-01"
        ],
        [
         "11",
         "2018-01-03 00:00:00",
         "2018-01"
        ],
        [
         "12",
         "2018-01-03 00:00:00",
         "2018-01"
        ],
        [
         "13",
         "2018-01-03 00:00:00",
         "2018-01"
        ],
        [
         "14",
         "2018-01-03 00:00:00",
         "2018-01"
        ],
        [
         "15",
         "2018-01-03 00:00:00",
         "2018-01"
        ],
        [
         "16",
         "2018-01-03 00:00:00",
         "2018-01"
        ],
        [
         "17",
         "2018-01-03 00:00:00",
         "2018-01"
        ],
        [
         "18",
         "2018-01-03 00:00:00",
         "2018-01"
        ],
        [
         "19",
         "2018-01-03 00:00:00",
         "2018-01"
        ],
        [
         "20",
         "2018-01-03 00:00:00",
         "2018-01"
        ],
        [
         "21",
         "2018-01-03 00:00:00",
         "2018-01"
        ],
        [
         "22",
         "2018-01-03 00:00:00",
         "2018-01"
        ],
        [
         "23",
         "2018-01-03 00:00:00",
         "2018-01"
        ],
        [
         "24",
         "2018-01-03 00:00:00",
         "2018-01"
        ],
        [
         "25",
         "2018-01-03 00:00:00",
         "2018-01"
        ],
        [
         "26",
         "2018-01-03 00:00:00",
         "2018-01"
        ],
        [
         "27",
         "2018-01-03 00:00:00",
         "2018-01"
        ],
        [
         "28",
         "2018-01-03 00:00:00",
         "2018-01"
        ],
        [
         "29",
         "2018-01-03 00:00:00",
         "2018-01"
        ],
        [
         "30",
         "2018-01-03 00:00:00",
         "2018-01"
        ],
        [
         "31",
         "2018-01-03 00:00:00",
         "2018-01"
        ],
        [
         "32",
         "2018-01-03 00:00:00",
         "2018-01"
        ],
        [
         "33",
         "2018-01-03 00:00:00",
         "2018-01"
        ],
        [
         "34",
         "2018-01-03 00:00:00",
         "2018-01"
        ],
        [
         "35",
         "2018-01-03 00:00:00",
         "2018-01"
        ],
        [
         "36",
         "2018-01-03 00:00:00",
         "2018-01"
        ],
        [
         "37",
         "2018-01-03 00:00:00",
         "2018-01"
        ],
        [
         "38",
         "2018-01-03 00:00:00",
         "2018-01"
        ],
        [
         "39",
         "2018-01-03 00:00:00",
         "2018-01"
        ],
        [
         "40",
         "2018-01-03 00:00:00",
         "2018-01"
        ],
        [
         "41",
         "2018-01-03 00:00:00",
         "2018-01"
        ],
        [
         "42",
         "2018-01-03 00:00:00",
         "2018-01"
        ],
        [
         "43",
         "2018-01-03 00:00:00",
         "2018-01"
        ],
        [
         "44",
         "2018-01-03 00:00:00",
         "2018-01"
        ],
        [
         "45",
         "2018-01-03 00:00:00",
         "2018-01"
        ],
        [
         "46",
         "2018-01-03 00:00:00",
         "2018-01"
        ],
        [
         "47",
         "2018-01-03 00:00:00",
         "2018-01"
        ],
        [
         "48",
         "2018-01-03 00:00:00",
         "2018-01"
        ],
        [
         "49",
         "2018-01-03 00:00:00",
         "2018-01"
        ]
       ],
       "shape": {
        "columns": 2,
        "rows": 3401012
       }
      },
      "text/html": [
       "<div>\n",
       "<style scoped>\n",
       "    .dataframe tbody tr th:only-of-type {\n",
       "        vertical-align: middle;\n",
       "    }\n",
       "\n",
       "    .dataframe tbody tr th {\n",
       "        vertical-align: top;\n",
       "    }\n",
       "\n",
       "    .dataframe thead th {\n",
       "        text-align: right;\n",
       "    }\n",
       "</style>\n",
       "<table border=\"1\" class=\"dataframe\">\n",
       "  <thead>\n",
       "    <tr style=\"text-align: right;\">\n",
       "      <th></th>\n",
       "      <th>date</th>\n",
       "      <th>month</th>\n",
       "    </tr>\n",
       "  </thead>\n",
       "  <tbody>\n",
       "    <tr>\n",
       "      <th>0</th>\n",
       "      <td>2018-01-03</td>\n",
       "      <td>2018-01</td>\n",
       "    </tr>\n",
       "    <tr>\n",
       "      <th>1</th>\n",
       "      <td>2018-01-03</td>\n",
       "      <td>2018-01</td>\n",
       "    </tr>\n",
       "    <tr>\n",
       "      <th>2</th>\n",
       "      <td>2018-01-03</td>\n",
       "      <td>2018-01</td>\n",
       "    </tr>\n",
       "    <tr>\n",
       "      <th>3</th>\n",
       "      <td>2018-01-03</td>\n",
       "      <td>2018-01</td>\n",
       "    </tr>\n",
       "    <tr>\n",
       "      <th>4</th>\n",
       "      <td>2018-01-03</td>\n",
       "      <td>2018-01</td>\n",
       "    </tr>\n",
       "    <tr>\n",
       "      <th>...</th>\n",
       "      <td>...</td>\n",
       "      <td>...</td>\n",
       "    </tr>\n",
       "    <tr>\n",
       "      <th>3401007</th>\n",
       "      <td>2018-12-28</td>\n",
       "      <td>2018-12</td>\n",
       "    </tr>\n",
       "    <tr>\n",
       "      <th>3401008</th>\n",
       "      <td>2018-12-28</td>\n",
       "      <td>2018-12</td>\n",
       "    </tr>\n",
       "    <tr>\n",
       "      <th>3401009</th>\n",
       "      <td>2018-12-28</td>\n",
       "      <td>2018-12</td>\n",
       "    </tr>\n",
       "    <tr>\n",
       "      <th>3401010</th>\n",
       "      <td>2018-12-28</td>\n",
       "      <td>2018-12</td>\n",
       "    </tr>\n",
       "    <tr>\n",
       "      <th>3401011</th>\n",
       "      <td>2018-12-28</td>\n",
       "      <td>2018-12</td>\n",
       "    </tr>\n",
       "  </tbody>\n",
       "</table>\n",
       "<p>3401012 rows × 2 columns</p>\n",
       "</div>"
      ],
      "text/plain": [
       "              date    month\n",
       "0       2018-01-03  2018-01\n",
       "1       2018-01-03  2018-01\n",
       "2       2018-01-03  2018-01\n",
       "3       2018-01-03  2018-01\n",
       "4       2018-01-03  2018-01\n",
       "...            ...      ...\n",
       "3401007 2018-12-28  2018-12\n",
       "3401008 2018-12-28  2018-12\n",
       "3401009 2018-12-28  2018-12\n",
       "3401010 2018-12-28  2018-12\n",
       "3401011 2018-12-28  2018-12\n",
       "\n",
       "[3401012 rows x 2 columns]"
      ]
     },
     "execution_count": 35,
     "metadata": {},
     "output_type": "execute_result"
    }
   ],
   "source": [
    "print(df)\n",
    "print()\n",
    "df[['date', 'month']]"
   ]
  },
  {
   "cell_type": "markdown",
   "id": "755319e4",
   "metadata": {},
   "source": [
    "**`df.select_dtypes()`**\n",
    "- A method available to the `DataFrame` class. \n",
    "- Use `df.select_dtypes()` to return a subset of the dataframe's columns based on the column dtypes (e.g., `float64`, `int64`, `bool`, `object`, etc)"
   ]
  },
  {
   "cell_type": "code",
   "execution_count": 36,
   "id": "715aad0b",
   "metadata": {},
   "outputs": [
    {
     "name": "stdout",
     "output_type": "stream",
     "text": [
      "              date  number_of_strikes  center_point_geom    month month_txt  \\\n",
      "0       2018-01-03                194      POINT(-75 27)  2018-01       Jan   \n",
      "1       2018-01-03                 41    POINT(-78.4 29)  2018-01       Jan   \n",
      "2       2018-01-03                 33    POINT(-73.9 27)  2018-01       Jan   \n",
      "3       2018-01-03                 38    POINT(-73.8 27)  2018-01       Jan   \n",
      "4       2018-01-03                 92      POINT(-79 28)  2018-01       Jan   \n",
      "...            ...                ...                ...      ...       ...   \n",
      "3401007 2018-12-28                 30  POINT(-90.6 28.7)  2018-12       Dec   \n",
      "3401008 2018-12-28                 30  POINT(-89.4 30.9)  2018-12       Dec   \n",
      "3401009 2018-12-28                 30  POINT(-89.5 31.4)  2018-12       Dec   \n",
      "3401010 2018-12-28                 30  POINT(-88.3 31.6)  2018-12       Dec   \n",
      "3401011 2018-12-28                 30  POINT(-88.4 32.1)  2018-12       Dec   \n",
      "\n",
      "             week  quarter  year  \n",
      "0        2018-W01  2018-Q1  2018  \n",
      "1        2018-W01  2018-Q1  2018  \n",
      "2        2018-W01  2018-Q1  2018  \n",
      "3        2018-W01  2018-Q1  2018  \n",
      "4        2018-W01  2018-Q1  2018  \n",
      "...           ...      ...   ...  \n",
      "3401007  2018-W52  2018-Q4  2018  \n",
      "3401008  2018-W52  2018-Q4  2018  \n",
      "3401009  2018-W52  2018-Q4  2018  \n",
      "3401010  2018-W52  2018-Q4  2018  \n",
      "3401011  2018-W52  2018-Q4  2018  \n",
      "\n",
      "[3401012 rows x 8 columns]\n",
      "\n"
     ]
    },
    {
     "data": {
      "application/vnd.microsoft.datawrangler.viewer.v0+json": {
       "columns": [
        {
         "name": "index",
         "rawType": "int64",
         "type": "integer"
        },
        {
         "name": "number_of_strikes",
         "rawType": "int64",
         "type": "integer"
        }
       ],
       "ref": "2c63d564-5b7a-4bdd-822b-f78442a3fd93",
       "rows": [
        [
         "0",
         "194"
        ],
        [
         "1",
         "41"
        ],
        [
         "2",
         "33"
        ],
        [
         "3",
         "38"
        ],
        [
         "4",
         "92"
        ],
        [
         "5",
         "119"
        ],
        [
         "6",
         "35"
        ],
        [
         "7",
         "60"
        ],
        [
         "8",
         "41"
        ],
        [
         "9",
         "119"
        ],
        [
         "10",
         "107"
        ],
        [
         "11",
         "158"
        ],
        [
         "12",
         "168"
        ],
        [
         "13",
         "167"
        ],
        [
         "14",
         "121"
        ],
        [
         "15",
         "47"
        ],
        [
         "16",
         "33"
        ],
        [
         "17",
         "84"
        ],
        [
         "18",
         "235"
        ],
        [
         "19",
         "98"
        ],
        [
         "20",
         "46"
        ],
        [
         "21",
         "26"
        ],
        [
         "22",
         "31"
        ],
        [
         "23",
         "52"
        ],
        [
         "24",
         "34"
        ],
        [
         "25",
         "29"
        ],
        [
         "26",
         "64"
        ],
        [
         "27",
         "41"
        ],
        [
         "28",
         "59"
        ],
        [
         "29",
         "29"
        ],
        [
         "30",
         "31"
        ],
        [
         "31",
         "46"
        ],
        [
         "32",
         "31"
        ],
        [
         "33",
         "36"
        ],
        [
         "34",
         "53"
        ],
        [
         "35",
         "26"
        ],
        [
         "36",
         "33"
        ],
        [
         "37",
         "56"
        ],
        [
         "38",
         "25"
        ],
        [
         "39",
         "23"
        ],
        [
         "40",
         "32"
        ],
        [
         "41",
         "23"
        ],
        [
         "42",
         "124"
        ],
        [
         "43",
         "88"
        ],
        [
         "44",
         "43"
        ],
        [
         "45",
         "101"
        ],
        [
         "46",
         "65"
        ],
        [
         "47",
         "25"
        ],
        [
         "48",
         "47"
        ],
        [
         "49",
         "63"
        ]
       ],
       "shape": {
        "columns": 1,
        "rows": 3401012
       }
      },
      "text/html": [
       "<div>\n",
       "<style scoped>\n",
       "    .dataframe tbody tr th:only-of-type {\n",
       "        vertical-align: middle;\n",
       "    }\n",
       "\n",
       "    .dataframe tbody tr th {\n",
       "        vertical-align: top;\n",
       "    }\n",
       "\n",
       "    .dataframe thead th {\n",
       "        text-align: right;\n",
       "    }\n",
       "</style>\n",
       "<table border=\"1\" class=\"dataframe\">\n",
       "  <thead>\n",
       "    <tr style=\"text-align: right;\">\n",
       "      <th></th>\n",
       "      <th>number_of_strikes</th>\n",
       "    </tr>\n",
       "  </thead>\n",
       "  <tbody>\n",
       "    <tr>\n",
       "      <th>0</th>\n",
       "      <td>194</td>\n",
       "    </tr>\n",
       "    <tr>\n",
       "      <th>1</th>\n",
       "      <td>41</td>\n",
       "    </tr>\n",
       "    <tr>\n",
       "      <th>2</th>\n",
       "      <td>33</td>\n",
       "    </tr>\n",
       "    <tr>\n",
       "      <th>3</th>\n",
       "      <td>38</td>\n",
       "    </tr>\n",
       "    <tr>\n",
       "      <th>4</th>\n",
       "      <td>92</td>\n",
       "    </tr>\n",
       "    <tr>\n",
       "      <th>...</th>\n",
       "      <td>...</td>\n",
       "    </tr>\n",
       "    <tr>\n",
       "      <th>3401007</th>\n",
       "      <td>30</td>\n",
       "    </tr>\n",
       "    <tr>\n",
       "      <th>3401008</th>\n",
       "      <td>30</td>\n",
       "    </tr>\n",
       "    <tr>\n",
       "      <th>3401009</th>\n",
       "      <td>30</td>\n",
       "    </tr>\n",
       "    <tr>\n",
       "      <th>3401010</th>\n",
       "      <td>30</td>\n",
       "    </tr>\n",
       "    <tr>\n",
       "      <th>3401011</th>\n",
       "      <td>30</td>\n",
       "    </tr>\n",
       "  </tbody>\n",
       "</table>\n",
       "<p>3401012 rows × 1 columns</p>\n",
       "</div>"
      ],
      "text/plain": [
       "         number_of_strikes\n",
       "0                      194\n",
       "1                       41\n",
       "2                       33\n",
       "3                       38\n",
       "4                       92\n",
       "...                    ...\n",
       "3401007                 30\n",
       "3401008                 30\n",
       "3401009                 30\n",
       "3401010                 30\n",
       "3401011                 30\n",
       "\n",
       "[3401012 rows x 1 columns]"
      ]
     },
     "execution_count": 36,
     "metadata": {},
     "output_type": "execute_result"
    }
   ],
   "source": [
    "print(df)\n",
    "print()\n",
    "df2 = df.select_dtypes(include=['int64'])\n",
    "df2"
   ]
  },
  {
   "cell_type": "markdown",
   "id": "47db21e1",
   "metadata": {},
   "source": [
    "#### Filter data \n",
    "**`df[condition]`**\n",
    "- Use `df[condition]` to create a Boolean mask, then apply the mask to the dataframe to filter according to selected condition. \n"
   ]
  },
  {
   "cell_type": "code",
   "execution_count": null,
   "id": "33376a72",
   "metadata": {},
   "outputs": [],
   "source": [
    "print(df)\n",
    "print()\n",
    "df[df['class']=='Aves']"
   ]
  },
  {
   "cell_type": "markdown",
   "id": "8966c57b",
   "metadata": {},
   "source": [
    "#### Sort Data\n",
    "**`df.sort_values()`**\n",
    "- A method available to the `DatFrame` class \n",
    "- Use `df.sort_values()` to sort data according to selected parameters "
   ]
  },
  {
   "cell_type": "code",
   "execution_count": 39,
   "id": "135c89d7",
   "metadata": {},
   "outputs": [
    {
     "name": "stdout",
     "output_type": "stream",
     "text": [
      "              date  number_of_strikes  center_point_geom    month month_txt  \\\n",
      "0       2018-01-03                194      POINT(-75 27)  2018-01       Jan   \n",
      "1       2018-01-03                 41    POINT(-78.4 29)  2018-01       Jan   \n",
      "2       2018-01-03                 33    POINT(-73.9 27)  2018-01       Jan   \n",
      "3       2018-01-03                 38    POINT(-73.8 27)  2018-01       Jan   \n",
      "4       2018-01-03                 92      POINT(-79 28)  2018-01       Jan   \n",
      "...            ...                ...                ...      ...       ...   \n",
      "3401007 2018-12-28                 30  POINT(-90.6 28.7)  2018-12       Dec   \n",
      "3401008 2018-12-28                 30  POINT(-89.4 30.9)  2018-12       Dec   \n",
      "3401009 2018-12-28                 30  POINT(-89.5 31.4)  2018-12       Dec   \n",
      "3401010 2018-12-28                 30  POINT(-88.3 31.6)  2018-12       Dec   \n",
      "3401011 2018-12-28                 30  POINT(-88.4 32.1)  2018-12       Dec   \n",
      "\n",
      "             week  quarter  year  \n",
      "0        2018-W01  2018-Q1  2018  \n",
      "1        2018-W01  2018-Q1  2018  \n",
      "2        2018-W01  2018-Q1  2018  \n",
      "3        2018-W01  2018-Q1  2018  \n",
      "4        2018-W01  2018-Q1  2018  \n",
      "...           ...      ...   ...  \n",
      "3401007  2018-W52  2018-Q4  2018  \n",
      "3401008  2018-W52  2018-Q4  2018  \n",
      "3401009  2018-W52  2018-Q4  2018  \n",
      "3401010  2018-W52  2018-Q4  2018  \n",
      "3401011  2018-W52  2018-Q4  2018  \n",
      "\n",
      "[3401012 rows x 8 columns]\n",
      "\n"
     ]
    },
    {
     "data": {
      "application/vnd.microsoft.datawrangler.viewer.v0+json": {
       "columns": [
        {
         "name": "index",
         "rawType": "int64",
         "type": "integer"
        },
        {
         "name": "date",
         "rawType": "datetime64[ns]",
         "type": "datetime"
        },
        {
         "name": "number_of_strikes",
         "rawType": "int64",
         "type": "integer"
        },
        {
         "name": "center_point_geom",
         "rawType": "object",
         "type": "string"
        },
        {
         "name": "month",
         "rawType": "object",
         "type": "string"
        },
        {
         "name": "month_txt",
         "rawType": "object",
         "type": "string"
        },
        {
         "name": "week",
         "rawType": "object",
         "type": "string"
        },
        {
         "name": "quarter",
         "rawType": "object",
         "type": "string"
        },
        {
         "name": "year",
         "rawType": "object",
         "type": "string"
        }
       ],
       "ref": "40251284-8213-4772-946f-0953003ecddc",
       "rows": [
        [
         "2238659",
         "2018-12-31 00:00:00",
         "4",
         "POINT(-96.7 34.7)",
         "2018-12",
         "Dec",
         "2018-W01",
         "2018-Q4",
         "2018"
        ],
        [
         "1253480",
         "2018-12-31 00:00:00",
         "1",
         "POINT(-91.8 30.9)",
         "2018-12",
         "Dec",
         "2018-W01",
         "2018-Q4",
         "2018"
        ],
        [
         "1253478",
         "2018-12-31 00:00:00",
         "1",
         "POINT(-91 30.9)",
         "2018-12",
         "Dec",
         "2018-W01",
         "2018-Q4",
         "2018"
        ],
        [
         "1253477",
         "2018-12-31 00:00:00",
         "1",
         "POINT(-100.6 30.8)",
         "2018-12",
         "Dec",
         "2018-W01",
         "2018-Q4",
         "2018"
        ],
        [
         "1253476",
         "2018-12-31 00:00:00",
         "1",
         "POINT(-100.7 30.8)",
         "2018-12",
         "Dec",
         "2018-W01",
         "2018-Q4",
         "2018"
        ],
        [
         "1253475",
         "2018-12-31 00:00:00",
         "1",
         "POINT(-101.4 30.8)",
         "2018-12",
         "Dec",
         "2018-W01",
         "2018-Q4",
         "2018"
        ],
        [
         "1253474",
         "2018-12-31 00:00:00",
         "1",
         "POINT(-102.7 30.8)",
         "2018-12",
         "Dec",
         "2018-W01",
         "2018-Q4",
         "2018"
        ],
        [
         "1253473",
         "2018-12-31 00:00:00",
         "1",
         "POINT(-90.4 30.8)",
         "2018-12",
         "Dec",
         "2018-W01",
         "2018-Q4",
         "2018"
        ],
        [
         "1253472",
         "2018-12-31 00:00:00",
         "1",
         "POINT(-91.4 30.8)",
         "2018-12",
         "Dec",
         "2018-W01",
         "2018-Q4",
         "2018"
        ],
        [
         "1253471",
         "2018-12-31 00:00:00",
         "1",
         "POINT(-91.9 30.8)",
         "2018-12",
         "Dec",
         "2018-W01",
         "2018-Q4",
         "2018"
        ],
        [
         "1253470",
         "2018-12-31 00:00:00",
         "1",
         "POINT(-98.3 30.8)",
         "2018-12",
         "Dec",
         "2018-W01",
         "2018-Q4",
         "2018"
        ],
        [
         "1253469",
         "2018-12-31 00:00:00",
         "1",
         "POINT(-98.4 30.8)",
         "2018-12",
         "Dec",
         "2018-W01",
         "2018-Q4",
         "2018"
        ],
        [
         "1253468",
         "2018-12-31 00:00:00",
         "1",
         "POINT(-100 30.8)",
         "2018-12",
         "Dec",
         "2018-W01",
         "2018-Q4",
         "2018"
        ],
        [
         "1253467",
         "2018-12-31 00:00:00",
         "1",
         "POINT(-100.2 30.7)",
         "2018-12",
         "Dec",
         "2018-W01",
         "2018-Q4",
         "2018"
        ],
        [
         "1253466",
         "2018-12-31 00:00:00",
         "1",
         "POINT(-100.3 30.7)",
         "2018-12",
         "Dec",
         "2018-W01",
         "2018-Q4",
         "2018"
        ],
        [
         "1253465",
         "2018-12-31 00:00:00",
         "1",
         "POINT(-91.1 30.7)",
         "2018-12",
         "Dec",
         "2018-W01",
         "2018-Q4",
         "2018"
        ],
        [
         "1253464",
         "2018-12-31 00:00:00",
         "1",
         "POINT(-91.3 30.7)",
         "2018-12",
         "Dec",
         "2018-W01",
         "2018-Q4",
         "2018"
        ],
        [
         "1253463",
         "2018-12-31 00:00:00",
         "1",
         "POINT(-97.5 30.7)",
         "2018-12",
         "Dec",
         "2018-W01",
         "2018-Q4",
         "2018"
        ],
        [
         "1253462",
         "2018-12-31 00:00:00",
         "1",
         "POINT(-99.6 30.7)",
         "2018-12",
         "Dec",
         "2018-W01",
         "2018-Q4",
         "2018"
        ],
        [
         "1253479",
         "2018-12-31 00:00:00",
         "1",
         "POINT(-99.6 30.9)",
         "2018-12",
         "Dec",
         "2018-W01",
         "2018-Q4",
         "2018"
        ],
        [
         "1253481",
         "2018-12-31 00:00:00",
         "1",
         "POINT(-91.4 30.9)",
         "2018-12",
         "Dec",
         "2018-W01",
         "2018-Q4",
         "2018"
        ],
        [
         "1253460",
         "2018-12-31 00:00:00",
         "1",
         "POINT(-98 30.7)",
         "2018-12",
         "Dec",
         "2018-W01",
         "2018-Q4",
         "2018"
        ],
        [
         "1253482",
         "2018-12-31 00:00:00",
         "1",
         "POINT(-91.2 30.9)",
         "2018-12",
         "Dec",
         "2018-W01",
         "2018-Q4",
         "2018"
        ],
        [
         "1253499",
         "2018-12-31 00:00:00",
         "1",
         "POINT(-89.8 32.8)",
         "2018-12",
         "Dec",
         "2018-W01",
         "2018-Q4",
         "2018"
        ],
        [
         "1253498",
         "2018-12-31 00:00:00",
         "1",
         "POINT(-90.1 31.2)",
         "2018-12",
         "Dec",
         "2018-W01",
         "2018-Q4",
         "2018"
        ],
        [
         "1253497",
         "2018-12-31 00:00:00",
         "1",
         "POINT(-90.5 31.2)",
         "2018-12",
         "Dec",
         "2018-W01",
         "2018-Q4",
         "2018"
        ],
        [
         "1253496",
         "2018-12-31 00:00:00",
         "1",
         "POINT(-90.6 31.2)",
         "2018-12",
         "Dec",
         "2018-W01",
         "2018-Q4",
         "2018"
        ],
        [
         "1253495",
         "2018-12-31 00:00:00",
         "1",
         "POINT(-90.8 31.2)",
         "2018-12",
         "Dec",
         "2018-W01",
         "2018-Q4",
         "2018"
        ],
        [
         "1253494",
         "2018-12-31 00:00:00",
         "1",
         "POINT(-92.7 31.2)",
         "2018-12",
         "Dec",
         "2018-W01",
         "2018-Q4",
         "2018"
        ],
        [
         "1253493",
         "2018-12-31 00:00:00",
         "1",
         "POINT(-97.3 31.2)",
         "2018-12",
         "Dec",
         "2018-W01",
         "2018-Q4",
         "2018"
        ],
        [
         "1253492",
         "2018-12-31 00:00:00",
         "1",
         "POINT(-97.5 31.2)",
         "2018-12",
         "Dec",
         "2018-W01",
         "2018-Q4",
         "2018"
        ],
        [
         "1253491",
         "2018-12-31 00:00:00",
         "1",
         "POINT(-98.4 31.2)",
         "2018-12",
         "Dec",
         "2018-W01",
         "2018-Q4",
         "2018"
        ],
        [
         "1253490",
         "2018-12-31 00:00:00",
         "1",
         "POINT(-90.4 31.1)",
         "2018-12",
         "Dec",
         "2018-W01",
         "2018-Q4",
         "2018"
        ],
        [
         "1253489",
         "2018-12-31 00:00:00",
         "1",
         "POINT(-91.1 31.1)",
         "2018-12",
         "Dec",
         "2018-W01",
         "2018-Q4",
         "2018"
        ],
        [
         "1253488",
         "2018-12-31 00:00:00",
         "1",
         "POINT(-96.8 31.1)",
         "2018-12",
         "Dec",
         "2018-W01",
         "2018-Q4",
         "2018"
        ],
        [
         "1253487",
         "2018-12-31 00:00:00",
         "1",
         "POINT(-97.4 31.1)",
         "2018-12",
         "Dec",
         "2018-W01",
         "2018-Q4",
         "2018"
        ],
        [
         "1253486",
         "2018-12-31 00:00:00",
         "1",
         "POINT(-97.5 31.1)",
         "2018-12",
         "Dec",
         "2018-W01",
         "2018-Q4",
         "2018"
        ],
        [
         "1253485",
         "2018-12-31 00:00:00",
         "1",
         "POINT(-99.9 31.1)",
         "2018-12",
         "Dec",
         "2018-W01",
         "2018-Q4",
         "2018"
        ],
        [
         "1253484",
         "2018-12-31 00:00:00",
         "1",
         "POINT(-90.7 30.9)",
         "2018-12",
         "Dec",
         "2018-W01",
         "2018-Q4",
         "2018"
        ],
        [
         "1253483",
         "2018-12-31 00:00:00",
         "1",
         "POINT(-90.8 30.9)",
         "2018-12",
         "Dec",
         "2018-W01",
         "2018-Q4",
         "2018"
        ],
        [
         "1253461",
         "2018-12-31 00:00:00",
         "1",
         "POINT(-91 30.7)",
         "2018-12",
         "Dec",
         "2018-W01",
         "2018-Q4",
         "2018"
        ],
        [
         "1253459",
         "2018-12-31 00:00:00",
         "1",
         "POINT(-90.9 31.8)",
         "2018-12",
         "Dec",
         "2018-W01",
         "2018-Q4",
         "2018"
        ],
        [
         "1253418",
         "2018-12-31 00:00:00",
         "1",
         "POINT(-90 34)",
         "2018-12",
         "Dec",
         "2018-W01",
         "2018-Q4",
         "2018"
        ],
        [
         "1253438",
         "2018-12-31 00:00:00",
         "1",
         "POINT(-103.2 28.5)",
         "2018-12",
         "Dec",
         "2018-W01",
         "2018-Q4",
         "2018"
        ],
        [
         "1253436",
         "2018-12-31 00:00:00",
         "1",
         "POINT(-102.7 28.3)",
         "2018-12",
         "Dec",
         "2018-W01",
         "2018-Q4",
         "2018"
        ],
        [
         "1253435",
         "2018-12-31 00:00:00",
         "1",
         "POINT(-82.6 37)",
         "2018-12",
         "Dec",
         "2018-W01",
         "2018-Q4",
         "2018"
        ],
        [
         "1253434",
         "2018-12-31 00:00:00",
         "1",
         "POINT(-82.7 37)",
         "2018-12",
         "Dec",
         "2018-W01",
         "2018-Q4",
         "2018"
        ],
        [
         "1253433",
         "2018-12-31 00:00:00",
         "1",
         "POINT(-83 37)",
         "2018-12",
         "Dec",
         "2018-W01",
         "2018-Q4",
         "2018"
        ],
        [
         "1253432",
         "2018-12-31 00:00:00",
         "1",
         "POINT(-85.5 36)",
         "2018-12",
         "Dec",
         "2018-W01",
         "2018-Q4",
         "2018"
        ],
        [
         "1253431",
         "2018-12-31 00:00:00",
         "1",
         "POINT(-85.6 36)",
         "2018-12",
         "Dec",
         "2018-W01",
         "2018-Q4",
         "2018"
        ]
       ],
       "shape": {
        "columns": 8,
        "rows": 3401012
       }
      },
      "text/html": [
       "<div>\n",
       "<style scoped>\n",
       "    .dataframe tbody tr th:only-of-type {\n",
       "        vertical-align: middle;\n",
       "    }\n",
       "\n",
       "    .dataframe tbody tr th {\n",
       "        vertical-align: top;\n",
       "    }\n",
       "\n",
       "    .dataframe thead th {\n",
       "        text-align: right;\n",
       "    }\n",
       "</style>\n",
       "<table border=\"1\" class=\"dataframe\">\n",
       "  <thead>\n",
       "    <tr style=\"text-align: right;\">\n",
       "      <th></th>\n",
       "      <th>date</th>\n",
       "      <th>number_of_strikes</th>\n",
       "      <th>center_point_geom</th>\n",
       "      <th>month</th>\n",
       "      <th>month_txt</th>\n",
       "      <th>week</th>\n",
       "      <th>quarter</th>\n",
       "      <th>year</th>\n",
       "    </tr>\n",
       "  </thead>\n",
       "  <tbody>\n",
       "    <tr>\n",
       "      <th>2238659</th>\n",
       "      <td>2018-12-31</td>\n",
       "      <td>4</td>\n",
       "      <td>POINT(-96.7 34.7)</td>\n",
       "      <td>2018-12</td>\n",
       "      <td>Dec</td>\n",
       "      <td>2018-W01</td>\n",
       "      <td>2018-Q4</td>\n",
       "      <td>2018</td>\n",
       "    </tr>\n",
       "    <tr>\n",
       "      <th>1253480</th>\n",
       "      <td>2018-12-31</td>\n",
       "      <td>1</td>\n",
       "      <td>POINT(-91.8 30.9)</td>\n",
       "      <td>2018-12</td>\n",
       "      <td>Dec</td>\n",
       "      <td>2018-W01</td>\n",
       "      <td>2018-Q4</td>\n",
       "      <td>2018</td>\n",
       "    </tr>\n",
       "    <tr>\n",
       "      <th>1253478</th>\n",
       "      <td>2018-12-31</td>\n",
       "      <td>1</td>\n",
       "      <td>POINT(-91 30.9)</td>\n",
       "      <td>2018-12</td>\n",
       "      <td>Dec</td>\n",
       "      <td>2018-W01</td>\n",
       "      <td>2018-Q4</td>\n",
       "      <td>2018</td>\n",
       "    </tr>\n",
       "    <tr>\n",
       "      <th>1253477</th>\n",
       "      <td>2018-12-31</td>\n",
       "      <td>1</td>\n",
       "      <td>POINT(-100.6 30.8)</td>\n",
       "      <td>2018-12</td>\n",
       "      <td>Dec</td>\n",
       "      <td>2018-W01</td>\n",
       "      <td>2018-Q4</td>\n",
       "      <td>2018</td>\n",
       "    </tr>\n",
       "    <tr>\n",
       "      <th>1253476</th>\n",
       "      <td>2018-12-31</td>\n",
       "      <td>1</td>\n",
       "      <td>POINT(-100.7 30.8)</td>\n",
       "      <td>2018-12</td>\n",
       "      <td>Dec</td>\n",
       "      <td>2018-W01</td>\n",
       "      <td>2018-Q4</td>\n",
       "      <td>2018</td>\n",
       "    </tr>\n",
       "    <tr>\n",
       "      <th>...</th>\n",
       "      <td>...</td>\n",
       "      <td>...</td>\n",
       "      <td>...</td>\n",
       "      <td>...</td>\n",
       "      <td>...</td>\n",
       "      <td>...</td>\n",
       "      <td>...</td>\n",
       "      <td>...</td>\n",
       "    </tr>\n",
       "    <tr>\n",
       "      <th>404731</th>\n",
       "      <td>2018-01-01</td>\n",
       "      <td>1</td>\n",
       "      <td>POINT(-94.4 20.6)</td>\n",
       "      <td>2018-01</td>\n",
       "      <td>Jan</td>\n",
       "      <td>2018-W01</td>\n",
       "      <td>2018-Q1</td>\n",
       "      <td>2018</td>\n",
       "    </tr>\n",
       "    <tr>\n",
       "      <th>404732</th>\n",
       "      <td>2018-01-01</td>\n",
       "      <td>1</td>\n",
       "      <td>POINT(-94.4 20.7)</td>\n",
       "      <td>2018-01</td>\n",
       "      <td>Jan</td>\n",
       "      <td>2018-W01</td>\n",
       "      <td>2018-Q1</td>\n",
       "      <td>2018</td>\n",
       "    </tr>\n",
       "    <tr>\n",
       "      <th>404733</th>\n",
       "      <td>2018-01-01</td>\n",
       "      <td>1</td>\n",
       "      <td>POINT(-94.3 20.7)</td>\n",
       "      <td>2018-01</td>\n",
       "      <td>Jan</td>\n",
       "      <td>2018-W01</td>\n",
       "      <td>2018-Q1</td>\n",
       "      <td>2018</td>\n",
       "    </tr>\n",
       "    <tr>\n",
       "      <th>2045087</th>\n",
       "      <td>2018-01-01</td>\n",
       "      <td>4</td>\n",
       "      <td>POINT(-94.3 20.8)</td>\n",
       "      <td>2018-01</td>\n",
       "      <td>Jan</td>\n",
       "      <td>2018-W01</td>\n",
       "      <td>2018-Q1</td>\n",
       "      <td>2018</td>\n",
       "    </tr>\n",
       "    <tr>\n",
       "      <th>404749</th>\n",
       "      <td>2018-01-01</td>\n",
       "      <td>1</td>\n",
       "      <td>POINT(-95 22.4)</td>\n",
       "      <td>2018-01</td>\n",
       "      <td>Jan</td>\n",
       "      <td>2018-W01</td>\n",
       "      <td>2018-Q1</td>\n",
       "      <td>2018</td>\n",
       "    </tr>\n",
       "  </tbody>\n",
       "</table>\n",
       "<p>3401012 rows × 8 columns</p>\n",
       "</div>"
      ],
      "text/plain": [
       "              date  number_of_strikes   center_point_geom    month month_txt  \\\n",
       "2238659 2018-12-31                  4   POINT(-96.7 34.7)  2018-12       Dec   \n",
       "1253480 2018-12-31                  1   POINT(-91.8 30.9)  2018-12       Dec   \n",
       "1253478 2018-12-31                  1     POINT(-91 30.9)  2018-12       Dec   \n",
       "1253477 2018-12-31                  1  POINT(-100.6 30.8)  2018-12       Dec   \n",
       "1253476 2018-12-31                  1  POINT(-100.7 30.8)  2018-12       Dec   \n",
       "...            ...                ...                 ...      ...       ...   \n",
       "404731  2018-01-01                  1   POINT(-94.4 20.6)  2018-01       Jan   \n",
       "404732  2018-01-01                  1   POINT(-94.4 20.7)  2018-01       Jan   \n",
       "404733  2018-01-01                  1   POINT(-94.3 20.7)  2018-01       Jan   \n",
       "2045087 2018-01-01                  4   POINT(-94.3 20.8)  2018-01       Jan   \n",
       "404749  2018-01-01                  1     POINT(-95 22.4)  2018-01       Jan   \n",
       "\n",
       "             week  quarter  year  \n",
       "2238659  2018-W01  2018-Q4  2018  \n",
       "1253480  2018-W01  2018-Q4  2018  \n",
       "1253478  2018-W01  2018-Q4  2018  \n",
       "1253477  2018-W01  2018-Q4  2018  \n",
       "1253476  2018-W01  2018-Q4  2018  \n",
       "...           ...      ...   ...  \n",
       "404731   2018-W01  2018-Q1  2018  \n",
       "404732   2018-W01  2018-Q1  2018  \n",
       "404733   2018-W01  2018-Q1  2018  \n",
       "2045087  2018-W01  2018-Q1  2018  \n",
       "404749   2018-W01  2018-Q1  2018  \n",
       "\n",
       "[3401012 rows x 8 columns]"
      ]
     },
     "execution_count": 39,
     "metadata": {},
     "output_type": "execute_result"
    }
   ],
   "source": [
    "print(df)\n",
    "print()\n",
    "df.sort_values(by=['date'],  ascending=False)\n"
   ]
  },
  {
   "cell_type": "markdown",
   "id": "5c91052a",
   "metadata": {},
   "source": [
    "#### Slice data\n",
    "**`df.iloc[]`**\n",
    "- Use `df.iloc[]` to slice a dataframe based on an integer index location. \n",
    "- Example:\n",
    "    - `df.iloc[5:10, 2:]` - selects only rows 5 through 9 , at columns 2+\n",
    "    - `df.iloc[5:10]` - Selects only rows 5 through 9, all columns\n",
    "    - `df.iloc[1, 2]` - select value at row 1, column 2.\n",
    "    - `df.iloc[[0, 2], [2, 4]]` - selects only rows 0 and 2, at columns 2 and 4 \n",
    "\n",
    "**`df.loc[]`**\n",
    "- Use `df.loc[]` to slice a dataframe based on a label or Boolean array. \n"
   ]
  },
  {
   "cell_type": "code",
   "execution_count": 41,
   "id": "d23e4025",
   "metadata": {},
   "outputs": [
    {
     "name": "stdout",
     "output_type": "stream",
     "text": [
      "              date  number_of_strikes  center_point_geom    month month_txt  \\\n",
      "0       2018-01-03                194      POINT(-75 27)  2018-01       Jan   \n",
      "1       2018-01-03                 41    POINT(-78.4 29)  2018-01       Jan   \n",
      "2       2018-01-03                 33    POINT(-73.9 27)  2018-01       Jan   \n",
      "3       2018-01-03                 38    POINT(-73.8 27)  2018-01       Jan   \n",
      "4       2018-01-03                 92      POINT(-79 28)  2018-01       Jan   \n",
      "...            ...                ...                ...      ...       ...   \n",
      "3401007 2018-12-28                 30  POINT(-90.6 28.7)  2018-12       Dec   \n",
      "3401008 2018-12-28                 30  POINT(-89.4 30.9)  2018-12       Dec   \n",
      "3401009 2018-12-28                 30  POINT(-89.5 31.4)  2018-12       Dec   \n",
      "3401010 2018-12-28                 30  POINT(-88.3 31.6)  2018-12       Dec   \n",
      "3401011 2018-12-28                 30  POINT(-88.4 32.1)  2018-12       Dec   \n",
      "\n",
      "             week  quarter  year  \n",
      "0        2018-W01  2018-Q1  2018  \n",
      "1        2018-W01  2018-Q1  2018  \n",
      "2        2018-W01  2018-Q1  2018  \n",
      "3        2018-W01  2018-Q1  2018  \n",
      "4        2018-W01  2018-Q1  2018  \n",
      "...           ...      ...   ...  \n",
      "3401007  2018-W52  2018-Q4  2018  \n",
      "3401008  2018-W52  2018-Q4  2018  \n",
      "3401009  2018-W52  2018-Q4  2018  \n",
      "3401010  2018-W52  2018-Q4  2018  \n",
      "3401011  2018-W52  2018-Q4  2018  \n",
      "\n",
      "[3401012 rows x 8 columns]\n",
      "\n"
     ]
    },
    {
     "data": {
      "application/vnd.microsoft.datawrangler.viewer.v0+json": {
       "columns": [
        {
         "name": "index",
         "rawType": "int64",
         "type": "integer"
        },
        {
         "name": "date",
         "rawType": "datetime64[ns]",
         "type": "datetime"
        },
        {
         "name": "month",
         "rawType": "object",
         "type": "string"
        },
        {
         "name": "year",
         "rawType": "object",
         "type": "string"
        }
       ],
       "ref": "6ca2d5f6-bfa7-4e72-af3b-7ef90963de5b",
       "rows": [
        [
         "0",
         "2018-01-03 00:00:00",
         "2018-01",
         "2018"
        ],
        [
         "1",
         "2018-01-03 00:00:00",
         "2018-01",
         "2018"
        ],
        [
         "2",
         "2018-01-03 00:00:00",
         "2018-01",
         "2018"
        ],
        [
         "3",
         "2018-01-03 00:00:00",
         "2018-01",
         "2018"
        ],
        [
         "4",
         "2018-01-03 00:00:00",
         "2018-01",
         "2018"
        ],
        [
         "5",
         "2018-01-03 00:00:00",
         "2018-01",
         "2018"
        ],
        [
         "6",
         "2018-01-03 00:00:00",
         "2018-01",
         "2018"
        ],
        [
         "7",
         "2018-01-03 00:00:00",
         "2018-01",
         "2018"
        ],
        [
         "8",
         "2018-01-03 00:00:00",
         "2018-01",
         "2018"
        ],
        [
         "9",
         "2018-01-03 00:00:00",
         "2018-01",
         "2018"
        ],
        [
         "10",
         "2018-01-03 00:00:00",
         "2018-01",
         "2018"
        ],
        [
         "11",
         "2018-01-03 00:00:00",
         "2018-01",
         "2018"
        ],
        [
         "12",
         "2018-01-03 00:00:00",
         "2018-01",
         "2018"
        ],
        [
         "13",
         "2018-01-03 00:00:00",
         "2018-01",
         "2018"
        ],
        [
         "14",
         "2018-01-03 00:00:00",
         "2018-01",
         "2018"
        ],
        [
         "15",
         "2018-01-03 00:00:00",
         "2018-01",
         "2018"
        ],
        [
         "16",
         "2018-01-03 00:00:00",
         "2018-01",
         "2018"
        ],
        [
         "17",
         "2018-01-03 00:00:00",
         "2018-01",
         "2018"
        ],
        [
         "18",
         "2018-01-03 00:00:00",
         "2018-01",
         "2018"
        ],
        [
         "19",
         "2018-01-03 00:00:00",
         "2018-01",
         "2018"
        ],
        [
         "20",
         "2018-01-03 00:00:00",
         "2018-01",
         "2018"
        ],
        [
         "21",
         "2018-01-03 00:00:00",
         "2018-01",
         "2018"
        ],
        [
         "22",
         "2018-01-03 00:00:00",
         "2018-01",
         "2018"
        ],
        [
         "23",
         "2018-01-03 00:00:00",
         "2018-01",
         "2018"
        ],
        [
         "24",
         "2018-01-03 00:00:00",
         "2018-01",
         "2018"
        ],
        [
         "25",
         "2018-01-03 00:00:00",
         "2018-01",
         "2018"
        ],
        [
         "26",
         "2018-01-03 00:00:00",
         "2018-01",
         "2018"
        ],
        [
         "27",
         "2018-01-03 00:00:00",
         "2018-01",
         "2018"
        ],
        [
         "28",
         "2018-01-03 00:00:00",
         "2018-01",
         "2018"
        ],
        [
         "29",
         "2018-01-03 00:00:00",
         "2018-01",
         "2018"
        ],
        [
         "30",
         "2018-01-03 00:00:00",
         "2018-01",
         "2018"
        ],
        [
         "31",
         "2018-01-03 00:00:00",
         "2018-01",
         "2018"
        ],
        [
         "32",
         "2018-01-03 00:00:00",
         "2018-01",
         "2018"
        ],
        [
         "33",
         "2018-01-03 00:00:00",
         "2018-01",
         "2018"
        ],
        [
         "34",
         "2018-01-03 00:00:00",
         "2018-01",
         "2018"
        ],
        [
         "35",
         "2018-01-03 00:00:00",
         "2018-01",
         "2018"
        ],
        [
         "36",
         "2018-01-03 00:00:00",
         "2018-01",
         "2018"
        ],
        [
         "37",
         "2018-01-03 00:00:00",
         "2018-01",
         "2018"
        ],
        [
         "38",
         "2018-01-03 00:00:00",
         "2018-01",
         "2018"
        ],
        [
         "39",
         "2018-01-03 00:00:00",
         "2018-01",
         "2018"
        ],
        [
         "40",
         "2018-01-03 00:00:00",
         "2018-01",
         "2018"
        ],
        [
         "41",
         "2018-01-03 00:00:00",
         "2018-01",
         "2018"
        ],
        [
         "42",
         "2018-01-03 00:00:00",
         "2018-01",
         "2018"
        ],
        [
         "43",
         "2018-01-03 00:00:00",
         "2018-01",
         "2018"
        ],
        [
         "44",
         "2018-01-03 00:00:00",
         "2018-01",
         "2018"
        ],
        [
         "45",
         "2018-01-03 00:00:00",
         "2018-01",
         "2018"
        ],
        [
         "46",
         "2018-01-03 00:00:00",
         "2018-01",
         "2018"
        ],
        [
         "47",
         "2018-01-03 00:00:00",
         "2018-01",
         "2018"
        ],
        [
         "48",
         "2018-01-03 00:00:00",
         "2018-01",
         "2018"
        ],
        [
         "49",
         "2018-01-03 00:00:00",
         "2018-01",
         "2018"
        ]
       ],
       "shape": {
        "columns": 3,
        "rows": 3401012
       }
      },
      "text/html": [
       "<div>\n",
       "<style scoped>\n",
       "    .dataframe tbody tr th:only-of-type {\n",
       "        vertical-align: middle;\n",
       "    }\n",
       "\n",
       "    .dataframe tbody tr th {\n",
       "        vertical-align: top;\n",
       "    }\n",
       "\n",
       "    .dataframe thead th {\n",
       "        text-align: right;\n",
       "    }\n",
       "</style>\n",
       "<table border=\"1\" class=\"dataframe\">\n",
       "  <thead>\n",
       "    <tr style=\"text-align: right;\">\n",
       "      <th></th>\n",
       "      <th>date</th>\n",
       "      <th>month</th>\n",
       "      <th>year</th>\n",
       "    </tr>\n",
       "  </thead>\n",
       "  <tbody>\n",
       "    <tr>\n",
       "      <th>0</th>\n",
       "      <td>2018-01-03</td>\n",
       "      <td>2018-01</td>\n",
       "      <td>2018</td>\n",
       "    </tr>\n",
       "    <tr>\n",
       "      <th>1</th>\n",
       "      <td>2018-01-03</td>\n",
       "      <td>2018-01</td>\n",
       "      <td>2018</td>\n",
       "    </tr>\n",
       "    <tr>\n",
       "      <th>2</th>\n",
       "      <td>2018-01-03</td>\n",
       "      <td>2018-01</td>\n",
       "      <td>2018</td>\n",
       "    </tr>\n",
       "    <tr>\n",
       "      <th>3</th>\n",
       "      <td>2018-01-03</td>\n",
       "      <td>2018-01</td>\n",
       "      <td>2018</td>\n",
       "    </tr>\n",
       "    <tr>\n",
       "      <th>4</th>\n",
       "      <td>2018-01-03</td>\n",
       "      <td>2018-01</td>\n",
       "      <td>2018</td>\n",
       "    </tr>\n",
       "    <tr>\n",
       "      <th>...</th>\n",
       "      <td>...</td>\n",
       "      <td>...</td>\n",
       "      <td>...</td>\n",
       "    </tr>\n",
       "    <tr>\n",
       "      <th>3401007</th>\n",
       "      <td>2018-12-28</td>\n",
       "      <td>2018-12</td>\n",
       "      <td>2018</td>\n",
       "    </tr>\n",
       "    <tr>\n",
       "      <th>3401008</th>\n",
       "      <td>2018-12-28</td>\n",
       "      <td>2018-12</td>\n",
       "      <td>2018</td>\n",
       "    </tr>\n",
       "    <tr>\n",
       "      <th>3401009</th>\n",
       "      <td>2018-12-28</td>\n",
       "      <td>2018-12</td>\n",
       "      <td>2018</td>\n",
       "    </tr>\n",
       "    <tr>\n",
       "      <th>3401010</th>\n",
       "      <td>2018-12-28</td>\n",
       "      <td>2018-12</td>\n",
       "      <td>2018</td>\n",
       "    </tr>\n",
       "    <tr>\n",
       "      <th>3401011</th>\n",
       "      <td>2018-12-28</td>\n",
       "      <td>2018-12</td>\n",
       "      <td>2018</td>\n",
       "    </tr>\n",
       "  </tbody>\n",
       "</table>\n",
       "<p>3401012 rows × 3 columns</p>\n",
       "</div>"
      ],
      "text/plain": [
       "              date    month  year\n",
       "0       2018-01-03  2018-01  2018\n",
       "1       2018-01-03  2018-01  2018\n",
       "2       2018-01-03  2018-01  2018\n",
       "3       2018-01-03  2018-01  2018\n",
       "4       2018-01-03  2018-01  2018\n",
       "...            ...      ...   ...\n",
       "3401007 2018-12-28  2018-12  2018\n",
       "3401008 2018-12-28  2018-12  2018\n",
       "3401009 2018-12-28  2018-12  2018\n",
       "3401010 2018-12-28  2018-12  2018\n",
       "3401011 2018-12-28  2018-12  2018\n",
       "\n",
       "[3401012 rows x 3 columns]"
      ]
     },
     "execution_count": 41,
     "metadata": {},
     "output_type": "execute_result"
    }
   ],
   "source": [
    "print(df)\n",
    "print()\n",
    "df.loc[:, ['date', 'month', 'year']]"
   ]
  },
  {
   "cell_type": "markdown",
   "id": "a486d284",
   "metadata": {},
   "source": [
    "#### EDA structuring with Python "
   ]
  },
  {
   "cell_type": "code",
   "execution_count": 1,
   "id": "ae09607b",
   "metadata": {},
   "outputs": [],
   "source": [
    "import pandas as pd \n",
    "import numpy as np \n",
    "import seaborn as sns\n",
    "import datetime \n",
    "from matplotlib import pyplot as plt"
   ]
  },
  {
   "cell_type": "code",
   "execution_count": 2,
   "id": "acbbc23d",
   "metadata": {},
   "outputs": [
    {
     "data": {
      "application/vnd.microsoft.datawrangler.viewer.v0+json": {
       "columns": [
        {
         "name": "index",
         "rawType": "int64",
         "type": "integer"
        },
        {
         "name": "date",
         "rawType": "datetime64[ns]",
         "type": "datetime"
        },
        {
         "name": "number_of_strikes",
         "rawType": "int64",
         "type": "integer"
        },
        {
         "name": "center_point_geom",
         "rawType": "object",
         "type": "string"
        }
       ],
       "ref": "2757d4e6-c041-4935-8088-b8917d8e9231",
       "rows": [
        [
         "0",
         "2018-01-03 00:00:00",
         "194",
         "POINT(-75 27)"
        ],
        [
         "1",
         "2018-01-03 00:00:00",
         "41",
         "POINT(-78.4 29)"
        ],
        [
         "2",
         "2018-01-03 00:00:00",
         "33",
         "POINT(-73.9 27)"
        ],
        [
         "3",
         "2018-01-03 00:00:00",
         "38",
         "POINT(-73.8 27)"
        ],
        [
         "4",
         "2018-01-03 00:00:00",
         "92",
         "POINT(-79 28)"
        ]
       ],
       "shape": {
        "columns": 3,
        "rows": 5
       }
      },
      "text/html": [
       "<div>\n",
       "<style scoped>\n",
       "    .dataframe tbody tr th:only-of-type {\n",
       "        vertical-align: middle;\n",
       "    }\n",
       "\n",
       "    .dataframe tbody tr th {\n",
       "        vertical-align: top;\n",
       "    }\n",
       "\n",
       "    .dataframe thead th {\n",
       "        text-align: right;\n",
       "    }\n",
       "</style>\n",
       "<table border=\"1\" class=\"dataframe\">\n",
       "  <thead>\n",
       "    <tr style=\"text-align: right;\">\n",
       "      <th></th>\n",
       "      <th>date</th>\n",
       "      <th>number_of_strikes</th>\n",
       "      <th>center_point_geom</th>\n",
       "    </tr>\n",
       "  </thead>\n",
       "  <tbody>\n",
       "    <tr>\n",
       "      <th>0</th>\n",
       "      <td>2018-01-03</td>\n",
       "      <td>194</td>\n",
       "      <td>POINT(-75 27)</td>\n",
       "    </tr>\n",
       "    <tr>\n",
       "      <th>1</th>\n",
       "      <td>2018-01-03</td>\n",
       "      <td>41</td>\n",
       "      <td>POINT(-78.4 29)</td>\n",
       "    </tr>\n",
       "    <tr>\n",
       "      <th>2</th>\n",
       "      <td>2018-01-03</td>\n",
       "      <td>33</td>\n",
       "      <td>POINT(-73.9 27)</td>\n",
       "    </tr>\n",
       "    <tr>\n",
       "      <th>3</th>\n",
       "      <td>2018-01-03</td>\n",
       "      <td>38</td>\n",
       "      <td>POINT(-73.8 27)</td>\n",
       "    </tr>\n",
       "    <tr>\n",
       "      <th>4</th>\n",
       "      <td>2018-01-03</td>\n",
       "      <td>92</td>\n",
       "      <td>POINT(-79 28)</td>\n",
       "    </tr>\n",
       "  </tbody>\n",
       "</table>\n",
       "</div>"
      ],
      "text/plain": [
       "        date  number_of_strikes center_point_geom\n",
       "0 2018-01-03                194     POINT(-75 27)\n",
       "1 2018-01-03                 41   POINT(-78.4 29)\n",
       "2 2018-01-03                 33   POINT(-73.9 27)\n",
       "3 2018-01-03                 38   POINT(-73.8 27)\n",
       "4 2018-01-03                 92     POINT(-79 28)"
      ]
     },
     "execution_count": 2,
     "metadata": {},
     "output_type": "execute_result"
    }
   ],
   "source": [
    "df = pd.read_csv('~/Desktop/data_analysis/DATA/Google_Data/eda_dataset1.csv')\n",
    "df['date'] = pd.to_datetime(df['date'])\n",
    "df.head()\n",
    "\n"
   ]
  },
  {
   "cell_type": "code",
   "execution_count": 3,
   "id": "5531ed73",
   "metadata": {},
   "outputs": [
    {
     "data": {
      "text/plain": [
       "(3401012, 3)"
      ]
     },
     "execution_count": 3,
     "metadata": {},
     "output_type": "execute_result"
    }
   ],
   "source": [
    "df.shape"
   ]
  },
  {
   "cell_type": "code",
   "execution_count": 4,
   "id": "0c94dbff",
   "metadata": {},
   "outputs": [
    {
     "data": {
      "text/plain": [
       "(3401012, 3)"
      ]
     },
     "execution_count": 4,
     "metadata": {},
     "output_type": "execute_result"
    }
   ],
   "source": [
    "df.drop_duplicates().shape"
   ]
  },
  {
   "cell_type": "code",
   "execution_count": 5,
   "id": "4001ff00",
   "metadata": {},
   "outputs": [
    {
     "data": {
      "application/vnd.microsoft.datawrangler.viewer.v0+json": {
       "columns": [
        {
         "name": "index",
         "rawType": "int64",
         "type": "integer"
        },
        {
         "name": "date",
         "rawType": "datetime64[ns]",
         "type": "datetime"
        },
        {
         "name": "number_of_strikes",
         "rawType": "int64",
         "type": "integer"
        },
        {
         "name": "center_point_geom",
         "rawType": "object",
         "type": "string"
        }
       ],
       "ref": "5baf90bf-854d-4898-b3af-62b61b504eef",
       "rows": [
        [
         "302758",
         "2018-08-20 00:00:00",
         "2211",
         "POINT(-92.5 35.5)"
        ],
        [
         "278383",
         "2018-08-16 00:00:00",
         "2142",
         "POINT(-96.1 36.1)"
        ],
        [
         "280830",
         "2018-08-17 00:00:00",
         "2061",
         "POINT(-90.2 36.1)"
        ],
        [
         "280453",
         "2018-08-17 00:00:00",
         "2031",
         "POINT(-89.9 35.9)"
        ],
        [
         "278382",
         "2018-08-16 00:00:00",
         "1902",
         "POINT(-96.2 36.1)"
        ],
        [
         "11517",
         "2018-02-10 00:00:00",
         "1899",
         "POINT(-95.5 28.1)"
        ],
        [
         "277506",
         "2018-08-16 00:00:00",
         "1878",
         "POINT(-89.7 31.5)"
        ],
        [
         "24906",
         "2018-02-25 00:00:00",
         "1833",
         "POINT(-98.7 28.9)"
        ],
        [
         "284320",
         "2018-08-17 00:00:00",
         "1767",
         "POINT(-90.1 36)"
        ],
        [
         "24825",
         "2018-02-25 00:00:00",
         "1741",
         "POINT(-98 29)"
        ]
       ],
       "shape": {
        "columns": 3,
        "rows": 10
       }
      },
      "text/html": [
       "<div>\n",
       "<style scoped>\n",
       "    .dataframe tbody tr th:only-of-type {\n",
       "        vertical-align: middle;\n",
       "    }\n",
       "\n",
       "    .dataframe tbody tr th {\n",
       "        vertical-align: top;\n",
       "    }\n",
       "\n",
       "    .dataframe thead th {\n",
       "        text-align: right;\n",
       "    }\n",
       "</style>\n",
       "<table border=\"1\" class=\"dataframe\">\n",
       "  <thead>\n",
       "    <tr style=\"text-align: right;\">\n",
       "      <th></th>\n",
       "      <th>date</th>\n",
       "      <th>number_of_strikes</th>\n",
       "      <th>center_point_geom</th>\n",
       "    </tr>\n",
       "  </thead>\n",
       "  <tbody>\n",
       "    <tr>\n",
       "      <th>302758</th>\n",
       "      <td>2018-08-20</td>\n",
       "      <td>2211</td>\n",
       "      <td>POINT(-92.5 35.5)</td>\n",
       "    </tr>\n",
       "    <tr>\n",
       "      <th>278383</th>\n",
       "      <td>2018-08-16</td>\n",
       "      <td>2142</td>\n",
       "      <td>POINT(-96.1 36.1)</td>\n",
       "    </tr>\n",
       "    <tr>\n",
       "      <th>280830</th>\n",
       "      <td>2018-08-17</td>\n",
       "      <td>2061</td>\n",
       "      <td>POINT(-90.2 36.1)</td>\n",
       "    </tr>\n",
       "    <tr>\n",
       "      <th>280453</th>\n",
       "      <td>2018-08-17</td>\n",
       "      <td>2031</td>\n",
       "      <td>POINT(-89.9 35.9)</td>\n",
       "    </tr>\n",
       "    <tr>\n",
       "      <th>278382</th>\n",
       "      <td>2018-08-16</td>\n",
       "      <td>1902</td>\n",
       "      <td>POINT(-96.2 36.1)</td>\n",
       "    </tr>\n",
       "    <tr>\n",
       "      <th>11517</th>\n",
       "      <td>2018-02-10</td>\n",
       "      <td>1899</td>\n",
       "      <td>POINT(-95.5 28.1)</td>\n",
       "    </tr>\n",
       "    <tr>\n",
       "      <th>277506</th>\n",
       "      <td>2018-08-16</td>\n",
       "      <td>1878</td>\n",
       "      <td>POINT(-89.7 31.5)</td>\n",
       "    </tr>\n",
       "    <tr>\n",
       "      <th>24906</th>\n",
       "      <td>2018-02-25</td>\n",
       "      <td>1833</td>\n",
       "      <td>POINT(-98.7 28.9)</td>\n",
       "    </tr>\n",
       "    <tr>\n",
       "      <th>284320</th>\n",
       "      <td>2018-08-17</td>\n",
       "      <td>1767</td>\n",
       "      <td>POINT(-90.1 36)</td>\n",
       "    </tr>\n",
       "    <tr>\n",
       "      <th>24825</th>\n",
       "      <td>2018-02-25</td>\n",
       "      <td>1741</td>\n",
       "      <td>POINT(-98 29)</td>\n",
       "    </tr>\n",
       "  </tbody>\n",
       "</table>\n",
       "</div>"
      ],
      "text/plain": [
       "             date  number_of_strikes  center_point_geom\n",
       "302758 2018-08-20               2211  POINT(-92.5 35.5)\n",
       "278383 2018-08-16               2142  POINT(-96.1 36.1)\n",
       "280830 2018-08-17               2061  POINT(-90.2 36.1)\n",
       "280453 2018-08-17               2031  POINT(-89.9 35.9)\n",
       "278382 2018-08-16               1902  POINT(-96.2 36.1)\n",
       "11517  2018-02-10               1899  POINT(-95.5 28.1)\n",
       "277506 2018-08-16               1878  POINT(-89.7 31.5)\n",
       "24906  2018-02-25               1833  POINT(-98.7 28.9)\n",
       "284320 2018-08-17               1767    POINT(-90.1 36)\n",
       "24825  2018-02-25               1741      POINT(-98 29)"
      ]
     },
     "execution_count": 5,
     "metadata": {},
     "output_type": "execute_result"
    }
   ],
   "source": [
    "df.sort_values(by='number_of_strikes', ascending=False).head(10)"
   ]
  },
  {
   "cell_type": "code",
   "execution_count": 6,
   "id": "169215c9",
   "metadata": {},
   "outputs": [
    {
     "data": {
      "application/vnd.microsoft.datawrangler.viewer.v0+json": {
       "columns": [
        {
         "name": "center_point_geom",
         "rawType": "object",
         "type": "string"
        },
        {
         "name": "count",
         "rawType": "int64",
         "type": "integer"
        }
       ],
       "ref": "f66e055a-fd34-4775-9c55-a8a0199d283a",
       "rows": [
        [
         "POINT(-81.5 22.5)",
         "108"
        ],
        [
         "POINT(-84.1 22.4)",
         "108"
        ],
        [
         "POINT(-82.5 22.9)",
         "107"
        ],
        [
         "POINT(-82.7 22.9)",
         "107"
        ],
        [
         "POINT(-82.5 22.8)",
         "106"
        ],
        [
         "POINT(-84.2 22.3)",
         "106"
        ],
        [
         "POINT(-76 20.5)",
         "105"
        ],
        [
         "POINT(-75.9 20.4)",
         "105"
        ],
        [
         "POINT(-82.2 22.9)",
         "104"
        ],
        [
         "POINT(-78 18.2)",
         "104"
        ],
        [
         "POINT(-83.9 22.5)",
         "103"
        ],
        [
         "POINT(-84 22.4)",
         "102"
        ],
        [
         "POINT(-82 22.8)",
         "102"
        ],
        [
         "POINT(-82 22.4)",
         "102"
        ],
        [
         "POINT(-82.3 22.9)",
         "102"
        ],
        [
         "POINT(-78 18.3)",
         "102"
        ],
        [
         "POINT(-84.1 22.5)",
         "101"
        ],
        [
         "POINT(-75.5 20.6)",
         "101"
        ],
        [
         "POINT(-84.2 22.4)",
         "101"
        ],
        [
         "POINT(-76 20.4)",
         "101"
        ],
        [
         "POINT(-84 22.5)",
         "101"
        ],
        [
         "POINT(-78.2 18.3)",
         "101"
        ],
        [
         "POINT(-82 22.3)",
         "101"
        ],
        [
         "POINT(-82.1 22.9)",
         "100"
        ],
        [
         "POINT(-80.9 22.4)",
         "100"
        ],
        [
         "POINT(-82.2 22.8)",
         "100"
        ],
        [
         "POINT(-81.6 22.5)",
         "100"
        ],
        [
         "POINT(-82.4 23)",
         "100"
        ],
        [
         "POINT(-75.9 20.5)",
         "100"
        ],
        [
         "POINT(-84.3 22.3)",
         "100"
        ],
        [
         "POINT(-81.7 22.3)",
         "100"
        ],
        [
         "POINT(-82.5 23)",
         "99"
        ],
        [
         "POINT(-83 22.8)",
         "99"
        ],
        [
         "POINT(-83.3 22.8)",
         "99"
        ],
        [
         "POINT(-81.8 22.4)",
         "99"
        ],
        [
         "POINT(-81.9 22.4)",
         "99"
        ],
        [
         "POINT(-82.6 22.8)",
         "99"
        ],
        [
         "POINT(-82.8 22.8)",
         "99"
        ],
        [
         "POINT(-82 22.9)",
         "99"
        ],
        [
         "POINT(-82.2 23)",
         "98"
        ],
        [
         "POINT(-83.7 22.6)",
         "98"
        ],
        [
         "POINT(-82.7 22.8)",
         "98"
        ],
        [
         "POINT(-82.3 23)",
         "98"
        ],
        [
         "POINT(-83.6 22.7)",
         "98"
        ],
        [
         "POINT(-81.5 22.4)",
         "98"
        ],
        [
         "POINT(-76 20.3)",
         "98"
        ],
        [
         "POINT(-84.1 22.3)",
         "98"
        ],
        [
         "POINT(-82.1 22.8)",
         "98"
        ],
        [
         "POINT(-81.5 22.6)",
         "98"
        ],
        [
         "POINT(-82.9 22.9)",
         "98"
        ]
       ],
       "shape": {
        "columns": 1,
        "rows": 170855
       }
      },
      "text/plain": [
       "center_point_geom\n",
       "POINT(-81.5 22.5)     108\n",
       "POINT(-84.1 22.4)     108\n",
       "POINT(-82.5 22.9)     107\n",
       "POINT(-82.7 22.9)     107\n",
       "POINT(-82.5 22.8)     106\n",
       "                     ... \n",
       "POINT(-119.3 35.1)      1\n",
       "POINT(-119.3 35)        1\n",
       "POINT(-119.6 35.6)      1\n",
       "POINT(-119.4 35.6)      1\n",
       "POINT(-58.5 45.3)       1\n",
       "Name: count, Length: 170855, dtype: int64"
      ]
     },
     "execution_count": 6,
     "metadata": {},
     "output_type": "execute_result"
    }
   ],
   "source": [
    "df.center_point_geom.value_counts()"
   ]
  },
  {
   "cell_type": "code",
   "execution_count": 7,
   "id": "d6ce91df",
   "metadata": {},
   "outputs": [
    {
     "data": {
      "text/html": [
       "<style type=\"text/css\">\n",
       "#T_2c907_row0_col1, #T_2c907_row1_col1 {\n",
       "  background-color: #023858;\n",
       "  color: #f1f1f1;\n",
       "}\n",
       "#T_2c907_row2_col1, #T_2c907_row3_col1 {\n",
       "  background-color: #045d92;\n",
       "  color: #f1f1f1;\n",
       "}\n",
       "#T_2c907_row4_col1, #T_2c907_row5_col1 {\n",
       "  background-color: #1379b5;\n",
       "  color: #f1f1f1;\n",
       "}\n",
       "#T_2c907_row6_col1, #T_2c907_row7_col1 {\n",
       "  background-color: #509ac6;\n",
       "  color: #f1f1f1;\n",
       "}\n",
       "#T_2c907_row8_col1, #T_2c907_row9_col1 {\n",
       "  background-color: #91b5d6;\n",
       "  color: #000000;\n",
       "}\n",
       "#T_2c907_row10_col1 {\n",
       "  background-color: #c4cbe3;\n",
       "  color: #000000;\n",
       "}\n",
       "#T_2c907_row11_col1, #T_2c907_row12_col1, #T_2c907_row13_col1, #T_2c907_row14_col1, #T_2c907_row15_col1 {\n",
       "  background-color: #e8e4f0;\n",
       "  color: #000000;\n",
       "}\n",
       "#T_2c907_row16_col1, #T_2c907_row17_col1, #T_2c907_row18_col1, #T_2c907_row19_col1 {\n",
       "  background-color: #fff7fb;\n",
       "  color: #000000;\n",
       "}\n",
       "</style>\n",
       "<table id=\"T_2c907\">\n",
       "  <thead>\n",
       "    <tr>\n",
       "      <th class=\"blank level0\" >&nbsp;</th>\n",
       "      <th id=\"T_2c907_level0_col0\" class=\"col_heading level0 col0\" >unique_values</th>\n",
       "      <th id=\"T_2c907_level0_col1\" class=\"col_heading level0 col1\" >counts</th>\n",
       "    </tr>\n",
       "  </thead>\n",
       "  <tbody>\n",
       "    <tr>\n",
       "      <th id=\"T_2c907_level0_row0\" class=\"row_heading level0 row0\" >0</th>\n",
       "      <td id=\"T_2c907_row0_col0\" class=\"data row0 col0\" >POINT(-81.5 22.5)</td>\n",
       "      <td id=\"T_2c907_row0_col1\" class=\"data row0 col1\" >108</td>\n",
       "    </tr>\n",
       "    <tr>\n",
       "      <th id=\"T_2c907_level0_row1\" class=\"row_heading level0 row1\" >1</th>\n",
       "      <td id=\"T_2c907_row1_col0\" class=\"data row1 col0\" >POINT(-84.1 22.4)</td>\n",
       "      <td id=\"T_2c907_row1_col1\" class=\"data row1 col1\" >108</td>\n",
       "    </tr>\n",
       "    <tr>\n",
       "      <th id=\"T_2c907_level0_row2\" class=\"row_heading level0 row2\" >2</th>\n",
       "      <td id=\"T_2c907_row2_col0\" class=\"data row2 col0\" >POINT(-82.5 22.9)</td>\n",
       "      <td id=\"T_2c907_row2_col1\" class=\"data row2 col1\" >107</td>\n",
       "    </tr>\n",
       "    <tr>\n",
       "      <th id=\"T_2c907_level0_row3\" class=\"row_heading level0 row3\" >3</th>\n",
       "      <td id=\"T_2c907_row3_col0\" class=\"data row3 col0\" >POINT(-82.7 22.9)</td>\n",
       "      <td id=\"T_2c907_row3_col1\" class=\"data row3 col1\" >107</td>\n",
       "    </tr>\n",
       "    <tr>\n",
       "      <th id=\"T_2c907_level0_row4\" class=\"row_heading level0 row4\" >4</th>\n",
       "      <td id=\"T_2c907_row4_col0\" class=\"data row4 col0\" >POINT(-82.5 22.8)</td>\n",
       "      <td id=\"T_2c907_row4_col1\" class=\"data row4 col1\" >106</td>\n",
       "    </tr>\n",
       "    <tr>\n",
       "      <th id=\"T_2c907_level0_row5\" class=\"row_heading level0 row5\" >5</th>\n",
       "      <td id=\"T_2c907_row5_col0\" class=\"data row5 col0\" >POINT(-84.2 22.3)</td>\n",
       "      <td id=\"T_2c907_row5_col1\" class=\"data row5 col1\" >106</td>\n",
       "    </tr>\n",
       "    <tr>\n",
       "      <th id=\"T_2c907_level0_row6\" class=\"row_heading level0 row6\" >6</th>\n",
       "      <td id=\"T_2c907_row6_col0\" class=\"data row6 col0\" >POINT(-76 20.5)</td>\n",
       "      <td id=\"T_2c907_row6_col1\" class=\"data row6 col1\" >105</td>\n",
       "    </tr>\n",
       "    <tr>\n",
       "      <th id=\"T_2c907_level0_row7\" class=\"row_heading level0 row7\" >7</th>\n",
       "      <td id=\"T_2c907_row7_col0\" class=\"data row7 col0\" >POINT(-75.9 20.4)</td>\n",
       "      <td id=\"T_2c907_row7_col1\" class=\"data row7 col1\" >105</td>\n",
       "    </tr>\n",
       "    <tr>\n",
       "      <th id=\"T_2c907_level0_row8\" class=\"row_heading level0 row8\" >8</th>\n",
       "      <td id=\"T_2c907_row8_col0\" class=\"data row8 col0\" >POINT(-82.2 22.9)</td>\n",
       "      <td id=\"T_2c907_row8_col1\" class=\"data row8 col1\" >104</td>\n",
       "    </tr>\n",
       "    <tr>\n",
       "      <th id=\"T_2c907_level0_row9\" class=\"row_heading level0 row9\" >9</th>\n",
       "      <td id=\"T_2c907_row9_col0\" class=\"data row9 col0\" >POINT(-78 18.2)</td>\n",
       "      <td id=\"T_2c907_row9_col1\" class=\"data row9 col1\" >104</td>\n",
       "    </tr>\n",
       "    <tr>\n",
       "      <th id=\"T_2c907_level0_row10\" class=\"row_heading level0 row10\" >10</th>\n",
       "      <td id=\"T_2c907_row10_col0\" class=\"data row10 col0\" >POINT(-83.9 22.5)</td>\n",
       "      <td id=\"T_2c907_row10_col1\" class=\"data row10 col1\" >103</td>\n",
       "    </tr>\n",
       "    <tr>\n",
       "      <th id=\"T_2c907_level0_row11\" class=\"row_heading level0 row11\" >11</th>\n",
       "      <td id=\"T_2c907_row11_col0\" class=\"data row11 col0\" >POINT(-84 22.4)</td>\n",
       "      <td id=\"T_2c907_row11_col1\" class=\"data row11 col1\" >102</td>\n",
       "    </tr>\n",
       "    <tr>\n",
       "      <th id=\"T_2c907_level0_row12\" class=\"row_heading level0 row12\" >12</th>\n",
       "      <td id=\"T_2c907_row12_col0\" class=\"data row12 col0\" >POINT(-82 22.8)</td>\n",
       "      <td id=\"T_2c907_row12_col1\" class=\"data row12 col1\" >102</td>\n",
       "    </tr>\n",
       "    <tr>\n",
       "      <th id=\"T_2c907_level0_row13\" class=\"row_heading level0 row13\" >13</th>\n",
       "      <td id=\"T_2c907_row13_col0\" class=\"data row13 col0\" >POINT(-82 22.4)</td>\n",
       "      <td id=\"T_2c907_row13_col1\" class=\"data row13 col1\" >102</td>\n",
       "    </tr>\n",
       "    <tr>\n",
       "      <th id=\"T_2c907_level0_row14\" class=\"row_heading level0 row14\" >14</th>\n",
       "      <td id=\"T_2c907_row14_col0\" class=\"data row14 col0\" >POINT(-82.3 22.9)</td>\n",
       "      <td id=\"T_2c907_row14_col1\" class=\"data row14 col1\" >102</td>\n",
       "    </tr>\n",
       "    <tr>\n",
       "      <th id=\"T_2c907_level0_row15\" class=\"row_heading level0 row15\" >15</th>\n",
       "      <td id=\"T_2c907_row15_col0\" class=\"data row15 col0\" >POINT(-78 18.3)</td>\n",
       "      <td id=\"T_2c907_row15_col1\" class=\"data row15 col1\" >102</td>\n",
       "    </tr>\n",
       "    <tr>\n",
       "      <th id=\"T_2c907_level0_row16\" class=\"row_heading level0 row16\" >16</th>\n",
       "      <td id=\"T_2c907_row16_col0\" class=\"data row16 col0\" >POINT(-84.1 22.5)</td>\n",
       "      <td id=\"T_2c907_row16_col1\" class=\"data row16 col1\" >101</td>\n",
       "    </tr>\n",
       "    <tr>\n",
       "      <th id=\"T_2c907_level0_row17\" class=\"row_heading level0 row17\" >17</th>\n",
       "      <td id=\"T_2c907_row17_col0\" class=\"data row17 col0\" >POINT(-75.5 20.6)</td>\n",
       "      <td id=\"T_2c907_row17_col1\" class=\"data row17 col1\" >101</td>\n",
       "    </tr>\n",
       "    <tr>\n",
       "      <th id=\"T_2c907_level0_row18\" class=\"row_heading level0 row18\" >18</th>\n",
       "      <td id=\"T_2c907_row18_col0\" class=\"data row18 col0\" >POINT(-84.2 22.4)</td>\n",
       "      <td id=\"T_2c907_row18_col1\" class=\"data row18 col1\" >101</td>\n",
       "    </tr>\n",
       "    <tr>\n",
       "      <th id=\"T_2c907_level0_row19\" class=\"row_heading level0 row19\" >19</th>\n",
       "      <td id=\"T_2c907_row19_col0\" class=\"data row19 col0\" >POINT(-76 20.4)</td>\n",
       "      <td id=\"T_2c907_row19_col1\" class=\"data row19 col1\" >101</td>\n",
       "    </tr>\n",
       "  </tbody>\n",
       "</table>\n"
      ],
      "text/plain": [
       "<pandas.io.formats.style.Styler at 0x7f761a35aaa0>"
      ]
     },
     "execution_count": 7,
     "metadata": {},
     "output_type": "execute_result"
    }
   ],
   "source": [
    "df.center_point_geom.value_counts()[:20].rename_axis('unique_values').reset_index(name='counts').style.background_gradient()"
   ]
  },
  {
   "cell_type": "code",
   "execution_count": 8,
   "id": "ab96a526",
   "metadata": {},
   "outputs": [
    {
     "data": {
      "application/vnd.microsoft.datawrangler.viewer.v0+json": {
       "columns": [
        {
         "name": "index",
         "rawType": "int64",
         "type": "integer"
        },
        {
         "name": "date",
         "rawType": "datetime64[ns]",
         "type": "datetime"
        },
        {
         "name": "number_of_strikes",
         "rawType": "int64",
         "type": "integer"
        },
        {
         "name": "center_point_geom",
         "rawType": "object",
         "type": "string"
        },
        {
         "name": "week",
         "rawType": "UInt32",
         "type": "integer"
        },
        {
         "name": "weekday",
         "rawType": "object",
         "type": "string"
        }
       ],
       "ref": "e7ba2bc3-8fd6-43bd-a27a-0644802cd4b0",
       "rows": [
        [
         "0",
         "2018-01-03 00:00:00",
         "194",
         "POINT(-75 27)",
         "1",
         "Wednesday"
        ],
        [
         "1",
         "2018-01-03 00:00:00",
         "41",
         "POINT(-78.4 29)",
         "1",
         "Wednesday"
        ],
        [
         "2",
         "2018-01-03 00:00:00",
         "33",
         "POINT(-73.9 27)",
         "1",
         "Wednesday"
        ],
        [
         "3",
         "2018-01-03 00:00:00",
         "38",
         "POINT(-73.8 27)",
         "1",
         "Wednesday"
        ],
        [
         "4",
         "2018-01-03 00:00:00",
         "92",
         "POINT(-79 28)",
         "1",
         "Wednesday"
        ]
       ],
       "shape": {
        "columns": 5,
        "rows": 5
       }
      },
      "text/html": [
       "<div>\n",
       "<style scoped>\n",
       "    .dataframe tbody tr th:only-of-type {\n",
       "        vertical-align: middle;\n",
       "    }\n",
       "\n",
       "    .dataframe tbody tr th {\n",
       "        vertical-align: top;\n",
       "    }\n",
       "\n",
       "    .dataframe thead th {\n",
       "        text-align: right;\n",
       "    }\n",
       "</style>\n",
       "<table border=\"1\" class=\"dataframe\">\n",
       "  <thead>\n",
       "    <tr style=\"text-align: right;\">\n",
       "      <th></th>\n",
       "      <th>date</th>\n",
       "      <th>number_of_strikes</th>\n",
       "      <th>center_point_geom</th>\n",
       "      <th>week</th>\n",
       "      <th>weekday</th>\n",
       "    </tr>\n",
       "  </thead>\n",
       "  <tbody>\n",
       "    <tr>\n",
       "      <th>0</th>\n",
       "      <td>2018-01-03</td>\n",
       "      <td>194</td>\n",
       "      <td>POINT(-75 27)</td>\n",
       "      <td>1</td>\n",
       "      <td>Wednesday</td>\n",
       "    </tr>\n",
       "    <tr>\n",
       "      <th>1</th>\n",
       "      <td>2018-01-03</td>\n",
       "      <td>41</td>\n",
       "      <td>POINT(-78.4 29)</td>\n",
       "      <td>1</td>\n",
       "      <td>Wednesday</td>\n",
       "    </tr>\n",
       "    <tr>\n",
       "      <th>2</th>\n",
       "      <td>2018-01-03</td>\n",
       "      <td>33</td>\n",
       "      <td>POINT(-73.9 27)</td>\n",
       "      <td>1</td>\n",
       "      <td>Wednesday</td>\n",
       "    </tr>\n",
       "    <tr>\n",
       "      <th>3</th>\n",
       "      <td>2018-01-03</td>\n",
       "      <td>38</td>\n",
       "      <td>POINT(-73.8 27)</td>\n",
       "      <td>1</td>\n",
       "      <td>Wednesday</td>\n",
       "    </tr>\n",
       "    <tr>\n",
       "      <th>4</th>\n",
       "      <td>2018-01-03</td>\n",
       "      <td>92</td>\n",
       "      <td>POINT(-79 28)</td>\n",
       "      <td>1</td>\n",
       "      <td>Wednesday</td>\n",
       "    </tr>\n",
       "  </tbody>\n",
       "</table>\n",
       "</div>"
      ],
      "text/plain": [
       "        date  number_of_strikes center_point_geom  week    weekday\n",
       "0 2018-01-03                194     POINT(-75 27)     1  Wednesday\n",
       "1 2018-01-03                 41   POINT(-78.4 29)     1  Wednesday\n",
       "2 2018-01-03                 33   POINT(-73.9 27)     1  Wednesday\n",
       "3 2018-01-03                 38   POINT(-73.8 27)     1  Wednesday\n",
       "4 2018-01-03                 92     POINT(-79 28)     1  Wednesday"
      ]
     },
     "execution_count": 8,
     "metadata": {},
     "output_type": "execute_result"
    }
   ],
   "source": [
    "# Grouping\n",
    "# create two new columns\n",
    "df['week'] = df.date.dt.isocalendar().week\n",
    "df['weekday'] = df.date.dt.day_name()\n",
    "df.head()"
   ]
  },
  {
   "cell_type": "code",
   "execution_count": 9,
   "id": "2ce5a7db",
   "metadata": {},
   "outputs": [
    {
     "data": {
      "application/vnd.microsoft.datawrangler.viewer.v0+json": {
       "columns": [
        {
         "name": "weekday",
         "rawType": "object",
         "type": "string"
        },
        {
         "name": "number_of_strikes",
         "rawType": "float64",
         "type": "float"
        }
       ],
       "ref": "210776a6-7783-4f78-a915-1352002b8cf3",
       "rows": [
        [
         "Friday",
         "13.349971534849477"
        ],
        [
         "Monday",
         "13.152803917272"
        ],
        [
         "Saturday",
         "12.732693727828272"
        ],
        [
         "Sunday",
         "12.324716869445412"
        ],
        [
         "Thursday",
         "13.240593888288231"
        ],
        [
         "Tuesday",
         "13.813598556775247"
        ],
        [
         "Wednesday",
         "13.224568405790174"
        ]
       ],
       "shape": {
        "columns": 1,
        "rows": 7
       }
      },
      "text/html": [
       "<div>\n",
       "<style scoped>\n",
       "    .dataframe tbody tr th:only-of-type {\n",
       "        vertical-align: middle;\n",
       "    }\n",
       "\n",
       "    .dataframe tbody tr th {\n",
       "        vertical-align: top;\n",
       "    }\n",
       "\n",
       "    .dataframe thead th {\n",
       "        text-align: right;\n",
       "    }\n",
       "</style>\n",
       "<table border=\"1\" class=\"dataframe\">\n",
       "  <thead>\n",
       "    <tr style=\"text-align: right;\">\n",
       "      <th></th>\n",
       "      <th>number_of_strikes</th>\n",
       "    </tr>\n",
       "    <tr>\n",
       "      <th>weekday</th>\n",
       "      <th></th>\n",
       "    </tr>\n",
       "  </thead>\n",
       "  <tbody>\n",
       "    <tr>\n",
       "      <th>Friday</th>\n",
       "      <td>13.349972</td>\n",
       "    </tr>\n",
       "    <tr>\n",
       "      <th>Monday</th>\n",
       "      <td>13.152804</td>\n",
       "    </tr>\n",
       "    <tr>\n",
       "      <th>Saturday</th>\n",
       "      <td>12.732694</td>\n",
       "    </tr>\n",
       "    <tr>\n",
       "      <th>Sunday</th>\n",
       "      <td>12.324717</td>\n",
       "    </tr>\n",
       "    <tr>\n",
       "      <th>Thursday</th>\n",
       "      <td>13.240594</td>\n",
       "    </tr>\n",
       "    <tr>\n",
       "      <th>Tuesday</th>\n",
       "      <td>13.813599</td>\n",
       "    </tr>\n",
       "    <tr>\n",
       "      <th>Wednesday</th>\n",
       "      <td>13.224568</td>\n",
       "    </tr>\n",
       "  </tbody>\n",
       "</table>\n",
       "</div>"
      ],
      "text/plain": [
       "           number_of_strikes\n",
       "weekday                     \n",
       "Friday             13.349972\n",
       "Monday             13.152804\n",
       "Saturday           12.732694\n",
       "Sunday             12.324717\n",
       "Thursday           13.240594\n",
       "Tuesday            13.813599\n",
       "Wednesday          13.224568"
      ]
     },
     "execution_count": 9,
     "metadata": {},
     "output_type": "execute_result"
    }
   ],
   "source": [
    "# Calculate mean count of lightning strikes for each weekday \n",
    "df[['weekday', 'number_of_strikes']].groupby(['weekday']).mean()"
   ]
  },
  {
   "cell_type": "markdown",
   "id": "75c3d84d",
   "metadata": {},
   "source": [
    "BOX PLOT:\n",
    "- Data visualization that depicts the locality, spread and skew of groups of values within quartiles"
   ]
  },
  {
   "cell_type": "code",
   "execution_count": 10,
   "id": "a6837d11",
   "metadata": {},
   "outputs": [],
   "source": [
    "# Define order of days for the plot\n",
    "weekday_order = ['Monday', 'Tuesday', 'Wednesday', 'Thursday', 'Friday', 'Saturday', 'Sunday']"
   ]
  },
  {
   "cell_type": "code",
   "execution_count": 11,
   "id": "ba77f565",
   "metadata": {},
   "outputs": [
    {
     "data": {
      "image/png": "[encoded data removed]",
      "text/plain": [
       "<Figure size 640x480 with 1 Axes>"
      ]
     },
     "metadata": {},
     "output_type": "display_data"
    }
   ],
   "source": [
    "# Create boxplots of strike counts for each day of week \n",
    "g = sns.boxplot(data=df, \n",
    "                x='weekday', \n",
    "                y='number_of_strikes', \n",
    "                order=weekday_order, \n",
    "                showfliers=False\n",
    "                );\n",
    "g.set_title('Lightning distribution per weekday (2018)');"
   ]
  },
  {
   "cell_type": "markdown",
   "id": "c14ef31d",
   "metadata": {},
   "source": [
    "> Merging: Combining two different data sources into one. \n"
   ]
  },
  {
   "cell_type": "code",
   "execution_count": 12,
   "id": "7b75b7fd",
   "metadata": {},
   "outputs": [
    {
     "data": {
      "application/vnd.microsoft.datawrangler.viewer.v0+json": {
       "columns": [
        {
         "name": "index",
         "rawType": "int64",
         "type": "integer"
        },
        {
         "name": "date",
         "rawType": "object",
         "type": "string"
        },
        {
         "name": "number_of_strikes",
         "rawType": "int64",
         "type": "integer"
        },
        {
         "name": "center_point_geom",
         "rawType": "object",
         "type": "string"
        }
       ],
       "ref": "803d62ce-0a61-478f-9bec-5d86c1c28948",
       "rows": [
        [
         "0",
         "2016-01-04",
         "55",
         "POINT(-83.2 21.1)"
        ],
        [
         "1",
         "2016-01-04",
         "33",
         "POINT(-83.1 21.1)"
        ],
        [
         "2",
         "2016-01-05",
         "46",
         "POINT(-77.5 22.1)"
        ],
        [
         "3",
         "2016-01-05",
         "28",
         "POINT(-76.8 22.3)"
        ],
        [
         "4",
         "2016-01-05",
         "28",
         "POINT(-77 22.1)"
        ]
       ],
       "shape": {
        "columns": 3,
        "rows": 5
       }
      },
      "text/html": [
       "<div>\n",
       "<style scoped>\n",
       "    .dataframe tbody tr th:only-of-type {\n",
       "        vertical-align: middle;\n",
       "    }\n",
       "\n",
       "    .dataframe tbody tr th {\n",
       "        vertical-align: top;\n",
       "    }\n",
       "\n",
       "    .dataframe thead th {\n",
       "        text-align: right;\n",
       "    }\n",
       "</style>\n",
       "<table border=\"1\" class=\"dataframe\">\n",
       "  <thead>\n",
       "    <tr style=\"text-align: right;\">\n",
       "      <th></th>\n",
       "      <th>date</th>\n",
       "      <th>number_of_strikes</th>\n",
       "      <th>center_point_geom</th>\n",
       "    </tr>\n",
       "  </thead>\n",
       "  <tbody>\n",
       "    <tr>\n",
       "      <th>0</th>\n",
       "      <td>2016-01-04</td>\n",
       "      <td>55</td>\n",
       "      <td>POINT(-83.2 21.1)</td>\n",
       "    </tr>\n",
       "    <tr>\n",
       "      <th>1</th>\n",
       "      <td>2016-01-04</td>\n",
       "      <td>33</td>\n",
       "      <td>POINT(-83.1 21.1)</td>\n",
       "    </tr>\n",
       "    <tr>\n",
       "      <th>2</th>\n",
       "      <td>2016-01-05</td>\n",
       "      <td>46</td>\n",
       "      <td>POINT(-77.5 22.1)</td>\n",
       "    </tr>\n",
       "    <tr>\n",
       "      <th>3</th>\n",
       "      <td>2016-01-05</td>\n",
       "      <td>28</td>\n",
       "      <td>POINT(-76.8 22.3)</td>\n",
       "    </tr>\n",
       "    <tr>\n",
       "      <th>4</th>\n",
       "      <td>2016-01-05</td>\n",
       "      <td>28</td>\n",
       "      <td>POINT(-77 22.1)</td>\n",
       "    </tr>\n",
       "  </tbody>\n",
       "</table>\n",
       "</div>"
      ],
      "text/plain": [
       "         date  number_of_strikes  center_point_geom\n",
       "0  2016-01-04                 55  POINT(-83.2 21.1)\n",
       "1  2016-01-04                 33  POINT(-83.1 21.1)\n",
       "2  2016-01-05                 46  POINT(-77.5 22.1)\n",
       "3  2016-01-05                 28  POINT(-76.8 22.3)\n",
       "4  2016-01-05                 28    POINT(-77 22.1)"
      ]
     },
     "execution_count": 12,
     "metadata": {},
     "output_type": "execute_result"
    }
   ],
   "source": [
    "df_2 = pd.read_csv('~/Desktop/data_analysis/DATA/Google_Data/eda_dataset3.csv')\n",
    "df_2.head()\n"
   ]
  },
  {
   "cell_type": "code",
   "execution_count": 13,
   "id": "ebd5b616",
   "metadata": {},
   "outputs": [],
   "source": [
    "# Convert 'date' column to datetime\n",
    "df_2['date'] = pd.to_datetime(df_2['date'])"
   ]
  },
  {
   "cell_type": "code",
   "execution_count": 14,
   "id": "bd80f74b",
   "metadata": {},
   "outputs": [
    {
     "data": {
      "application/vnd.microsoft.datawrangler.viewer.v0+json": {
       "columns": [
        {
         "name": "index",
         "rawType": "int64",
         "type": "integer"
        },
        {
         "name": "date",
         "rawType": "datetime64[ns]",
         "type": "datetime"
        },
        {
         "name": "number_of_strikes",
         "rawType": "int64",
         "type": "integer"
        },
        {
         "name": "center_point_geom",
         "rawType": "object",
         "type": "string"
        }
       ],
       "ref": "e3a754d2-27c4-4f0f-87d9-90e18aecdecb",
       "rows": [
        [
         "0",
         "2018-01-03 00:00:00",
         "194",
         "POINT(-75 27)"
        ],
        [
         "1",
         "2018-01-03 00:00:00",
         "41",
         "POINT(-78.4 29)"
        ],
        [
         "2",
         "2018-01-03 00:00:00",
         "33",
         "POINT(-73.9 27)"
        ],
        [
         "3",
         "2018-01-03 00:00:00",
         "38",
         "POINT(-73.8 27)"
        ],
        [
         "4",
         "2018-01-03 00:00:00",
         "92",
         "POINT(-79 28)"
        ]
       ],
       "shape": {
        "columns": 3,
        "rows": 5
       }
      },
      "text/html": [
       "<div>\n",
       "<style scoped>\n",
       "    .dataframe tbody tr th:only-of-type {\n",
       "        vertical-align: middle;\n",
       "    }\n",
       "\n",
       "    .dataframe tbody tr th {\n",
       "        vertical-align: top;\n",
       "    }\n",
       "\n",
       "    .dataframe thead th {\n",
       "        text-align: right;\n",
       "    }\n",
       "</style>\n",
       "<table border=\"1\" class=\"dataframe\">\n",
       "  <thead>\n",
       "    <tr style=\"text-align: right;\">\n",
       "      <th></th>\n",
       "      <th>date</th>\n",
       "      <th>number_of_strikes</th>\n",
       "      <th>center_point_geom</th>\n",
       "    </tr>\n",
       "  </thead>\n",
       "  <tbody>\n",
       "    <tr>\n",
       "      <th>0</th>\n",
       "      <td>2018-01-03</td>\n",
       "      <td>194</td>\n",
       "      <td>POINT(-75 27)</td>\n",
       "    </tr>\n",
       "    <tr>\n",
       "      <th>1</th>\n",
       "      <td>2018-01-03</td>\n",
       "      <td>41</td>\n",
       "      <td>POINT(-78.4 29)</td>\n",
       "    </tr>\n",
       "    <tr>\n",
       "      <th>2</th>\n",
       "      <td>2018-01-03</td>\n",
       "      <td>33</td>\n",
       "      <td>POINT(-73.9 27)</td>\n",
       "    </tr>\n",
       "    <tr>\n",
       "      <th>3</th>\n",
       "      <td>2018-01-03</td>\n",
       "      <td>38</td>\n",
       "      <td>POINT(-73.8 27)</td>\n",
       "    </tr>\n",
       "    <tr>\n",
       "      <th>4</th>\n",
       "      <td>2018-01-03</td>\n",
       "      <td>92</td>\n",
       "      <td>POINT(-79 28)</td>\n",
       "    </tr>\n",
       "  </tbody>\n",
       "</table>\n",
       "</div>"
      ],
      "text/plain": [
       "        date  number_of_strikes center_point_geom\n",
       "0 2018-01-03                194     POINT(-75 27)\n",
       "1 2018-01-03                 41   POINT(-78.4 29)\n",
       "2 2018-01-03                 33   POINT(-73.9 27)\n",
       "3 2018-01-03                 38   POINT(-73.8 27)\n",
       "4 2018-01-03                 92     POINT(-79 28)"
      ]
     },
     "execution_count": 14,
     "metadata": {},
     "output_type": "execute_result"
    }
   ],
   "source": [
    "# Create a new dataframe combining 2016-2017 data with 2018 data. \n",
    "union_df = pd.concat([df.drop(['weekday','week'],axis=1), df_2], ignore_index=True)\n",
    "union_df.head()"
   ]
  },
  {
   "cell_type": "code",
   "execution_count": 15,
   "id": "2567ec7d",
   "metadata": {},
   "outputs": [
    {
     "data": {
      "application/vnd.microsoft.datawrangler.viewer.v0+json": {
       "columns": [
        {
         "name": "index",
         "rawType": "int64",
         "type": "integer"
        },
        {
         "name": "date",
         "rawType": "datetime64[ns]",
         "type": "datetime"
        },
        {
         "name": "number_of_strikes",
         "rawType": "int64",
         "type": "integer"
        },
        {
         "name": "center_point_geom",
         "rawType": "object",
         "type": "string"
        },
        {
         "name": "year",
         "rawType": "int32",
         "type": "integer"
        },
        {
         "name": "month",
         "rawType": "int32",
         "type": "integer"
        },
        {
         "name": "month_txt",
         "rawType": "object",
         "type": "string"
        }
       ],
       "ref": "4f6f2bb5-c821-4e19-b5e6-44e961d7751b",
       "rows": [
        [
         "0",
         "2018-01-03 00:00:00",
         "194",
         "POINT(-75 27)",
         "2018",
         "1",
         "January"
        ],
        [
         "1",
         "2018-01-03 00:00:00",
         "41",
         "POINT(-78.4 29)",
         "2018",
         "1",
         "January"
        ],
        [
         "2",
         "2018-01-03 00:00:00",
         "33",
         "POINT(-73.9 27)",
         "2018",
         "1",
         "January"
        ],
        [
         "3",
         "2018-01-03 00:00:00",
         "38",
         "POINT(-73.8 27)",
         "2018",
         "1",
         "January"
        ],
        [
         "4",
         "2018-01-03 00:00:00",
         "92",
         "POINT(-79 28)",
         "2018",
         "1",
         "January"
        ]
       ],
       "shape": {
        "columns": 6,
        "rows": 5
       }
      },
      "text/html": [
       "<div>\n",
       "<style scoped>\n",
       "    .dataframe tbody tr th:only-of-type {\n",
       "        vertical-align: middle;\n",
       "    }\n",
       "\n",
       "    .dataframe tbody tr th {\n",
       "        vertical-align: top;\n",
       "    }\n",
       "\n",
       "    .dataframe thead th {\n",
       "        text-align: right;\n",
       "    }\n",
       "</style>\n",
       "<table border=\"1\" class=\"dataframe\">\n",
       "  <thead>\n",
       "    <tr style=\"text-align: right;\">\n",
       "      <th></th>\n",
       "      <th>date</th>\n",
       "      <th>number_of_strikes</th>\n",
       "      <th>center_point_geom</th>\n",
       "      <th>year</th>\n",
       "      <th>month</th>\n",
       "      <th>month_txt</th>\n",
       "    </tr>\n",
       "  </thead>\n",
       "  <tbody>\n",
       "    <tr>\n",
       "      <th>0</th>\n",
       "      <td>2018-01-03</td>\n",
       "      <td>194</td>\n",
       "      <td>POINT(-75 27)</td>\n",
       "      <td>2018</td>\n",
       "      <td>1</td>\n",
       "      <td>January</td>\n",
       "    </tr>\n",
       "    <tr>\n",
       "      <th>1</th>\n",
       "      <td>2018-01-03</td>\n",
       "      <td>41</td>\n",
       "      <td>POINT(-78.4 29)</td>\n",
       "      <td>2018</td>\n",
       "      <td>1</td>\n",
       "      <td>January</td>\n",
       "    </tr>\n",
       "    <tr>\n",
       "      <th>2</th>\n",
       "      <td>2018-01-03</td>\n",
       "      <td>33</td>\n",
       "      <td>POINT(-73.9 27)</td>\n",
       "      <td>2018</td>\n",
       "      <td>1</td>\n",
       "      <td>January</td>\n",
       "    </tr>\n",
       "    <tr>\n",
       "      <th>3</th>\n",
       "      <td>2018-01-03</td>\n",
       "      <td>38</td>\n",
       "      <td>POINT(-73.8 27)</td>\n",
       "      <td>2018</td>\n",
       "      <td>1</td>\n",
       "      <td>January</td>\n",
       "    </tr>\n",
       "    <tr>\n",
       "      <th>4</th>\n",
       "      <td>2018-01-03</td>\n",
       "      <td>92</td>\n",
       "      <td>POINT(-79 28)</td>\n",
       "      <td>2018</td>\n",
       "      <td>1</td>\n",
       "      <td>January</td>\n",
       "    </tr>\n",
       "  </tbody>\n",
       "</table>\n",
       "</div>"
      ],
      "text/plain": [
       "        date  number_of_strikes center_point_geom  year  month month_txt\n",
       "0 2018-01-03                194     POINT(-75 27)  2018      1   January\n",
       "1 2018-01-03                 41   POINT(-78.4 29)  2018      1   January\n",
       "2 2018-01-03                 33   POINT(-73.9 27)  2018      1   January\n",
       "3 2018-01-03                 38   POINT(-73.8 27)  2018      1   January\n",
       "4 2018-01-03                 92     POINT(-79 28)  2018      1   January"
      ]
     },
     "execution_count": 15,
     "metadata": {},
     "output_type": "execute_result"
    }
   ],
   "source": [
    "# Add 3 new columns. \n",
    "union_df['year'] = union_df.date.dt.year\n",
    "union_df['month'] = union_df.date.dt.month\n",
    "union_df['month_txt'] = union_df.date.dt.month_name()\n",
    "union_df.head()"
   ]
  },
  {
   "cell_type": "code",
   "execution_count": 17,
   "id": "0ce67aa5",
   "metadata": {},
   "outputs": [
    {
     "data": {
      "application/vnd.microsoft.datawrangler.viewer.v0+json": {
       "columns": [
        {
         "name": "year",
         "rawType": "int32",
         "type": "integer"
        },
        {
         "name": "number_of_strikes",
         "rawType": "int64",
         "type": "integer"
        }
       ],
       "ref": "191f7d7a-ed8a-417d-9246-ed9dd0d9eb01",
       "rows": [
        [
         "2016",
         "41582229"
        ],
        [
         "2017",
         "35095195"
        ],
        [
         "2018",
         "44600989"
        ]
       ],
       "shape": {
        "columns": 1,
        "rows": 3
       }
      },
      "text/html": [
       "<div>\n",
       "<style scoped>\n",
       "    .dataframe tbody tr th:only-of-type {\n",
       "        vertical-align: middle;\n",
       "    }\n",
       "\n",
       "    .dataframe tbody tr th {\n",
       "        vertical-align: top;\n",
       "    }\n",
       "\n",
       "    .dataframe thead th {\n",
       "        text-align: right;\n",
       "    }\n",
       "</style>\n",
       "<table border=\"1\" class=\"dataframe\">\n",
       "  <thead>\n",
       "    <tr style=\"text-align: right;\">\n",
       "      <th></th>\n",
       "      <th>number_of_strikes</th>\n",
       "    </tr>\n",
       "    <tr>\n",
       "      <th>year</th>\n",
       "      <th></th>\n",
       "    </tr>\n",
       "  </thead>\n",
       "  <tbody>\n",
       "    <tr>\n",
       "      <th>2016</th>\n",
       "      <td>41582229</td>\n",
       "    </tr>\n",
       "    <tr>\n",
       "      <th>2017</th>\n",
       "      <td>35095195</td>\n",
       "    </tr>\n",
       "    <tr>\n",
       "      <th>2018</th>\n",
       "      <td>44600989</td>\n",
       "    </tr>\n",
       "  </tbody>\n",
       "</table>\n",
       "</div>"
      ],
      "text/plain": [
       "      number_of_strikes\n",
       "year                   \n",
       "2016           41582229\n",
       "2017           35095195\n",
       "2018           44600989"
      ]
     },
     "execution_count": 17,
     "metadata": {},
     "output_type": "execute_result"
    }
   ],
   "source": [
    "# Calculate total number of strikes per year \n",
    "union_df[['year','number_of_strikes']].groupby(['year']).sum()"
   ]
  },
  {
   "cell_type": "code",
   "execution_count": 25,
   "id": "4d08633a",
   "metadata": {},
   "outputs": [
    {
     "name": "stderr",
     "output_type": "stream",
     "text": [
      "/tmp/ipykernel_245197/175213324.py:2: FutureWarning: The provided callable <built-in function sum> is currently using SeriesGroupBy.sum. In a future version of pandas, the provided callable will be used directly. To keep current behavior pass the string \"sum\" instead.\n",
      "  lightning_by_month = union_df.groupby(['month_txt', 'year']).agg(number_of_strikes = pd.NamedAgg(column='number_of_strikes',aggfunc=sum)).reset_index()\n"
     ]
    },
    {
     "data": {
      "application/vnd.microsoft.datawrangler.viewer.v0+json": {
       "columns": [
        {
         "name": "index",
         "rawType": "int64",
         "type": "integer"
        },
        {
         "name": "month_txt",
         "rawType": "object",
         "type": "string"
        },
        {
         "name": "year",
         "rawType": "int32",
         "type": "integer"
        },
        {
         "name": "number_of_strikes",
         "rawType": "int64",
         "type": "integer"
        }
       ],
       "ref": "e5c6592f-48d9-4ce6-b3cc-adf5d46d26f5",
       "rows": [
        [
         "0",
         "April",
         "2016",
         "2636427"
        ],
        [
         "1",
         "April",
         "2017",
         "3819075"
        ],
        [
         "2",
         "April",
         "2018",
         "1524339"
        ],
        [
         "3",
         "August",
         "2016",
         "7250442"
        ],
        [
         "4",
         "August",
         "2017",
         "6021702"
        ]
       ],
       "shape": {
        "columns": 3,
        "rows": 5
       }
      },
      "text/html": [
       "<div>\n",
       "<style scoped>\n",
       "    .dataframe tbody tr th:only-of-type {\n",
       "        vertical-align: middle;\n",
       "    }\n",
       "\n",
       "    .dataframe tbody tr th {\n",
       "        vertical-align: top;\n",
       "    }\n",
       "\n",
       "    .dataframe thead th {\n",
       "        text-align: right;\n",
       "    }\n",
       "</style>\n",
       "<table border=\"1\" class=\"dataframe\">\n",
       "  <thead>\n",
       "    <tr style=\"text-align: right;\">\n",
       "      <th></th>\n",
       "      <th>month_txt</th>\n",
       "      <th>year</th>\n",
       "      <th>number_of_strikes</th>\n",
       "    </tr>\n",
       "  </thead>\n",
       "  <tbody>\n",
       "    <tr>\n",
       "      <th>0</th>\n",
       "      <td>April</td>\n",
       "      <td>2016</td>\n",
       "      <td>2636427</td>\n",
       "    </tr>\n",
       "    <tr>\n",
       "      <th>1</th>\n",
       "      <td>April</td>\n",
       "      <td>2017</td>\n",
       "      <td>3819075</td>\n",
       "    </tr>\n",
       "    <tr>\n",
       "      <th>2</th>\n",
       "      <td>April</td>\n",
       "      <td>2018</td>\n",
       "      <td>1524339</td>\n",
       "    </tr>\n",
       "    <tr>\n",
       "      <th>3</th>\n",
       "      <td>August</td>\n",
       "      <td>2016</td>\n",
       "      <td>7250442</td>\n",
       "    </tr>\n",
       "    <tr>\n",
       "      <th>4</th>\n",
       "      <td>August</td>\n",
       "      <td>2017</td>\n",
       "      <td>6021702</td>\n",
       "    </tr>\n",
       "  </tbody>\n",
       "</table>\n",
       "</div>"
      ],
      "text/plain": [
       "  month_txt  year  number_of_strikes\n",
       "0     April  2016            2636427\n",
       "1     April  2017            3819075\n",
       "2     April  2018            1524339\n",
       "3    August  2016            7250442\n",
       "4    August  2017            6021702"
      ]
     },
     "execution_count": 25,
     "metadata": {},
     "output_type": "execute_result"
    }
   ],
   "source": [
    "# Calculating total lightning strikes for each month of each year.\n",
    "lightning_by_month = union_df.groupby(['month_txt', 'year']).agg(number_of_strikes = pd.NamedAgg(column='number_of_strikes',aggfunc=sum)).reset_index()\n",
    "\n",
    "lightning_by_month.head()"
   ]
  },
  {
   "cell_type": "code",
   "execution_count": 19,
   "id": "ff1b8de4",
   "metadata": {},
   "outputs": [
    {
     "name": "stderr",
     "output_type": "stream",
     "text": [
      "/tmp/ipykernel_245197/3926658974.py:2: FutureWarning: The provided callable <built-in function sum> is currently using SeriesGroupBy.sum. In a future version of pandas, the provided callable will be used directly. To keep current behavior pass the string \"sum\" instead.\n",
      "  lightning_by_month = union_df.groupby(['month_txt','year']).agg(number_of_strikes = pd.NamedAgg(column='number_of_strikes',aggfunc=sum)\n"
     ]
    },
    {
     "data": {
      "application/vnd.microsoft.datawrangler.viewer.v0+json": {
       "columns": [
        {
         "name": "index",
         "rawType": "int64",
         "type": "integer"
        },
        {
         "name": "month_txt",
         "rawType": "object",
         "type": "string"
        },
        {
         "name": "year",
         "rawType": "int32",
         "type": "integer"
        },
        {
         "name": "number_of_strikes",
         "rawType": "int64",
         "type": "integer"
        }
       ],
       "ref": "319a41bc-87f2-45a9-827f-a4548a8da60b",
       "rows": [
        [
         "0",
         "April",
         "2016",
         "2636427"
        ],
        [
         "1",
         "April",
         "2017",
         "3819075"
        ],
        [
         "2",
         "April",
         "2018",
         "1524339"
        ],
        [
         "3",
         "August",
         "2016",
         "7250442"
        ],
        [
         "4",
         "August",
         "2017",
         "6021702"
        ]
       ],
       "shape": {
        "columns": 3,
        "rows": 5
       }
      },
      "text/html": [
       "<div>\n",
       "<style scoped>\n",
       "    .dataframe tbody tr th:only-of-type {\n",
       "        vertical-align: middle;\n",
       "    }\n",
       "\n",
       "    .dataframe tbody tr th {\n",
       "        vertical-align: top;\n",
       "    }\n",
       "\n",
       "    .dataframe thead th {\n",
       "        text-align: right;\n",
       "    }\n",
       "</style>\n",
       "<table border=\"1\" class=\"dataframe\">\n",
       "  <thead>\n",
       "    <tr style=\"text-align: right;\">\n",
       "      <th></th>\n",
       "      <th>month_txt</th>\n",
       "      <th>year</th>\n",
       "      <th>number_of_strikes</th>\n",
       "    </tr>\n",
       "  </thead>\n",
       "  <tbody>\n",
       "    <tr>\n",
       "      <th>0</th>\n",
       "      <td>April</td>\n",
       "      <td>2016</td>\n",
       "      <td>2636427</td>\n",
       "    </tr>\n",
       "    <tr>\n",
       "      <th>1</th>\n",
       "      <td>April</td>\n",
       "      <td>2017</td>\n",
       "      <td>3819075</td>\n",
       "    </tr>\n",
       "    <tr>\n",
       "      <th>2</th>\n",
       "      <td>April</td>\n",
       "      <td>2018</td>\n",
       "      <td>1524339</td>\n",
       "    </tr>\n",
       "    <tr>\n",
       "      <th>3</th>\n",
       "      <td>August</td>\n",
       "      <td>2016</td>\n",
       "      <td>7250442</td>\n",
       "    </tr>\n",
       "    <tr>\n",
       "      <th>4</th>\n",
       "      <td>August</td>\n",
       "      <td>2017</td>\n",
       "      <td>6021702</td>\n",
       "    </tr>\n",
       "  </tbody>\n",
       "</table>\n",
       "</div>"
      ],
      "text/plain": [
       "  month_txt  year  number_of_strikes\n",
       "0     April  2016            2636427\n",
       "1     April  2017            3819075\n",
       "2     April  2018            1524339\n",
       "3    August  2016            7250442\n",
       "4    August  2017            6021702"
      ]
     },
     "execution_count": 19,
     "metadata": {},
     "output_type": "execute_result"
    }
   ],
   "source": [
    "# Calculate total lightning strikes for each month of each year \n",
    "lightning_by_month = union_df.groupby(['month_txt','year']).agg(number_of_strikes = pd.NamedAgg(column='number_of_strikes',aggfunc=sum)\n",
    ").reset_index()\n",
    "\n",
    "lightning_by_month.head()"
   ]
  },
  {
   "cell_type": "code",
   "execution_count": 21,
   "id": "9927c331",
   "metadata": {},
   "outputs": [
    {
     "name": "stderr",
     "output_type": "stream",
     "text": [
      "/tmp/ipykernel_245197/1832934852.py:2: FutureWarning: The provided callable <built-in function sum> is currently using SeriesGroupBy.sum. In a future version of pandas, the provided callable will be used directly. To keep current behavior pass the string \"sum\" instead.\n",
      "  lightning_by_year = union_df.groupby(['year']).agg(year_strikes = pd.NamedAgg(column='number_of_strikes', aggfunc=sum)).reset_index()\n"
     ]
    },
    {
     "data": {
      "application/vnd.microsoft.datawrangler.viewer.v0+json": {
       "columns": [
        {
         "name": "index",
         "rawType": "int64",
         "type": "integer"
        },
        {
         "name": "year",
         "rawType": "int32",
         "type": "integer"
        },
        {
         "name": "year_strikes",
         "rawType": "int64",
         "type": "integer"
        }
       ],
       "ref": "95544d06-f5bc-44f8-9e8b-08a896000e42",
       "rows": [
        [
         "0",
         "2016",
         "41582229"
        ],
        [
         "1",
         "2017",
         "35095195"
        ],
        [
         "2",
         "2018",
         "44600989"
        ]
       ],
       "shape": {
        "columns": 2,
        "rows": 3
       }
      },
      "text/html": [
       "<div>\n",
       "<style scoped>\n",
       "    .dataframe tbody tr th:only-of-type {\n",
       "        vertical-align: middle;\n",
       "    }\n",
       "\n",
       "    .dataframe tbody tr th {\n",
       "        vertical-align: top;\n",
       "    }\n",
       "\n",
       "    .dataframe thead th {\n",
       "        text-align: right;\n",
       "    }\n",
       "</style>\n",
       "<table border=\"1\" class=\"dataframe\">\n",
       "  <thead>\n",
       "    <tr style=\"text-align: right;\">\n",
       "      <th></th>\n",
       "      <th>year</th>\n",
       "      <th>year_strikes</th>\n",
       "    </tr>\n",
       "  </thead>\n",
       "  <tbody>\n",
       "    <tr>\n",
       "      <th>0</th>\n",
       "      <td>2016</td>\n",
       "      <td>41582229</td>\n",
       "    </tr>\n",
       "    <tr>\n",
       "      <th>1</th>\n",
       "      <td>2017</td>\n",
       "      <td>35095195</td>\n",
       "    </tr>\n",
       "    <tr>\n",
       "      <th>2</th>\n",
       "      <td>2018</td>\n",
       "      <td>44600989</td>\n",
       "    </tr>\n",
       "  </tbody>\n",
       "</table>\n",
       "</div>"
      ],
      "text/plain": [
       "   year  year_strikes\n",
       "0  2016      41582229\n",
       "1  2017      35095195\n",
       "2  2018      44600989"
      ]
     },
     "execution_count": 21,
     "metadata": {},
     "output_type": "execute_result"
    }
   ],
   "source": [
    "# Calculate total lightning strikes for each year. \n",
    "lightning_by_year = union_df.groupby(['year']).agg(year_strikes = pd.NamedAgg(column='number_of_strikes', aggfunc=sum)).reset_index()\n",
    "\n",
    "lightning_by_year.head()"
   ]
  },
  {
   "cell_type": "code",
   "execution_count": 22,
   "id": "cd9e1bbc",
   "metadata": {},
   "outputs": [
    {
     "data": {
      "application/vnd.microsoft.datawrangler.viewer.v0+json": {
       "columns": [
        {
         "name": "index",
         "rawType": "int64",
         "type": "integer"
        },
        {
         "name": "month_txt",
         "rawType": "object",
         "type": "string"
        },
        {
         "name": "year",
         "rawType": "int32",
         "type": "integer"
        },
        {
         "name": "number_of_strikes",
         "rawType": "int64",
         "type": "integer"
        },
        {
         "name": "year_strikes",
         "rawType": "int64",
         "type": "integer"
        }
       ],
       "ref": "c48d9682-27df-48eb-9669-806b0de40f66",
       "rows": [
        [
         "0",
         "April",
         "2016",
         "2636427",
         "41582229"
        ],
        [
         "1",
         "April",
         "2017",
         "3819075",
         "35095195"
        ],
        [
         "2",
         "April",
         "2018",
         "1524339",
         "44600989"
        ],
        [
         "3",
         "August",
         "2016",
         "7250442",
         "41582229"
        ],
        [
         "4",
         "August",
         "2017",
         "6021702",
         "35095195"
        ]
       ],
       "shape": {
        "columns": 4,
        "rows": 5
       }
      },
      "text/html": [
       "<div>\n",
       "<style scoped>\n",
       "    .dataframe tbody tr th:only-of-type {\n",
       "        vertical-align: middle;\n",
       "    }\n",
       "\n",
       "    .dataframe tbody tr th {\n",
       "        vertical-align: top;\n",
       "    }\n",
       "\n",
       "    .dataframe thead th {\n",
       "        text-align: right;\n",
       "    }\n",
       "</style>\n",
       "<table border=\"1\" class=\"dataframe\">\n",
       "  <thead>\n",
       "    <tr style=\"text-align: right;\">\n",
       "      <th></th>\n",
       "      <th>month_txt</th>\n",
       "      <th>year</th>\n",
       "      <th>number_of_strikes</th>\n",
       "      <th>year_strikes</th>\n",
       "    </tr>\n",
       "  </thead>\n",
       "  <tbody>\n",
       "    <tr>\n",
       "      <th>0</th>\n",
       "      <td>April</td>\n",
       "      <td>2016</td>\n",
       "      <td>2636427</td>\n",
       "      <td>41582229</td>\n",
       "    </tr>\n",
       "    <tr>\n",
       "      <th>1</th>\n",
       "      <td>April</td>\n",
       "      <td>2017</td>\n",
       "      <td>3819075</td>\n",
       "      <td>35095195</td>\n",
       "    </tr>\n",
       "    <tr>\n",
       "      <th>2</th>\n",
       "      <td>April</td>\n",
       "      <td>2018</td>\n",
       "      <td>1524339</td>\n",
       "      <td>44600989</td>\n",
       "    </tr>\n",
       "    <tr>\n",
       "      <th>3</th>\n",
       "      <td>August</td>\n",
       "      <td>2016</td>\n",
       "      <td>7250442</td>\n",
       "      <td>41582229</td>\n",
       "    </tr>\n",
       "    <tr>\n",
       "      <th>4</th>\n",
       "      <td>August</td>\n",
       "      <td>2017</td>\n",
       "      <td>6021702</td>\n",
       "      <td>35095195</td>\n",
       "    </tr>\n",
       "  </tbody>\n",
       "</table>\n",
       "</div>"
      ],
      "text/plain": [
       "  month_txt  year  number_of_strikes  year_strikes\n",
       "0     April  2016            2636427      41582229\n",
       "1     April  2017            3819075      35095195\n",
       "2     April  2018            1524339      44600989\n",
       "3    August  2016            7250442      41582229\n",
       "4    August  2017            6021702      35095195"
      ]
     },
     "execution_count": 22,
     "metadata": {},
     "output_type": "execute_result"
    }
   ],
   "source": [
    "# Combine `lightning_by_month` and `lightning_by_year` dataframes into single dataframe.\n",
    "percentage_lightning = lightning_by_month.merge(lightning_by_year,on='year')\n",
    "percentage_lightning.head()"
   ]
  },
  {
   "cell_type": "code",
   "execution_count": 23,
   "id": "ed599d79",
   "metadata": {},
   "outputs": [
    {
     "data": {
      "application/vnd.microsoft.datawrangler.viewer.v0+json": {
       "columns": [
        {
         "name": "index",
         "rawType": "int64",
         "type": "integer"
        },
        {
         "name": "month_txt",
         "rawType": "object",
         "type": "string"
        },
        {
         "name": "year",
         "rawType": "int32",
         "type": "integer"
        },
        {
         "name": "number_of_strikes",
         "rawType": "int64",
         "type": "integer"
        },
        {
         "name": "year_strikes",
         "rawType": "int64",
         "type": "integer"
        },
        {
         "name": "percentage_lightning_per_month",
         "rawType": "float64",
         "type": "float"
        }
       ],
       "ref": "a25e212b-73df-449c-9323-811775ff7615",
       "rows": [
        [
         "0",
         "April",
         "2016",
         "2636427",
         "41582229",
         "6.340273389384682"
        ],
        [
         "1",
         "April",
         "2017",
         "3819075",
         "35095195",
         "10.882045248644436"
        ],
        [
         "2",
         "April",
         "2018",
         "1524339",
         "44600989",
         "3.4177246607692937"
        ],
        [
         "3",
         "August",
         "2016",
         "7250442",
         "41582229",
         "17.43639572568368"
        ],
        [
         "4",
         "August",
         "2017",
         "6021702",
         "35095195",
         "17.15819501786498"
        ]
       ],
       "shape": {
        "columns": 5,
        "rows": 5
       }
      },
      "text/html": [
       "<div>\n",
       "<style scoped>\n",
       "    .dataframe tbody tr th:only-of-type {\n",
       "        vertical-align: middle;\n",
       "    }\n",
       "\n",
       "    .dataframe tbody tr th {\n",
       "        vertical-align: top;\n",
       "    }\n",
       "\n",
       "    .dataframe thead th {\n",
       "        text-align: right;\n",
       "    }\n",
       "</style>\n",
       "<table border=\"1\" class=\"dataframe\">\n",
       "  <thead>\n",
       "    <tr style=\"text-align: right;\">\n",
       "      <th></th>\n",
       "      <th>month_txt</th>\n",
       "      <th>year</th>\n",
       "      <th>number_of_strikes</th>\n",
       "      <th>year_strikes</th>\n",
       "      <th>percentage_lightning_per_month</th>\n",
       "    </tr>\n",
       "  </thead>\n",
       "  <tbody>\n",
       "    <tr>\n",
       "      <th>0</th>\n",
       "      <td>April</td>\n",
       "      <td>2016</td>\n",
       "      <td>2636427</td>\n",
       "      <td>41582229</td>\n",
       "      <td>6.340273</td>\n",
       "    </tr>\n",
       "    <tr>\n",
       "      <th>1</th>\n",
       "      <td>April</td>\n",
       "      <td>2017</td>\n",
       "      <td>3819075</td>\n",
       "      <td>35095195</td>\n",
       "      <td>10.882045</td>\n",
       "    </tr>\n",
       "    <tr>\n",
       "      <th>2</th>\n",
       "      <td>April</td>\n",
       "      <td>2018</td>\n",
       "      <td>1524339</td>\n",
       "      <td>44600989</td>\n",
       "      <td>3.417725</td>\n",
       "    </tr>\n",
       "    <tr>\n",
       "      <th>3</th>\n",
       "      <td>August</td>\n",
       "      <td>2016</td>\n",
       "      <td>7250442</td>\n",
       "      <td>41582229</td>\n",
       "      <td>17.436396</td>\n",
       "    </tr>\n",
       "    <tr>\n",
       "      <th>4</th>\n",
       "      <td>August</td>\n",
       "      <td>2017</td>\n",
       "      <td>6021702</td>\n",
       "      <td>35095195</td>\n",
       "      <td>17.158195</td>\n",
       "    </tr>\n",
       "  </tbody>\n",
       "</table>\n",
       "</div>"
      ],
      "text/plain": [
       "  month_txt  year  number_of_strikes  year_strikes  \\\n",
       "0     April  2016            2636427      41582229   \n",
       "1     April  2017            3819075      35095195   \n",
       "2     April  2018            1524339      44600989   \n",
       "3    August  2016            7250442      41582229   \n",
       "4    August  2017            6021702      35095195   \n",
       "\n",
       "   percentage_lightning_per_month  \n",
       "0                        6.340273  \n",
       "1                       10.882045  \n",
       "2                        3.417725  \n",
       "3                       17.436396  \n",
       "4                       17.158195  "
      ]
     },
     "execution_count": 23,
     "metadata": {},
     "output_type": "execute_result"
    }
   ],
   "source": [
    "# Create new `percentage_lightning_per_month` column.\n",
    "percentage_lightning['percentage_lightning_per_month'] = (percentage_lightning.number_of_strikes/\n",
    "                                                          percentage_lightning.year_strikes * 100.0)\n",
    "percentage_lightning.head()"
   ]
  },
  {
   "cell_type": "code",
   "execution_count": 24,
   "id": "88af4437",
   "metadata": {},
   "outputs": [
    {
     "data": {
      "image/png": "[encoded data removed]",
      "text/plain": [
       "<Figure size 1000x600 with 1 Axes>"
      ]
     },
     "metadata": {},
     "output_type": "display_data"
    }
   ],
   "source": [
    "plt.figure(figsize=(10,6));\n",
    "\n",
    "month_order = ['January', 'February', 'March', 'April', 'May', 'June', \n",
    "               'July', 'August', 'September', 'October', 'November', 'December']\n",
    "\n",
    "sns.barplot(\n",
    "    data = percentage_lightning,\n",
    "    x = 'month_txt',\n",
    "    y = 'percentage_lightning_per_month',\n",
    "    hue = 'year',\n",
    "    order = month_order );\n",
    "plt.xlabel(\"Month\");\n",
    "plt.ylabel(\"% of lightning strikes\");\n",
    "plt.title(\"% of lightning strikes each Month (2016-2018)\");"
   ]
  },
  {
   "cell_type": "code",
   "execution_count": null,
   "id": "e564abbf",
   "metadata": {},
   "outputs": [],
   "source": []
  }
 ],
 "metadata": {
  "kernelspec": {
   "display_name": "myenv",
   "language": "python",
   "name": "python3"
  },
  "language_info": {
   "codemirror_mode": {
    "name": "ipython",
    "version": 3
   },
   "file_extension": ".py",
   "mimetype": "text/x-python",
   "name": "python",
   "nbconvert_exporter": "python",
   "pygments_lexer": "ipython3",
   "version": "3.10.16"
  }
 },
 "nbformat": 4,
 "nbformat_minor": 5
}
